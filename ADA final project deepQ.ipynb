{
 "cells": [
  {
   "cell_type": "code",
   "execution_count": 1,
   "metadata": {
    "scrolled": true
   },
   "outputs": [],
   "source": [
    "import numpy as np\n",
    "import tensorflow as tf\n",
    "from tensorflow import keras\n",
    "from keras.layers.convolutional import Conv2D\n",
    "from keras.models import Sequential\n",
    "from keras.layers import Dense\n",
    "from tensorflow.keras.optimizers import Adam\n",
    "from keras import backend as K\n",
    "'''\n",
    "config = tf.compat.v1.ConfigProto()\n",
    "config.gpu_options.allow_growth=True\n",
    "config.gpu_options.per_process_gpu_memory_fraction = 0.9 # fraction of memory. this helps significantly with speed.\n",
    "tf.compat.v1.keras.backend.set_session(tf.compat.v1.Session(config=config))\n",
    "'''\n",
    "import pickle\n",
    "from tqdm import tqdm\n",
    "import matplotlib.pyplot as plt"
   ]
  },
  {
   "cell_type": "code",
   "execution_count": 2,
   "metadata": {
    "scrolled": true
   },
   "outputs": [],
   "source": [
    "'''\n",
    "TICTACTOE GAME CLASS\n",
    "\n",
    "this class inspired heavily by https://towardsdatascience.com/reinforcement-learning-implement-tictactoe-189582bea542\n",
    "'''\n",
    "\n",
    "class tictactoe:\n",
    "    # players are identified as 1 and -1.\n",
    "    # board is just a 3x3 grid of zeros at first.\n",
    "    # when a player moves, update that spot from\n",
    "    # a zero to a 1 or -1.\n",
    "    def __init__(self, player1, player2, numrows=3, numcols=3, wincount=3, gravitymove=False, randinit=False):\n",
    "        self.numrows = numrows\n",
    "        self.numcols = numcols\n",
    "        self.wincount = wincount\n",
    "        self.board = np.zeros((self.numrows, self.numcols))\n",
    "        self.player1 = player1\n",
    "        self.player2 = player2\n",
    "        self.gravitymove=gravitymove\n",
    "        self.randinit=randinit\n",
    "        self.isEnd = False\n",
    "        self.boardID = None\n",
    "        # init p1 plays first\n",
    "        self.playerSymbol = 1\n",
    "        \n",
    "    # unique identifier for current board state\n",
    "    def getBoardID(self):\n",
    "        self.boardID = self.board.copy()\n",
    "        return self.boardID\n",
    "    \n",
    "    def availablePositions(self):\n",
    "        positions = []\n",
    "        for i in range(0, self.numrows):\n",
    "            for j in range(0, self.numcols):\n",
    "                if self.board[i, j] == 0:\n",
    "                    if self.gravitymove:\n",
    "                        #print(i, j)\n",
    "                        if i+1 == self.numrows:\n",
    "                            positions.append((i, j))\n",
    "                        elif (i+1 < self.numrows and self.board[i+1, j] != 0):\n",
    "                            #print(\"use\")\n",
    "                            #print(i, j)\n",
    "                            positions.append((i, j))\n",
    "                    else:\n",
    "                        positions.append((i, j))\n",
    "        #print(positions)\n",
    "        return positions\n",
    "    \n",
    "    def updateMove(self, position):\n",
    "        self.board[position] = self.playerSymbol\n",
    "        # switch to player -1 or 1\n",
    "        self.playerSymbol = -1*self.playerSymbol\n",
    "        \n",
    "    def checkWinner(self):\n",
    "        #print(\"checking winner\")\n",
    "        for i in range(0, self.numrows):\n",
    "            #print('row')\n",
    "            for j in range(0, self.numcols-self.wincount+1):\n",
    "                #print(\"col\")\n",
    "                if sum(self.board[i,j:j+self.wincount]) == self.wincount:\n",
    "                    self.isEnd=True\n",
    "                    return 1\n",
    "                if sum(self.board[i,j:j+self.wincount]) == -1*self.wincount:\n",
    "                    self.isEnd=True\n",
    "                    return -1\n",
    "        # cols\n",
    "        for i in range(0, self.numcols):\n",
    "            for j in range(0, self.numrows-self.wincount+1):\n",
    "                if sum(self.board[j:j+self.wincount,i]) == self.wincount:\n",
    "                    #print(\"win\")\n",
    "                    self.isEnd=True\n",
    "                    return 1\n",
    "                if sum(self.board[j:j+self.wincount,i]) == -1*self.wincount:\n",
    "                    self.isEnd=True\n",
    "                    return -1\n",
    "            '''\n",
    "            if sum(self.board[:,i]) == self.wincount:\n",
    "                self.isEnd=True\n",
    "                return 1\n",
    "            if sum(self.board[:,i]) == -1*self.wincount:\n",
    "                self.isEnd=True\n",
    "                return -1\n",
    "            '''\n",
    "        # diags\n",
    "        # top left to bot right\n",
    "        for i in range(0, self.numrows-self.wincount+1):\n",
    "            for j in range(0, self.numcols-self.wincount+1):\n",
    "                diag1 = sum([self.board[i+k,j+k] for k in range(0, self.wincount)])\n",
    "                if abs(diag1) == self.wincount:\n",
    "                    self.isEnd = True\n",
    "                    return int(diag1//self.wincount)\n",
    "        # top right to bottom left\n",
    "        for i in range(0, self.numrows-self.wincount+1):\n",
    "            for j in range(self.wincount-1, self.numcols):\n",
    "                diag2 = sum([self.board[i+k,j-k] for k in range(0, self.wincount)])\n",
    "                if abs(diag2) == self.wincount:\n",
    "                    self.isEnd = True\n",
    "                    return int(diag2//self.wincount)\n",
    "        '''\n",
    "        diag1 = sum([self.board[i,i] for i in range(0, self.wincount)])\n",
    "        diag2 = sum([self.board[i,self.numcols-i-1] for i in range(0, self.wincount)])\n",
    "        diag = max(abs(diag1), abs(diag2))\n",
    "        if diag == self.wincount:\n",
    "            self.isEnd = True\n",
    "            if diag1 == self.wincount or diag2 == self.wincount:\n",
    "                return 1\n",
    "            else:\n",
    "                return -1\n",
    "        '''\n",
    "        # tie\n",
    "        if len(self.availablePositions()) == 0:\n",
    "            self.isEnd = True\n",
    "            return 0\n",
    "        return None\n",
    "    \n",
    "    def giveReward(self):\n",
    "        winner = self.checkWinner()\n",
    "        if winner == 1:\n",
    "            self.player1.feedReward(1)\n",
    "            self.player2.feedReward(-0.1)\n",
    "        if winner == -1:\n",
    "            self.player1.feedReward(0)\n",
    "            self.player2.feedReward(1)\n",
    "        else:\n",
    "            # keep in mind that a tie is worse for player 1 who has more moves to win with\n",
    "            self.player1.feedReward(0.1)\n",
    "            self.player2.feedReward(0.6)\n",
    "            \n",
    "    def reset(self):\n",
    "        self.board = np.zeros((self.numrows, self.numcols))\n",
    "        self.boardID = None\n",
    "        self.isEnd = False\n",
    "        self.playerSymbol = 1\n",
    "        \n",
    "    '''\n",
    "    PLAYING\n",
    "    '''\n",
    "    \n",
    "    '''\n",
    "    play against self\n",
    "    '''\n",
    "    def play(self, trainingrounds=100):\n",
    "        wins = []\n",
    "        meanrand = (self.player1.explore_rate**2)*self.numrows*self.numcols\n",
    "        for i in tqdm(range(0, trainingrounds)):\n",
    "            rand=False\n",
    "            randmoves1 = 0\n",
    "            randmoves2 = 0\n",
    "            if self.randinit:\n",
    "                randmoves1 = int(round(np.random.normal(meanrand, meanrand/2)))\n",
    "                randmoves2 = int(round(np.random.normal(meanrand, meanrand/2)))\n",
    "            while not self.isEnd:\n",
    "                positions = self.availablePositions()\n",
    "                if randmoves1 > 0:\n",
    "                    rand=True\n",
    "                    randmoves1 = randmoves1-1\n",
    "                player1move = self.player1.chooseAction(positions, \n",
    "                                                        self.board.reshape((self.numrows, self.numcols, 1)), \n",
    "                                                        self.playerSymbol, rand=rand)\n",
    "                rand=False\n",
    "                self.updateMove(player1move)\n",
    "                boardID = self.getBoardID()\n",
    "                self.player1.addState(boardID, player1move)\n",
    "                \n",
    "                win = self.checkWinner()\n",
    "                # if player 1 wins\n",
    "                if win != None:\n",
    "                    self.giveReward()\n",
    "                    self.player1.reset()\n",
    "                    self.player2.reset()\n",
    "                    self.reset()\n",
    "                    break\n",
    "                # if player 1 did not win\n",
    "                else:\n",
    "                    positions = self.availablePositions()\n",
    "                    if randmoves2 > 0:\n",
    "                        rand=True\n",
    "                        randmoves2 -= 1\n",
    "                    player2move = self.player2.chooseAction(positions, \n",
    "                                                            self.board.reshape((self.numrows, self.numcols, 1)), \n",
    "                                                            self.playerSymbol, rand=rand)\n",
    "                    rand=False\n",
    "                    self.updateMove(player2move)\n",
    "                    boardID = self.getBoardID()\n",
    "                    self.player2.addState(boardID, player2move)\n",
    "\n",
    "                    win = self.checkWinner()\n",
    "                    # if player 1 wins\n",
    "                    if win != None:\n",
    "                        self.giveReward()\n",
    "                        self.player1.reset()\n",
    "                        self.player2.reset()\n",
    "                        self.reset()\n",
    "                        break\n",
    "            wins.append(win)\n",
    "        return wins\n",
    "    '''\n",
    "    Play against human player\n",
    "    '''\n",
    "    def playhuman(self, prints=True):\n",
    "        self.showBoard()\n",
    "        while not self.isEnd:\n",
    "            positions = self.availablePositions()\n",
    "            player1move = self.player1.chooseAction(positions, self.board, self.playerSymbol)\n",
    "            self.updateMove(player1move)\n",
    "            self.showBoard()\n",
    "            win = self.checkWinner()\n",
    "            if win != None:\n",
    "                self.reset()\n",
    "                break\n",
    "            else:\n",
    "                positions = self.availablePositions()\n",
    "                player2move = self.player2.chooseAction(positions, self.board, self.playerSymbol)\n",
    "                self.updateMove(player2move)\n",
    "                self.showBoard()\n",
    "                win = self.checkWinner()\n",
    "                if win != None:\n",
    "                    self.reset()\n",
    "                    break\n",
    "        if prints:\n",
    "            if win == 1:\n",
    "                print(self.player1.name, \"wins!\")\n",
    "            elif win == -1:\n",
    "                print(self.player2.name, \"wins!\")\n",
    "            else:\n",
    "                print(\"tie!\")\n",
    "        return win\n",
    "                    \n",
    "    def showBoard(self):\n",
    "        # player1: x  player2: o\n",
    "        colcounts = \"   \"\n",
    "        for j in range(0, self.numcols):\n",
    "            colcounts += f\"| {j} \"\n",
    "        colcounts += \"|\"\n",
    "        print(colcounts)\n",
    "        for i in range(0, self.numrows):\n",
    "            divider = '-----'\n",
    "            for j in range(0, self.numcols):\n",
    "                divider += '----'\n",
    "            print(divider)\n",
    "            out = f'{i}  | '\n",
    "            for j in range(0, self.numcols):\n",
    "                if self.board[i, j] == 1:\n",
    "                    token = 'x'\n",
    "                if self.board[i, j] == -1:\n",
    "                    token = 'o'\n",
    "                if self.board[i, j] == 0:\n",
    "                    token = ' '\n",
    "                out += token + ' | '\n",
    "            print(out)\n",
    "        print(divider+'\\n')"
   ]
  },
  {
   "cell_type": "code",
   "execution_count": 3,
   "metadata": {
    "scrolled": true
   },
   "outputs": [],
   "source": [
    "''' \n",
    "PLAYER CLASS\n",
    "\n",
    "Also heavily inspired by https://towardsdatascience.com/reinforcement-learning-implement-tictactoe-189582bea542\n",
    "in addition to inspiration from Stefan Voigt https://www.voigtstefan.me/post/connectx/\n",
    "\n",
    "In DeepQ, we use a neural network instead of a states_values dictionary. \n",
    "\n",
    "'''\n",
    "class player:\n",
    "    def __init__(self, name, explore_rate=0.3, learning_rate = 0.2, board_size = [3, 3, 1], action_size = 9):\n",
    "        # board size must be a tuple\n",
    "        self.name = name\n",
    "        self.statesactions = []\n",
    "        self.learningrate = learning_rate\n",
    "        self.explore_rate = explore_rate\n",
    "        self.explore_min = 0.01\n",
    "        self.decay_gamma = 0.9\n",
    "        self.state_size = board_size\n",
    "        self.action_size = action_size\n",
    "        self.states_values = self._build_network()\n",
    "        \n",
    "    def _build_network(self):\n",
    "        '''\n",
    "        inspired by https://www.voigtstefan.me/post/connectx/\n",
    "        '''\n",
    "        input_shape = self.state_size\n",
    "        #input_shape.append(1)\n",
    "        #print(input_shape)\n",
    "        \n",
    "        model = Sequential()\n",
    "        # first, convolutions of 3x3 to capture 3 in a row. will also capture all groups of 2x2.\n",
    "        model.add(Conv2D(2, (3, 3), padding=\"same\", input_shape = input_shape, activation=\"relu\"))\n",
    "        # next, convolutions of 2x2. no max pooling, want to capture everything.\n",
    "        model.add(Conv2D(2, (2, 2), padding=\"same\", input_shape = input_shape, activation=\"relu\"))\n",
    "        # next, FC layer of 9. \n",
    "        model.add(Dense(12, activation=\"relu\"))\n",
    "        model.add(Dense(self.action_size, activation=\"linear\"))\n",
    "        # we just set the LR to 1 since we already have a learning rate built into the loss\n",
    "        # we compute for each game as part of the Q learning algorithm.\n",
    "        model.compile(loss=\"mse\", optimizer=Adam(learning_rate=1))\n",
    "        return model\n",
    "        \n",
    "    def getBoardID(self, board):\n",
    "        boardID = str(board.reshape(len(board)*len(board[0])))\n",
    "        return boardID\n",
    "        \n",
    "    def chooseAction(self, positions, current_board, symbol, rand=False):\n",
    "        # choose whether to explore or not\n",
    "        action = positions[np.random.choice(len(positions))]\n",
    "        if not rand:\n",
    "            max_action = 0\n",
    "            max_value = -10000\n",
    "            if np.random.uniform(0, 1) >= self.explore_rate:\n",
    "                # predict values of actions from current board -- argmax across available positions\n",
    "                action_values = self.states_values.predict(current_board.reshape((1, \n",
    "                                                                                  self.state_size[0], \n",
    "                                                                                  self.state_size[1], \n",
    "                                                                                  self.state_size[2])))[0][0][0]\n",
    "                #print(action_values)\n",
    "                for p in positions:\n",
    "                    if action_values[p[0]*self.state_size[0]+p[1]] > max_value:\n",
    "                        max_value = action_values[p[0]*self.state_size[0]+p[1]]\n",
    "                        max_action = p\n",
    "        return action\n",
    "    \n",
    "    def addState(self, state, action):\n",
    "        self.statesactions.append((state, action))\n",
    "    \n",
    "    def feedReward(self, reward):\n",
    "        for state, action in reversed(self.statesactions):\n",
    "            #if self.states_values.get(state) == None:\n",
    "                #self.states_values[state] = 0\n",
    "            #self.states_values[state] += self.learningrate * (self.decay_gamma * reward - self.states_values[state])\n",
    "            #reward = self.states_values[state]\n",
    "            \n",
    "            # instead of states_values[state], have to predict off network -- and we have a lot of values here,\n",
    "            # sohave to argmax\n",
    "            #print(state.reshape((1, 3, 3, 1)))\n",
    "            state = state.reshape((1, self.state_size[0], self.state_size[1], self.state_size[2]))\n",
    "            statesvalues = self.states_values.predict(state)\n",
    "            #print(state)\n",
    "            statevaluehere = np.amax(statesvalues)\n",
    "            #print(statevaluehere)\n",
    "            \n",
    "            target = statevaluehere + self.learningrate * (self.decay_gamma * reward - statevaluehere)\n",
    "            reward = target\n",
    "            \n",
    "            target_f = statesvalues\n",
    "            #print(target_f)\n",
    "            action = self.state_size[0]*action[0]+action[1]\n",
    "            #print(action)\n",
    "            #print(target_f)\n",
    "            # target f where we have max state is what we argmaxed for.\n",
    "            # update that max value that we found to be our new target -- \n",
    "            # location of best action\n",
    "            target_f[np.unravel_index(np.argmax(target_f), \n",
    "                                     target_f.shape)] = target\n",
    "            self.states_values.fit(state, target_f, epochs=1, verbose=0)\n",
    "            \n",
    "        #tf.keras.backend.clear_session()\n",
    "            \n",
    "            \n",
    "            \n",
    "    def reset(self):\n",
    "        self.states = []\n",
    "        \n",
    "    def savePolicy(self):\n",
    "        fw = open('policy_' + str(self.name), 'wb')\n",
    "        self.states_values.save(f'models/{self.name}')\n",
    "        fw.close()\n",
    "\n",
    "    def loadPolicy(self, file):\n",
    "        fr = open(file, 'rb')\n",
    "        self.states_values = keras.models.load_model(f'models/{self.name}')\n",
    "        fr.close()\n"
   ]
  },
  {
   "cell_type": "code",
   "execution_count": 4,
   "metadata": {
    "scrolled": true
   },
   "outputs": [],
   "source": [
    "class HumanPlayer:\n",
    "    def __init__(self, name):\n",
    "        self.name = name\n",
    "\n",
    "    def chooseAction(self, positions, board, playerSymbol):\n",
    "        while True:\n",
    "            row = int(input(\"Input your action row:\"))\n",
    "            col = int(input(\"Input your action col:\"))\n",
    "            action = (row, col)\n",
    "            if action in positions:\n",
    "                return action\n",
    "\n",
    "    # append a hash state\n",
    "    def addState(self, state):\n",
    "        pass\n",
    "\n",
    "    # at the end of game, backpropagate and update states value\n",
    "    def feedReward(self, reward):\n",
    "        pass\n",
    "\n",
    "    def reset(self):\n",
    "        pass\n"
   ]
  },
  {
   "cell_type": "code",
   "execution_count": 5,
   "metadata": {},
   "outputs": [],
   "source": [
    "'''\n",
    "DYNAMIC EXPLORE RATE\n",
    "'''\n",
    "def makedynamic(numrounds=15000, numexplores=11, expstart=0.4, movingalpha=False,\n",
    "                p1dynamic=None, p2dynamic=None, \n",
    "                rows=3, cols=3, winc=3, gmove=False, \n",
    "                randinit=False, stratnames='dynamic', aggover=100):\n",
    "    # moving alpha - have alpha (learning rate) be equal to explore rate -- so learn faster\n",
    "    # in exploration stage, learn slower in convergence stage\n",
    "    x= []\n",
    "    ydynamic = []\n",
    "    expdiff = 0\n",
    "    if numexplores > 1:\n",
    "        expdiff = expstart/(numexplores-1)\n",
    "    print(expdiff)\n",
    "    winsdynamic = []\n",
    "    if not movingalpha:\n",
    "        alpha=0.2\n",
    "    else:\n",
    "        alpha=expstart\n",
    "    if p1dynamic == None:\n",
    "        p1dynamic = player(stratnames+\"1\", explore_rate=expstart, learning_rate=alpha)\n",
    "    if p2dynamic == None:\n",
    "        p2dynamic = player(stratnames+\"2\", explore_rate=expstart, learning_rate=alpha)\n",
    "\n",
    "    for i in range(0, numexplores):\n",
    "        exprate = round(expstart-expdiff*i, 2)\n",
    "        # reset learning rate for next stage\n",
    "        if movingalpha:\n",
    "            alpha=exprate\n",
    "            if alpha==0:\n",
    "                alpha = 0.01\n",
    "        \n",
    "        st = tictactoe(p1dynamic, p2dynamic, numrows=rows, numcols=cols, wincount=winc, gravitymove=gmove, randinit=randinit)\n",
    "        print(f\"training for explore rate {exprate} and alpha {alpha}\")\n",
    "        winsdynamic.extend(st.play(numrounds))\n",
    "\n",
    "        p1dynamic.savePolicy()\n",
    "        p2dynamic.savePolicy()\n",
    "        \n",
    "        \n",
    "        \n",
    "        p1dynamic = player(stratnames+\"1\", explore_rate=exprate, learning_rate=alpha)\n",
    "        p2dynamic = player(stratnames+\"2\", explore_rate=exprate, learning_rate=alpha)\n",
    "        p1dynamic.loadPolicy(\"policy_\"+stratnames+\"1\")\n",
    "        p2dynamic.loadPolicy(\"policy_\"+stratnames+\"2\")\n",
    "\n",
    "    for i in range(0, numrounds*numexplores//aggover):\n",
    "        x.append(i)\n",
    "        ydynamic.append(np.mean(np.abs(winsdynamic[(i*aggover):(i+1)*aggover])))\n",
    "    #print(ydynamic)\n",
    "    plt.scatter(x, ydynamic, s=4)\n",
    "    plt.ylim(0, 1)\n",
    "    plt.xlabel(f\"Training round / {aggover}\")\n",
    "    plt.ylabel(\"Rate of games with clear winner\")\n",
    "    plt.title(f\"Rate of wins vs. training rounds with {numexplores} explore rates from {0.4} down to 0\")\n",
    "    #for i in range(0, numexplores):\n",
    "        #print(i*numrounds//aggover)\n",
    "        #plt.vlines(i*numrounds//aggover, 0, 1)\n",
    "    plt.show()\n",
    "    \n",
    "    return p1dynamic, p2dynamic"
   ]
  },
  {
   "cell_type": "markdown",
   "metadata": {},
   "source": [
    "# START HERE FOR DEEP Q"
   ]
  },
  {
   "cell_type": "markdown",
   "metadata": {},
   "source": [
    "Dynamic step size (alpha)?"
   ]
  },
  {
   "cell_type": "code",
   "execution_count": 6,
   "metadata": {
    "scrolled": true
   },
   "outputs": [
    {
     "name": "stdout",
     "output_type": "stream",
     "text": [
      "0.05\n",
      "training for explore rate 0.4 and alpha 0.4\n"
     ]
    },
    {
     "name": "stderr",
     "output_type": "stream",
     "text": [
      "100%|██████████████████████████████████████████████████████████████████████████████████| 10/10 [00:54<00:00,  5.44s/it]\n"
     ]
    },
    {
     "name": "stdout",
     "output_type": "stream",
     "text": [
      "INFO:tensorflow:Assets written to: models/dynamic1\\assets\n",
      "INFO:tensorflow:Assets written to: models/dynamic2\\assets\n",
      "training for explore rate 0.35 and alpha 0.35\n"
     ]
    },
    {
     "name": "stderr",
     "output_type": "stream",
     "text": [
      "100%|██████████████████████████████████████████████████████████████████████████████████| 10/10 [00:46<00:00,  4.67s/it]\n"
     ]
    },
    {
     "name": "stdout",
     "output_type": "stream",
     "text": [
      "INFO:tensorflow:Assets written to: models/dynamic1\\assets\n",
      "INFO:tensorflow:Assets written to: models/dynamic2\\assets\n",
      "training for explore rate 0.3 and alpha 0.3\n"
     ]
    },
    {
     "name": "stderr",
     "output_type": "stream",
     "text": [
      "100%|██████████████████████████████████████████████████████████████████████████████████| 10/10 [01:05<00:00,  6.53s/it]\n"
     ]
    },
    {
     "name": "stdout",
     "output_type": "stream",
     "text": [
      "INFO:tensorflow:Assets written to: models/dynamic1\\assets\n",
      "INFO:tensorflow:Assets written to: models/dynamic2\\assets\n",
      "training for explore rate 0.25 and alpha 0.25\n"
     ]
    },
    {
     "name": "stderr",
     "output_type": "stream",
     "text": [
      "100%|██████████████████████████████████████████████████████████████████████████████████| 10/10 [01:14<00:00,  7.43s/it]\n"
     ]
    },
    {
     "name": "stdout",
     "output_type": "stream",
     "text": [
      "INFO:tensorflow:Assets written to: models/dynamic1\\assets\n",
      "INFO:tensorflow:Assets written to: models/dynamic2\\assets\n",
      "training for explore rate 0.2 and alpha 0.2\n"
     ]
    },
    {
     "name": "stderr",
     "output_type": "stream",
     "text": [
      "100%|██████████████████████████████████████████████████████████████████████████████████| 10/10 [01:09<00:00,  6.94s/it]\n"
     ]
    },
    {
     "name": "stdout",
     "output_type": "stream",
     "text": [
      "INFO:tensorflow:Assets written to: models/dynamic1\\assets\n",
      "INFO:tensorflow:Assets written to: models/dynamic2\\assets\n",
      "training for explore rate 0.15 and alpha 0.15\n"
     ]
    },
    {
     "name": "stderr",
     "output_type": "stream",
     "text": [
      "100%|██████████████████████████████████████████████████████████████████████████████████| 10/10 [01:04<00:00,  6.41s/it]\n"
     ]
    },
    {
     "name": "stdout",
     "output_type": "stream",
     "text": [
      "INFO:tensorflow:Assets written to: models/dynamic1\\assets\n",
      "INFO:tensorflow:Assets written to: models/dynamic2\\assets\n",
      "training for explore rate 0.1 and alpha 0.1\n"
     ]
    },
    {
     "name": "stderr",
     "output_type": "stream",
     "text": [
      "100%|██████████████████████████████████████████████████████████████████████████████████| 10/10 [01:00<00:00,  6.02s/it]\n"
     ]
    },
    {
     "name": "stdout",
     "output_type": "stream",
     "text": [
      "INFO:tensorflow:Assets written to: models/dynamic1\\assets\n",
      "INFO:tensorflow:Assets written to: models/dynamic2\\assets\n",
      "training for explore rate 0.05 and alpha 0.05\n"
     ]
    },
    {
     "name": "stderr",
     "output_type": "stream",
     "text": [
      "100%|██████████████████████████████████████████████████████████████████████████████████| 10/10 [00:55<00:00,  5.50s/it]\n"
     ]
    },
    {
     "name": "stdout",
     "output_type": "stream",
     "text": [
      "INFO:tensorflow:Assets written to: models/dynamic1\\assets\n",
      "INFO:tensorflow:Assets written to: models/dynamic2\\assets\n",
      "training for explore rate 0.0 and alpha 0.01\n"
     ]
    },
    {
     "name": "stderr",
     "output_type": "stream",
     "text": [
      "100%|██████████████████████████████████████████████████████████████████████████████████| 10/10 [01:03<00:00,  6.33s/it]\n"
     ]
    },
    {
     "name": "stdout",
     "output_type": "stream",
     "text": [
      "INFO:tensorflow:Assets written to: models/dynamic1\\assets\n",
      "INFO:tensorflow:Assets written to: models/dynamic2\\assets\n"
     ]
    },
    {
     "data": {
      "image/png": "[encoded data removed]",
      "text/plain": [
       "<Figure size 432x288 with 1 Axes>"
      ]
     },
     "metadata": {
      "needs_background": "light"
     },
     "output_type": "display_data"
    }
   ],
   "source": [
    "p1, p2 = makedynamic(10, 9, 0.4, movingalpha = True, aggover=5)"
   ]
  },
  {
   "cell_type": "code",
   "execution_count": 7,
   "metadata": {},
   "outputs": [
    {
     "name": "stdout",
     "output_type": "stream",
     "text": [
      "   | 0 | 1 | 2 |\n",
      "-----------------\n",
      "0  |   |   |   | \n",
      "-----------------\n",
      "1  |   |   |   | \n",
      "-----------------\n",
      "2  |   |   |   | \n",
      "-----------------\n",
      "\n",
      "   | 0 | 1 | 2 |\n",
      "-----------------\n",
      "0  |   |   |   | \n",
      "-----------------\n",
      "1  |   | x |   | \n",
      "-----------------\n",
      "2  |   |   |   | \n",
      "-----------------\n",
      "\n",
      "Input your action row:0\n",
      "Input your action col:0\n",
      "   | 0 | 1 | 2 |\n",
      "-----------------\n",
      "0  | o |   |   | \n",
      "-----------------\n",
      "1  |   | x |   | \n",
      "-----------------\n",
      "2  |   |   |   | \n",
      "-----------------\n",
      "\n",
      "   | 0 | 1 | 2 |\n",
      "-----------------\n",
      "0  | o | x |   | \n",
      "-----------------\n",
      "1  |   | x |   | \n",
      "-----------------\n",
      "2  |   |   |   | \n",
      "-----------------\n",
      "\n",
      "Input your action row:2\n",
      "Input your action col:1\n",
      "   | 0 | 1 | 2 |\n",
      "-----------------\n",
      "0  | o | x |   | \n",
      "-----------------\n",
      "1  |   | x |   | \n",
      "-----------------\n",
      "2  |   | o |   | \n",
      "-----------------\n",
      "\n",
      "   | 0 | 1 | 2 |\n",
      "-----------------\n",
      "0  | o | x |   | \n",
      "-----------------\n",
      "1  |   | x |   | \n",
      "-----------------\n",
      "2  | x | o |   | \n",
      "-----------------\n",
      "\n",
      "Input your action row:0\n",
      "Input your action col:2\n",
      "   | 0 | 1 | 2 |\n",
      "-----------------\n",
      "0  | o | x | o | \n",
      "-----------------\n",
      "1  |   | x |   | \n",
      "-----------------\n",
      "2  | x | o |   | \n",
      "-----------------\n",
      "\n",
      "   | 0 | 1 | 2 |\n",
      "-----------------\n",
      "0  | o | x | o | \n",
      "-----------------\n",
      "1  |   | x | x | \n",
      "-----------------\n",
      "2  | x | o |   | \n",
      "-----------------\n",
      "\n",
      "Input your action row:0\n",
      "Input your action col:1\n",
      "Input your action row:1\n",
      "Input your action col:0\n",
      "   | 0 | 1 | 2 |\n",
      "-----------------\n",
      "0  | o | x | o | \n",
      "-----------------\n",
      "1  | o | x | x | \n",
      "-----------------\n",
      "2  | x | o |   | \n",
      "-----------------\n",
      "\n",
      "   | 0 | 1 | 2 |\n",
      "-----------------\n",
      "0  | o | x | o | \n",
      "-----------------\n",
      "1  | o | x | x | \n",
      "-----------------\n",
      "2  | x | o | x | \n",
      "-----------------\n",
      "\n",
      "tie!\n"
     ]
    },
    {
     "data": {
      "text/plain": [
       "0"
      ]
     },
     "execution_count": 7,
     "metadata": {},
     "output_type": "execute_result"
    }
   ],
   "source": [
    "human = HumanPlayer(\"human\")\n",
    "# p1.loadPolicy(\"policy_p1\")\n",
    "game = tictactoe(p1, human)\n",
    "game.playhuman()"
   ]
  },
  {
   "cell_type": "code",
   "execution_count": 9,
   "metadata": {},
   "outputs": [
    {
     "name": "stdout",
     "output_type": "stream",
     "text": [
      "   | 0 | 1 | 2 |\n",
      "-----------------\n",
      "0  |   |   |   | \n",
      "-----------------\n",
      "1  |   |   |   | \n",
      "-----------------\n",
      "2  |   |   |   | \n",
      "-----------------\n",
      "\n",
      "Input your action row:1\n",
      "Input your action col:1\n",
      "   | 0 | 1 | 2 |\n",
      "-----------------\n",
      "0  |   |   |   | \n",
      "-----------------\n",
      "1  |   | x |   | \n",
      "-----------------\n",
      "2  |   |   |   | \n",
      "-----------------\n",
      "\n",
      "   | 0 | 1 | 2 |\n",
      "-----------------\n",
      "0  |   |   |   | \n",
      "-----------------\n",
      "1  |   | x |   | \n",
      "-----------------\n",
      "2  |   |   | o | \n",
      "-----------------\n",
      "\n",
      "Input your action row:0\n",
      "Input your action col:1\n",
      "   | 0 | 1 | 2 |\n",
      "-----------------\n",
      "0  |   | x |   | \n",
      "-----------------\n",
      "1  |   | x |   | \n",
      "-----------------\n",
      "2  |   |   | o | \n",
      "-----------------\n",
      "\n",
      "   | 0 | 1 | 2 |\n",
      "-----------------\n",
      "0  |   | x |   | \n",
      "-----------------\n",
      "1  |   | x | o | \n",
      "-----------------\n",
      "2  |   |   | o | \n",
      "-----------------\n",
      "\n",
      "Input your action row:2\n",
      "Input your action col:1\n",
      "   | 0 | 1 | 2 |\n",
      "-----------------\n",
      "0  |   | x |   | \n",
      "-----------------\n",
      "1  |   | x | o | \n",
      "-----------------\n",
      "2  |   | x | o | \n",
      "-----------------\n",
      "\n",
      "human wins!\n"
     ]
    },
    {
     "data": {
      "text/plain": [
       "1"
      ]
     },
     "execution_count": 9,
     "metadata": {},
     "output_type": "execute_result"
    }
   ],
   "source": [
    "human = HumanPlayer(\"human\")\n",
    "# p1.loadPolicy(\"policy_p1\")\n",
    "game = tictactoe(human, p2)\n",
    "game.playhuman()"
   ]
  },
  {
   "cell_type": "markdown",
   "metadata": {},
   "source": [
    "Actually, training for that short a period time does OK overall.\n",
    "\n",
    "Reduce size of each round of training -- each game played per round takes tremendously long. So split into smaller rounds. Moving from 90 games to 510, with a more gradual descent of exp rate and train rate and starting at a higher exp rate."
   ]
  },
  {
   "cell_type": "code",
   "execution_count": 14,
   "metadata": {
    "scrolled": true
   },
   "outputs": [
    {
     "name": "stdout",
     "output_type": "stream",
     "text": [
      "0.01\n",
      "training for explore rate 0.5 and alpha 0.5\n"
     ]
    },
    {
     "name": "stderr",
     "output_type": "stream",
     "text": [
      "100%|██████████████████████████████████████████████████████████████████████████████████| 10/10 [00:39<00:00,  3.94s/it]\n"
     ]
    },
    {
     "name": "stdout",
     "output_type": "stream",
     "text": [
      "INFO:tensorflow:Assets written to: models/dynamic1\\assets\n",
      "INFO:tensorflow:Assets written to: models/dynamic2\\assets\n",
      "training for explore rate 0.49 and alpha 0.49\n"
     ]
    },
    {
     "name": "stderr",
     "output_type": "stream",
     "text": [
      "100%|██████████████████████████████████████████████████████████████████████████████████| 10/10 [00:37<00:00,  3.76s/it]\n"
     ]
    },
    {
     "name": "stdout",
     "output_type": "stream",
     "text": [
      "INFO:tensorflow:Assets written to: models/dynamic1\\assets\n",
      "INFO:tensorflow:Assets written to: models/dynamic2\\assets\n",
      "training for explore rate 0.48 and alpha 0.48\n"
     ]
    },
    {
     "name": "stderr",
     "output_type": "stream",
     "text": [
      "100%|██████████████████████████████████████████████████████████████████████████████████| 10/10 [00:58<00:00,  5.85s/it]\n"
     ]
    },
    {
     "name": "stdout",
     "output_type": "stream",
     "text": [
      "INFO:tensorflow:Assets written to: models/dynamic1\\assets\n",
      "INFO:tensorflow:Assets written to: models/dynamic2\\assets\n",
      "training for explore rate 0.47 and alpha 0.47\n"
     ]
    },
    {
     "name": "stderr",
     "output_type": "stream",
     "text": [
      "100%|██████████████████████████████████████████████████████████████████████████████████| 10/10 [01:08<00:00,  6.81s/it]\n"
     ]
    },
    {
     "name": "stdout",
     "output_type": "stream",
     "text": [
      "INFO:tensorflow:Assets written to: models/dynamic1\\assets\n",
      "INFO:tensorflow:Assets written to: models/dynamic2\\assets\n",
      "training for explore rate 0.46 and alpha 0.46\n"
     ]
    },
    {
     "name": "stderr",
     "output_type": "stream",
     "text": [
      "100%|██████████████████████████████████████████████████████████████████████████████████| 10/10 [01:09<00:00,  6.95s/it]\n"
     ]
    },
    {
     "name": "stdout",
     "output_type": "stream",
     "text": [
      "INFO:tensorflow:Assets written to: models/dynamic1\\assets\n",
      "INFO:tensorflow:Assets written to: models/dynamic2\\assets\n",
      "training for explore rate 0.45 and alpha 0.45\n"
     ]
    },
    {
     "name": "stderr",
     "output_type": "stream",
     "text": [
      "100%|██████████████████████████████████████████████████████████████████████████████████| 10/10 [01:13<00:00,  7.37s/it]\n"
     ]
    },
    {
     "name": "stdout",
     "output_type": "stream",
     "text": [
      "INFO:tensorflow:Assets written to: models/dynamic1\\assets\n",
      "INFO:tensorflow:Assets written to: models/dynamic2\\assets\n",
      "training for explore rate 0.44 and alpha 0.44\n"
     ]
    },
    {
     "name": "stderr",
     "output_type": "stream",
     "text": [
      "100%|██████████████████████████████████████████████████████████████████████████████████| 10/10 [01:01<00:00,  6.14s/it]\n"
     ]
    },
    {
     "name": "stdout",
     "output_type": "stream",
     "text": [
      "INFO:tensorflow:Assets written to: models/dynamic1\\assets\n",
      "INFO:tensorflow:Assets written to: models/dynamic2\\assets\n",
      "training for explore rate 0.43 and alpha 0.43\n"
     ]
    },
    {
     "name": "stderr",
     "output_type": "stream",
     "text": [
      "100%|██████████████████████████████████████████████████████████████████████████████████| 10/10 [01:03<00:00,  6.31s/it]\n"
     ]
    },
    {
     "name": "stdout",
     "output_type": "stream",
     "text": [
      "INFO:tensorflow:Assets written to: models/dynamic1\\assets\n",
      "INFO:tensorflow:Assets written to: models/dynamic2\\assets\n",
      "training for explore rate 0.42 and alpha 0.42\n"
     ]
    },
    {
     "name": "stderr",
     "output_type": "stream",
     "text": [
      "100%|██████████████████████████████████████████████████████████████████████████████████| 10/10 [00:53<00:00,  5.30s/it]\n"
     ]
    },
    {
     "name": "stdout",
     "output_type": "stream",
     "text": [
      "INFO:tensorflow:Assets written to: models/dynamic1\\assets\n",
      "INFO:tensorflow:Assets written to: models/dynamic2\\assets\n",
      "training for explore rate 0.41 and alpha 0.41\n"
     ]
    },
    {
     "name": "stderr",
     "output_type": "stream",
     "text": [
      "100%|██████████████████████████████████████████████████████████████████████████████████| 10/10 [00:49<00:00,  4.95s/it]\n"
     ]
    },
    {
     "name": "stdout",
     "output_type": "stream",
     "text": [
      "INFO:tensorflow:Assets written to: models/dynamic1\\assets\n",
      "INFO:tensorflow:Assets written to: models/dynamic2\\assets\n",
      "training for explore rate 0.4 and alpha 0.4\n"
     ]
    },
    {
     "name": "stderr",
     "output_type": "stream",
     "text": [
      "100%|██████████████████████████████████████████████████████████████████████████████████| 10/10 [01:01<00:00,  6.15s/it]\n"
     ]
    },
    {
     "name": "stdout",
     "output_type": "stream",
     "text": [
      "INFO:tensorflow:Assets written to: models/dynamic1\\assets\n",
      "INFO:tensorflow:Assets written to: models/dynamic2\\assets\n",
      "training for explore rate 0.39 and alpha 0.39\n"
     ]
    },
    {
     "name": "stderr",
     "output_type": "stream",
     "text": [
      "100%|██████████████████████████████████████████████████████████████████████████████████| 10/10 [01:04<00:00,  6.40s/it]\n"
     ]
    },
    {
     "name": "stdout",
     "output_type": "stream",
     "text": [
      "INFO:tensorflow:Assets written to: models/dynamic1\\assets\n",
      "INFO:tensorflow:Assets written to: models/dynamic2\\assets\n",
      "training for explore rate 0.38 and alpha 0.38\n"
     ]
    },
    {
     "name": "stderr",
     "output_type": "stream",
     "text": [
      "100%|██████████████████████████████████████████████████████████████████████████████████| 10/10 [01:08<00:00,  6.81s/it]\n"
     ]
    },
    {
     "name": "stdout",
     "output_type": "stream",
     "text": [
      "INFO:tensorflow:Assets written to: models/dynamic1\\assets\n",
      "INFO:tensorflow:Assets written to: models/dynamic2\\assets\n",
      "training for explore rate 0.37 and alpha 0.37\n"
     ]
    },
    {
     "name": "stderr",
     "output_type": "stream",
     "text": [
      "100%|██████████████████████████████████████████████████████████████████████████████████| 10/10 [01:04<00:00,  6.41s/it]\n"
     ]
    },
    {
     "name": "stdout",
     "output_type": "stream",
     "text": [
      "INFO:tensorflow:Assets written to: models/dynamic1\\assets\n",
      "INFO:tensorflow:Assets written to: models/dynamic2\\assets\n",
      "training for explore rate 0.36 and alpha 0.36\n"
     ]
    },
    {
     "name": "stderr",
     "output_type": "stream",
     "text": [
      "100%|██████████████████████████████████████████████████████████████████████████████████| 10/10 [01:03<00:00,  6.33s/it]\n"
     ]
    },
    {
     "name": "stdout",
     "output_type": "stream",
     "text": [
      "INFO:tensorflow:Assets written to: models/dynamic1\\assets\n",
      "INFO:tensorflow:Assets written to: models/dynamic2\\assets\n",
      "training for explore rate 0.35 and alpha 0.35\n"
     ]
    },
    {
     "name": "stderr",
     "output_type": "stream",
     "text": [
      "100%|██████████████████████████████████████████████████████████████████████████████████| 10/10 [00:45<00:00,  4.58s/it]\n"
     ]
    },
    {
     "name": "stdout",
     "output_type": "stream",
     "text": [
      "INFO:tensorflow:Assets written to: models/dynamic1\\assets\n",
      "INFO:tensorflow:Assets written to: models/dynamic2\\assets\n",
      "training for explore rate 0.34 and alpha 0.34\n"
     ]
    },
    {
     "name": "stderr",
     "output_type": "stream",
     "text": [
      "100%|██████████████████████████████████████████████████████████████████████████████████| 10/10 [00:46<00:00,  4.62s/it]\n"
     ]
    },
    {
     "name": "stdout",
     "output_type": "stream",
     "text": [
      "INFO:tensorflow:Assets written to: models/dynamic1\\assets\n",
      "INFO:tensorflow:Assets written to: models/dynamic2\\assets\n",
      "training for explore rate 0.33 and alpha 0.33\n"
     ]
    },
    {
     "name": "stderr",
     "output_type": "stream",
     "text": [
      "100%|██████████████████████████████████████████████████████████████████████████████████| 10/10 [01:04<00:00,  6.41s/it]\n"
     ]
    },
    {
     "name": "stdout",
     "output_type": "stream",
     "text": [
      "INFO:tensorflow:Assets written to: models/dynamic1\\assets\n",
      "INFO:tensorflow:Assets written to: models/dynamic2\\assets\n",
      "training for explore rate 0.32 and alpha 0.32\n"
     ]
    },
    {
     "name": "stderr",
     "output_type": "stream",
     "text": [
      "100%|██████████████████████████████████████████████████████████████████████████████████| 10/10 [01:07<00:00,  6.80s/it]\n"
     ]
    },
    {
     "name": "stdout",
     "output_type": "stream",
     "text": [
      "INFO:tensorflow:Assets written to: models/dynamic1\\assets\n",
      "INFO:tensorflow:Assets written to: models/dynamic2\\assets\n",
      "training for explore rate 0.31 and alpha 0.31\n"
     ]
    },
    {
     "name": "stderr",
     "output_type": "stream",
     "text": [
      "100%|██████████████████████████████████████████████████████████████████████████████████| 10/10 [00:56<00:00,  5.68s/it]\n"
     ]
    },
    {
     "name": "stdout",
     "output_type": "stream",
     "text": [
      "INFO:tensorflow:Assets written to: models/dynamic1\\assets\n",
      "INFO:tensorflow:Assets written to: models/dynamic2\\assets\n",
      "training for explore rate 0.3 and alpha 0.3\n"
     ]
    },
    {
     "name": "stderr",
     "output_type": "stream",
     "text": [
      "100%|██████████████████████████████████████████████████████████████████████████████████| 10/10 [00:54<00:00,  5.41s/it]\n"
     ]
    },
    {
     "name": "stdout",
     "output_type": "stream",
     "text": [
      "INFO:tensorflow:Assets written to: models/dynamic1\\assets\n",
      "INFO:tensorflow:Assets written to: models/dynamic2\\assets\n",
      "training for explore rate 0.29 and alpha 0.29\n"
     ]
    },
    {
     "name": "stderr",
     "output_type": "stream",
     "text": [
      "100%|██████████████████████████████████████████████████████████████████████████████████| 10/10 [01:10<00:00,  7.02s/it]\n"
     ]
    },
    {
     "name": "stdout",
     "output_type": "stream",
     "text": [
      "INFO:tensorflow:Assets written to: models/dynamic1\\assets\n",
      "INFO:tensorflow:Assets written to: models/dynamic2\\assets\n",
      "training for explore rate 0.28 and alpha 0.28\n"
     ]
    },
    {
     "name": "stderr",
     "output_type": "stream",
     "text": [
      "100%|██████████████████████████████████████████████████████████████████████████████████| 10/10 [00:58<00:00,  5.87s/it]\n"
     ]
    },
    {
     "name": "stdout",
     "output_type": "stream",
     "text": [
      "INFO:tensorflow:Assets written to: models/dynamic1\\assets\n",
      "INFO:tensorflow:Assets written to: models/dynamic2\\assets\n",
      "training for explore rate 0.27 and alpha 0.27\n"
     ]
    },
    {
     "name": "stderr",
     "output_type": "stream",
     "text": [
      "100%|██████████████████████████████████████████████████████████████████████████████████| 10/10 [00:54<00:00,  5.43s/it]\n"
     ]
    },
    {
     "name": "stdout",
     "output_type": "stream",
     "text": [
      "INFO:tensorflow:Assets written to: models/dynamic1\\assets\n",
      "INFO:tensorflow:Assets written to: models/dynamic2\\assets\n",
      "training for explore rate 0.26 and alpha 0.26\n"
     ]
    },
    {
     "name": "stderr",
     "output_type": "stream",
     "text": [
      "100%|██████████████████████████████████████████████████████████████████████████████████| 10/10 [01:13<00:00,  7.31s/it]\n"
     ]
    },
    {
     "name": "stdout",
     "output_type": "stream",
     "text": [
      "INFO:tensorflow:Assets written to: models/dynamic1\\assets\n",
      "INFO:tensorflow:Assets written to: models/dynamic2\\assets\n",
      "training for explore rate 0.25 and alpha 0.25\n"
     ]
    },
    {
     "name": "stderr",
     "output_type": "stream",
     "text": [
      "100%|██████████████████████████████████████████████████████████████████████████████████| 10/10 [01:08<00:00,  6.87s/it]\n"
     ]
    },
    {
     "name": "stdout",
     "output_type": "stream",
     "text": [
      "INFO:tensorflow:Assets written to: models/dynamic1\\assets\n",
      "INFO:tensorflow:Assets written to: models/dynamic2\\assets\n",
      "training for explore rate 0.24 and alpha 0.24\n"
     ]
    },
    {
     "name": "stderr",
     "output_type": "stream",
     "text": [
      "100%|██████████████████████████████████████████████████████████████████████████████████| 10/10 [01:10<00:00,  7.09s/it]\n"
     ]
    },
    {
     "name": "stdout",
     "output_type": "stream",
     "text": [
      "INFO:tensorflow:Assets written to: models/dynamic1\\assets\n",
      "INFO:tensorflow:Assets written to: models/dynamic2\\assets\n",
      "training for explore rate 0.23 and alpha 0.23\n"
     ]
    },
    {
     "name": "stderr",
     "output_type": "stream",
     "text": [
      "100%|██████████████████████████████████████████████████████████████████████████████████| 10/10 [00:46<00:00,  4.69s/it]\n"
     ]
    },
    {
     "name": "stdout",
     "output_type": "stream",
     "text": [
      "INFO:tensorflow:Assets written to: models/dynamic1\\assets\n",
      "INFO:tensorflow:Assets written to: models/dynamic2\\assets\n",
      "training for explore rate 0.22 and alpha 0.22\n"
     ]
    },
    {
     "name": "stderr",
     "output_type": "stream",
     "text": [
      "100%|██████████████████████████████████████████████████████████████████████████████████| 10/10 [00:50<00:00,  5.03s/it]\n"
     ]
    },
    {
     "name": "stdout",
     "output_type": "stream",
     "text": [
      "INFO:tensorflow:Assets written to: models/dynamic1\\assets\n",
      "INFO:tensorflow:Assets written to: models/dynamic2\\assets\n",
      "training for explore rate 0.21 and alpha 0.21\n"
     ]
    },
    {
     "name": "stderr",
     "output_type": "stream",
     "text": [
      "100%|██████████████████████████████████████████████████████████████████████████████████| 10/10 [00:49<00:00,  4.94s/it]\n"
     ]
    },
    {
     "name": "stdout",
     "output_type": "stream",
     "text": [
      "INFO:tensorflow:Assets written to: models/dynamic1\\assets\n",
      "INFO:tensorflow:Assets written to: models/dynamic2\\assets\n",
      "training for explore rate 0.2 and alpha 0.2\n"
     ]
    },
    {
     "name": "stderr",
     "output_type": "stream",
     "text": [
      "100%|██████████████████████████████████████████████████████████████████████████████████| 10/10 [00:59<00:00,  5.99s/it]\n"
     ]
    },
    {
     "name": "stdout",
     "output_type": "stream",
     "text": [
      "INFO:tensorflow:Assets written to: models/dynamic1\\assets\n",
      "INFO:tensorflow:Assets written to: models/dynamic2\\assets\n",
      "training for explore rate 0.19 and alpha 0.19\n"
     ]
    },
    {
     "name": "stderr",
     "output_type": "stream",
     "text": [
      "100%|██████████████████████████████████████████████████████████████████████████████████| 10/10 [00:54<00:00,  5.47s/it]\n"
     ]
    },
    {
     "name": "stdout",
     "output_type": "stream",
     "text": [
      "INFO:tensorflow:Assets written to: models/dynamic1\\assets\n",
      "INFO:tensorflow:Assets written to: models/dynamic2\\assets\n",
      "training for explore rate 0.18 and alpha 0.18\n"
     ]
    },
    {
     "name": "stderr",
     "output_type": "stream",
     "text": [
      "100%|██████████████████████████████████████████████████████████████████████████████████| 10/10 [01:03<00:00,  6.40s/it]\n"
     ]
    },
    {
     "name": "stdout",
     "output_type": "stream",
     "text": [
      "INFO:tensorflow:Assets written to: models/dynamic1\\assets\n",
      "INFO:tensorflow:Assets written to: models/dynamic2\\assets\n",
      "training for explore rate 0.17 and alpha 0.17\n"
     ]
    },
    {
     "name": "stderr",
     "output_type": "stream",
     "text": [
      "100%|██████████████████████████████████████████████████████████████████████████████████| 10/10 [00:45<00:00,  4.58s/it]\n"
     ]
    },
    {
     "name": "stdout",
     "output_type": "stream",
     "text": [
      "INFO:tensorflow:Assets written to: models/dynamic1\\assets\n",
      "INFO:tensorflow:Assets written to: models/dynamic2\\assets\n",
      "training for explore rate 0.16 and alpha 0.16\n"
     ]
    },
    {
     "name": "stderr",
     "output_type": "stream",
     "text": [
      "100%|██████████████████████████████████████████████████████████████████████████████████| 10/10 [01:02<00:00,  6.29s/it]\n"
     ]
    },
    {
     "name": "stdout",
     "output_type": "stream",
     "text": [
      "INFO:tensorflow:Assets written to: models/dynamic1\\assets\n",
      "INFO:tensorflow:Assets written to: models/dynamic2\\assets\n",
      "training for explore rate 0.15 and alpha 0.15\n"
     ]
    },
    {
     "name": "stderr",
     "output_type": "stream",
     "text": [
      "100%|██████████████████████████████████████████████████████████████████████████████████| 10/10 [00:43<00:00,  4.36s/it]\n"
     ]
    },
    {
     "name": "stdout",
     "output_type": "stream",
     "text": [
      "INFO:tensorflow:Assets written to: models/dynamic1\\assets\n",
      "INFO:tensorflow:Assets written to: models/dynamic2\\assets\n",
      "training for explore rate 0.14 and alpha 0.14\n"
     ]
    },
    {
     "name": "stderr",
     "output_type": "stream",
     "text": [
      "100%|██████████████████████████████████████████████████████████████████████████████████| 10/10 [01:14<00:00,  7.47s/it]\n"
     ]
    },
    {
     "name": "stdout",
     "output_type": "stream",
     "text": [
      "INFO:tensorflow:Assets written to: models/dynamic1\\assets\n",
      "INFO:tensorflow:Assets written to: models/dynamic2\\assets\n",
      "training for explore rate 0.13 and alpha 0.13\n"
     ]
    },
    {
     "name": "stderr",
     "output_type": "stream",
     "text": [
      "100%|██████████████████████████████████████████████████████████████████████████████████| 10/10 [01:19<00:00,  7.96s/it]\n"
     ]
    },
    {
     "name": "stdout",
     "output_type": "stream",
     "text": [
      "INFO:tensorflow:Assets written to: models/dynamic1\\assets\n",
      "INFO:tensorflow:Assets written to: models/dynamic2\\assets\n",
      "training for explore rate 0.12 and alpha 0.12\n"
     ]
    },
    {
     "name": "stderr",
     "output_type": "stream",
     "text": [
      "100%|██████████████████████████████████████████████████████████████████████████████████| 10/10 [01:09<00:00,  6.99s/it]\n"
     ]
    },
    {
     "name": "stdout",
     "output_type": "stream",
     "text": [
      "INFO:tensorflow:Assets written to: models/dynamic1\\assets\n",
      "INFO:tensorflow:Assets written to: models/dynamic2\\assets\n",
      "training for explore rate 0.11 and alpha 0.11\n"
     ]
    },
    {
     "name": "stderr",
     "output_type": "stream",
     "text": [
      "100%|██████████████████████████████████████████████████████████████████████████████████| 10/10 [00:59<00:00,  5.90s/it]\n"
     ]
    },
    {
     "name": "stdout",
     "output_type": "stream",
     "text": [
      "INFO:tensorflow:Assets written to: models/dynamic1\\assets\n",
      "INFO:tensorflow:Assets written to: models/dynamic2\\assets\n",
      "training for explore rate 0.1 and alpha 0.1\n"
     ]
    },
    {
     "name": "stderr",
     "output_type": "stream",
     "text": [
      "100%|██████████████████████████████████████████████████████████████████████████████████| 10/10 [00:51<00:00,  5.13s/it]\n"
     ]
    },
    {
     "name": "stdout",
     "output_type": "stream",
     "text": [
      "INFO:tensorflow:Assets written to: models/dynamic1\\assets\n",
      "INFO:tensorflow:Assets written to: models/dynamic2\\assets\n",
      "training for explore rate 0.09 and alpha 0.09\n"
     ]
    },
    {
     "name": "stderr",
     "output_type": "stream",
     "text": [
      "100%|██████████████████████████████████████████████████████████████████████████████████| 10/10 [01:02<00:00,  6.25s/it]\n"
     ]
    },
    {
     "name": "stdout",
     "output_type": "stream",
     "text": [
      "INFO:tensorflow:Assets written to: models/dynamic1\\assets\n",
      "INFO:tensorflow:Assets written to: models/dynamic2\\assets\n",
      "training for explore rate 0.08 and alpha 0.08\n"
     ]
    },
    {
     "name": "stderr",
     "output_type": "stream",
     "text": [
      "100%|██████████████████████████████████████████████████████████████████████████████████| 10/10 [01:16<00:00,  7.65s/it]\n"
     ]
    },
    {
     "name": "stdout",
     "output_type": "stream",
     "text": [
      "INFO:tensorflow:Assets written to: models/dynamic1\\assets\n",
      "INFO:tensorflow:Assets written to: models/dynamic2\\assets\n",
      "training for explore rate 0.07 and alpha 0.07\n"
     ]
    },
    {
     "name": "stderr",
     "output_type": "stream",
     "text": [
      "100%|██████████████████████████████████████████████████████████████████████████████████| 10/10 [01:29<00:00,  8.99s/it]\n"
     ]
    },
    {
     "name": "stdout",
     "output_type": "stream",
     "text": [
      "INFO:tensorflow:Assets written to: models/dynamic1\\assets\n",
      "INFO:tensorflow:Assets written to: models/dynamic2\\assets\n",
      "training for explore rate 0.06 and alpha 0.06\n"
     ]
    },
    {
     "name": "stderr",
     "output_type": "stream",
     "text": [
      "100%|██████████████████████████████████████████████████████████████████████████████████| 10/10 [01:03<00:00,  6.32s/it]\n"
     ]
    },
    {
     "name": "stdout",
     "output_type": "stream",
     "text": [
      "INFO:tensorflow:Assets written to: models/dynamic1\\assets\n",
      "INFO:tensorflow:Assets written to: models/dynamic2\\assets\n",
      "training for explore rate 0.05 and alpha 0.05\n"
     ]
    },
    {
     "name": "stderr",
     "output_type": "stream",
     "text": [
      "100%|██████████████████████████████████████████████████████████████████████████████████| 10/10 [01:22<00:00,  8.26s/it]\n"
     ]
    },
    {
     "name": "stdout",
     "output_type": "stream",
     "text": [
      "INFO:tensorflow:Assets written to: models/dynamic1\\assets\n",
      "INFO:tensorflow:Assets written to: models/dynamic2\\assets\n",
      "training for explore rate 0.04 and alpha 0.04\n"
     ]
    },
    {
     "name": "stderr",
     "output_type": "stream",
     "text": [
      "100%|██████████████████████████████████████████████████████████████████████████████████| 10/10 [01:03<00:00,  6.34s/it]\n"
     ]
    },
    {
     "name": "stdout",
     "output_type": "stream",
     "text": [
      "INFO:tensorflow:Assets written to: models/dynamic1\\assets\n",
      "INFO:tensorflow:Assets written to: models/dynamic2\\assets\n",
      "training for explore rate 0.03 and alpha 0.03\n"
     ]
    },
    {
     "name": "stderr",
     "output_type": "stream",
     "text": [
      "100%|██████████████████████████████████████████████████████████████████████████████████| 10/10 [01:00<00:00,  6.08s/it]\n"
     ]
    },
    {
     "name": "stdout",
     "output_type": "stream",
     "text": [
      "INFO:tensorflow:Assets written to: models/dynamic1\\assets\n",
      "INFO:tensorflow:Assets written to: models/dynamic2\\assets\n",
      "training for explore rate 0.02 and alpha 0.02\n"
     ]
    },
    {
     "name": "stderr",
     "output_type": "stream",
     "text": [
      "100%|██████████████████████████████████████████████████████████████████████████████████| 10/10 [01:31<00:00,  9.16s/it]\n"
     ]
    },
    {
     "name": "stdout",
     "output_type": "stream",
     "text": [
      "INFO:tensorflow:Assets written to: models/dynamic1\\assets\n",
      "INFO:tensorflow:Assets written to: models/dynamic2\\assets\n",
      "training for explore rate 0.01 and alpha 0.01\n"
     ]
    },
    {
     "name": "stderr",
     "output_type": "stream",
     "text": [
      "100%|██████████████████████████████████████████████████████████████████████████████████| 10/10 [01:01<00:00,  6.12s/it]\n"
     ]
    },
    {
     "name": "stdout",
     "output_type": "stream",
     "text": [
      "INFO:tensorflow:Assets written to: models/dynamic1\\assets\n",
      "INFO:tensorflow:Assets written to: models/dynamic2\\assets\n",
      "training for explore rate 0.0 and alpha 0.01\n"
     ]
    },
    {
     "name": "stderr",
     "output_type": "stream",
     "text": [
      "100%|██████████████████████████████████████████████████████████████████████████████████| 10/10 [01:07<00:00,  6.77s/it]\n"
     ]
    },
    {
     "name": "stdout",
     "output_type": "stream",
     "text": [
      "INFO:tensorflow:Assets written to: models/dynamic1\\assets\n",
      "INFO:tensorflow:Assets written to: models/dynamic2\\assets\n"
     ]
    },
    {
     "data": {
      "image/png": "[encoded data removed]",
      "text/plain": [
       "<Figure size 432x288 with 1 Axes>"
      ]
     },
     "metadata": {
      "needs_background": "light"
     },
     "output_type": "display_data"
    }
   ],
   "source": [
    "p1a, p2a = makedynamic(10, 51, 0.5, movingalpha = True, aggover=5)"
   ]
  },
  {
   "cell_type": "code",
   "execution_count": 16,
   "metadata": {},
   "outputs": [
    {
     "name": "stdout",
     "output_type": "stream",
     "text": [
      "   | 0 | 1 | 2 |\n",
      "-----------------\n",
      "0  |   |   |   | \n",
      "-----------------\n",
      "1  |   |   |   | \n",
      "-----------------\n",
      "2  |   |   |   | \n",
      "-----------------\n",
      "\n",
      "   | 0 | 1 | 2 |\n",
      "-----------------\n",
      "0  |   |   |   | \n",
      "-----------------\n",
      "1  |   |   |   | \n",
      "-----------------\n",
      "2  |   |   | x | \n",
      "-----------------\n",
      "\n",
      "Input your action row:1\n",
      "Input your action col:1\n",
      "   | 0 | 1 | 2 |\n",
      "-----------------\n",
      "0  |   |   |   | \n",
      "-----------------\n",
      "1  |   | o |   | \n",
      "-----------------\n",
      "2  |   |   | x | \n",
      "-----------------\n",
      "\n",
      "   | 0 | 1 | 2 |\n",
      "-----------------\n",
      "0  |   | x |   | \n",
      "-----------------\n",
      "1  |   | o |   | \n",
      "-----------------\n",
      "2  |   |   | x | \n",
      "-----------------\n",
      "\n",
      "Input your action row:0\n",
      "Input your action col:1\n",
      "Input your action row:1\n",
      "Input your action col:0\n",
      "   | 0 | 1 | 2 |\n",
      "-----------------\n",
      "0  |   | x |   | \n",
      "-----------------\n",
      "1  | o | o |   | \n",
      "-----------------\n",
      "2  |   |   | x | \n",
      "-----------------\n",
      "\n",
      "   | 0 | 1 | 2 |\n",
      "-----------------\n",
      "0  |   | x | x | \n",
      "-----------------\n",
      "1  | o | o |   | \n",
      "-----------------\n",
      "2  |   |   | x | \n",
      "-----------------\n",
      "\n",
      "Input your action row:1\n",
      "Input your action col:2\n",
      "   | 0 | 1 | 2 |\n",
      "-----------------\n",
      "0  |   | x | x | \n",
      "-----------------\n",
      "1  | o | o | o | \n",
      "-----------------\n",
      "2  |   |   | x | \n",
      "-----------------\n",
      "\n",
      "human wins!\n"
     ]
    },
    {
     "data": {
      "text/plain": [
       "-1"
      ]
     },
     "execution_count": 16,
     "metadata": {},
     "output_type": "execute_result"
    }
   ],
   "source": [
    "human = HumanPlayer(\"human\")\n",
    "# p1.loadPolicy(\"policy_p1\")\n",
    "game = tictactoe(p1a, human)\n",
    "game.playhuman()"
   ]
  },
  {
   "cell_type": "markdown",
   "metadata": {},
   "source": [
    "Still not playing well! I think the output layer is too big. Adding gravity will help with that. Also, I don't really think a CNN is appropriate for a game this small (there's not really individual filters to speak of), but I think it'll work better with the smaller output layer. Going to a new notebook to add gravity since we have to change our move logic for playing and for training."
   ]
  },
  {
   "cell_type": "markdown",
   "metadata": {},
   "source": [
    "## Adding gravity"
   ]
  },
  {
   "cell_type": "code",
   "execution_count": 17,
   "metadata": {},
   "outputs": [
    {
     "name": "stdout",
     "output_type": "stream",
     "text": [
      "0.05\n",
      "training for explore rate 0.5 and alpha 0.5\n"
     ]
    },
    {
     "name": "stderr",
     "output_type": "stream",
     "text": [
      " 50%|█████████████████████████████████████████▌                                         | 5/10 [00:14<00:16,  3.34s/it]"
     ]
    },
    {
     "ename": "KeyboardInterrupt",
     "evalue": "",
     "output_type": "error",
     "traceback": [
      "\u001b[1;31m---------------------------------------------------------------------------\u001b[0m",
      "\u001b[1;31mKeyboardInterrupt\u001b[0m                         Traceback (most recent call last)",
      "\u001b[1;32m<ipython-input-17-04fcfcd85822>\u001b[0m in \u001b[0;36m<module>\u001b[1;34m\u001b[0m\n\u001b[1;32m----> 1\u001b[1;33m \u001b[0mp1grav\u001b[0m\u001b[1;33m,\u001b[0m \u001b[0mp2grav\u001b[0m \u001b[1;33m=\u001b[0m \u001b[0mmakedynamic\u001b[0m\u001b[1;33m(\u001b[0m\u001b[1;36m10\u001b[0m\u001b[1;33m,\u001b[0m \u001b[1;36m11\u001b[0m\u001b[1;33m,\u001b[0m \u001b[1;36m0.5\u001b[0m\u001b[1;33m,\u001b[0m \u001b[0mmovingalpha\u001b[0m \u001b[1;33m=\u001b[0m \u001b[1;32mTrue\u001b[0m\u001b[1;33m,\u001b[0m \u001b[0mgmove\u001b[0m\u001b[1;33m=\u001b[0m\u001b[1;32mTrue\u001b[0m\u001b[1;33m,\u001b[0m \u001b[0maggover\u001b[0m\u001b[1;33m=\u001b[0m\u001b[1;36m5\u001b[0m\u001b[1;33m)\u001b[0m\u001b[1;33m\u001b[0m\u001b[1;33m\u001b[0m\u001b[0m\n\u001b[0m",
      "\u001b[1;32m<ipython-input-5-4b9c4fbaae8c>\u001b[0m in \u001b[0;36mmakedynamic\u001b[1;34m(numrounds, numexplores, expstart, movingalpha, p1dynamic, p2dynamic, rows, cols, winc, gmove, randinit, stratnames, aggover)\u001b[0m\n\u001b[0;32m     34\u001b[0m         \u001b[0mst\u001b[0m \u001b[1;33m=\u001b[0m \u001b[0mtictactoe\u001b[0m\u001b[1;33m(\u001b[0m\u001b[0mp1dynamic\u001b[0m\u001b[1;33m,\u001b[0m \u001b[0mp2dynamic\u001b[0m\u001b[1;33m,\u001b[0m \u001b[0mnumrows\u001b[0m\u001b[1;33m=\u001b[0m\u001b[0mrows\u001b[0m\u001b[1;33m,\u001b[0m \u001b[0mnumcols\u001b[0m\u001b[1;33m=\u001b[0m\u001b[0mcols\u001b[0m\u001b[1;33m,\u001b[0m \u001b[0mwincount\u001b[0m\u001b[1;33m=\u001b[0m\u001b[0mwinc\u001b[0m\u001b[1;33m,\u001b[0m \u001b[0mgravitymove\u001b[0m\u001b[1;33m=\u001b[0m\u001b[0mgmove\u001b[0m\u001b[1;33m,\u001b[0m \u001b[0mrandinit\u001b[0m\u001b[1;33m=\u001b[0m\u001b[0mrandinit\u001b[0m\u001b[1;33m)\u001b[0m\u001b[1;33m\u001b[0m\u001b[1;33m\u001b[0m\u001b[0m\n\u001b[0;32m     35\u001b[0m         \u001b[0mprint\u001b[0m\u001b[1;33m(\u001b[0m\u001b[1;34mf\"training for explore rate {exprate} and alpha {alpha}\"\u001b[0m\u001b[1;33m)\u001b[0m\u001b[1;33m\u001b[0m\u001b[1;33m\u001b[0m\u001b[0m\n\u001b[1;32m---> 36\u001b[1;33m         \u001b[0mwinsdynamic\u001b[0m\u001b[1;33m.\u001b[0m\u001b[0mextend\u001b[0m\u001b[1;33m(\u001b[0m\u001b[0mst\u001b[0m\u001b[1;33m.\u001b[0m\u001b[0mplay\u001b[0m\u001b[1;33m(\u001b[0m\u001b[0mnumrounds\u001b[0m\u001b[1;33m)\u001b[0m\u001b[1;33m)\u001b[0m\u001b[1;33m\u001b[0m\u001b[1;33m\u001b[0m\u001b[0m\n\u001b[0m\u001b[0;32m     37\u001b[0m \u001b[1;33m\u001b[0m\u001b[0m\n\u001b[0;32m     38\u001b[0m         \u001b[0mp1dynamic\u001b[0m\u001b[1;33m.\u001b[0m\u001b[0msavePolicy\u001b[0m\u001b[1;33m(\u001b[0m\u001b[1;33m)\u001b[0m\u001b[1;33m\u001b[0m\u001b[1;33m\u001b[0m\u001b[0m\n",
      "\u001b[1;32m<ipython-input-2-f84b85fb0908>\u001b[0m in \u001b[0;36mplay\u001b[1;34m(self, trainingrounds)\u001b[0m\n\u001b[0;32m    179\u001b[0m                     player2move = self.player2.chooseAction(positions, \n\u001b[0;32m    180\u001b[0m                                                             \u001b[0mself\u001b[0m\u001b[1;33m.\u001b[0m\u001b[0mboard\u001b[0m\u001b[1;33m.\u001b[0m\u001b[0mreshape\u001b[0m\u001b[1;33m(\u001b[0m\u001b[1;33m(\u001b[0m\u001b[0mself\u001b[0m\u001b[1;33m.\u001b[0m\u001b[0mnumrows\u001b[0m\u001b[1;33m,\u001b[0m \u001b[0mself\u001b[0m\u001b[1;33m.\u001b[0m\u001b[0mnumcols\u001b[0m\u001b[1;33m,\u001b[0m \u001b[1;36m1\u001b[0m\u001b[1;33m)\u001b[0m\u001b[1;33m)\u001b[0m\u001b[1;33m,\u001b[0m\u001b[1;33m\u001b[0m\u001b[1;33m\u001b[0m\u001b[0m\n\u001b[1;32m--> 181\u001b[1;33m                                                             self.playerSymbol, rand=rand)\n\u001b[0m\u001b[0;32m    182\u001b[0m                     \u001b[0mrand\u001b[0m\u001b[1;33m=\u001b[0m\u001b[1;32mFalse\u001b[0m\u001b[1;33m\u001b[0m\u001b[1;33m\u001b[0m\u001b[0m\n\u001b[0;32m    183\u001b[0m                     \u001b[0mself\u001b[0m\u001b[1;33m.\u001b[0m\u001b[0mupdateMove\u001b[0m\u001b[1;33m(\u001b[0m\u001b[0mplayer2move\u001b[0m\u001b[1;33m)\u001b[0m\u001b[1;33m\u001b[0m\u001b[1;33m\u001b[0m\u001b[0m\n",
      "\u001b[1;32m<ipython-input-3-3031d729b693>\u001b[0m in \u001b[0;36mchooseAction\u001b[1;34m(self, positions, current_board, symbol, rand)\u001b[0m\n\u001b[0;32m     57\u001b[0m                                                                                   \u001b[0mself\u001b[0m\u001b[1;33m.\u001b[0m\u001b[0mstate_size\u001b[0m\u001b[1;33m[\u001b[0m\u001b[1;36m0\u001b[0m\u001b[1;33m]\u001b[0m\u001b[1;33m,\u001b[0m\u001b[1;33m\u001b[0m\u001b[1;33m\u001b[0m\u001b[0m\n\u001b[0;32m     58\u001b[0m                                                                                   \u001b[0mself\u001b[0m\u001b[1;33m.\u001b[0m\u001b[0mstate_size\u001b[0m\u001b[1;33m[\u001b[0m\u001b[1;36m1\u001b[0m\u001b[1;33m]\u001b[0m\u001b[1;33m,\u001b[0m\u001b[1;33m\u001b[0m\u001b[1;33m\u001b[0m\u001b[0m\n\u001b[1;32m---> 59\u001b[1;33m                                                                                   self.state_size[2])))[0][0][0]\n\u001b[0m\u001b[0;32m     60\u001b[0m                 \u001b[1;31m#print(action_values)\u001b[0m\u001b[1;33m\u001b[0m\u001b[1;33m\u001b[0m\u001b[1;33m\u001b[0m\u001b[0m\n\u001b[0;32m     61\u001b[0m                 \u001b[1;32mfor\u001b[0m \u001b[0mp\u001b[0m \u001b[1;32min\u001b[0m \u001b[0mpositions\u001b[0m\u001b[1;33m:\u001b[0m\u001b[1;33m\u001b[0m\u001b[1;33m\u001b[0m\u001b[0m\n",
      "\u001b[1;32m~\\Anaconda3\\lib\\site-packages\\keras\\utils\\traceback_utils.py\u001b[0m in \u001b[0;36merror_handler\u001b[1;34m(*args, **kwargs)\u001b[0m\n\u001b[0;32m     62\u001b[0m     \u001b[0mfiltered_tb\u001b[0m \u001b[1;33m=\u001b[0m \u001b[1;32mNone\u001b[0m\u001b[1;33m\u001b[0m\u001b[1;33m\u001b[0m\u001b[0m\n\u001b[0;32m     63\u001b[0m     \u001b[1;32mtry\u001b[0m\u001b[1;33m:\u001b[0m\u001b[1;33m\u001b[0m\u001b[1;33m\u001b[0m\u001b[0m\n\u001b[1;32m---> 64\u001b[1;33m       \u001b[1;32mreturn\u001b[0m \u001b[0mfn\u001b[0m\u001b[1;33m(\u001b[0m\u001b[1;33m*\u001b[0m\u001b[0margs\u001b[0m\u001b[1;33m,\u001b[0m \u001b[1;33m**\u001b[0m\u001b[0mkwargs\u001b[0m\u001b[1;33m)\u001b[0m\u001b[1;33m\u001b[0m\u001b[1;33m\u001b[0m\u001b[0m\n\u001b[0m\u001b[0;32m     65\u001b[0m     \u001b[1;32mexcept\u001b[0m \u001b[0mException\u001b[0m \u001b[1;32mas\u001b[0m \u001b[0me\u001b[0m\u001b[1;33m:\u001b[0m  \u001b[1;31m# pylint: disable=broad-except\u001b[0m\u001b[1;33m\u001b[0m\u001b[1;33m\u001b[0m\u001b[0m\n\u001b[0;32m     66\u001b[0m       \u001b[0mfiltered_tb\u001b[0m \u001b[1;33m=\u001b[0m \u001b[0m_process_traceback_frames\u001b[0m\u001b[1;33m(\u001b[0m\u001b[0me\u001b[0m\u001b[1;33m.\u001b[0m\u001b[0m__traceback__\u001b[0m\u001b[1;33m)\u001b[0m\u001b[1;33m\u001b[0m\u001b[1;33m\u001b[0m\u001b[0m\n",
      "\u001b[1;32m~\\Anaconda3\\lib\\site-packages\\keras\\engine\\training.py\u001b[0m in \u001b[0;36mpredict\u001b[1;34m(self, x, batch_size, verbose, steps, callbacks, max_queue_size, workers, use_multiprocessing)\u001b[0m\n\u001b[0;32m   1766\u001b[0m           \u001b[0muse_multiprocessing\u001b[0m\u001b[1;33m=\u001b[0m\u001b[0muse_multiprocessing\u001b[0m\u001b[1;33m,\u001b[0m\u001b[1;33m\u001b[0m\u001b[1;33m\u001b[0m\u001b[0m\n\u001b[0;32m   1767\u001b[0m           \u001b[0mmodel\u001b[0m\u001b[1;33m=\u001b[0m\u001b[0mself\u001b[0m\u001b[1;33m,\u001b[0m\u001b[1;33m\u001b[0m\u001b[1;33m\u001b[0m\u001b[0m\n\u001b[1;32m-> 1768\u001b[1;33m           steps_per_execution=self._steps_per_execution)\n\u001b[0m\u001b[0;32m   1769\u001b[0m \u001b[1;33m\u001b[0m\u001b[0m\n\u001b[0;32m   1770\u001b[0m       \u001b[1;31m# Container that configures and calls `tf.keras.Callback`s.\u001b[0m\u001b[1;33m\u001b[0m\u001b[1;33m\u001b[0m\u001b[1;33m\u001b[0m\u001b[0m\n",
      "\u001b[1;32m~\\Anaconda3\\lib\\site-packages\\keras\\engine\\data_adapter.py\u001b[0m in \u001b[0;36mget_data_handler\u001b[1;34m(*args, **kwargs)\u001b[0m\n\u001b[0;32m   1401\u001b[0m   \u001b[1;32mif\u001b[0m \u001b[0mgetattr\u001b[0m\u001b[1;33m(\u001b[0m\u001b[0mkwargs\u001b[0m\u001b[1;33m[\u001b[0m\u001b[1;34m\"model\"\u001b[0m\u001b[1;33m]\u001b[0m\u001b[1;33m,\u001b[0m \u001b[1;34m\"_cluster_coordinator\"\u001b[0m\u001b[1;33m,\u001b[0m \u001b[1;32mNone\u001b[0m\u001b[1;33m)\u001b[0m\u001b[1;33m:\u001b[0m\u001b[1;33m\u001b[0m\u001b[1;33m\u001b[0m\u001b[0m\n\u001b[0;32m   1402\u001b[0m     \u001b[1;32mreturn\u001b[0m \u001b[0m_ClusterCoordinatorDataHandler\u001b[0m\u001b[1;33m(\u001b[0m\u001b[1;33m*\u001b[0m\u001b[0margs\u001b[0m\u001b[1;33m,\u001b[0m \u001b[1;33m**\u001b[0m\u001b[0mkwargs\u001b[0m\u001b[1;33m)\u001b[0m\u001b[1;33m\u001b[0m\u001b[1;33m\u001b[0m\u001b[0m\n\u001b[1;32m-> 1403\u001b[1;33m   \u001b[1;32mreturn\u001b[0m \u001b[0mDataHandler\u001b[0m\u001b[1;33m(\u001b[0m\u001b[1;33m*\u001b[0m\u001b[0margs\u001b[0m\u001b[1;33m,\u001b[0m \u001b[1;33m**\u001b[0m\u001b[0mkwargs\u001b[0m\u001b[1;33m)\u001b[0m\u001b[1;33m\u001b[0m\u001b[1;33m\u001b[0m\u001b[0m\n\u001b[0m\u001b[0;32m   1404\u001b[0m \u001b[1;33m\u001b[0m\u001b[0m\n\u001b[0;32m   1405\u001b[0m \u001b[1;33m\u001b[0m\u001b[0m\n",
      "\u001b[1;32m~\\Anaconda3\\lib\\site-packages\\keras\\engine\\data_adapter.py\u001b[0m in \u001b[0;36m__init__\u001b[1;34m(self, x, y, sample_weight, batch_size, steps_per_epoch, initial_epoch, epochs, shuffle, class_weight, max_queue_size, workers, use_multiprocessing, model, steps_per_execution, distribute)\u001b[0m\n\u001b[0;32m   1163\u001b[0m         \u001b[0muse_multiprocessing\u001b[0m\u001b[1;33m=\u001b[0m\u001b[0muse_multiprocessing\u001b[0m\u001b[1;33m,\u001b[0m\u001b[1;33m\u001b[0m\u001b[1;33m\u001b[0m\u001b[0m\n\u001b[0;32m   1164\u001b[0m         \u001b[0mdistribution_strategy\u001b[0m\u001b[1;33m=\u001b[0m\u001b[0mtf\u001b[0m\u001b[1;33m.\u001b[0m\u001b[0mdistribute\u001b[0m\u001b[1;33m.\u001b[0m\u001b[0mget_strategy\u001b[0m\u001b[1;33m(\u001b[0m\u001b[1;33m)\u001b[0m\u001b[1;33m,\u001b[0m\u001b[1;33m\u001b[0m\u001b[1;33m\u001b[0m\u001b[0m\n\u001b[1;32m-> 1165\u001b[1;33m         model=model)\n\u001b[0m\u001b[0;32m   1166\u001b[0m \u001b[1;33m\u001b[0m\u001b[0m\n\u001b[0;32m   1167\u001b[0m     \u001b[0mstrategy\u001b[0m \u001b[1;33m=\u001b[0m \u001b[0mtf\u001b[0m\u001b[1;33m.\u001b[0m\u001b[0mdistribute\u001b[0m\u001b[1;33m.\u001b[0m\u001b[0mget_strategy\u001b[0m\u001b[1;33m(\u001b[0m\u001b[1;33m)\u001b[0m\u001b[1;33m\u001b[0m\u001b[1;33m\u001b[0m\u001b[0m\n",
      "\u001b[1;32m~\\Anaconda3\\lib\\site-packages\\keras\\engine\\data_adapter.py\u001b[0m in \u001b[0;36m__init__\u001b[1;34m(self, x, y, sample_weights, sample_weight_modes, batch_size, epochs, steps, shuffle, **kwargs)\u001b[0m\n\u001b[0;32m    323\u001b[0m       \u001b[1;32mreturn\u001b[0m \u001b[0mflat_dataset\u001b[0m\u001b[1;33m\u001b[0m\u001b[1;33m\u001b[0m\u001b[0m\n\u001b[0;32m    324\u001b[0m \u001b[1;33m\u001b[0m\u001b[0m\n\u001b[1;32m--> 325\u001b[1;33m     \u001b[0mindices_dataset\u001b[0m \u001b[1;33m=\u001b[0m \u001b[0mindices_dataset\u001b[0m\u001b[1;33m.\u001b[0m\u001b[0mflat_map\u001b[0m\u001b[1;33m(\u001b[0m\u001b[0mslice_batch_indices\u001b[0m\u001b[1;33m)\u001b[0m\u001b[1;33m\u001b[0m\u001b[1;33m\u001b[0m\u001b[0m\n\u001b[0m\u001b[0;32m    326\u001b[0m \u001b[1;33m\u001b[0m\u001b[0m\n\u001b[0;32m    327\u001b[0m     \u001b[0mdataset\u001b[0m \u001b[1;33m=\u001b[0m \u001b[0mself\u001b[0m\u001b[1;33m.\u001b[0m\u001b[0mslice_inputs\u001b[0m\u001b[1;33m(\u001b[0m\u001b[0mindices_dataset\u001b[0m\u001b[1;33m,\u001b[0m \u001b[0minputs\u001b[0m\u001b[1;33m)\u001b[0m\u001b[1;33m\u001b[0m\u001b[1;33m\u001b[0m\u001b[0m\n",
      "\u001b[1;32m~\\Anaconda3\\lib\\site-packages\\tensorflow\\python\\data\\ops\\dataset_ops.py\u001b[0m in \u001b[0;36mflat_map\u001b[1;34m(self, map_func, name)\u001b[0m\n\u001b[0;32m   2046\u001b[0m       \u001b[0mDataset\u001b[0m\u001b[1;33m:\u001b[0m \u001b[0mA\u001b[0m\u001b[0;31m \u001b[0m\u001b[0;31m`\u001b[0m\u001b[0mDataset\u001b[0m\u001b[0;31m`\u001b[0m\u001b[1;33m.\u001b[0m\u001b[1;33m\u001b[0m\u001b[1;33m\u001b[0m\u001b[0m\n\u001b[0;32m   2047\u001b[0m     \"\"\"\n\u001b[1;32m-> 2048\u001b[1;33m     \u001b[1;32mreturn\u001b[0m \u001b[0mFlatMapDataset\u001b[0m\u001b[1;33m(\u001b[0m\u001b[0mself\u001b[0m\u001b[1;33m,\u001b[0m \u001b[0mmap_func\u001b[0m\u001b[1;33m,\u001b[0m \u001b[0mname\u001b[0m\u001b[1;33m=\u001b[0m\u001b[0mname\u001b[0m\u001b[1;33m)\u001b[0m\u001b[1;33m\u001b[0m\u001b[1;33m\u001b[0m\u001b[0m\n\u001b[0m\u001b[0;32m   2049\u001b[0m \u001b[1;33m\u001b[0m\u001b[0m\n\u001b[0;32m   2050\u001b[0m   def interleave(self,\n",
      "\u001b[1;32m~\\Anaconda3\\lib\\site-packages\\tensorflow\\python\\data\\ops\\dataset_ops.py\u001b[0m in \u001b[0;36m__init__\u001b[1;34m(self, input_dataset, map_func, name)\u001b[0m\n\u001b[0;32m   5548\u001b[0m     \u001b[0mself\u001b[0m\u001b[1;33m.\u001b[0m\u001b[0m_input_dataset\u001b[0m \u001b[1;33m=\u001b[0m \u001b[0minput_dataset\u001b[0m\u001b[1;33m\u001b[0m\u001b[1;33m\u001b[0m\u001b[0m\n\u001b[0;32m   5549\u001b[0m     self._map_func = StructuredFunctionWrapper(\n\u001b[1;32m-> 5550\u001b[1;33m         map_func, self._transformation_name(), dataset=input_dataset)\n\u001b[0m\u001b[0;32m   5551\u001b[0m     \u001b[1;32mif\u001b[0m \u001b[1;32mnot\u001b[0m \u001b[0misinstance\u001b[0m\u001b[1;33m(\u001b[0m\u001b[0mself\u001b[0m\u001b[1;33m.\u001b[0m\u001b[0m_map_func\u001b[0m\u001b[1;33m.\u001b[0m\u001b[0moutput_structure\u001b[0m\u001b[1;33m,\u001b[0m \u001b[0mDatasetSpec\u001b[0m\u001b[1;33m)\u001b[0m\u001b[1;33m:\u001b[0m\u001b[1;33m\u001b[0m\u001b[1;33m\u001b[0m\u001b[0m\n\u001b[0;32m   5552\u001b[0m       raise TypeError(\n",
      "\u001b[1;32m~\\Anaconda3\\lib\\site-packages\\tensorflow\\python\\data\\ops\\dataset_ops.py\u001b[0m in \u001b[0;36m__init__\u001b[1;34m(self, func, transformation_name, dataset, input_classes, input_shapes, input_types, input_structure, add_to_graph, use_legacy_function, defun_kwargs)\u001b[0m\n\u001b[0;32m   4531\u001b[0m         \u001b[0mfn_factory\u001b[0m \u001b[1;33m=\u001b[0m \u001b[0mtrace_tf_function\u001b[0m\u001b[1;33m(\u001b[0m\u001b[0mdefun_kwargs\u001b[0m\u001b[1;33m)\u001b[0m\u001b[1;33m\u001b[0m\u001b[1;33m\u001b[0m\u001b[0m\n\u001b[0;32m   4532\u001b[0m \u001b[1;33m\u001b[0m\u001b[0m\n\u001b[1;32m-> 4533\u001b[1;33m     \u001b[0mself\u001b[0m\u001b[1;33m.\u001b[0m\u001b[0m_function\u001b[0m \u001b[1;33m=\u001b[0m \u001b[0mfn_factory\u001b[0m\u001b[1;33m(\u001b[0m\u001b[1;33m)\u001b[0m\u001b[1;33m\u001b[0m\u001b[1;33m\u001b[0m\u001b[0m\n\u001b[0m\u001b[0;32m   4534\u001b[0m     \u001b[1;31m# There is no graph to add in eager mode.\u001b[0m\u001b[1;33m\u001b[0m\u001b[1;33m\u001b[0m\u001b[1;33m\u001b[0m\u001b[0m\n\u001b[0;32m   4535\u001b[0m     \u001b[0madd_to_graph\u001b[0m \u001b[1;33m&=\u001b[0m \u001b[1;32mnot\u001b[0m \u001b[0mcontext\u001b[0m\u001b[1;33m.\u001b[0m\u001b[0mexecuting_eagerly\u001b[0m\u001b[1;33m(\u001b[0m\u001b[1;33m)\u001b[0m\u001b[1;33m\u001b[0m\u001b[1;33m\u001b[0m\u001b[0m\n",
      "\u001b[1;32m~\\Anaconda3\\lib\\site-packages\\tensorflow\\python\\eager\\function.py\u001b[0m in \u001b[0;36mget_concrete_function\u001b[1;34m(self, *args, **kwargs)\u001b[0m\n\u001b[0;32m   3243\u001b[0m     \"\"\"\n\u001b[0;32m   3244\u001b[0m     graph_function = self._get_concrete_function_garbage_collected(\n\u001b[1;32m-> 3245\u001b[1;33m         *args, **kwargs)\n\u001b[0m\u001b[0;32m   3246\u001b[0m     \u001b[0mgraph_function\u001b[0m\u001b[1;33m.\u001b[0m\u001b[0m_garbage_collector\u001b[0m\u001b[1;33m.\u001b[0m\u001b[0mrelease\u001b[0m\u001b[1;33m(\u001b[0m\u001b[1;33m)\u001b[0m  \u001b[1;31m# pylint: disable=protected-access\u001b[0m\u001b[1;33m\u001b[0m\u001b[1;33m\u001b[0m\u001b[0m\n\u001b[0;32m   3247\u001b[0m     \u001b[1;32mreturn\u001b[0m \u001b[0mgraph_function\u001b[0m\u001b[1;33m\u001b[0m\u001b[1;33m\u001b[0m\u001b[0m\n",
      "\u001b[1;32m~\\Anaconda3\\lib\\site-packages\\tensorflow\\python\\eager\\function.py\u001b[0m in \u001b[0;36m_get_concrete_function_garbage_collected\u001b[1;34m(self, *args, **kwargs)\u001b[0m\n\u001b[0;32m   3208\u001b[0m       \u001b[0margs\u001b[0m\u001b[1;33m,\u001b[0m \u001b[0mkwargs\u001b[0m \u001b[1;33m=\u001b[0m \u001b[1;32mNone\u001b[0m\u001b[1;33m,\u001b[0m \u001b[1;32mNone\u001b[0m\u001b[1;33m\u001b[0m\u001b[1;33m\u001b[0m\u001b[0m\n\u001b[0;32m   3209\u001b[0m     \u001b[1;32mwith\u001b[0m \u001b[0mself\u001b[0m\u001b[1;33m.\u001b[0m\u001b[0m_lock\u001b[0m\u001b[1;33m:\u001b[0m\u001b[1;33m\u001b[0m\u001b[1;33m\u001b[0m\u001b[0m\n\u001b[1;32m-> 3210\u001b[1;33m       \u001b[0mgraph_function\u001b[0m\u001b[1;33m,\u001b[0m \u001b[0m_\u001b[0m \u001b[1;33m=\u001b[0m \u001b[0mself\u001b[0m\u001b[1;33m.\u001b[0m\u001b[0m_maybe_define_function\u001b[0m\u001b[1;33m(\u001b[0m\u001b[0margs\u001b[0m\u001b[1;33m,\u001b[0m \u001b[0mkwargs\u001b[0m\u001b[1;33m)\u001b[0m\u001b[1;33m\u001b[0m\u001b[1;33m\u001b[0m\u001b[0m\n\u001b[0m\u001b[0;32m   3211\u001b[0m       \u001b[0mseen_names\u001b[0m \u001b[1;33m=\u001b[0m \u001b[0mset\u001b[0m\u001b[1;33m(\u001b[0m\u001b[1;33m)\u001b[0m\u001b[1;33m\u001b[0m\u001b[1;33m\u001b[0m\u001b[0m\n\u001b[0;32m   3212\u001b[0m       captured = object_identity.ObjectIdentitySet(\n",
      "\u001b[1;32m~\\Anaconda3\\lib\\site-packages\\tensorflow\\python\\eager\\function.py\u001b[0m in \u001b[0;36m_maybe_define_function\u001b[1;34m(self, args, kwargs)\u001b[0m\n\u001b[0;32m   3555\u001b[0m \u001b[1;33m\u001b[0m\u001b[0m\n\u001b[0;32m   3556\u001b[0m           \u001b[0mself\u001b[0m\u001b[1;33m.\u001b[0m\u001b[0m_function_cache\u001b[0m\u001b[1;33m.\u001b[0m\u001b[0mmissed\u001b[0m\u001b[1;33m.\u001b[0m\u001b[0madd\u001b[0m\u001b[1;33m(\u001b[0m\u001b[0mcall_context_key\u001b[0m\u001b[1;33m)\u001b[0m\u001b[1;33m\u001b[0m\u001b[1;33m\u001b[0m\u001b[0m\n\u001b[1;32m-> 3557\u001b[1;33m           \u001b[0mgraph_function\u001b[0m \u001b[1;33m=\u001b[0m \u001b[0mself\u001b[0m\u001b[1;33m.\u001b[0m\u001b[0m_create_graph_function\u001b[0m\u001b[1;33m(\u001b[0m\u001b[0margs\u001b[0m\u001b[1;33m,\u001b[0m \u001b[0mkwargs\u001b[0m\u001b[1;33m)\u001b[0m\u001b[1;33m\u001b[0m\u001b[1;33m\u001b[0m\u001b[0m\n\u001b[0m\u001b[0;32m   3558\u001b[0m           \u001b[0mself\u001b[0m\u001b[1;33m.\u001b[0m\u001b[0m_function_cache\u001b[0m\u001b[1;33m.\u001b[0m\u001b[0mprimary\u001b[0m\u001b[1;33m[\u001b[0m\u001b[0mcache_key\u001b[0m\u001b[1;33m]\u001b[0m \u001b[1;33m=\u001b[0m \u001b[0mgraph_function\u001b[0m\u001b[1;33m\u001b[0m\u001b[1;33m\u001b[0m\u001b[0m\n\u001b[0;32m   3559\u001b[0m \u001b[1;33m\u001b[0m\u001b[0m\n",
      "\u001b[1;32m~\\Anaconda3\\lib\\site-packages\\tensorflow\\python\\eager\\function.py\u001b[0m in \u001b[0;36m_create_graph_function\u001b[1;34m(self, args, kwargs, override_flat_arg_shapes)\u001b[0m\n\u001b[0;32m   3400\u001b[0m             \u001b[0marg_names\u001b[0m\u001b[1;33m=\u001b[0m\u001b[0marg_names\u001b[0m\u001b[1;33m,\u001b[0m\u001b[1;33m\u001b[0m\u001b[1;33m\u001b[0m\u001b[0m\n\u001b[0;32m   3401\u001b[0m             \u001b[0moverride_flat_arg_shapes\u001b[0m\u001b[1;33m=\u001b[0m\u001b[0moverride_flat_arg_shapes\u001b[0m\u001b[1;33m,\u001b[0m\u001b[1;33m\u001b[0m\u001b[1;33m\u001b[0m\u001b[0m\n\u001b[1;32m-> 3402\u001b[1;33m             capture_by_value=self._capture_by_value),\n\u001b[0m\u001b[0;32m   3403\u001b[0m         \u001b[0mself\u001b[0m\u001b[1;33m.\u001b[0m\u001b[0m_function_attributes\u001b[0m\u001b[1;33m,\u001b[0m\u001b[1;33m\u001b[0m\u001b[1;33m\u001b[0m\u001b[0m\n\u001b[0;32m   3404\u001b[0m         \u001b[0mfunction_spec\u001b[0m\u001b[1;33m=\u001b[0m\u001b[0mself\u001b[0m\u001b[1;33m.\u001b[0m\u001b[0mfunction_spec\u001b[0m\u001b[1;33m,\u001b[0m\u001b[1;33m\u001b[0m\u001b[1;33m\u001b[0m\u001b[0m\n",
      "\u001b[1;32m~\\Anaconda3\\lib\\site-packages\\tensorflow\\python\\framework\\func_graph.py\u001b[0m in \u001b[0;36mfunc_graph_from_py_func\u001b[1;34m(name, python_func, args, kwargs, signature, func_graph, autograph, autograph_options, add_control_dependencies, arg_names, op_return_value, collections, capture_by_value, override_flat_arg_shapes, acd_record_initial_resource_uses)\u001b[0m\n\u001b[0;32m   1182\u001b[0m         if x is not None)\n\u001b[0;32m   1183\u001b[0m \u001b[1;33m\u001b[0m\u001b[0m\n\u001b[1;32m-> 1184\u001b[1;33m     \u001b[0mfunc_graph\u001b[0m\u001b[1;33m.\u001b[0m\u001b[0mvariables\u001b[0m \u001b[1;33m=\u001b[0m \u001b[0mvariables\u001b[0m\u001b[1;33m\u001b[0m\u001b[1;33m\u001b[0m\u001b[0m\n\u001b[0m\u001b[0;32m   1185\u001b[0m \u001b[1;33m\u001b[0m\u001b[0m\n\u001b[0;32m   1186\u001b[0m   \u001b[1;32mif\u001b[0m \u001b[0madd_control_dependencies\u001b[0m\u001b[1;33m:\u001b[0m\u001b[1;33m\u001b[0m\u001b[1;33m\u001b[0m\u001b[0m\n",
      "\u001b[1;32m~\\Anaconda3\\lib\\site-packages\\tensorflow\\python\\framework\\auto_control_deps.py\u001b[0m in \u001b[0;36m__exit__\u001b[1;34m(self, unused_type, unused_value, unused_traceback)\u001b[0m\n\u001b[0;32m    537\u001b[0m           \u001b[1;31m# function outputs.\u001b[0m\u001b[1;33m\u001b[0m\u001b[1;33m\u001b[0m\u001b[1;33m\u001b[0m\u001b[0m\n\u001b[0;32m    538\u001b[0m           \u001b[1;32mif\u001b[0m \u001b[0midx\u001b[0m \u001b[1;33m==\u001b[0m \u001b[1;36m0\u001b[0m\u001b[1;33m:\u001b[0m\u001b[1;33m\u001b[0m\u001b[1;33m\u001b[0m\u001b[0m\n\u001b[1;32m--> 539\u001b[1;33m             \u001b[0mcontrol_output_op\u001b[0m \u001b[1;33m=\u001b[0m \u001b[0mcontrol_flow_ops\u001b[0m\u001b[1;33m.\u001b[0m\u001b[0mno_op\u001b[0m\u001b[1;33m(\u001b[0m\u001b[1;33m)\u001b[0m\u001b[1;33m\u001b[0m\u001b[1;33m\u001b[0m\u001b[0m\n\u001b[0m\u001b[0;32m    540\u001b[0m             control_output_op._set_attr(\"_acd_function_control_output\",\n\u001b[0;32m    541\u001b[0m                                         attr_value_pb2.AttrValue(b=True))\n",
      "\u001b[1;32m~\\Anaconda3\\lib\\site-packages\\tensorflow\\python\\ops\\gen_control_flow_ops.py\u001b[0m in \u001b[0;36mno_op\u001b[1;34m(name)\u001b[0m\n\u001b[0;32m    508\u001b[0m   \u001b[1;32mtry\u001b[0m\u001b[1;33m:\u001b[0m\u001b[1;33m\u001b[0m\u001b[1;33m\u001b[0m\u001b[0m\n\u001b[0;32m    509\u001b[0m     _, _, _op, _outputs = _op_def_library._apply_op_helper(\n\u001b[1;32m--> 510\u001b[1;33m         \"NoOp\", name=name)\n\u001b[0m\u001b[0;32m    511\u001b[0m   \u001b[1;32mexcept\u001b[0m \u001b[1;33m(\u001b[0m\u001b[0mTypeError\u001b[0m\u001b[1;33m,\u001b[0m \u001b[0mValueError\u001b[0m\u001b[1;33m)\u001b[0m\u001b[1;33m:\u001b[0m\u001b[1;33m\u001b[0m\u001b[1;33m\u001b[0m\u001b[0m\n\u001b[0;32m    512\u001b[0m     _result = _dispatch.dispatch(\n",
      "\u001b[1;32m~\\Anaconda3\\lib\\site-packages\\tensorflow\\python\\framework\\op_def_library.py\u001b[0m in \u001b[0;36m_apply_op_helper\u001b[1;34m(op_type_name, name, **keywords)\u001b[0m\n\u001b[0;32m    744\u001b[0m       op = g._create_op_internal(op_type_name, inputs, dtypes=None,\n\u001b[0;32m    745\u001b[0m                                  \u001b[0mname\u001b[0m\u001b[1;33m=\u001b[0m\u001b[0mscope\u001b[0m\u001b[1;33m,\u001b[0m \u001b[0minput_types\u001b[0m\u001b[1;33m=\u001b[0m\u001b[0minput_types\u001b[0m\u001b[1;33m,\u001b[0m\u001b[1;33m\u001b[0m\u001b[1;33m\u001b[0m\u001b[0m\n\u001b[1;32m--> 746\u001b[1;33m                                  attrs=attr_protos, op_def=op_def)\n\u001b[0m\u001b[0;32m    747\u001b[0m \u001b[1;33m\u001b[0m\u001b[0m\n\u001b[0;32m    748\u001b[0m     \u001b[1;31m# `outputs` is returned as a separate return value so that the output\u001b[0m\u001b[1;33m\u001b[0m\u001b[1;33m\u001b[0m\u001b[1;33m\u001b[0m\u001b[0m\n",
      "\u001b[1;32m~\\Anaconda3\\lib\\site-packages\\tensorflow\\python\\framework\\func_graph.py\u001b[0m in \u001b[0;36m_create_op_internal\u001b[1;34m(self, op_type, inputs, dtypes, input_types, name, attrs, op_def, compute_device)\u001b[0m\n\u001b[0;32m    689\u001b[0m     return super(FuncGraph, self)._create_op_internal(  # pylint: disable=protected-access\n\u001b[0;32m    690\u001b[0m         \u001b[0mop_type\u001b[0m\u001b[1;33m,\u001b[0m \u001b[0mcaptured_inputs\u001b[0m\u001b[1;33m,\u001b[0m \u001b[0mdtypes\u001b[0m\u001b[1;33m,\u001b[0m \u001b[0minput_types\u001b[0m\u001b[1;33m,\u001b[0m \u001b[0mname\u001b[0m\u001b[1;33m,\u001b[0m \u001b[0mattrs\u001b[0m\u001b[1;33m,\u001b[0m \u001b[0mop_def\u001b[0m\u001b[1;33m,\u001b[0m\u001b[1;33m\u001b[0m\u001b[1;33m\u001b[0m\u001b[0m\n\u001b[1;32m--> 691\u001b[1;33m         compute_device)\n\u001b[0m\u001b[0;32m    692\u001b[0m \u001b[1;33m\u001b[0m\u001b[0m\n\u001b[0;32m    693\u001b[0m   \u001b[1;32mdef\u001b[0m \u001b[0mcapture\u001b[0m\u001b[1;33m(\u001b[0m\u001b[0mself\u001b[0m\u001b[1;33m,\u001b[0m \u001b[0mtensor\u001b[0m\u001b[1;33m,\u001b[0m \u001b[0mname\u001b[0m\u001b[1;33m=\u001b[0m\u001b[1;32mNone\u001b[0m\u001b[1;33m,\u001b[0m \u001b[0mshape\u001b[0m\u001b[1;33m=\u001b[0m\u001b[1;32mNone\u001b[0m\u001b[1;33m)\u001b[0m\u001b[1;33m:\u001b[0m\u001b[1;33m\u001b[0m\u001b[1;33m\u001b[0m\u001b[0m\n",
      "\u001b[1;32m~\\Anaconda3\\lib\\site-packages\\tensorflow\\python\\framework\\ops.py\u001b[0m in \u001b[0;36m_create_op_internal\u001b[1;34m(self, op_type, inputs, dtypes, input_types, name, attrs, op_def, compute_device)\u001b[0m\n\u001b[0;32m   3703\u001b[0m           \u001b[0minput_types\u001b[0m\u001b[1;33m=\u001b[0m\u001b[0minput_types\u001b[0m\u001b[1;33m,\u001b[0m\u001b[1;33m\u001b[0m\u001b[1;33m\u001b[0m\u001b[0m\n\u001b[0;32m   3704\u001b[0m           \u001b[0moriginal_op\u001b[0m\u001b[1;33m=\u001b[0m\u001b[0mself\u001b[0m\u001b[1;33m.\u001b[0m\u001b[0m_default_original_op\u001b[0m\u001b[1;33m,\u001b[0m\u001b[1;33m\u001b[0m\u001b[1;33m\u001b[0m\u001b[0m\n\u001b[1;32m-> 3705\u001b[1;33m           op_def=op_def)\n\u001b[0m\u001b[0;32m   3706\u001b[0m       \u001b[0mself\u001b[0m\u001b[1;33m.\u001b[0m\u001b[0m_create_op_helper\u001b[0m\u001b[1;33m(\u001b[0m\u001b[0mret\u001b[0m\u001b[1;33m,\u001b[0m \u001b[0mcompute_device\u001b[0m\u001b[1;33m=\u001b[0m\u001b[0mcompute_device\u001b[0m\u001b[1;33m)\u001b[0m\u001b[1;33m\u001b[0m\u001b[1;33m\u001b[0m\u001b[0m\n\u001b[0;32m   3707\u001b[0m     \u001b[1;32mreturn\u001b[0m \u001b[0mret\u001b[0m\u001b[1;33m\u001b[0m\u001b[1;33m\u001b[0m\u001b[0m\n",
      "\u001b[1;32m~\\Anaconda3\\lib\\site-packages\\tensorflow\\python\\framework\\ops.py\u001b[0m in \u001b[0;36m__init__\u001b[1;34m(self, node_def, g, inputs, output_types, control_inputs, input_types, original_op, op_def)\u001b[0m\n\u001b[0;32m   2096\u001b[0m         \u001b[0mop_def\u001b[0m \u001b[1;33m=\u001b[0m \u001b[0mself\u001b[0m\u001b[1;33m.\u001b[0m\u001b[0m_graph\u001b[0m\u001b[1;33m.\u001b[0m\u001b[0m_get_op_def\u001b[0m\u001b[1;33m(\u001b[0m\u001b[0mnode_def\u001b[0m\u001b[1;33m.\u001b[0m\u001b[0mop\u001b[0m\u001b[1;33m)\u001b[0m\u001b[1;33m\u001b[0m\u001b[1;33m\u001b[0m\u001b[0m\n\u001b[0;32m   2097\u001b[0m       self._c_op = _create_c_op(self._graph, node_def, inputs,\n\u001b[1;32m-> 2098\u001b[1;33m                                 control_input_ops, op_def)\n\u001b[0m\u001b[0;32m   2099\u001b[0m       \u001b[0mname\u001b[0m \u001b[1;33m=\u001b[0m \u001b[0mcompat\u001b[0m\u001b[1;33m.\u001b[0m\u001b[0mas_str\u001b[0m\u001b[1;33m(\u001b[0m\u001b[0mnode_def\u001b[0m\u001b[1;33m.\u001b[0m\u001b[0mname\u001b[0m\u001b[1;33m)\u001b[0m\u001b[1;33m\u001b[0m\u001b[1;33m\u001b[0m\u001b[0m\n\u001b[0;32m   2100\u001b[0m \u001b[1;33m\u001b[0m\u001b[0m\n",
      "\u001b[1;32m~\\Anaconda3\\lib\\site-packages\\tensorflow\\python\\util\\traceback_utils.py\u001b[0m in \u001b[0;36merror_handler\u001b[1;34m(*args, **kwargs)\u001b[0m\n\u001b[0;32m    148\u001b[0m     \u001b[0mfiltered_tb\u001b[0m \u001b[1;33m=\u001b[0m \u001b[1;32mNone\u001b[0m\u001b[1;33m\u001b[0m\u001b[1;33m\u001b[0m\u001b[0m\n\u001b[0;32m    149\u001b[0m     \u001b[1;32mtry\u001b[0m\u001b[1;33m:\u001b[0m\u001b[1;33m\u001b[0m\u001b[1;33m\u001b[0m\u001b[0m\n\u001b[1;32m--> 150\u001b[1;33m       \u001b[1;32mreturn\u001b[0m \u001b[0mfn\u001b[0m\u001b[1;33m(\u001b[0m\u001b[1;33m*\u001b[0m\u001b[0margs\u001b[0m\u001b[1;33m,\u001b[0m \u001b[1;33m**\u001b[0m\u001b[0mkwargs\u001b[0m\u001b[1;33m)\u001b[0m\u001b[1;33m\u001b[0m\u001b[1;33m\u001b[0m\u001b[0m\n\u001b[0m\u001b[0;32m    151\u001b[0m     \u001b[1;32mexcept\u001b[0m \u001b[0mException\u001b[0m \u001b[1;32mas\u001b[0m \u001b[0me\u001b[0m\u001b[1;33m:\u001b[0m\u001b[1;33m\u001b[0m\u001b[1;33m\u001b[0m\u001b[0m\n\u001b[0;32m    152\u001b[0m       \u001b[0mfiltered_tb\u001b[0m \u001b[1;33m=\u001b[0m \u001b[0m_process_traceback_frames\u001b[0m\u001b[1;33m(\u001b[0m\u001b[0me\u001b[0m\u001b[1;33m.\u001b[0m\u001b[0m__traceback__\u001b[0m\u001b[1;33m)\u001b[0m\u001b[1;33m\u001b[0m\u001b[1;33m\u001b[0m\u001b[0m\n",
      "\u001b[1;32m~\\Anaconda3\\lib\\site-packages\\tensorflow\\python\\framework\\ops.py\u001b[0m in \u001b[0;36m_create_c_op\u001b[1;34m(graph, node_def, inputs, control_inputs, op_def)\u001b[0m\n\u001b[0;32m   1934\u001b[0m \u001b[1;33m\u001b[0m\u001b[0m\n\u001b[0;32m   1935\u001b[0m   \u001b[1;32mtry\u001b[0m\u001b[1;33m:\u001b[0m\u001b[1;33m\u001b[0m\u001b[1;33m\u001b[0m\u001b[0m\n\u001b[1;32m-> 1936\u001b[1;33m     \u001b[0mc_op\u001b[0m \u001b[1;33m=\u001b[0m \u001b[0mpywrap_tf_session\u001b[0m\u001b[1;33m.\u001b[0m\u001b[0mTF_FinishOperation\u001b[0m\u001b[1;33m(\u001b[0m\u001b[0mop_desc\u001b[0m\u001b[1;33m)\u001b[0m\u001b[1;33m\u001b[0m\u001b[1;33m\u001b[0m\u001b[0m\n\u001b[0m\u001b[0;32m   1937\u001b[0m   \u001b[1;32mexcept\u001b[0m \u001b[0merrors\u001b[0m\u001b[1;33m.\u001b[0m\u001b[0mInvalidArgumentError\u001b[0m \u001b[1;32mas\u001b[0m \u001b[0me\u001b[0m\u001b[1;33m:\u001b[0m\u001b[1;33m\u001b[0m\u001b[1;33m\u001b[0m\u001b[0m\n\u001b[0;32m   1938\u001b[0m     \u001b[1;31m# Convert to ValueError for backwards compatibility.\u001b[0m\u001b[1;33m\u001b[0m\u001b[1;33m\u001b[0m\u001b[1;33m\u001b[0m\u001b[0m\n",
      "\u001b[1;31mKeyboardInterrupt\u001b[0m: "
     ]
    }
   ],
   "source": [
    "p1grav, p2grav = makedynamic(10, 11, 0.5, movingalpha = True, gmove=True, aggover=5)"
   ]
  },
  {
   "cell_type": "code",
   "execution_count": 11,
   "metadata": {
    "scrolled": false
   },
   "outputs": [
    {
     "name": "stdout",
     "output_type": "stream",
     "text": [
      "-------------\n",
      "|   |   |   | \n",
      "-------------\n",
      "|   |   |   | \n",
      "-------------\n",
      "|   | x |   | \n",
      "-------------\n",
      "Input your action row:1\n",
      "Input your action col:1\n",
      "-------------\n",
      "|   |   |   | \n",
      "-------------\n",
      "|   | o |   | \n",
      "-------------\n",
      "|   | x |   | \n",
      "-------------\n",
      "-------------\n",
      "|   |   |   | \n",
      "-------------\n",
      "|   | o |   | \n",
      "-------------\n",
      "| x | x |   | \n",
      "-------------\n",
      "Input your action row:2\n",
      "Input your action col:2\n",
      "-------------\n",
      "|   |   |   | \n",
      "-------------\n",
      "|   | o |   | \n",
      "-------------\n",
      "| x | x | o | \n",
      "-------------\n",
      "-------------\n",
      "|   |   |   | \n",
      "-------------\n",
      "| x | o |   | \n",
      "-------------\n",
      "| x | x | o | \n",
      "-------------\n",
      "Input your action row:0\n",
      "Input your action col:0\n",
      "-------------\n",
      "| o |   |   | \n",
      "-------------\n",
      "| x | o |   | \n",
      "-------------\n",
      "| x | x | o | \n",
      "-------------\n",
      "human wins!\n"
     ]
    },
    {
     "data": {
      "text/plain": [
       "-1"
      ]
     },
     "execution_count": 11,
     "metadata": {},
     "output_type": "execute_result"
    }
   ],
   "source": [
    "'''\n",
    "First test of gravity restriction\n",
    "'''\n",
    "# p1 = player(\"computer\", explore_rate=0)\n",
    "human2 = HumanPlayer(\"human\")\n",
    "# p1.loadPolicy(\"policy_p1\")\n",
    "game = tictactoe(p1grav, human2, gravitymove=True)\n",
    "game.playhuman()"
   ]
  },
  {
   "cell_type": "code",
   "execution_count": null,
   "metadata": {},
   "outputs": [],
   "source": [
    "'''\n",
    "Testing dynamic explore rate with gravity restricted training\n",
    "'''"
   ]
  },
  {
   "cell_type": "code",
   "execution_count": 12,
   "metadata": {
    "scrolled": false
   },
   "outputs": [
    {
     "name": "stdout",
     "output_type": "stream",
     "text": [
      "0.05\n",
      "training for explore rate 0.4\n"
     ]
    },
    {
     "name": "stderr",
     "output_type": "stream",
     "text": [
      "100%|█████████████████████████████████████████████████████████████████████████████| 5000/5000 [00:12<00:00, 386.69it/s]\n"
     ]
    },
    {
     "name": "stdout",
     "output_type": "stream",
     "text": [
      "training for explore rate 0.35\n"
     ]
    },
    {
     "name": "stderr",
     "output_type": "stream",
     "text": [
      "100%|█████████████████████████████████████████████████████████████████████████████| 5000/5000 [00:13<00:00, 364.23it/s]\n"
     ]
    },
    {
     "name": "stdout",
     "output_type": "stream",
     "text": [
      "training for explore rate 0.3\n"
     ]
    },
    {
     "name": "stderr",
     "output_type": "stream",
     "text": [
      "100%|█████████████████████████████████████████████████████████████████████████████| 5000/5000 [00:15<00:00, 324.29it/s]\n"
     ]
    },
    {
     "name": "stdout",
     "output_type": "stream",
     "text": [
      "training for explore rate 0.25\n"
     ]
    },
    {
     "name": "stderr",
     "output_type": "stream",
     "text": [
      "100%|█████████████████████████████████████████████████████████████████████████████| 5000/5000 [00:16<00:00, 294.93it/s]\n"
     ]
    },
    {
     "name": "stdout",
     "output_type": "stream",
     "text": [
      "training for explore rate 0.2\n"
     ]
    },
    {
     "name": "stderr",
     "output_type": "stream",
     "text": [
      "100%|█████████████████████████████████████████████████████████████████████████████| 5000/5000 [00:19<00:00, 258.56it/s]\n"
     ]
    },
    {
     "name": "stdout",
     "output_type": "stream",
     "text": [
      "training for explore rate 0.15\n"
     ]
    },
    {
     "name": "stderr",
     "output_type": "stream",
     "text": [
      "100%|█████████████████████████████████████████████████████████████████████████████| 5000/5000 [00:22<00:00, 224.22it/s]\n"
     ]
    },
    {
     "name": "stdout",
     "output_type": "stream",
     "text": [
      "training for explore rate 0.1\n"
     ]
    },
    {
     "name": "stderr",
     "output_type": "stream",
     "text": [
      "100%|█████████████████████████████████████████████████████████████████████████████| 5000/5000 [00:27<00:00, 181.48it/s]\n"
     ]
    },
    {
     "name": "stdout",
     "output_type": "stream",
     "text": [
      "training for explore rate 0.05\n"
     ]
    },
    {
     "name": "stderr",
     "output_type": "stream",
     "text": [
      "100%|█████████████████████████████████████████████████████████████████████████████| 5000/5000 [00:24<00:00, 206.07it/s]\n"
     ]
    },
    {
     "name": "stdout",
     "output_type": "stream",
     "text": [
      "training for explore rate 0.0\n"
     ]
    },
    {
     "name": "stderr",
     "output_type": "stream",
     "text": [
      "100%|█████████████████████████████████████████████████████████████████████████████| 5000/5000 [00:24<00:00, 200.31it/s]\n"
     ]
    },
    {
     "data": {
      "image/png": "[encoded data removed]",
      "text/plain": [
       "<Figure size 432x288 with 1 Axes>"
      ]
     },
     "metadata": {
      "needs_background": "light"
     },
     "output_type": "display_data"
    }
   ],
   "source": [
    "p1grav, p2grav = makedynamic(5000, 9, 0.4, gmove=True)"
   ]
  },
  {
   "cell_type": "code",
   "execution_count": 15,
   "metadata": {},
   "outputs": [
    {
     "name": "stdout",
     "output_type": "stream",
     "text": [
      "-------------\n",
      "|   |   |   | \n",
      "-------------\n",
      "|   |   |   | \n",
      "-------------\n",
      "|   | x |   | \n",
      "-------------\n",
      "Input your action row:1\n",
      "Input your action col:1\n",
      "-------------\n",
      "|   |   |   | \n",
      "-------------\n",
      "|   | o |   | \n",
      "-------------\n",
      "|   | x |   | \n",
      "-------------\n",
      "-------------\n",
      "|   |   |   | \n",
      "-------------\n",
      "|   | o |   | \n",
      "-------------\n",
      "| x | x |   | \n",
      "-------------\n",
      "Input your action row:1\n",
      "Input your action col:0\n",
      "-------------\n",
      "|   |   |   | \n",
      "-------------\n",
      "| o | o |   | \n",
      "-------------\n",
      "| x | x |   | \n",
      "-------------\n",
      "-------------\n",
      "|   |   |   | \n",
      "-------------\n",
      "| o | o |   | \n",
      "-------------\n",
      "| x | x | x | \n",
      "-------------\n",
      "dynamic1 wins!\n"
     ]
    },
    {
     "data": {
      "text/plain": [
       "1"
      ]
     },
     "execution_count": 15,
     "metadata": {},
     "output_type": "execute_result"
    }
   ],
   "source": [
    "# p1 = player(\"computer\", explore_rate=0)\n",
    "human2 = HumanPlayer(\"human\")\n",
    "# p1.loadPolicy(\"policy_p1\")\n",
    "game = tictactoe(p1, human2, gravitymove=True)\n",
    "game.playhuman()"
   ]
  },
  {
   "cell_type": "code",
   "execution_count": 17,
   "metadata": {
    "scrolled": false
   },
   "outputs": [
    {
     "name": "stdout",
     "output_type": "stream",
     "text": [
      "0.1\n",
      "training for explore rate 0.4\n"
     ]
    },
    {
     "name": "stderr",
     "output_type": "stream",
     "text": [
      "100%|█████████████████████████████████████████████████████████████████████████████| 8000/8000 [00:21<00:00, 371.85it/s]\n"
     ]
    },
    {
     "name": "stdout",
     "output_type": "stream",
     "text": [
      "training for explore rate 0.3\n"
     ]
    },
    {
     "name": "stderr",
     "output_type": "stream",
     "text": [
      "100%|█████████████████████████████████████████████████████████████████████████████| 8000/8000 [00:22<00:00, 353.55it/s]\n"
     ]
    },
    {
     "name": "stdout",
     "output_type": "stream",
     "text": [
      "training for explore rate 0.2\n"
     ]
    },
    {
     "name": "stderr",
     "output_type": "stream",
     "text": [
      "100%|█████████████████████████████████████████████████████████████████████████████| 8000/8000 [00:25<00:00, 314.61it/s]\n"
     ]
    },
    {
     "name": "stdout",
     "output_type": "stream",
     "text": [
      "training for explore rate 0.1\n"
     ]
    },
    {
     "name": "stderr",
     "output_type": "stream",
     "text": [
      "100%|█████████████████████████████████████████████████████████████████████████████| 8000/8000 [00:31<00:00, 253.39it/s]\n"
     ]
    },
    {
     "name": "stdout",
     "output_type": "stream",
     "text": [
      "training for explore rate 0.0\n"
     ]
    },
    {
     "name": "stderr",
     "output_type": "stream",
     "text": [
      "100%|█████████████████████████████████████████████████████████████████████████████| 8000/8000 [00:36<00:00, 217.93it/s]\n"
     ]
    },
    {
     "data": {
      "image/png": "[encoded data removed]",
      "text/plain": [
       "<Figure size 432x288 with 1 Axes>"
      ]
     },
     "metadata": {
      "needs_background": "light"
     },
     "output_type": "display_data"
    }
   ],
   "source": [
    "p1grav, p2grav = makedynamic(8000, 5, 0.4, gmove=True)"
   ]
  },
  {
   "cell_type": "code",
   "execution_count": 39,
   "metadata": {},
   "outputs": [
    {
     "name": "stdout",
     "output_type": "stream",
     "text": [
      "0.05\n",
      "training for explore rate 0.4\n"
     ]
    },
    {
     "name": "stderr",
     "output_type": "stream",
     "text": [
      "100%|█████████████████████████████████████████████████████████████████████████████| 4000/4000 [00:10<00:00, 378.41it/s]\n"
     ]
    },
    {
     "name": "stdout",
     "output_type": "stream",
     "text": [
      "training for explore rate 0.35\n"
     ]
    },
    {
     "name": "stderr",
     "output_type": "stream",
     "text": [
      "100%|█████████████████████████████████████████████████████████████████████████████| 4000/4000 [00:11<00:00, 341.50it/s]\n"
     ]
    },
    {
     "name": "stdout",
     "output_type": "stream",
     "text": [
      "training for explore rate 0.3\n"
     ]
    },
    {
     "name": "stderr",
     "output_type": "stream",
     "text": [
      "100%|█████████████████████████████████████████████████████████████████████████████| 4000/4000 [00:14<00:00, 283.20it/s]\n"
     ]
    },
    {
     "name": "stdout",
     "output_type": "stream",
     "text": [
      "training for explore rate 0.25\n"
     ]
    },
    {
     "name": "stderr",
     "output_type": "stream",
     "text": [
      "100%|█████████████████████████████████████████████████████████████████████████████| 4000/4000 [00:14<00:00, 273.49it/s]\n"
     ]
    },
    {
     "name": "stdout",
     "output_type": "stream",
     "text": [
      "training for explore rate 0.2\n"
     ]
    },
    {
     "name": "stderr",
     "output_type": "stream",
     "text": [
      "100%|█████████████████████████████████████████████████████████████████████████████| 4000/4000 [00:15<00:00, 261.92it/s]\n"
     ]
    },
    {
     "name": "stdout",
     "output_type": "stream",
     "text": [
      "training for explore rate 0.15\n"
     ]
    },
    {
     "name": "stderr",
     "output_type": "stream",
     "text": [
      "100%|█████████████████████████████████████████████████████████████████████████████| 4000/4000 [00:16<00:00, 248.94it/s]\n"
     ]
    },
    {
     "name": "stdout",
     "output_type": "stream",
     "text": [
      "training for explore rate 0.1\n"
     ]
    },
    {
     "name": "stderr",
     "output_type": "stream",
     "text": [
      "100%|█████████████████████████████████████████████████████████████████████████████| 4000/4000 [00:15<00:00, 251.08it/s]\n"
     ]
    },
    {
     "name": "stdout",
     "output_type": "stream",
     "text": [
      "training for explore rate 0.05\n"
     ]
    },
    {
     "name": "stderr",
     "output_type": "stream",
     "text": [
      "100%|█████████████████████████████████████████████████████████████████████████████| 4000/4000 [00:17<00:00, 227.55it/s]\n"
     ]
    },
    {
     "name": "stdout",
     "output_type": "stream",
     "text": [
      "training for explore rate 0.0\n"
     ]
    },
    {
     "name": "stderr",
     "output_type": "stream",
     "text": [
      "100%|█████████████████████████████████████████████████████████████████████████████| 4000/4000 [00:17<00:00, 224.34it/s]\n"
     ]
    },
    {
     "data": {
      "image/png": "[encoded data removed]",
      "text/plain": [
       "<Figure size 432x288 with 1 Axes>"
      ]
     },
     "metadata": {
      "needs_background": "light"
     },
     "output_type": "display_data"
    }
   ],
   "source": [
    "p1grav, p2grav = makedynamic(4000, 9, 0.4, gmove=True)"
   ]
  },
  {
   "cell_type": "code",
   "execution_count": 43,
   "metadata": {},
   "outputs": [
    {
     "name": "stdout",
     "output_type": "stream",
     "text": [
      "-------------\n",
      "|   |   |   | \n",
      "-------------\n",
      "|   |   |   | \n",
      "-------------\n",
      "|   | x |   | \n",
      "-------------\n",
      "Input your action row:2\n",
      "Input your action col:0\n",
      "-------------\n",
      "|   |   |   | \n",
      "-------------\n",
      "|   |   |   | \n",
      "-------------\n",
      "| o | x |   | \n",
      "-------------\n",
      "-------------\n",
      "|   |   |   | \n",
      "-------------\n",
      "|   | x |   | \n",
      "-------------\n",
      "| o | x |   | \n",
      "-------------\n",
      "Input your action row:0\n",
      "Input your action col:1\n",
      "-------------\n",
      "|   | o |   | \n",
      "-------------\n",
      "|   | x |   | \n",
      "-------------\n",
      "| o | x |   | \n",
      "-------------\n",
      "-------------\n",
      "|   | o |   | \n",
      "-------------\n",
      "| x | x |   | \n",
      "-------------\n",
      "| o | x |   | \n",
      "-------------\n",
      "Input your action row:2\n",
      "Input your action col:2\n",
      "-------------\n",
      "|   | o |   | \n",
      "-------------\n",
      "| x | x |   | \n",
      "-------------\n",
      "| o | x | o | \n",
      "-------------\n",
      "-------------\n",
      "|   | o |   | \n",
      "-------------\n",
      "| x | x | x | \n",
      "-------------\n",
      "| o | x | o | \n",
      "-------------\n",
      "dynamic1 wins!\n"
     ]
    },
    {
     "data": {
      "text/plain": [
       "1"
      ]
     },
     "execution_count": 43,
     "metadata": {},
     "output_type": "execute_result"
    }
   ],
   "source": [
    "# p1 = player(\"computer\", explore_rate=0)\n",
    "human = HumanPlayer(\"human\")\n",
    "# p1.loadPolicy(\"policy_p1\")\n",
    "game = tictactoe(p1, human, gravitymove=True)\n",
    "game.playhuman()"
   ]
  },
  {
   "cell_type": "code",
   "execution_count": 44,
   "metadata": {},
   "outputs": [
    {
     "name": "stdout",
     "output_type": "stream",
     "text": [
      "0.05\n",
      "training for explore rate 0.4\n"
     ]
    },
    {
     "name": "stderr",
     "output_type": "stream",
     "text": [
      "100%|█████████████████████████████████████████████████████████████████████████████| 3000/3000 [00:07<00:00, 385.64it/s]\n"
     ]
    },
    {
     "name": "stdout",
     "output_type": "stream",
     "text": [
      "training for explore rate 0.35\n"
     ]
    },
    {
     "name": "stderr",
     "output_type": "stream",
     "text": [
      "100%|█████████████████████████████████████████████████████████████████████████████| 3000/3000 [00:07<00:00, 383.11it/s]\n"
     ]
    },
    {
     "name": "stdout",
     "output_type": "stream",
     "text": [
      "training for explore rate 0.3\n"
     ]
    },
    {
     "name": "stderr",
     "output_type": "stream",
     "text": [
      "100%|█████████████████████████████████████████████████████████████████████████████| 3000/3000 [00:08<00:00, 355.02it/s]\n"
     ]
    },
    {
     "name": "stdout",
     "output_type": "stream",
     "text": [
      "training for explore rate 0.25\n"
     ]
    },
    {
     "name": "stderr",
     "output_type": "stream",
     "text": [
      "100%|█████████████████████████████████████████████████████████████████████████████| 3000/3000 [00:09<00:00, 329.93it/s]\n"
     ]
    },
    {
     "name": "stdout",
     "output_type": "stream",
     "text": [
      "training for explore rate 0.2\n"
     ]
    },
    {
     "name": "stderr",
     "output_type": "stream",
     "text": [
      "  6%|████▌                                                                         | 177/3000 [00:00<00:10, 279.83it/s]\n"
     ]
    },
    {
     "ename": "KeyboardInterrupt",
     "evalue": "",
     "output_type": "error",
     "traceback": [
      "\u001b[1;31m---------------------------------------------------------------------------\u001b[0m",
      "\u001b[1;31mKeyboardInterrupt\u001b[0m                         Traceback (most recent call last)",
      "\u001b[1;32m<ipython-input-44-e1469b860b2b>\u001b[0m in \u001b[0;36m<module>\u001b[1;34m\u001b[0m\n\u001b[1;32m----> 1\u001b[1;33m \u001b[0mp1grav\u001b[0m\u001b[1;33m,\u001b[0m \u001b[0mp2grav\u001b[0m \u001b[1;33m=\u001b[0m \u001b[0mmakedynamic\u001b[0m\u001b[1;33m(\u001b[0m\u001b[1;36m3000\u001b[0m\u001b[1;33m,\u001b[0m \u001b[1;36m9\u001b[0m\u001b[1;33m,\u001b[0m \u001b[1;36m0.4\u001b[0m\u001b[1;33m,\u001b[0m \u001b[0mgmove\u001b[0m\u001b[1;33m=\u001b[0m\u001b[1;32mTrue\u001b[0m\u001b[1;33m)\u001b[0m\u001b[1;33m\u001b[0m\u001b[1;33m\u001b[0m\u001b[0m\n\u001b[0m",
      "\u001b[1;32m<ipython-input-10-d8b09a8c0e66>\u001b[0m in \u001b[0;36mmakedynamic\u001b[1;34m(numrounds, numexplores, expstart, p1dynamic, p2dynamic, gmove, stratnames)\u001b[0m\n\u001b[0;32m     18\u001b[0m         \u001b[0mst\u001b[0m \u001b[1;33m=\u001b[0m \u001b[0mtictactoe\u001b[0m\u001b[1;33m(\u001b[0m\u001b[0mp1dynamic\u001b[0m\u001b[1;33m,\u001b[0m \u001b[0mp2dynamic\u001b[0m\u001b[1;33m,\u001b[0m \u001b[0mgravitymove\u001b[0m\u001b[1;33m=\u001b[0m\u001b[0mgmove\u001b[0m\u001b[1;33m)\u001b[0m\u001b[1;33m\u001b[0m\u001b[1;33m\u001b[0m\u001b[0m\n\u001b[0;32m     19\u001b[0m         \u001b[0mprint\u001b[0m\u001b[1;33m(\u001b[0m\u001b[1;34mf\"training for explore rate {exprate}\"\u001b[0m\u001b[1;33m)\u001b[0m\u001b[1;33m\u001b[0m\u001b[1;33m\u001b[0m\u001b[0m\n\u001b[1;32m---> 20\u001b[1;33m         \u001b[0mwinsdynamic\u001b[0m\u001b[1;33m.\u001b[0m\u001b[0mextend\u001b[0m\u001b[1;33m(\u001b[0m\u001b[0mst\u001b[0m\u001b[1;33m.\u001b[0m\u001b[0mplay\u001b[0m\u001b[1;33m(\u001b[0m\u001b[0mnumrounds\u001b[0m\u001b[1;33m)\u001b[0m\u001b[1;33m)\u001b[0m\u001b[1;33m\u001b[0m\u001b[1;33m\u001b[0m\u001b[0m\n\u001b[0m\u001b[0;32m     21\u001b[0m \u001b[1;33m\u001b[0m\u001b[0m\n\u001b[0;32m     22\u001b[0m         \u001b[0mp1dynamic\u001b[0m\u001b[1;33m.\u001b[0m\u001b[0msavePolicy\u001b[0m\u001b[1;33m(\u001b[0m\u001b[1;33m)\u001b[0m\u001b[1;33m\u001b[0m\u001b[1;33m\u001b[0m\u001b[0m\n",
      "\u001b[1;32m<ipython-input-2-78ace852d084>\u001b[0m in \u001b[0;36mplay\u001b[1;34m(self, trainingrounds)\u001b[0m\n\u001b[0;32m    114\u001b[0m             \u001b[1;32mwhile\u001b[0m \u001b[1;32mnot\u001b[0m \u001b[0mself\u001b[0m\u001b[1;33m.\u001b[0m\u001b[0misEnd\u001b[0m\u001b[1;33m:\u001b[0m\u001b[1;33m\u001b[0m\u001b[1;33m\u001b[0m\u001b[0m\n\u001b[0;32m    115\u001b[0m                 \u001b[0mpositions\u001b[0m \u001b[1;33m=\u001b[0m \u001b[0mself\u001b[0m\u001b[1;33m.\u001b[0m\u001b[0mavailablePositions\u001b[0m\u001b[1;33m(\u001b[0m\u001b[1;33m)\u001b[0m\u001b[1;33m\u001b[0m\u001b[1;33m\u001b[0m\u001b[0m\n\u001b[1;32m--> 116\u001b[1;33m                 \u001b[0mplayer1move\u001b[0m \u001b[1;33m=\u001b[0m \u001b[0mself\u001b[0m\u001b[1;33m.\u001b[0m\u001b[0mplayer1\u001b[0m\u001b[1;33m.\u001b[0m\u001b[0mchooseAction\u001b[0m\u001b[1;33m(\u001b[0m\u001b[0mpositions\u001b[0m\u001b[1;33m,\u001b[0m \u001b[0mself\u001b[0m\u001b[1;33m.\u001b[0m\u001b[0mboard\u001b[0m\u001b[1;33m,\u001b[0m \u001b[0mself\u001b[0m\u001b[1;33m.\u001b[0m\u001b[0mplayerSymbol\u001b[0m\u001b[1;33m)\u001b[0m\u001b[1;33m\u001b[0m\u001b[1;33m\u001b[0m\u001b[0m\n\u001b[0m\u001b[0;32m    117\u001b[0m                 \u001b[0mself\u001b[0m\u001b[1;33m.\u001b[0m\u001b[0mupdateMove\u001b[0m\u001b[1;33m(\u001b[0m\u001b[0mplayer1move\u001b[0m\u001b[1;33m)\u001b[0m\u001b[1;33m\u001b[0m\u001b[1;33m\u001b[0m\u001b[0m\n\u001b[0;32m    118\u001b[0m                 \u001b[0mboardID\u001b[0m \u001b[1;33m=\u001b[0m \u001b[0mself\u001b[0m\u001b[1;33m.\u001b[0m\u001b[0mgetBoardID\u001b[0m\u001b[1;33m(\u001b[0m\u001b[1;33m)\u001b[0m\u001b[1;33m\u001b[0m\u001b[1;33m\u001b[0m\u001b[0m\n",
      "\u001b[1;32m<ipython-input-3-1444a8aa7aaa>\u001b[0m in \u001b[0;36mchooseAction\u001b[1;34m(self, positions, current_board, symbol)\u001b[0m\n\u001b[0;32m     26\u001b[0m                 \u001b[0mnextBoard\u001b[0m \u001b[1;33m=\u001b[0m \u001b[0mcurrent_board\u001b[0m\u001b[1;33m.\u001b[0m\u001b[0mcopy\u001b[0m\u001b[1;33m(\u001b[0m\u001b[1;33m)\u001b[0m\u001b[1;33m\u001b[0m\u001b[1;33m\u001b[0m\u001b[0m\n\u001b[0;32m     27\u001b[0m                 \u001b[0mnextBoard\u001b[0m\u001b[1;33m[\u001b[0m\u001b[0mposition\u001b[0m\u001b[1;33m]\u001b[0m \u001b[1;33m=\u001b[0m \u001b[0msymbol\u001b[0m\u001b[1;33m\u001b[0m\u001b[1;33m\u001b[0m\u001b[0m\n\u001b[1;32m---> 28\u001b[1;33m                 \u001b[0mnextBoardHash\u001b[0m \u001b[1;33m=\u001b[0m \u001b[0mself\u001b[0m\u001b[1;33m.\u001b[0m\u001b[0mgetBoardID\u001b[0m\u001b[1;33m(\u001b[0m\u001b[0mnextBoard\u001b[0m\u001b[1;33m)\u001b[0m\u001b[1;33m\u001b[0m\u001b[1;33m\u001b[0m\u001b[0m\n\u001b[0m\u001b[0;32m     29\u001b[0m                 \u001b[0mvalue\u001b[0m \u001b[1;33m=\u001b[0m \u001b[1;36m0\u001b[0m\u001b[1;33m\u001b[0m\u001b[1;33m\u001b[0m\u001b[0m\n\u001b[0;32m     30\u001b[0m                 \u001b[1;32mif\u001b[0m \u001b[0mself\u001b[0m\u001b[1;33m.\u001b[0m\u001b[0mstates_values\u001b[0m\u001b[1;33m.\u001b[0m\u001b[0mget\u001b[0m\u001b[1;33m(\u001b[0m\u001b[0mnextBoardHash\u001b[0m\u001b[1;33m)\u001b[0m \u001b[1;33m!=\u001b[0m \u001b[1;32mNone\u001b[0m\u001b[1;33m:\u001b[0m\u001b[1;33m\u001b[0m\u001b[1;33m\u001b[0m\u001b[0m\n",
      "\u001b[1;32m<ipython-input-3-1444a8aa7aaa>\u001b[0m in \u001b[0;36mgetBoardID\u001b[1;34m(self, board)\u001b[0m\n\u001b[0;32m     15\u001b[0m \u001b[1;33m\u001b[0m\u001b[0m\n\u001b[0;32m     16\u001b[0m     \u001b[1;32mdef\u001b[0m \u001b[0mgetBoardID\u001b[0m\u001b[1;33m(\u001b[0m\u001b[0mself\u001b[0m\u001b[1;33m,\u001b[0m \u001b[0mboard\u001b[0m\u001b[1;33m)\u001b[0m\u001b[1;33m:\u001b[0m\u001b[1;33m\u001b[0m\u001b[1;33m\u001b[0m\u001b[0m\n\u001b[1;32m---> 17\u001b[1;33m         \u001b[0mboardID\u001b[0m \u001b[1;33m=\u001b[0m \u001b[0mstr\u001b[0m\u001b[1;33m(\u001b[0m\u001b[0mboard\u001b[0m\u001b[1;33m.\u001b[0m\u001b[0mreshape\u001b[0m\u001b[1;33m(\u001b[0m\u001b[0mlen\u001b[0m\u001b[1;33m(\u001b[0m\u001b[0mboard\u001b[0m\u001b[1;33m)\u001b[0m\u001b[1;33m*\u001b[0m\u001b[0mlen\u001b[0m\u001b[1;33m(\u001b[0m\u001b[0mboard\u001b[0m\u001b[1;33m[\u001b[0m\u001b[1;36m0\u001b[0m\u001b[1;33m]\u001b[0m\u001b[1;33m)\u001b[0m\u001b[1;33m)\u001b[0m\u001b[1;33m)\u001b[0m\u001b[1;33m\u001b[0m\u001b[1;33m\u001b[0m\u001b[0m\n\u001b[0m\u001b[0;32m     18\u001b[0m         \u001b[1;32mreturn\u001b[0m \u001b[0mboardID\u001b[0m\u001b[1;33m\u001b[0m\u001b[1;33m\u001b[0m\u001b[0m\n\u001b[0;32m     19\u001b[0m \u001b[1;33m\u001b[0m\u001b[0m\n",
      "\u001b[1;32m~\\Anaconda3\\lib\\site-packages\\numpy\\core\\arrayprint.py\u001b[0m in \u001b[0;36m_array_str_implementation\u001b[1;34m(a, max_line_width, precision, suppress_small, array2string)\u001b[0m\n\u001b[0;32m   1488\u001b[0m         \u001b[1;32mreturn\u001b[0m \u001b[0m_guarded_repr_or_str\u001b[0m\u001b[1;33m(\u001b[0m\u001b[0mnp\u001b[0m\u001b[1;33m.\u001b[0m\u001b[0mndarray\u001b[0m\u001b[1;33m.\u001b[0m\u001b[0m__getitem__\u001b[0m\u001b[1;33m(\u001b[0m\u001b[0ma\u001b[0m\u001b[1;33m,\u001b[0m \u001b[1;33m(\u001b[0m\u001b[1;33m)\u001b[0m\u001b[1;33m)\u001b[0m\u001b[1;33m)\u001b[0m\u001b[1;33m\u001b[0m\u001b[1;33m\u001b[0m\u001b[0m\n\u001b[0;32m   1489\u001b[0m \u001b[1;33m\u001b[0m\u001b[0m\n\u001b[1;32m-> 1490\u001b[1;33m     \u001b[1;32mreturn\u001b[0m \u001b[0marray2string\u001b[0m\u001b[1;33m(\u001b[0m\u001b[0ma\u001b[0m\u001b[1;33m,\u001b[0m \u001b[0mmax_line_width\u001b[0m\u001b[1;33m,\u001b[0m \u001b[0mprecision\u001b[0m\u001b[1;33m,\u001b[0m \u001b[0msuppress_small\u001b[0m\u001b[1;33m,\u001b[0m \u001b[1;34m' '\u001b[0m\u001b[1;33m,\u001b[0m \u001b[1;34m\"\"\u001b[0m\u001b[1;33m)\u001b[0m\u001b[1;33m\u001b[0m\u001b[1;33m\u001b[0m\u001b[0m\n\u001b[0m\u001b[0;32m   1491\u001b[0m \u001b[1;33m\u001b[0m\u001b[0m\n\u001b[0;32m   1492\u001b[0m \u001b[1;33m\u001b[0m\u001b[0m\n",
      "\u001b[1;32m~\\Anaconda3\\lib\\site-packages\\numpy\\core\\arrayprint.py\u001b[0m in \u001b[0;36marray2string\u001b[1;34m(a, max_line_width, precision, suppress_small, separator, prefix, style, formatter, threshold, edgeitems, sign, floatmode, suffix, legacy)\u001b[0m\n\u001b[0;32m    690\u001b[0m         \u001b[1;32mreturn\u001b[0m \u001b[1;34m\"[]\"\u001b[0m\u001b[1;33m\u001b[0m\u001b[1;33m\u001b[0m\u001b[0m\n\u001b[0;32m    691\u001b[0m \u001b[1;33m\u001b[0m\u001b[0m\n\u001b[1;32m--> 692\u001b[1;33m     \u001b[1;32mreturn\u001b[0m \u001b[0m_array2string\u001b[0m\u001b[1;33m(\u001b[0m\u001b[0ma\u001b[0m\u001b[1;33m,\u001b[0m \u001b[0moptions\u001b[0m\u001b[1;33m,\u001b[0m \u001b[0mseparator\u001b[0m\u001b[1;33m,\u001b[0m \u001b[0mprefix\u001b[0m\u001b[1;33m)\u001b[0m\u001b[1;33m\u001b[0m\u001b[1;33m\u001b[0m\u001b[0m\n\u001b[0m\u001b[0;32m    693\u001b[0m \u001b[1;33m\u001b[0m\u001b[0m\n\u001b[0;32m    694\u001b[0m \u001b[1;33m\u001b[0m\u001b[0m\n",
      "\u001b[1;32m~\\Anaconda3\\lib\\site-packages\\numpy\\core\\arrayprint.py\u001b[0m in \u001b[0;36mwrapper\u001b[1;34m(self, *args, **kwargs)\u001b[0m\n\u001b[0;32m    466\u001b[0m             \u001b[0mrepr_running\u001b[0m\u001b[1;33m.\u001b[0m\u001b[0madd\u001b[0m\u001b[1;33m(\u001b[0m\u001b[0mkey\u001b[0m\u001b[1;33m)\u001b[0m\u001b[1;33m\u001b[0m\u001b[1;33m\u001b[0m\u001b[0m\n\u001b[0;32m    467\u001b[0m             \u001b[1;32mtry\u001b[0m\u001b[1;33m:\u001b[0m\u001b[1;33m\u001b[0m\u001b[1;33m\u001b[0m\u001b[0m\n\u001b[1;32m--> 468\u001b[1;33m                 \u001b[1;32mreturn\u001b[0m \u001b[0mf\u001b[0m\u001b[1;33m(\u001b[0m\u001b[0mself\u001b[0m\u001b[1;33m,\u001b[0m \u001b[1;33m*\u001b[0m\u001b[0margs\u001b[0m\u001b[1;33m,\u001b[0m \u001b[1;33m**\u001b[0m\u001b[0mkwargs\u001b[0m\u001b[1;33m)\u001b[0m\u001b[1;33m\u001b[0m\u001b[1;33m\u001b[0m\u001b[0m\n\u001b[0m\u001b[0;32m    469\u001b[0m             \u001b[1;32mfinally\u001b[0m\u001b[1;33m:\u001b[0m\u001b[1;33m\u001b[0m\u001b[1;33m\u001b[0m\u001b[0m\n\u001b[0;32m    470\u001b[0m                 \u001b[0mrepr_running\u001b[0m\u001b[1;33m.\u001b[0m\u001b[0mdiscard\u001b[0m\u001b[1;33m(\u001b[0m\u001b[0mkey\u001b[0m\u001b[1;33m)\u001b[0m\u001b[1;33m\u001b[0m\u001b[1;33m\u001b[0m\u001b[0m\n",
      "\u001b[1;32m~\\Anaconda3\\lib\\site-packages\\numpy\\core\\arrayprint.py\u001b[0m in \u001b[0;36m_array2string\u001b[1;34m(a, options, separator, prefix)\u001b[0m\n\u001b[0;32m    492\u001b[0m \u001b[1;33m\u001b[0m\u001b[0m\n\u001b[0;32m    493\u001b[0m     \u001b[1;31m# find the right formatting function for the array\u001b[0m\u001b[1;33m\u001b[0m\u001b[1;33m\u001b[0m\u001b[1;33m\u001b[0m\u001b[0m\n\u001b[1;32m--> 494\u001b[1;33m     \u001b[0mformat_function\u001b[0m \u001b[1;33m=\u001b[0m \u001b[0m_get_format_function\u001b[0m\u001b[1;33m(\u001b[0m\u001b[0mdata\u001b[0m\u001b[1;33m,\u001b[0m \u001b[1;33m**\u001b[0m\u001b[0moptions\u001b[0m\u001b[1;33m)\u001b[0m\u001b[1;33m\u001b[0m\u001b[1;33m\u001b[0m\u001b[0m\n\u001b[0m\u001b[0;32m    495\u001b[0m \u001b[1;33m\u001b[0m\u001b[0m\n\u001b[0;32m    496\u001b[0m     \u001b[1;31m# skip over \"[\"\u001b[0m\u001b[1;33m\u001b[0m\u001b[1;33m\u001b[0m\u001b[1;33m\u001b[0m\u001b[0m\n",
      "\u001b[1;32m~\\Anaconda3\\lib\\site-packages\\numpy\\core\\arrayprint.py\u001b[0m in \u001b[0;36m_get_format_function\u001b[1;34m(data, **options)\u001b[0m\n\u001b[0;32m    425\u001b[0m             \u001b[1;32mreturn\u001b[0m \u001b[0mformatdict\u001b[0m\u001b[1;33m[\u001b[0m\u001b[1;34m'longfloat'\u001b[0m\u001b[1;33m]\u001b[0m\u001b[1;33m(\u001b[0m\u001b[1;33m)\u001b[0m\u001b[1;33m\u001b[0m\u001b[1;33m\u001b[0m\u001b[0m\n\u001b[0;32m    426\u001b[0m         \u001b[1;32melse\u001b[0m\u001b[1;33m:\u001b[0m\u001b[1;33m\u001b[0m\u001b[1;33m\u001b[0m\u001b[0m\n\u001b[1;32m--> 427\u001b[1;33m             \u001b[1;32mreturn\u001b[0m \u001b[0mformatdict\u001b[0m\u001b[1;33m[\u001b[0m\u001b[1;34m'float'\u001b[0m\u001b[1;33m]\u001b[0m\u001b[1;33m(\u001b[0m\u001b[1;33m)\u001b[0m\u001b[1;33m\u001b[0m\u001b[1;33m\u001b[0m\u001b[0m\n\u001b[0m\u001b[0;32m    428\u001b[0m     \u001b[1;32melif\u001b[0m \u001b[0missubclass\u001b[0m\u001b[1;33m(\u001b[0m\u001b[0mdtypeobj\u001b[0m\u001b[1;33m,\u001b[0m \u001b[0m_nt\u001b[0m\u001b[1;33m.\u001b[0m\u001b[0mcomplexfloating\u001b[0m\u001b[1;33m)\u001b[0m\u001b[1;33m:\u001b[0m\u001b[1;33m\u001b[0m\u001b[1;33m\u001b[0m\u001b[0m\n\u001b[0;32m    429\u001b[0m         \u001b[1;32mif\u001b[0m \u001b[0missubclass\u001b[0m\u001b[1;33m(\u001b[0m\u001b[0mdtypeobj\u001b[0m\u001b[1;33m,\u001b[0m \u001b[0m_nt\u001b[0m\u001b[1;33m.\u001b[0m\u001b[0mclongfloat\u001b[0m\u001b[1;33m)\u001b[0m\u001b[1;33m:\u001b[0m\u001b[1;33m\u001b[0m\u001b[1;33m\u001b[0m\u001b[0m\n",
      "\u001b[1;32m~\\Anaconda3\\lib\\site-packages\\numpy\\core\\arrayprint.py\u001b[0m in \u001b[0;36m<lambda>\u001b[1;34m()\u001b[0m\n\u001b[0;32m    365\u001b[0m         \u001b[1;34m'int'\u001b[0m\u001b[1;33m:\u001b[0m \u001b[1;32mlambda\u001b[0m\u001b[1;33m:\u001b[0m \u001b[0mIntegerFormat\u001b[0m\u001b[1;33m(\u001b[0m\u001b[0mdata\u001b[0m\u001b[1;33m)\u001b[0m\u001b[1;33m,\u001b[0m\u001b[1;33m\u001b[0m\u001b[1;33m\u001b[0m\u001b[0m\n\u001b[0;32m    366\u001b[0m         'float': lambda: FloatingFormat(\n\u001b[1;32m--> 367\u001b[1;33m             data, precision, floatmode, suppress, sign, legacy=legacy),\n\u001b[0m\u001b[0;32m    368\u001b[0m         'longfloat': lambda: FloatingFormat(\n\u001b[0;32m    369\u001b[0m             data, precision, floatmode, suppress, sign, legacy=legacy),\n",
      "\u001b[1;32m~\\Anaconda3\\lib\\site-packages\\numpy\\core\\arrayprint.py\u001b[0m in \u001b[0;36m__init__\u001b[1;34m(self, data, precision, floatmode, suppress_small, sign, legacy)\u001b[0m\n\u001b[0;32m    859\u001b[0m         \u001b[0mself\u001b[0m\u001b[1;33m.\u001b[0m\u001b[0mlarge_exponent\u001b[0m \u001b[1;33m=\u001b[0m \u001b[1;32mFalse\u001b[0m\u001b[1;33m\u001b[0m\u001b[1;33m\u001b[0m\u001b[0m\n\u001b[0;32m    860\u001b[0m \u001b[1;33m\u001b[0m\u001b[0m\n\u001b[1;32m--> 861\u001b[1;33m         \u001b[0mself\u001b[0m\u001b[1;33m.\u001b[0m\u001b[0mfillFormat\u001b[0m\u001b[1;33m(\u001b[0m\u001b[0mdata\u001b[0m\u001b[1;33m)\u001b[0m\u001b[1;33m\u001b[0m\u001b[1;33m\u001b[0m\u001b[0m\n\u001b[0m\u001b[0;32m    862\u001b[0m \u001b[1;33m\u001b[0m\u001b[0m\n\u001b[0;32m    863\u001b[0m     \u001b[1;32mdef\u001b[0m \u001b[0mfillFormat\u001b[0m\u001b[1;33m(\u001b[0m\u001b[0mself\u001b[0m\u001b[1;33m,\u001b[0m \u001b[0mdata\u001b[0m\u001b[1;33m)\u001b[0m\u001b[1;33m:\u001b[0m\u001b[1;33m\u001b[0m\u001b[1;33m\u001b[0m\u001b[0m\n",
      "\u001b[1;32m~\\Anaconda3\\lib\\site-packages\\numpy\\core\\arrayprint.py\u001b[0m in \u001b[0;36mfillFormat\u001b[1;34m(self, data)\u001b[0m\n\u001b[0;32m    868\u001b[0m         \u001b[0mabs_non_zero\u001b[0m \u001b[1;33m=\u001b[0m \u001b[0mabsolute\u001b[0m\u001b[1;33m(\u001b[0m\u001b[0mfinite_vals\u001b[0m\u001b[1;33m[\u001b[0m\u001b[0mfinite_vals\u001b[0m \u001b[1;33m!=\u001b[0m \u001b[1;36m0\u001b[0m\u001b[1;33m]\u001b[0m\u001b[1;33m)\u001b[0m\u001b[1;33m\u001b[0m\u001b[1;33m\u001b[0m\u001b[0m\n\u001b[0;32m    869\u001b[0m         \u001b[1;32mif\u001b[0m \u001b[0mlen\u001b[0m\u001b[1;33m(\u001b[0m\u001b[0mabs_non_zero\u001b[0m\u001b[1;33m)\u001b[0m \u001b[1;33m!=\u001b[0m \u001b[1;36m0\u001b[0m\u001b[1;33m:\u001b[0m\u001b[1;33m\u001b[0m\u001b[1;33m\u001b[0m\u001b[0m\n\u001b[1;32m--> 870\u001b[1;33m             \u001b[0mmax_val\u001b[0m \u001b[1;33m=\u001b[0m \u001b[0mnp\u001b[0m\u001b[1;33m.\u001b[0m\u001b[0mmax\u001b[0m\u001b[1;33m(\u001b[0m\u001b[0mabs_non_zero\u001b[0m\u001b[1;33m)\u001b[0m\u001b[1;33m\u001b[0m\u001b[1;33m\u001b[0m\u001b[0m\n\u001b[0m\u001b[0;32m    871\u001b[0m             \u001b[0mmin_val\u001b[0m \u001b[1;33m=\u001b[0m \u001b[0mnp\u001b[0m\u001b[1;33m.\u001b[0m\u001b[0mmin\u001b[0m\u001b[1;33m(\u001b[0m\u001b[0mabs_non_zero\u001b[0m\u001b[1;33m)\u001b[0m\u001b[1;33m\u001b[0m\u001b[1;33m\u001b[0m\u001b[0m\n\u001b[0;32m    872\u001b[0m             \u001b[1;32mwith\u001b[0m \u001b[0merrstate\u001b[0m\u001b[1;33m(\u001b[0m\u001b[0mover\u001b[0m\u001b[1;33m=\u001b[0m\u001b[1;34m'ignore'\u001b[0m\u001b[1;33m)\u001b[0m\u001b[1;33m:\u001b[0m  \u001b[1;31m# division can overflow\u001b[0m\u001b[1;33m\u001b[0m\u001b[1;33m\u001b[0m\u001b[0m\n",
      "\u001b[1;32m<__array_function__ internals>\u001b[0m in \u001b[0;36mamax\u001b[1;34m(*args, **kwargs)\u001b[0m\n",
      "\u001b[1;32m~\\Anaconda3\\lib\\site-packages\\numpy\\core\\fromnumeric.py\u001b[0m in \u001b[0;36mamax\u001b[1;34m(a, axis, out, keepdims, initial, where)\u001b[0m\n\u001b[0;32m   2704\u001b[0m     \"\"\"\n\u001b[0;32m   2705\u001b[0m     return _wrapreduction(a, np.maximum, 'max', axis, None, out,\n\u001b[1;32m-> 2706\u001b[1;33m                           keepdims=keepdims, initial=initial, where=where)\n\u001b[0m\u001b[0;32m   2707\u001b[0m \u001b[1;33m\u001b[0m\u001b[0m\n\u001b[0;32m   2708\u001b[0m \u001b[1;33m\u001b[0m\u001b[0m\n",
      "\u001b[1;32m~\\Anaconda3\\lib\\site-packages\\numpy\\core\\fromnumeric.py\u001b[0m in \u001b[0;36m_wrapreduction\u001b[1;34m(obj, ufunc, method, axis, dtype, out, **kwargs)\u001b[0m\n\u001b[0;32m     85\u001b[0m                 \u001b[1;32mreturn\u001b[0m \u001b[0mreduction\u001b[0m\u001b[1;33m(\u001b[0m\u001b[0maxis\u001b[0m\u001b[1;33m=\u001b[0m\u001b[0maxis\u001b[0m\u001b[1;33m,\u001b[0m \u001b[0mout\u001b[0m\u001b[1;33m=\u001b[0m\u001b[0mout\u001b[0m\u001b[1;33m,\u001b[0m \u001b[1;33m**\u001b[0m\u001b[0mpasskwargs\u001b[0m\u001b[1;33m)\u001b[0m\u001b[1;33m\u001b[0m\u001b[1;33m\u001b[0m\u001b[0m\n\u001b[0;32m     86\u001b[0m \u001b[1;33m\u001b[0m\u001b[0m\n\u001b[1;32m---> 87\u001b[1;33m     \u001b[1;32mreturn\u001b[0m \u001b[0mufunc\u001b[0m\u001b[1;33m.\u001b[0m\u001b[0mreduce\u001b[0m\u001b[1;33m(\u001b[0m\u001b[0mobj\u001b[0m\u001b[1;33m,\u001b[0m \u001b[0maxis\u001b[0m\u001b[1;33m,\u001b[0m \u001b[0mdtype\u001b[0m\u001b[1;33m,\u001b[0m \u001b[0mout\u001b[0m\u001b[1;33m,\u001b[0m \u001b[1;33m**\u001b[0m\u001b[0mpasskwargs\u001b[0m\u001b[1;33m)\u001b[0m\u001b[1;33m\u001b[0m\u001b[1;33m\u001b[0m\u001b[0m\n\u001b[0m\u001b[0;32m     88\u001b[0m \u001b[1;33m\u001b[0m\u001b[0m\n\u001b[0;32m     89\u001b[0m \u001b[1;33m\u001b[0m\u001b[0m\n",
      "\u001b[1;31mKeyboardInterrupt\u001b[0m: "
     ]
    }
   ],
   "source": [
    "p1grav, p2grav = makedynamic(3000, 9, 0.4, gmove=True)"
   ]
  },
  {
   "cell_type": "code",
   "execution_count": null,
   "metadata": {},
   "outputs": [],
   "source": [
    "# p1 = player(\"computer\", explore_rate=0)\n",
    "human = HumanPlayer(\"human\")\n",
    "# p1.loadPolicy(\"policy_p1\")\n",
    "game = tictactoe(p1, human, gravitymove=True)\n",
    "game.playhuman()"
   ]
  },
  {
   "cell_type": "code",
   "execution_count": 36,
   "metadata": {},
   "outputs": [
    {
     "name": "stdout",
     "output_type": "stream",
     "text": [
      "0.05\n",
      "training for explore rate 0.4\n"
     ]
    },
    {
     "name": "stderr",
     "output_type": "stream",
     "text": [
      "100%|█████████████████████████████████████████████████████████████████████████████| 2000/2000 [00:05<00:00, 397.97it/s]\n"
     ]
    },
    {
     "name": "stdout",
     "output_type": "stream",
     "text": [
      "training for explore rate 0.35\n"
     ]
    },
    {
     "name": "stderr",
     "output_type": "stream",
     "text": [
      "100%|█████████████████████████████████████████████████████████████████████████████| 2000/2000 [00:05<00:00, 350.46it/s]\n"
     ]
    },
    {
     "name": "stdout",
     "output_type": "stream",
     "text": [
      "training for explore rate 0.3\n"
     ]
    },
    {
     "name": "stderr",
     "output_type": "stream",
     "text": [
      "100%|█████████████████████████████████████████████████████████████████████████████| 2000/2000 [00:06<00:00, 326.10it/s]\n"
     ]
    },
    {
     "name": "stdout",
     "output_type": "stream",
     "text": [
      "training for explore rate 0.25\n"
     ]
    },
    {
     "name": "stderr",
     "output_type": "stream",
     "text": [
      "100%|█████████████████████████████████████████████████████████████████████████████| 2000/2000 [00:05<00:00, 335.63it/s]\n"
     ]
    },
    {
     "name": "stdout",
     "output_type": "stream",
     "text": [
      "training for explore rate 0.2\n"
     ]
    },
    {
     "name": "stderr",
     "output_type": "stream",
     "text": [
      "100%|█████████████████████████████████████████████████████████████████████████████| 2000/2000 [00:06<00:00, 314.25it/s]\n"
     ]
    },
    {
     "name": "stdout",
     "output_type": "stream",
     "text": [
      "training for explore rate 0.15\n"
     ]
    },
    {
     "name": "stderr",
     "output_type": "stream",
     "text": [
      "100%|█████████████████████████████████████████████████████████████████████████████| 2000/2000 [00:08<00:00, 236.04it/s]\n"
     ]
    },
    {
     "name": "stdout",
     "output_type": "stream",
     "text": [
      "training for explore rate 0.1\n"
     ]
    },
    {
     "name": "stderr",
     "output_type": "stream",
     "text": [
      "100%|█████████████████████████████████████████████████████████████████████████████| 2000/2000 [00:08<00:00, 236.86it/s]\n"
     ]
    },
    {
     "name": "stdout",
     "output_type": "stream",
     "text": [
      "training for explore rate 0.05\n"
     ]
    },
    {
     "name": "stderr",
     "output_type": "stream",
     "text": [
      "100%|█████████████████████████████████████████████████████████████████████████████| 2000/2000 [00:08<00:00, 222.81it/s]\n"
     ]
    },
    {
     "name": "stdout",
     "output_type": "stream",
     "text": [
      "training for explore rate 0.0\n"
     ]
    },
    {
     "name": "stderr",
     "output_type": "stream",
     "text": [
      "100%|█████████████████████████████████████████████████████████████████████████████| 2000/2000 [00:08<00:00, 231.26it/s]\n"
     ]
    },
    {
     "data": {
      "image/png": "[encoded data removed]",
      "text/plain": [
       "<Figure size 432x288 with 1 Axes>"
      ]
     },
     "metadata": {
      "needs_background": "light"
     },
     "output_type": "display_data"
    }
   ],
   "source": [
    "p1grav, p2grav = makedynamic(2000, 9, 0.4, gmove=True)"
   ]
  },
  {
   "cell_type": "code",
   "execution_count": 38,
   "metadata": {},
   "outputs": [
    {
     "name": "stdout",
     "output_type": "stream",
     "text": [
      "Input your action row:2\n",
      "Input your action col:2\n",
      "-------------\n",
      "|   |   |   | \n",
      "-------------\n",
      "|   |   |   | \n",
      "-------------\n",
      "|   |   | x | \n",
      "-------------\n",
      "-------------\n",
      "|   |   |   | \n",
      "-------------\n",
      "|   |   |   | \n",
      "-------------\n",
      "|   | o | x | \n",
      "-------------\n",
      "Input your action row:1\n",
      "Input your action col:2\n",
      "-------------\n",
      "|   |   |   | \n",
      "-------------\n",
      "|   |   | x | \n",
      "-------------\n",
      "|   | o | x | \n",
      "-------------\n",
      "-------------\n",
      "|   |   |   | \n",
      "-------------\n",
      "|   | o | x | \n",
      "-------------\n",
      "|   | o | x | \n",
      "-------------\n",
      "Input your action row:0\n",
      "Input your action col:2\n",
      "-------------\n",
      "|   |   | x | \n",
      "-------------\n",
      "|   | o | x | \n",
      "-------------\n",
      "|   | o | x | \n",
      "-------------\n",
      "human wins!\n"
     ]
    },
    {
     "data": {
      "text/plain": [
       "1"
      ]
     },
     "execution_count": 38,
     "metadata": {},
     "output_type": "execute_result"
    }
   ],
   "source": [
    "# p1 = player(\"computer\", explore_rate=0)\n",
    "human = HumanPlayer(\"human\")\n",
    "# p1.loadPolicy(\"policy_p1\")\n",
    "game = tictactoe(human, p2, gravitymove=True)\n",
    "game.playhuman()"
   ]
  },
  {
   "cell_type": "code",
   "execution_count": 25,
   "metadata": {},
   "outputs": [
    {
     "name": "stdout",
     "output_type": "stream",
     "text": [
      "0.05\n",
      "training for explore rate 0.4 and alpha 0.2\n"
     ]
    },
    {
     "name": "stderr",
     "output_type": "stream",
     "text": [
      "100%|█████████████████████████████████████████████████████████████████████████████| 1000/1000 [00:02<00:00, 373.40it/s]\n"
     ]
    },
    {
     "name": "stdout",
     "output_type": "stream",
     "text": [
      "training for explore rate 0.35 and alpha 0.2\n"
     ]
    },
    {
     "name": "stderr",
     "output_type": "stream",
     "text": [
      "100%|█████████████████████████████████████████████████████████████████████████████| 1000/1000 [00:02<00:00, 339.35it/s]\n"
     ]
    },
    {
     "name": "stdout",
     "output_type": "stream",
     "text": [
      "training for explore rate 0.3 and alpha 0.2\n"
     ]
    },
    {
     "name": "stderr",
     "output_type": "stream",
     "text": [
      "100%|█████████████████████████████████████████████████████████████████████████████| 1000/1000 [00:03<00:00, 306.88it/s]\n"
     ]
    },
    {
     "name": "stdout",
     "output_type": "stream",
     "text": [
      "training for explore rate 0.25 and alpha 0.2\n"
     ]
    },
    {
     "name": "stderr",
     "output_type": "stream",
     "text": [
      "100%|█████████████████████████████████████████████████████████████████████████████| 1000/1000 [00:04<00:00, 240.44it/s]\n"
     ]
    },
    {
     "name": "stdout",
     "output_type": "stream",
     "text": [
      "training for explore rate 0.2 and alpha 0.2\n"
     ]
    },
    {
     "name": "stderr",
     "output_type": "stream",
     "text": [
      "100%|█████████████████████████████████████████████████████████████████████████████| 1000/1000 [00:04<00:00, 216.07it/s]\n"
     ]
    },
    {
     "name": "stdout",
     "output_type": "stream",
     "text": [
      "training for explore rate 0.15 and alpha 0.2\n"
     ]
    },
    {
     "name": "stderr",
     "output_type": "stream",
     "text": [
      "100%|█████████████████████████████████████████████████████████████████████████████| 1000/1000 [00:04<00:00, 205.05it/s]\n"
     ]
    },
    {
     "name": "stdout",
     "output_type": "stream",
     "text": [
      "training for explore rate 0.1 and alpha 0.2\n"
     ]
    },
    {
     "name": "stderr",
     "output_type": "stream",
     "text": [
      "100%|█████████████████████████████████████████████████████████████████████████████| 1000/1000 [00:05<00:00, 195.13it/s]\n"
     ]
    },
    {
     "name": "stdout",
     "output_type": "stream",
     "text": [
      "training for explore rate 0.05 and alpha 0.2\n"
     ]
    },
    {
     "name": "stderr",
     "output_type": "stream",
     "text": [
      "100%|█████████████████████████████████████████████████████████████████████████████| 1000/1000 [00:04<00:00, 206.95it/s]\n"
     ]
    },
    {
     "name": "stdout",
     "output_type": "stream",
     "text": [
      "training for explore rate 0.0 and alpha 0.2\n"
     ]
    },
    {
     "name": "stderr",
     "output_type": "stream",
     "text": [
      "100%|█████████████████████████████████████████████████████████████████████████████| 1000/1000 [00:04<00:00, 205.08it/s]\n"
     ]
    },
    {
     "data": {
      "image/png": "[encoded data removed]",
      "text/plain": [
       "<Figure size 432x288 with 1 Axes>"
      ]
     },
     "metadata": {
      "needs_background": "light"
     },
     "output_type": "display_data"
    }
   ],
   "source": [
    "p1grav, p2grav = makedynamic(1000, 9, 0.4, gmove=True, stratnames=\"grav33\")"
   ]
  },
  {
   "cell_type": "code",
   "execution_count": 29,
   "metadata": {},
   "outputs": [
    {
     "name": "stdout",
     "output_type": "stream",
     "text": [
      "0.05\n",
      "training for explore rate 0.4 and alpha 0.4\n"
     ]
    },
    {
     "name": "stderr",
     "output_type": "stream",
     "text": [
      "100%|███████████████████████████████████████████████████████████████████████████████| 500/500 [00:01<00:00, 355.20it/s]\n"
     ]
    },
    {
     "name": "stdout",
     "output_type": "stream",
     "text": [
      "training for explore rate 0.35 and alpha 0.35\n"
     ]
    },
    {
     "name": "stderr",
     "output_type": "stream",
     "text": [
      "100%|███████████████████████████████████████████████████████████████████████████████| 500/500 [00:02<00:00, 200.05it/s]\n"
     ]
    },
    {
     "name": "stdout",
     "output_type": "stream",
     "text": [
      "training for explore rate 0.3 and alpha 0.3\n"
     ]
    },
    {
     "name": "stderr",
     "output_type": "stream",
     "text": [
      "100%|███████████████████████████████████████████████████████████████████████████████| 500/500 [00:02<00:00, 168.12it/s]\n"
     ]
    },
    {
     "name": "stdout",
     "output_type": "stream",
     "text": [
      "training for explore rate 0.25 and alpha 0.25\n"
     ]
    },
    {
     "name": "stderr",
     "output_type": "stream",
     "text": [
      "100%|███████████████████████████████████████████████████████████████████████████████| 500/500 [00:03<00:00, 133.27it/s]\n"
     ]
    },
    {
     "name": "stdout",
     "output_type": "stream",
     "text": [
      "training for explore rate 0.2 and alpha 0.2\n"
     ]
    },
    {
     "name": "stderr",
     "output_type": "stream",
     "text": [
      "100%|███████████████████████████████████████████████████████████████████████████████| 500/500 [00:03<00:00, 136.17it/s]\n"
     ]
    },
    {
     "name": "stdout",
     "output_type": "stream",
     "text": [
      "training for explore rate 0.15 and alpha 0.15\n"
     ]
    },
    {
     "name": "stderr",
     "output_type": "stream",
     "text": [
      "100%|███████████████████████████████████████████████████████████████████████████████| 500/500 [00:03<00:00, 164.64it/s]\n"
     ]
    },
    {
     "name": "stdout",
     "output_type": "stream",
     "text": [
      "training for explore rate 0.1 and alpha 0.1\n"
     ]
    },
    {
     "name": "stderr",
     "output_type": "stream",
     "text": [
      "100%|███████████████████████████████████████████████████████████████████████████████| 500/500 [00:03<00:00, 149.12it/s]\n"
     ]
    },
    {
     "name": "stdout",
     "output_type": "stream",
     "text": [
      "training for explore rate 0.05 and alpha 0.05\n"
     ]
    },
    {
     "name": "stderr",
     "output_type": "stream",
     "text": [
      "100%|███████████████████████████████████████████████████████████████████████████████| 500/500 [00:03<00:00, 129.81it/s]\n"
     ]
    },
    {
     "name": "stdout",
     "output_type": "stream",
     "text": [
      "training for explore rate 0.0 and alpha 0.01\n"
     ]
    },
    {
     "name": "stderr",
     "output_type": "stream",
     "text": [
      "100%|███████████████████████████████████████████████████████████████████████████████| 500/500 [00:03<00:00, 155.39it/s]\n"
     ]
    },
    {
     "data": {
      "image/png": "[encoded data removed]",
      "text/plain": [
       "<Figure size 432x288 with 1 Axes>"
      ]
     },
     "metadata": {
      "needs_background": "light"
     },
     "output_type": "display_data"
    }
   ],
   "source": [
    "p1grav, p2grav = makedynamic(500, 9, 0.4, gmove=True, movingalpha=True, stratnames=\"grav33\")"
   ]
  },
  {
   "cell_type": "code",
   "execution_count": 31,
   "metadata": {
    "scrolled": false
   },
   "outputs": [
    {
     "name": "stdout",
     "output_type": "stream",
     "text": [
      "   | 0 | 1 | 2 |\n",
      "-----------------\n",
      "0  |   |   |   | \n",
      "-----------------\n",
      "1  |   |   |   | \n",
      "-----------------\n",
      "2  |   |   |   | \n",
      "-----------------\n",
      "\n",
      "   | 0 | 1 | 2 |\n",
      "-----------------\n",
      "0  |   |   |   | \n",
      "-----------------\n",
      "1  |   |   |   | \n",
      "-----------------\n",
      "2  |   | x |   | \n",
      "-----------------\n",
      "\n",
      "   | 0 | 1 | 2 |\n",
      "-----------------\n",
      "0  |   |   |   | \n",
      "-----------------\n",
      "1  |   | o |   | \n",
      "-----------------\n",
      "2  |   | x |   | \n",
      "-----------------\n",
      "\n",
      "   | 0 | 1 | 2 |\n",
      "-----------------\n",
      "0  |   |   |   | \n",
      "-----------------\n",
      "1  |   | o |   | \n",
      "-----------------\n",
      "2  | x | x |   | \n",
      "-----------------\n",
      "\n",
      "   | 0 | 1 | 2 |\n",
      "-----------------\n",
      "0  |   |   |   | \n",
      "-----------------\n",
      "1  |   | o |   | \n",
      "-----------------\n",
      "2  | x | x | o | \n",
      "-----------------\n",
      "\n",
      "   | 0 | 1 | 2 |\n",
      "-----------------\n",
      "0  |   |   |   | \n",
      "-----------------\n",
      "1  |   | o | x | \n",
      "-----------------\n",
      "2  | x | x | o | \n",
      "-----------------\n",
      "\n",
      "   | 0 | 1 | 2 |\n",
      "-----------------\n",
      "0  |   |   |   | \n",
      "-----------------\n",
      "1  | o | o | x | \n",
      "-----------------\n",
      "2  | x | x | o | \n",
      "-----------------\n",
      "\n",
      "   | 0 | 1 | 2 |\n",
      "-----------------\n",
      "0  | x |   |   | \n",
      "-----------------\n",
      "1  | o | o | x | \n",
      "-----------------\n",
      "2  | x | x | o | \n",
      "-----------------\n",
      "\n",
      "   | 0 | 1 | 2 |\n",
      "-----------------\n",
      "0  | x |   | o | \n",
      "-----------------\n",
      "1  | o | o | x | \n",
      "-----------------\n",
      "2  | x | x | o | \n",
      "-----------------\n",
      "\n",
      "   | 0 | 1 | 2 |\n",
      "-----------------\n",
      "0  | x | x | o | \n",
      "-----------------\n",
      "1  | o | o | x | \n",
      "-----------------\n",
      "2  | x | x | o | \n",
      "-----------------\n",
      "\n",
      "tie!\n"
     ]
    },
    {
     "data": {
      "text/plain": [
       "0"
      ]
     },
     "execution_count": 31,
     "metadata": {},
     "output_type": "execute_result"
    }
   ],
   "source": [
    "# p1 = player(\"computer\", explore_rate=0)\n",
    "human = HumanPlayer(\"human\")\n",
    "# p1.loadPolicy(\"policy_p1\")\n",
    "game = tictactoe(p1grav, p2grav, gravitymove=True)\n",
    "game.playhuman()"
   ]
  },
  {
   "cell_type": "markdown",
   "metadata": {},
   "source": [
    "# 3x4 first test\n",
    "\n",
    "Both moving alpha and moving exp rate. For 3x3 needed 500, so for 3x4 try around 27 times more-- 15000."
   ]
  },
  {
   "cell_type": "code",
   "execution_count": 30,
   "metadata": {
    "scrolled": false
   },
   "outputs": [
    {
     "name": "stdout",
     "output_type": "stream",
     "text": [
      "0.05\n",
      "training for explore rate 0.4 and alpha 0.4\n"
     ]
    },
    {
     "name": "stderr",
     "output_type": "stream",
     "text": [
      "100%|███████████████████████████████████████████████████████████████████████████| 15000/15000 [01:23<00:00, 179.09it/s]\n"
     ]
    },
    {
     "name": "stdout",
     "output_type": "stream",
     "text": [
      "training for explore rate 0.35 and alpha 0.35\n"
     ]
    },
    {
     "name": "stderr",
     "output_type": "stream",
     "text": [
      "100%|███████████████████████████████████████████████████████████████████████████| 15000/15000 [01:32<00:00, 161.71it/s]\n"
     ]
    },
    {
     "name": "stdout",
     "output_type": "stream",
     "text": [
      "training for explore rate 0.3 and alpha 0.3\n"
     ]
    },
    {
     "name": "stderr",
     "output_type": "stream",
     "text": [
      "100%|███████████████████████████████████████████████████████████████████████████| 15000/15000 [01:38<00:00, 152.96it/s]\n"
     ]
    },
    {
     "name": "stdout",
     "output_type": "stream",
     "text": [
      "training for explore rate 0.25 and alpha 0.25\n"
     ]
    },
    {
     "name": "stderr",
     "output_type": "stream",
     "text": [
      "100%|███████████████████████████████████████████████████████████████████████████| 15000/15000 [01:21<00:00, 182.97it/s]\n"
     ]
    },
    {
     "name": "stdout",
     "output_type": "stream",
     "text": [
      "training for explore rate 0.2 and alpha 0.2\n"
     ]
    },
    {
     "name": "stderr",
     "output_type": "stream",
     "text": [
      "100%|███████████████████████████████████████████████████████████████████████████| 15000/15000 [01:17<00:00, 193.23it/s]\n"
     ]
    },
    {
     "name": "stdout",
     "output_type": "stream",
     "text": [
      "training for explore rate 0.15 and alpha 0.15\n"
     ]
    },
    {
     "name": "stderr",
     "output_type": "stream",
     "text": [
      "100%|███████████████████████████████████████████████████████████████████████████| 15000/15000 [01:02<00:00, 241.65it/s]\n"
     ]
    },
    {
     "name": "stdout",
     "output_type": "stream",
     "text": [
      "training for explore rate 0.1 and alpha 0.1\n"
     ]
    },
    {
     "name": "stderr",
     "output_type": "stream",
     "text": [
      "100%|███████████████████████████████████████████████████████████████████████████| 15000/15000 [01:05<00:00, 228.93it/s]\n"
     ]
    },
    {
     "name": "stdout",
     "output_type": "stream",
     "text": [
      "training for explore rate 0.05 and alpha 0.05\n"
     ]
    },
    {
     "name": "stderr",
     "output_type": "stream",
     "text": [
      "100%|███████████████████████████████████████████████████████████████████████████| 15000/15000 [01:31<00:00, 163.73it/s]\n"
     ]
    },
    {
     "name": "stdout",
     "output_type": "stream",
     "text": [
      "training for explore rate 0.0 and alpha 0.01\n"
     ]
    },
    {
     "name": "stderr",
     "output_type": "stream",
     "text": [
      "100%|███████████████████████████████████████████████████████████████████████████| 15000/15000 [01:27<00:00, 171.31it/s]\n"
     ]
    },
    {
     "data": {
      "image/png": "[encoded data removed]",
      "text/plain": [
       "<Figure size 432x288 with 1 Axes>"
      ]
     },
     "metadata": {
      "needs_background": "light"
     },
     "output_type": "display_data"
    }
   ],
   "source": [
    "p1grav34, p2grav34 = makedynamic(15000, 9, 0.4, rows=3, cols=4, winc=3, gmove=True, movingalpha=True, \n",
    "                               stratnames=\"grav34\")"
   ]
  },
  {
   "cell_type": "code",
   "execution_count": 32,
   "metadata": {
    "scrolled": false
   },
   "outputs": [
    {
     "name": "stdout",
     "output_type": "stream",
     "text": [
      "   | 0 | 1 | 2 | 3 |\n",
      "---------------------\n",
      "0  |   |   |   |   | \n",
      "---------------------\n",
      "1  |   |   |   |   | \n",
      "---------------------\n",
      "2  |   |   |   |   | \n",
      "---------------------\n",
      "\n",
      "   | 0 | 1 | 2 | 3 |\n",
      "---------------------\n",
      "0  |   |   |   |   | \n",
      "---------------------\n",
      "1  |   |   |   |   | \n",
      "---------------------\n",
      "2  |   |   |   | x | \n",
      "---------------------\n",
      "\n",
      "Input your action row:2\n",
      "Input your action col:2\n",
      "   | 0 | 1 | 2 | 3 |\n",
      "---------------------\n",
      "0  |   |   |   |   | \n",
      "---------------------\n",
      "1  |   |   |   |   | \n",
      "---------------------\n",
      "2  |   |   | o | x | \n",
      "---------------------\n",
      "\n",
      "   | 0 | 1 | 2 | 3 |\n",
      "---------------------\n",
      "0  |   |   |   |   | \n",
      "---------------------\n",
      "1  |   |   |   |   | \n",
      "---------------------\n",
      "2  | x |   | o | x | \n",
      "---------------------\n",
      "\n",
      "Input your action row:1\n",
      "Input your action col:2\n",
      "   | 0 | 1 | 2 | 3 |\n",
      "---------------------\n",
      "0  |   |   |   |   | \n",
      "---------------------\n",
      "1  |   |   | o |   | \n",
      "---------------------\n",
      "2  | x |   | o | x | \n",
      "---------------------\n",
      "\n",
      "   | 0 | 1 | 2 | 3 |\n",
      "---------------------\n",
      "0  |   |   | x |   | \n",
      "---------------------\n",
      "1  |   |   | o |   | \n",
      "---------------------\n",
      "2  | x |   | o | x | \n",
      "---------------------\n",
      "\n",
      "Input your action row:1\n",
      "Input your action col:3\n",
      "   | 0 | 1 | 2 | 3 |\n",
      "---------------------\n",
      "0  |   |   | x |   | \n",
      "---------------------\n",
      "1  |   |   | o | o | \n",
      "---------------------\n",
      "2  | x |   | o | x | \n",
      "---------------------\n",
      "\n",
      "   | 0 | 1 | 2 | 3 |\n",
      "---------------------\n",
      "0  |   |   | x | x | \n",
      "---------------------\n",
      "1  |   |   | o | o | \n",
      "---------------------\n",
      "2  | x |   | o | x | \n",
      "---------------------\n",
      "\n",
      "Input your action row:1\n",
      "Input your action col:0\n",
      "   | 0 | 1 | 2 | 3 |\n",
      "---------------------\n",
      "0  |   |   | x | x | \n",
      "---------------------\n",
      "1  | o |   | o | o | \n",
      "---------------------\n",
      "2  | x |   | o | x | \n",
      "---------------------\n",
      "\n",
      "   | 0 | 1 | 2 | 3 |\n",
      "---------------------\n",
      "0  | x |   | x | x | \n",
      "---------------------\n",
      "1  | o |   | o | o | \n",
      "---------------------\n",
      "2  | x |   | o | x | \n",
      "---------------------\n",
      "\n",
      "Input your action row:2\n",
      "Input your action col:1\n",
      "   | 0 | 1 | 2 | 3 |\n",
      "---------------------\n",
      "0  | x |   | x | x | \n",
      "---------------------\n",
      "1  | o |   | o | o | \n",
      "---------------------\n",
      "2  | x | o | o | x | \n",
      "---------------------\n",
      "\n",
      "   | 0 | 1 | 2 | 3 |\n",
      "---------------------\n",
      "0  | x |   | x | x | \n",
      "---------------------\n",
      "1  | o | x | o | o | \n",
      "---------------------\n",
      "2  | x | o | o | x | \n",
      "---------------------\n",
      "\n",
      "grav341 wins!\n"
     ]
    },
    {
     "data": {
      "text/plain": [
       "1"
      ]
     },
     "execution_count": 32,
     "metadata": {},
     "output_type": "execute_result"
    }
   ],
   "source": [
    "#p1 = player(\"computer\", explore_rate=0)\n",
    "human = HumanPlayer(\"human\")\n",
    "#p1.loadPolicy(\"policy_p1\")\n",
    "game = tictactoe(p1grav34, human, numrows=3, numcols=4, wincount=3, gravitymove=True)\n",
    "game.playhuman()"
   ]
  },
  {
   "cell_type": "code",
   "execution_count": 34,
   "metadata": {},
   "outputs": [
    {
     "name": "stdout",
     "output_type": "stream",
     "text": [
      "   | 0 | 1 | 2 | 3 |\n",
      "---------------------\n",
      "0  |   |   |   |   | \n",
      "---------------------\n",
      "1  |   |   |   |   | \n",
      "---------------------\n",
      "2  |   |   |   |   | \n",
      "---------------------\n",
      "\n",
      "Input your action row:2\n",
      "Input your action col:1\n",
      "   | 0 | 1 | 2 | 3 |\n",
      "---------------------\n",
      "0  |   |   |   |   | \n",
      "---------------------\n",
      "1  |   |   |   |   | \n",
      "---------------------\n",
      "2  |   | x |   |   | \n",
      "---------------------\n",
      "\n",
      "   | 0 | 1 | 2 | 3 |\n",
      "---------------------\n",
      "0  |   |   |   |   | \n",
      "---------------------\n",
      "1  |   | o |   |   | \n",
      "---------------------\n",
      "2  |   | x |   |   | \n",
      "---------------------\n",
      "\n",
      "Input your action row:2\n",
      "Input your action col:2\n",
      "   | 0 | 1 | 2 | 3 |\n",
      "---------------------\n",
      "0  |   |   |   |   | \n",
      "---------------------\n",
      "1  |   | o |   |   | \n",
      "---------------------\n",
      "2  |   | x | x |   | \n",
      "---------------------\n",
      "\n",
      "   | 0 | 1 | 2 | 3 |\n",
      "---------------------\n",
      "0  |   |   |   |   | \n",
      "---------------------\n",
      "1  |   | o |   |   | \n",
      "---------------------\n",
      "2  | o | x | x |   | \n",
      "---------------------\n",
      "\n",
      "Input your action row:2\n",
      "Input your action col:3\n",
      "   | 0 | 1 | 2 | 3 |\n",
      "---------------------\n",
      "0  |   |   |   |   | \n",
      "---------------------\n",
      "1  |   | o |   |   | \n",
      "---------------------\n",
      "2  | o | x | x | x | \n",
      "---------------------\n",
      "\n",
      "human wins!\n"
     ]
    },
    {
     "data": {
      "text/plain": [
       "1"
      ]
     },
     "execution_count": 34,
     "metadata": {},
     "output_type": "execute_result"
    }
   ],
   "source": [
    "#p1 = player(\"computer\", explore_rate=0)\n",
    "human = HumanPlayer(\"human\")\n",
    "#p1.loadPolicy(\"policy_p1\")\n",
    "game = tictactoe(human, p2grav34, numrows=3, numcols=4, wincount=3, gravitymove=True)\n",
    "game.playhuman()"
   ]
  },
  {
   "cell_type": "code",
   "execution_count": 35,
   "metadata": {},
   "outputs": [
    {
     "name": "stdout",
     "output_type": "stream",
     "text": [
      "   | 0 | 1 | 2 | 3 |\n",
      "---------------------\n",
      "0  |   |   |   |   | \n",
      "---------------------\n",
      "1  |   |   |   |   | \n",
      "---------------------\n",
      "2  |   |   |   |   | \n",
      "---------------------\n",
      "\n",
      "   | 0 | 1 | 2 | 3 |\n",
      "---------------------\n",
      "0  |   |   |   |   | \n",
      "---------------------\n",
      "1  |   |   |   |   | \n",
      "---------------------\n",
      "2  |   |   |   | x | \n",
      "---------------------\n",
      "\n",
      "   | 0 | 1 | 2 | 3 |\n",
      "---------------------\n",
      "0  |   |   |   |   | \n",
      "---------------------\n",
      "1  |   |   |   |   | \n",
      "---------------------\n",
      "2  |   | o |   | x | \n",
      "---------------------\n",
      "\n",
      "   | 0 | 1 | 2 | 3 |\n",
      "---------------------\n",
      "0  |   |   |   |   | \n",
      "---------------------\n",
      "1  |   |   |   | x | \n",
      "---------------------\n",
      "2  |   | o |   | x | \n",
      "---------------------\n",
      "\n",
      "   | 0 | 1 | 2 | 3 |\n",
      "---------------------\n",
      "0  |   |   |   |   | \n",
      "---------------------\n",
      "1  |   | o |   | x | \n",
      "---------------------\n",
      "2  |   | o |   | x | \n",
      "---------------------\n",
      "\n",
      "   | 0 | 1 | 2 | 3 |\n",
      "---------------------\n",
      "0  |   |   |   | x | \n",
      "---------------------\n",
      "1  |   | o |   | x | \n",
      "---------------------\n",
      "2  |   | o |   | x | \n",
      "---------------------\n",
      "\n",
      "grav341 wins!\n"
     ]
    },
    {
     "data": {
      "text/plain": [
       "1"
      ]
     },
     "execution_count": 35,
     "metadata": {},
     "output_type": "execute_result"
    }
   ],
   "source": [
    "#p1 = player(\"computer\", explore_rate=0)\n",
    "human = HumanPlayer(\"human\")\n",
    "#p1.loadPolicy(\"policy_p1\")\n",
    "game = tictactoe(p1grav34, p2grav34, numrows=3, numcols=4, wincount=3, gravitymove=True)\n",
    "game.playhuman()"
   ]
  },
  {
   "cell_type": "markdown",
   "metadata": {},
   "source": [
    "I don't think we gave it enough training time. What about around 3 times as much? So 50,000 games per learning rate? I'm also concerned that player 2 just isn't learning and is giving up because he's at a severe disadvantage, so let's up his reward for a tie and not penalize him so much for losing."
   ]
  },
  {
   "cell_type": "code",
   "execution_count": 39,
   "metadata": {},
   "outputs": [
    {
     "name": "stdout",
     "output_type": "stream",
     "text": [
      "0.05\n",
      "training for explore rate 0.4 and alpha 0.4\n"
     ]
    },
    {
     "name": "stderr",
     "output_type": "stream",
     "text": [
      "100%|███████████████████████████████████████████████████████████████████████████| 50000/50000 [03:16<00:00, 255.06it/s]\n"
     ]
    },
    {
     "name": "stdout",
     "output_type": "stream",
     "text": [
      "training for explore rate 0.35 and alpha 0.35\n"
     ]
    },
    {
     "name": "stderr",
     "output_type": "stream",
     "text": [
      "100%|███████████████████████████████████████████████████████████████████████████| 50000/50000 [03:46<00:00, 221.24it/s]\n"
     ]
    },
    {
     "name": "stdout",
     "output_type": "stream",
     "text": [
      "training for explore rate 0.3 and alpha 0.3\n"
     ]
    },
    {
     "name": "stderr",
     "output_type": "stream",
     "text": [
      "100%|███████████████████████████████████████████████████████████████████████████| 50000/50000 [05:01<00:00, 165.78it/s]\n"
     ]
    },
    {
     "name": "stdout",
     "output_type": "stream",
     "text": [
      "training for explore rate 0.25 and alpha 0.25\n"
     ]
    },
    {
     "name": "stderr",
     "output_type": "stream",
     "text": [
      "100%|███████████████████████████████████████████████████████████████████████████| 50000/50000 [05:09<00:00, 161.42it/s]\n"
     ]
    },
    {
     "name": "stdout",
     "output_type": "stream",
     "text": [
      "training for explore rate 0.2 and alpha 0.2\n"
     ]
    },
    {
     "name": "stderr",
     "output_type": "stream",
     "text": [
      "100%|███████████████████████████████████████████████████████████████████████████| 50000/50000 [05:01<00:00, 165.75it/s]\n"
     ]
    },
    {
     "name": "stdout",
     "output_type": "stream",
     "text": [
      "training for explore rate 0.15 and alpha 0.15\n"
     ]
    },
    {
     "name": "stderr",
     "output_type": "stream",
     "text": [
      "100%|███████████████████████████████████████████████████████████████████████████| 50000/50000 [05:04<00:00, 164.24it/s]\n"
     ]
    },
    {
     "name": "stdout",
     "output_type": "stream",
     "text": [
      "training for explore rate 0.1 and alpha 0.1\n"
     ]
    },
    {
     "name": "stderr",
     "output_type": "stream",
     "text": [
      "100%|███████████████████████████████████████████████████████████████████████████| 50000/50000 [05:01<00:00, 165.70it/s]\n"
     ]
    },
    {
     "name": "stdout",
     "output_type": "stream",
     "text": [
      "training for explore rate 0.05 and alpha 0.05\n"
     ]
    },
    {
     "name": "stderr",
     "output_type": "stream",
     "text": [
      "100%|███████████████████████████████████████████████████████████████████████████| 50000/50000 [05:05<00:00, 163.81it/s]\n"
     ]
    },
    {
     "name": "stdout",
     "output_type": "stream",
     "text": [
      "training for explore rate 0.0 and alpha 0.01\n"
     ]
    },
    {
     "name": "stderr",
     "output_type": "stream",
     "text": [
      "100%|███████████████████████████████████████████████████████████████████████████| 50000/50000 [04:56<00:00, 168.58it/s]\n"
     ]
    },
    {
     "data": {
      "image/png": "[encoded data removed]",
      "text/plain": [
       "<Figure size 432x288 with 1 Axes>"
      ]
     },
     "metadata": {
      "needs_background": "light"
     },
     "output_type": "display_data"
    }
   ],
   "source": [
    "p1grav34, p2grav34 = makedynamic(50000, 9, 0.4, rows=3, cols=4, winc=3, gmove=True, movingalpha=True, \n",
    "                               stratnames=\"grav34\")"
   ]
  },
  {
   "cell_type": "code",
   "execution_count": 45,
   "metadata": {},
   "outputs": [
    {
     "name": "stdout",
     "output_type": "stream",
     "text": [
      "   | 0 | 1 | 2 | 3 |\n",
      "---------------------\n",
      "0  |   |   |   |   | \n",
      "---------------------\n",
      "1  |   |   |   |   | \n",
      "---------------------\n",
      "2  |   |   |   |   | \n",
      "---------------------\n",
      "\n",
      "   | 0 | 1 | 2 | 3 |\n",
      "---------------------\n",
      "0  |   |   |   |   | \n",
      "---------------------\n",
      "1  |   |   |   |   | \n",
      "---------------------\n",
      "2  |   |   | x |   | \n",
      "---------------------\n",
      "\n",
      "   | 0 | 1 | 2 | 3 |\n",
      "---------------------\n",
      "0  |   |   |   |   | \n",
      "---------------------\n",
      "1  |   |   |   |   | \n",
      "---------------------\n",
      "2  | o |   | x |   | \n",
      "---------------------\n",
      "\n",
      "   | 0 | 1 | 2 | 3 |\n",
      "---------------------\n",
      "0  |   |   |   |   | \n",
      "---------------------\n",
      "1  |   |   |   |   | \n",
      "---------------------\n",
      "2  | o |   | x | x | \n",
      "---------------------\n",
      "\n",
      "   | 0 | 1 | 2 | 3 |\n",
      "---------------------\n",
      "0  |   |   |   |   | \n",
      "---------------------\n",
      "1  | o |   |   |   | \n",
      "---------------------\n",
      "2  | o |   | x | x | \n",
      "---------------------\n",
      "\n",
      "   | 0 | 1 | 2 | 3 |\n",
      "---------------------\n",
      "0  |   |   |   |   | \n",
      "---------------------\n",
      "1  | o |   |   |   | \n",
      "---------------------\n",
      "2  | o | x | x | x | \n",
      "---------------------\n",
      "\n",
      "grav341 wins!\n"
     ]
    },
    {
     "data": {
      "text/plain": [
       "1"
      ]
     },
     "execution_count": 45,
     "metadata": {},
     "output_type": "execute_result"
    }
   ],
   "source": [
    "#p1 = player(\"computer\", explore_rate=0)\n",
    "human = HumanPlayer(\"human\")\n",
    "#p1.loadPolicy(\"policy_p1\")\n",
    "game = tictactoe(p1grav34, p2grav34, numrows=3, numcols=4, wincount=3, gravitymove=True)\n",
    "game.playhuman()"
   ]
  },
  {
   "cell_type": "markdown",
   "metadata": {},
   "source": [
    "Bizarre result from the 3x4 games -- player 1 trains very well \n",
    "and achieves human level play, but player 2 still flubs sometimes. I think this is a training fluke."
   ]
  },
  {
   "cell_type": "code",
   "execution_count": 42,
   "metadata": {
    "scrolled": false
   },
   "outputs": [
    {
     "name": "stdout",
     "output_type": "stream",
     "text": [
      "   | 0 | 1 | 2 | 3 |\n",
      "---------------------\n",
      "0  |   |   |   |   | \n",
      "---------------------\n",
      "1  |   |   |   |   | \n",
      "---------------------\n",
      "2  |   |   |   |   | \n",
      "---------------------\n",
      "\n",
      "   | 0 | 1 | 2 | 3 |\n",
      "---------------------\n",
      "0  |   |   |   |   | \n",
      "---------------------\n",
      "1  |   |   |   |   | \n",
      "---------------------\n",
      "2  |   |   | x |   | \n",
      "---------------------\n",
      "\n",
      "Input your action row:2\n",
      "Input your action col:1\n",
      "   | 0 | 1 | 2 | 3 |\n",
      "---------------------\n",
      "0  |   |   |   |   | \n",
      "---------------------\n",
      "1  |   |   |   |   | \n",
      "---------------------\n",
      "2  |   | o | x |   | \n",
      "---------------------\n",
      "\n",
      "   | 0 | 1 | 2 | 3 |\n",
      "---------------------\n",
      "0  |   |   |   |   | \n",
      "---------------------\n",
      "1  |   |   | x |   | \n",
      "---------------------\n",
      "2  |   | o | x |   | \n",
      "---------------------\n",
      "\n",
      "Input your action row:0\n",
      "Input your action col:2\n",
      "   | 0 | 1 | 2 | 3 |\n",
      "---------------------\n",
      "0  |   |   | o |   | \n",
      "---------------------\n",
      "1  |   |   | x |   | \n",
      "---------------------\n",
      "2  |   | o | x |   | \n",
      "---------------------\n",
      "\n",
      "   | 0 | 1 | 2 | 3 |\n",
      "---------------------\n",
      "0  |   |   | o |   | \n",
      "---------------------\n",
      "1  |   | x | x |   | \n",
      "---------------------\n",
      "2  |   | o | x |   | \n",
      "---------------------\n",
      "\n",
      "Input your action row:0\n",
      "Input your action col:1\n",
      "   | 0 | 1 | 2 | 3 |\n",
      "---------------------\n",
      "0  |   | o | o |   | \n",
      "---------------------\n",
      "1  |   | x | x |   | \n",
      "---------------------\n",
      "2  |   | o | x |   | \n",
      "---------------------\n",
      "\n",
      "   | 0 | 1 | 2 | 3 |\n",
      "---------------------\n",
      "0  |   | o | o |   | \n",
      "---------------------\n",
      "1  |   | x | x |   | \n",
      "---------------------\n",
      "2  |   | o | x | x | \n",
      "---------------------\n",
      "\n",
      "Input your action row:1\n",
      "Input your action col:3\n",
      "   | 0 | 1 | 2 | 3 |\n",
      "---------------------\n",
      "0  |   | o | o |   | \n",
      "---------------------\n",
      "1  |   | x | x | o | \n",
      "---------------------\n",
      "2  |   | o | x | x | \n",
      "---------------------\n",
      "\n",
      "   | 0 | 1 | 2 | 3 |\n",
      "---------------------\n",
      "0  |   | o | o | x | \n",
      "---------------------\n",
      "1  |   | x | x | o | \n",
      "---------------------\n",
      "2  |   | o | x | x | \n",
      "---------------------\n",
      "\n",
      "Input your action row:2\n",
      "Input your action col:0\n",
      "   | 0 | 1 | 2 | 3 |\n",
      "---------------------\n",
      "0  |   | o | o | x | \n",
      "---------------------\n",
      "1  |   | x | x | o | \n",
      "---------------------\n",
      "2  | o | o | x | x | \n",
      "---------------------\n",
      "\n",
      "   | 0 | 1 | 2 | 3 |\n",
      "---------------------\n",
      "0  |   | o | o | x | \n",
      "---------------------\n",
      "1  | x | x | x | o | \n",
      "---------------------\n",
      "2  | o | o | x | x | \n",
      "---------------------\n",
      "\n",
      "grav341 wins!\n"
     ]
    },
    {
     "data": {
      "text/plain": [
       "1"
      ]
     },
     "execution_count": 42,
     "metadata": {},
     "output_type": "execute_result"
    }
   ],
   "source": [
    "#p1 = player(\"computer\", explore_rate=0)\n",
    "human = HumanPlayer(\"human\")\n",
    "#p1.loadPolicy(\"policy_p1\")\n",
    "game = tictactoe(p1grav34, human, numrows=3, numcols=4, wincount=3, gravitymove=True)\n",
    "game.playhuman()"
   ]
  },
  {
   "cell_type": "code",
   "execution_count": 44,
   "metadata": {},
   "outputs": [
    {
     "name": "stdout",
     "output_type": "stream",
     "text": [
      "   | 0 | 1 | 2 | 3 |\n",
      "---------------------\n",
      "0  |   |   |   |   | \n",
      "---------------------\n",
      "1  |   |   |   |   | \n",
      "---------------------\n",
      "2  |   |   |   |   | \n",
      "---------------------\n",
      "\n",
      "Input your action row:2\n",
      "Input your action col:0\n",
      "   | 0 | 1 | 2 | 3 |\n",
      "---------------------\n",
      "0  |   |   |   |   | \n",
      "---------------------\n",
      "1  |   |   |   |   | \n",
      "---------------------\n",
      "2  | x |   |   |   | \n",
      "---------------------\n",
      "\n",
      "   | 0 | 1 | 2 | 3 |\n",
      "---------------------\n",
      "0  |   |   |   |   | \n",
      "---------------------\n",
      "1  |   |   |   |   | \n",
      "---------------------\n",
      "2  | x |   | o |   | \n",
      "---------------------\n",
      "\n",
      "Input your action row:2\n",
      "Input your action col:1\n",
      "   | 0 | 1 | 2 | 3 |\n",
      "---------------------\n",
      "0  |   |   |   |   | \n",
      "---------------------\n",
      "1  |   |   |   |   | \n",
      "---------------------\n",
      "2  | x | x | o |   | \n",
      "---------------------\n",
      "\n",
      "   | 0 | 1 | 2 | 3 |\n",
      "---------------------\n",
      "0  |   |   |   |   | \n",
      "---------------------\n",
      "1  |   | o |   |   | \n",
      "---------------------\n",
      "2  | x | x | o |   | \n",
      "---------------------\n",
      "\n",
      "Input your action row:1\n",
      "Input your action col:2\n",
      "   | 0 | 1 | 2 | 3 |\n",
      "---------------------\n",
      "0  |   |   |   |   | \n",
      "---------------------\n",
      "1  |   | o | x |   | \n",
      "---------------------\n",
      "2  | x | x | o |   | \n",
      "---------------------\n",
      "\n",
      "   | 0 | 1 | 2 | 3 |\n",
      "---------------------\n",
      "0  |   | o |   |   | \n",
      "---------------------\n",
      "1  |   | o | x |   | \n",
      "---------------------\n",
      "2  | x | x | o |   | \n",
      "---------------------\n",
      "\n",
      "Input your action row:1\n",
      "Input your action col:0\n",
      "   | 0 | 1 | 2 | 3 |\n",
      "---------------------\n",
      "0  |   | o |   |   | \n",
      "---------------------\n",
      "1  | x | o | x |   | \n",
      "---------------------\n",
      "2  | x | x | o |   | \n",
      "---------------------\n",
      "\n",
      "   | 0 | 1 | 2 | 3 |\n",
      "---------------------\n",
      "0  | o | o |   |   | \n",
      "---------------------\n",
      "1  | x | o | x |   | \n",
      "---------------------\n",
      "2  | x | x | o |   | \n",
      "---------------------\n",
      "\n",
      "grav342 wins!\n"
     ]
    },
    {
     "data": {
      "text/plain": [
       "-1"
      ]
     },
     "execution_count": 44,
     "metadata": {},
     "output_type": "execute_result"
    }
   ],
   "source": [
    "# p1 = player(\"computer\", explore_rate=0)\n",
    "human = HumanPlayer(\"human\")\n",
    "#p1.loadPolicy(\"policy_p1\")\n",
    "game = tictactoe(human, p2grav34, numrows=3, numcols=4, wincount=3, gravitymove=True)\n",
    "game.playhuman()"
   ]
  },
  {
   "cell_type": "markdown",
   "metadata": {},
   "source": [
    "What if we have each player randomly make a few moves first at high exploration rate? Choose random number of random first moves for each player, more depending on exploration rate. For example, each player first makes a random number of moves equal to a random sample from normal distribution centered around exprate times boardsize over two, with wide standard deviation. Each player makes different number of random moves so players that make fewer random moves can learn how to play against bad players."
   ]
  },
  {
   "cell_type": "markdown",
   "metadata": {},
   "source": [
    "Test on tictactoe first. Number of initial random moves for each player is normally distributed around exploration rate squared times board size, with standard deviation equal to half of that. So For exp rate 0.4, we randomly make on average the first 1.44 moves."
   ]
  },
  {
   "cell_type": "code",
   "execution_count": 58,
   "metadata": {},
   "outputs": [
    {
     "name": "stdout",
     "output_type": "stream",
     "text": [
      "0.05\n",
      "training for explore rate 0.4 and alpha 0.4\n"
     ]
    },
    {
     "name": "stderr",
     "output_type": "stream",
     "text": [
      "100%|███████████████████████████████████████████████████████████████████████████████| 500/500 [00:01<00:00, 473.94it/s]\n"
     ]
    },
    {
     "name": "stdout",
     "output_type": "stream",
     "text": [
      "training for explore rate 0.35 and alpha 0.35\n"
     ]
    },
    {
     "name": "stderr",
     "output_type": "stream",
     "text": [
      "100%|███████████████████████████████████████████████████████████████████████████████| 500/500 [00:01<00:00, 477.53it/s]\n"
     ]
    },
    {
     "name": "stdout",
     "output_type": "stream",
     "text": [
      "training for explore rate 0.3 and alpha 0.3\n"
     ]
    },
    {
     "name": "stderr",
     "output_type": "stream",
     "text": [
      "100%|███████████████████████████████████████████████████████████████████████████████| 500/500 [00:01<00:00, 399.23it/s]\n"
     ]
    },
    {
     "name": "stdout",
     "output_type": "stream",
     "text": [
      "training for explore rate 0.25 and alpha 0.25\n"
     ]
    },
    {
     "name": "stderr",
     "output_type": "stream",
     "text": [
      "100%|███████████████████████████████████████████████████████████████████████████████| 500/500 [00:01<00:00, 384.17it/s]\n"
     ]
    },
    {
     "name": "stdout",
     "output_type": "stream",
     "text": [
      "training for explore rate 0.2 and alpha 0.2\n"
     ]
    },
    {
     "name": "stderr",
     "output_type": "stream",
     "text": [
      "100%|███████████████████████████████████████████████████████████████████████████████| 500/500 [00:01<00:00, 350.51it/s]\n"
     ]
    },
    {
     "name": "stdout",
     "output_type": "stream",
     "text": [
      "training for explore rate 0.15 and alpha 0.15\n"
     ]
    },
    {
     "name": "stderr",
     "output_type": "stream",
     "text": [
      "100%|███████████████████████████████████████████████████████████████████████████████| 500/500 [00:01<00:00, 286.87it/s]\n"
     ]
    },
    {
     "name": "stdout",
     "output_type": "stream",
     "text": [
      "training for explore rate 0.1 and alpha 0.1\n"
     ]
    },
    {
     "name": "stderr",
     "output_type": "stream",
     "text": [
      "100%|███████████████████████████████████████████████████████████████████████████████| 500/500 [00:01<00:00, 250.32it/s]\n"
     ]
    },
    {
     "name": "stdout",
     "output_type": "stream",
     "text": [
      "training for explore rate 0.05 and alpha 0.05\n"
     ]
    },
    {
     "name": "stderr",
     "output_type": "stream",
     "text": [
      "100%|███████████████████████████████████████████████████████████████████████████████| 500/500 [00:02<00:00, 198.40it/s]\n"
     ]
    },
    {
     "name": "stdout",
     "output_type": "stream",
     "text": [
      "training for explore rate 0.0 and alpha 0.01\n"
     ]
    },
    {
     "name": "stderr",
     "output_type": "stream",
     "text": [
      "100%|███████████████████████████████████████████████████████████████████████████████| 500/500 [00:02<00:00, 184.22it/s]\n"
     ]
    },
    {
     "data": {
      "image/png": "[encoded data removed]",
      "text/plain": [
       "<Figure size 432x288 with 1 Axes>"
      ]
     },
     "metadata": {
      "needs_background": "light"
     },
     "output_type": "display_data"
    }
   ],
   "source": [
    "p1grav, p2grav = makedynamic(500, 9, 0.4, gmove=True, movingalpha=True, stratnames=\"grav33rand\", randinit=True)"
   ]
  },
  {
   "cell_type": "markdown",
   "metadata": {},
   "source": [
    "Actually does better AND ties itself more at the beginning! Let's try with 3x4 now, and with 15000 training rounds (27x what we need for 3x3)."
   ]
  },
  {
   "cell_type": "code",
   "execution_count": 65,
   "metadata": {},
   "outputs": [
    {
     "name": "stdout",
     "output_type": "stream",
     "text": [
      "0.05\n",
      "training for explore rate 0.4 and alpha 0.4\n"
     ]
    },
    {
     "name": "stderr",
     "output_type": "stream",
     "text": [
      "100%|███████████████████████████████████████████████████████████████████████████| 15000/15000 [00:48<00:00, 309.13it/s]\n"
     ]
    },
    {
     "name": "stdout",
     "output_type": "stream",
     "text": [
      "training for explore rate 0.35 and alpha 0.35\n"
     ]
    },
    {
     "name": "stderr",
     "output_type": "stream",
     "text": [
      "100%|███████████████████████████████████████████████████████████████████████████| 15000/15000 [01:05<00:00, 227.56it/s]\n"
     ]
    },
    {
     "name": "stdout",
     "output_type": "stream",
     "text": [
      "training for explore rate 0.3 and alpha 0.3\n"
     ]
    },
    {
     "name": "stderr",
     "output_type": "stream",
     "text": [
      "100%|███████████████████████████████████████████████████████████████████████████| 15000/15000 [01:10<00:00, 212.45it/s]\n"
     ]
    },
    {
     "name": "stdout",
     "output_type": "stream",
     "text": [
      "training for explore rate 0.25 and alpha 0.25\n"
     ]
    },
    {
     "name": "stderr",
     "output_type": "stream",
     "text": [
      "100%|███████████████████████████████████████████████████████████████████████████| 15000/15000 [01:14<00:00, 201.63it/s]\n"
     ]
    },
    {
     "name": "stdout",
     "output_type": "stream",
     "text": [
      "training for explore rate 0.2 and alpha 0.2\n"
     ]
    },
    {
     "name": "stderr",
     "output_type": "stream",
     "text": [
      "100%|███████████████████████████████████████████████████████████████████████████| 15000/15000 [01:17<00:00, 192.76it/s]\n"
     ]
    },
    {
     "name": "stdout",
     "output_type": "stream",
     "text": [
      "training for explore rate 0.15 and alpha 0.15\n"
     ]
    },
    {
     "name": "stderr",
     "output_type": "stream",
     "text": [
      "100%|███████████████████████████████████████████████████████████████████████████| 15000/15000 [01:31<00:00, 163.22it/s]\n"
     ]
    },
    {
     "name": "stdout",
     "output_type": "stream",
     "text": [
      "training for explore rate 0.1 and alpha 0.1\n"
     ]
    },
    {
     "name": "stderr",
     "output_type": "stream",
     "text": [
      "100%|███████████████████████████████████████████████████████████████████████████| 15000/15000 [01:30<00:00, 166.48it/s]\n"
     ]
    },
    {
     "name": "stdout",
     "output_type": "stream",
     "text": [
      "training for explore rate 0.05 and alpha 0.05\n"
     ]
    },
    {
     "name": "stderr",
     "output_type": "stream",
     "text": [
      "100%|███████████████████████████████████████████████████████████████████████████| 15000/15000 [01:40<00:00, 149.82it/s]\n"
     ]
    },
    {
     "name": "stdout",
     "output_type": "stream",
     "text": [
      "training for explore rate 0.0 and alpha 0.01\n"
     ]
    },
    {
     "name": "stderr",
     "output_type": "stream",
     "text": [
      "100%|███████████████████████████████████████████████████████████████████████████| 15000/15000 [01:31<00:00, 164.70it/s]\n"
     ]
    },
    {
     "data": {
      "image/png": "[encoded data removed]",
      "text/plain": [
       "<Figure size 432x288 with 1 Axes>"
      ]
     },
     "metadata": {
      "needs_background": "light"
     },
     "output_type": "display_data"
    }
   ],
   "source": [
    "p1grav34, p2grav34 = makedynamic(15000, 9, 0.4, rows=3, cols=4, winc=3, gmove=True, movingalpha=True, \n",
    "                               stratnames=\"grav34rand\", randinit=True)"
   ]
  },
  {
   "cell_type": "code",
   "execution_count": 66,
   "metadata": {},
   "outputs": [
    {
     "name": "stdout",
     "output_type": "stream",
     "text": [
      "   | 0 | 1 | 2 | 3 |\n",
      "---------------------\n",
      "0  |   |   |   |   | \n",
      "---------------------\n",
      "1  |   |   |   |   | \n",
      "---------------------\n",
      "2  |   |   |   |   | \n",
      "---------------------\n",
      "\n",
      "   | 0 | 1 | 2 | 3 |\n",
      "---------------------\n",
      "0  |   |   |   |   | \n",
      "---------------------\n",
      "1  |   |   |   |   | \n",
      "---------------------\n",
      "2  |   |   | x |   | \n",
      "---------------------\n",
      "\n",
      "   | 0 | 1 | 2 | 3 |\n",
      "---------------------\n",
      "0  |   |   |   |   | \n",
      "---------------------\n",
      "1  |   |   |   |   | \n",
      "---------------------\n",
      "2  | o |   | x |   | \n",
      "---------------------\n",
      "\n",
      "   | 0 | 1 | 2 | 3 |\n",
      "---------------------\n",
      "0  |   |   |   |   | \n",
      "---------------------\n",
      "1  |   |   | x |   | \n",
      "---------------------\n",
      "2  | o |   | x |   | \n",
      "---------------------\n",
      "\n",
      "   | 0 | 1 | 2 | 3 |\n",
      "---------------------\n",
      "0  |   |   |   |   | \n",
      "---------------------\n",
      "1  | o |   | x |   | \n",
      "---------------------\n",
      "2  | o |   | x |   | \n",
      "---------------------\n",
      "\n",
      "   | 0 | 1 | 2 | 3 |\n",
      "---------------------\n",
      "0  |   |   | x |   | \n",
      "---------------------\n",
      "1  | o |   | x |   | \n",
      "---------------------\n",
      "2  | o |   | x |   | \n",
      "---------------------\n",
      "\n",
      "grav34rand1 wins!\n"
     ]
    },
    {
     "data": {
      "text/plain": [
       "1"
      ]
     },
     "execution_count": 66,
     "metadata": {},
     "output_type": "execute_result"
    }
   ],
   "source": [
    "#p1 = player(\"computer\", explore_rate=0)\n",
    "human = HumanPlayer(\"human\")\n",
    "#p1.loadPolicy(\"policy_p1\")\n",
    "game = tictactoe(p1grav34, p2grav34, numrows=3, numcols=4, wincount=3, gravitymove=True)\n",
    "game.playhuman()"
   ]
  },
  {
   "cell_type": "code",
   "execution_count": 67,
   "metadata": {
    "scrolled": false
   },
   "outputs": [
    {
     "name": "stdout",
     "output_type": "stream",
     "text": [
      "   | 0 | 1 | 2 | 3 |\n",
      "---------------------\n",
      "0  |   |   |   |   | \n",
      "---------------------\n",
      "1  |   |   |   |   | \n",
      "---------------------\n",
      "2  |   |   |   |   | \n",
      "---------------------\n",
      "\n",
      "   | 0 | 1 | 2 | 3 |\n",
      "---------------------\n",
      "0  |   |   |   |   | \n",
      "---------------------\n",
      "1  |   |   |   |   | \n",
      "---------------------\n",
      "2  |   |   | x |   | \n",
      "---------------------\n",
      "\n",
      "Input your action row:2\n",
      "Input your action col:1\n",
      "   | 0 | 1 | 2 | 3 |\n",
      "---------------------\n",
      "0  |   |   |   |   | \n",
      "---------------------\n",
      "1  |   |   |   |   | \n",
      "---------------------\n",
      "2  |   | o | x |   | \n",
      "---------------------\n",
      "\n",
      "   | 0 | 1 | 2 | 3 |\n",
      "---------------------\n",
      "0  |   |   |   |   | \n",
      "---------------------\n",
      "1  |   |   | x |   | \n",
      "---------------------\n",
      "2  |   | o | x |   | \n",
      "---------------------\n",
      "\n",
      "Input your action row:0\n",
      "Input your action col:2\n",
      "   | 0 | 1 | 2 | 3 |\n",
      "---------------------\n",
      "0  |   |   | o |   | \n",
      "---------------------\n",
      "1  |   |   | x |   | \n",
      "---------------------\n",
      "2  |   | o | x |   | \n",
      "---------------------\n",
      "\n",
      "   | 0 | 1 | 2 | 3 |\n",
      "---------------------\n",
      "0  |   |   | o |   | \n",
      "---------------------\n",
      "1  |   | x | x |   | \n",
      "---------------------\n",
      "2  |   | o | x |   | \n",
      "---------------------\n",
      "\n",
      "Input your action row:0\n",
      "Input your action col:1\n",
      "   | 0 | 1 | 2 | 3 |\n",
      "---------------------\n",
      "0  |   | o | o |   | \n",
      "---------------------\n",
      "1  |   | x | x |   | \n",
      "---------------------\n",
      "2  |   | o | x |   | \n",
      "---------------------\n",
      "\n",
      "   | 0 | 1 | 2 | 3 |\n",
      "---------------------\n",
      "0  |   | o | o |   | \n",
      "---------------------\n",
      "1  |   | x | x |   | \n",
      "---------------------\n",
      "2  |   | o | x | x | \n",
      "---------------------\n",
      "\n",
      "Input your action row:1\n",
      "Input your action col:3\n",
      "   | 0 | 1 | 2 | 3 |\n",
      "---------------------\n",
      "0  |   | o | o |   | \n",
      "---------------------\n",
      "1  |   | x | x | o | \n",
      "---------------------\n",
      "2  |   | o | x | x | \n",
      "---------------------\n",
      "\n",
      "   | 0 | 1 | 2 | 3 |\n",
      "---------------------\n",
      "0  |   | o | o | x | \n",
      "---------------------\n",
      "1  |   | x | x | o | \n",
      "---------------------\n",
      "2  |   | o | x | x | \n",
      "---------------------\n",
      "\n",
      "Input your action row:2\n",
      "Input your action col:0\n",
      "   | 0 | 1 | 2 | 3 |\n",
      "---------------------\n",
      "0  |   | o | o | x | \n",
      "---------------------\n",
      "1  |   | x | x | o | \n",
      "---------------------\n",
      "2  | o | o | x | x | \n",
      "---------------------\n",
      "\n",
      "   | 0 | 1 | 2 | 3 |\n",
      "---------------------\n",
      "0  |   | o | o | x | \n",
      "---------------------\n",
      "1  | x | x | x | o | \n",
      "---------------------\n",
      "2  | o | o | x | x | \n",
      "---------------------\n",
      "\n",
      "grav34rand1 wins!\n"
     ]
    },
    {
     "data": {
      "text/plain": [
       "1"
      ]
     },
     "execution_count": 67,
     "metadata": {},
     "output_type": "execute_result"
    }
   ],
   "source": [
    "#p1 = player(\"computer\", explore_rate=0)\n",
    "human = HumanPlayer(\"human\")\n",
    "#p1.loadPolicy(\"policy_p1\")\n",
    "game = tictactoe(p1grav34, human, numrows=3, numcols=4, wincount=3, gravitymove=True)\n",
    "game.playhuman()"
   ]
  },
  {
   "cell_type": "code",
   "execution_count": 68,
   "metadata": {
    "scrolled": false
   },
   "outputs": [
    {
     "name": "stdout",
     "output_type": "stream",
     "text": [
      "   | 0 | 1 | 2 | 3 |\n",
      "---------------------\n",
      "0  |   |   |   |   | \n",
      "---------------------\n",
      "1  |   |   |   |   | \n",
      "---------------------\n",
      "2  |   |   |   |   | \n",
      "---------------------\n",
      "\n",
      "Input your action row:2\n",
      "Input your action col:2\n",
      "   | 0 | 1 | 2 | 3 |\n",
      "---------------------\n",
      "0  |   |   |   |   | \n",
      "---------------------\n",
      "1  |   |   |   |   | \n",
      "---------------------\n",
      "2  |   |   | x |   | \n",
      "---------------------\n",
      "\n",
      "   | 0 | 1 | 2 | 3 |\n",
      "---------------------\n",
      "0  |   |   |   |   | \n",
      "---------------------\n",
      "1  |   |   |   |   | \n",
      "---------------------\n",
      "2  | o |   | x |   | \n",
      "---------------------\n",
      "\n",
      "Input your action row:1\n",
      "Input your action col:0\n",
      "   | 0 | 1 | 2 | 3 |\n",
      "---------------------\n",
      "0  |   |   |   |   | \n",
      "---------------------\n",
      "1  | x |   |   |   | \n",
      "---------------------\n",
      "2  | o |   | x |   | \n",
      "---------------------\n",
      "\n",
      "   | 0 | 1 | 2 | 3 |\n",
      "---------------------\n",
      "0  |   |   |   |   | \n",
      "---------------------\n",
      "1  | x |   | o |   | \n",
      "---------------------\n",
      "2  | o |   | x |   | \n",
      "---------------------\n",
      "\n",
      "Input your action row:2\n",
      "Input your action col:1\n",
      "   | 0 | 1 | 2 | 3 |\n",
      "---------------------\n",
      "0  |   |   |   |   | \n",
      "---------------------\n",
      "1  | x |   | o |   | \n",
      "---------------------\n",
      "2  | o | x | x |   | \n",
      "---------------------\n",
      "\n",
      "   | 0 | 1 | 2 | 3 |\n",
      "---------------------\n",
      "0  |   |   |   |   | \n",
      "---------------------\n",
      "1  | x |   | o |   | \n",
      "---------------------\n",
      "2  | o | x | x | o | \n",
      "---------------------\n",
      "\n",
      "Input your action row:1\n",
      "Input your action col:3\n",
      "   | 0 | 1 | 2 | 3 |\n",
      "---------------------\n",
      "0  |   |   |   |   | \n",
      "---------------------\n",
      "1  | x |   | o | x | \n",
      "---------------------\n",
      "2  | o | x | x | o | \n",
      "---------------------\n",
      "\n",
      "   | 0 | 1 | 2 | 3 |\n",
      "---------------------\n",
      "0  |   |   |   |   | \n",
      "---------------------\n",
      "1  | x | o | o | x | \n",
      "---------------------\n",
      "2  | o | x | x | o | \n",
      "---------------------\n",
      "\n",
      "Input your action row:0\n",
      "Input your action col:2\n",
      "   | 0 | 1 | 2 | 3 |\n",
      "---------------------\n",
      "0  |   |   | x |   | \n",
      "---------------------\n",
      "1  | x | o | o | x | \n",
      "---------------------\n",
      "2  | o | x | x | o | \n",
      "---------------------\n",
      "\n",
      "   | 0 | 1 | 2 | 3 |\n",
      "---------------------\n",
      "0  |   | o | x |   | \n",
      "---------------------\n",
      "1  | x | o | o | x | \n",
      "---------------------\n",
      "2  | o | x | x | o | \n",
      "---------------------\n",
      "\n",
      "grav34rand2 wins!\n"
     ]
    },
    {
     "data": {
      "text/plain": [
       "-1"
      ]
     },
     "execution_count": 68,
     "metadata": {},
     "output_type": "execute_result"
    }
   ],
   "source": [
    "#p1 = player(\"computer\", explore_rate=0)\n",
    "human = HumanPlayer(\"human\")\n",
    "#p1.loadPolicy(\"policy_p1\")\n",
    "game = tictactoe(human, p2grav34, numrows=3, numcols=4, wincount=3, gravitymove=True)\n",
    "game.playhuman()"
   ]
  },
  {
   "cell_type": "markdown",
   "metadata": {},
   "source": [
    "Ok, so it learns, and it can play OK-ish, but it's not great. I think that the amount of randomization is a little too low and player 2 is still punishing itself a bit too much. At lower learning rates after it's converged, player 1 is literally unbeatable, and player 2 just flounders. \n",
    "\n",
    "What if we start at an even higher explore rate? And reward p2 even more for ties?"
   ]
  },
  {
   "cell_type": "code",
   "execution_count": 12,
   "metadata": {},
   "outputs": [
    {
     "name": "stdout",
     "output_type": "stream",
     "text": [
      "0.05\n",
      "training for explore rate 0.5 and alpha 0.5\n"
     ]
    },
    {
     "name": "stderr",
     "output_type": "stream",
     "text": [
      "100%|███████████████████████████████████████████████████████████████████████████| 15000/15000 [00:40<00:00, 374.52it/s]\n"
     ]
    },
    {
     "name": "stdout",
     "output_type": "stream",
     "text": [
      "training for explore rate 0.45 and alpha 0.45\n"
     ]
    },
    {
     "name": "stderr",
     "output_type": "stream",
     "text": [
      "100%|███████████████████████████████████████████████████████████████████████████| 15000/15000 [00:43<00:00, 348.55it/s]\n"
     ]
    },
    {
     "name": "stdout",
     "output_type": "stream",
     "text": [
      "training for explore rate 0.4 and alpha 0.4\n"
     ]
    },
    {
     "name": "stderr",
     "output_type": "stream",
     "text": [
      "100%|███████████████████████████████████████████████████████████████████████████| 15000/15000 [01:07<00:00, 220.63it/s]\n"
     ]
    },
    {
     "name": "stdout",
     "output_type": "stream",
     "text": [
      "training for explore rate 0.35 and alpha 0.35\n"
     ]
    },
    {
     "name": "stderr",
     "output_type": "stream",
     "text": [
      "100%|███████████████████████████████████████████████████████████████████████████| 15000/15000 [00:50<00:00, 295.07it/s]\n"
     ]
    },
    {
     "name": "stdout",
     "output_type": "stream",
     "text": [
      "training for explore rate 0.3 and alpha 0.3\n"
     ]
    },
    {
     "name": "stderr",
     "output_type": "stream",
     "text": [
      "100%|███████████████████████████████████████████████████████████████████████████| 15000/15000 [00:52<00:00, 283.74it/s]\n"
     ]
    },
    {
     "name": "stdout",
     "output_type": "stream",
     "text": [
      "training for explore rate 0.25 and alpha 0.25\n"
     ]
    },
    {
     "name": "stderr",
     "output_type": "stream",
     "text": [
      "100%|███████████████████████████████████████████████████████████████████████████| 15000/15000 [00:56<00:00, 267.46it/s]\n"
     ]
    },
    {
     "name": "stdout",
     "output_type": "stream",
     "text": [
      "training for explore rate 0.2 and alpha 0.2\n"
     ]
    },
    {
     "name": "stderr",
     "output_type": "stream",
     "text": [
      "100%|███████████████████████████████████████████████████████████████████████████| 15000/15000 [00:55<00:00, 269.47it/s]\n"
     ]
    },
    {
     "name": "stdout",
     "output_type": "stream",
     "text": [
      "training for explore rate 0.15 and alpha 0.15\n"
     ]
    },
    {
     "name": "stderr",
     "output_type": "stream",
     "text": [
      "100%|███████████████████████████████████████████████████████████████████████████| 15000/15000 [01:01<00:00, 242.17it/s]\n"
     ]
    },
    {
     "name": "stdout",
     "output_type": "stream",
     "text": [
      "training for explore rate 0.1 and alpha 0.1\n"
     ]
    },
    {
     "name": "stderr",
     "output_type": "stream",
     "text": [
      "100%|███████████████████████████████████████████████████████████████████████████| 15000/15000 [01:07<00:00, 223.63it/s]\n"
     ]
    },
    {
     "name": "stdout",
     "output_type": "stream",
     "text": [
      "training for explore rate 0.05 and alpha 0.05\n"
     ]
    },
    {
     "name": "stderr",
     "output_type": "stream",
     "text": [
      "100%|███████████████████████████████████████████████████████████████████████████| 15000/15000 [01:07<00:00, 223.07it/s]\n"
     ]
    },
    {
     "name": "stdout",
     "output_type": "stream",
     "text": [
      "training for explore rate 0.0 and alpha 0.01\n"
     ]
    },
    {
     "name": "stderr",
     "output_type": "stream",
     "text": [
      "100%|███████████████████████████████████████████████████████████████████████████| 15000/15000 [01:04<00:00, 231.45it/s]\n"
     ]
    },
    {
     "data": {
      "image/png": "[encoded data removed]",
      "text/plain": [
       "<Figure size 432x288 with 1 Axes>"
      ]
     },
     "metadata": {
      "needs_background": "light"
     },
     "output_type": "display_data"
    }
   ],
   "source": [
    "p1grav34, p2grav34 = makedynamic(15000, 11, 0.5, rows=3, cols=4, winc=3, gmove=True, movingalpha=True, \n",
    "                               stratnames=\"grav34rand\", randinit=True)"
   ]
  },
  {
   "cell_type": "code",
   "execution_count": 13,
   "metadata": {},
   "outputs": [
    {
     "name": "stdout",
     "output_type": "stream",
     "text": [
      "   | 0 | 1 | 2 | 3 |\n",
      "---------------------\n",
      "0  |   |   |   |   | \n",
      "---------------------\n",
      "1  |   |   |   |   | \n",
      "---------------------\n",
      "2  |   |   |   |   | \n",
      "---------------------\n",
      "\n",
      "   | 0 | 1 | 2 | 3 |\n",
      "---------------------\n",
      "0  |   |   |   |   | \n",
      "---------------------\n",
      "1  |   |   |   |   | \n",
      "---------------------\n",
      "2  |   |   |   | x | \n",
      "---------------------\n",
      "\n",
      "   | 0 | 1 | 2 | 3 |\n",
      "---------------------\n",
      "0  |   |   |   |   | \n",
      "---------------------\n",
      "1  |   |   |   |   | \n",
      "---------------------\n",
      "2  | o |   |   | x | \n",
      "---------------------\n",
      "\n",
      "   | 0 | 1 | 2 | 3 |\n",
      "---------------------\n",
      "0  |   |   |   |   | \n",
      "---------------------\n",
      "1  |   |   |   |   | \n",
      "---------------------\n",
      "2  | o |   | x | x | \n",
      "---------------------\n",
      "\n",
      "   | 0 | 1 | 2 | 3 |\n",
      "---------------------\n",
      "0  |   |   |   |   | \n",
      "---------------------\n",
      "1  |   |   |   | o | \n",
      "---------------------\n",
      "2  | o |   | x | x | \n",
      "---------------------\n",
      "\n",
      "   | 0 | 1 | 2 | 3 |\n",
      "---------------------\n",
      "0  |   |   |   |   | \n",
      "---------------------\n",
      "1  |   |   |   | o | \n",
      "---------------------\n",
      "2  | o | x | x | x | \n",
      "---------------------\n",
      "\n",
      "grav34rand1 wins!\n"
     ]
    },
    {
     "data": {
      "text/plain": [
       "1"
      ]
     },
     "execution_count": 13,
     "metadata": {},
     "output_type": "execute_result"
    }
   ],
   "source": [
    "#p1 = player(\"computer\", explore_rate=0)\n",
    "human = HumanPlayer(\"human\")\n",
    "#p1.loadPolicy(\"policy_p1\")\n",
    "game = tictactoe(p1grav34, p2grav34, numrows=3, numcols=4, wincount=3, gravitymove=True)\n",
    "game.playhuman()"
   ]
  },
  {
   "cell_type": "code",
   "execution_count": 14,
   "metadata": {},
   "outputs": [
    {
     "name": "stdout",
     "output_type": "stream",
     "text": [
      "   | 0 | 1 | 2 | 3 |\n",
      "---------------------\n",
      "0  |   |   |   |   | \n",
      "---------------------\n",
      "1  |   |   |   |   | \n",
      "---------------------\n",
      "2  |   |   |   |   | \n",
      "---------------------\n",
      "\n",
      "   | 0 | 1 | 2 | 3 |\n",
      "---------------------\n",
      "0  |   |   |   |   | \n",
      "---------------------\n",
      "1  |   |   |   |   | \n",
      "---------------------\n",
      "2  |   |   |   | x | \n",
      "---------------------\n",
      "\n",
      "Input your action row:2\n",
      "Input your action col:1\n",
      "   | 0 | 1 | 2 | 3 |\n",
      "---------------------\n",
      "0  |   |   |   |   | \n",
      "---------------------\n",
      "1  |   |   |   |   | \n",
      "---------------------\n",
      "2  |   | o |   | x | \n",
      "---------------------\n",
      "\n",
      "   | 0 | 1 | 2 | 3 |\n",
      "---------------------\n",
      "0  |   |   |   |   | \n",
      "---------------------\n",
      "1  |   |   |   |   | \n",
      "---------------------\n",
      "2  | x | o |   | x | \n",
      "---------------------\n",
      "\n",
      "Input your action row:1\n",
      "Input your action col:1\n",
      "   | 0 | 1 | 2 | 3 |\n",
      "---------------------\n",
      "0  |   |   |   |   | \n",
      "---------------------\n",
      "1  |   | o |   |   | \n",
      "---------------------\n",
      "2  | x | o |   | x | \n",
      "---------------------\n",
      "\n",
      "   | 0 | 1 | 2 | 3 |\n",
      "---------------------\n",
      "0  |   | x |   |   | \n",
      "---------------------\n",
      "1  |   | o |   |   | \n",
      "---------------------\n",
      "2  | x | o |   | x | \n",
      "---------------------\n",
      "\n",
      "Input your action row:2\n",
      "Input your action col:2\n",
      "   | 0 | 1 | 2 | 3 |\n",
      "---------------------\n",
      "0  |   | x |   |   | \n",
      "---------------------\n",
      "1  |   | o |   |   | \n",
      "---------------------\n",
      "2  | x | o | o | x | \n",
      "---------------------\n",
      "\n",
      "   | 0 | 1 | 2 | 3 |\n",
      "---------------------\n",
      "0  |   | x |   |   | \n",
      "---------------------\n",
      "1  |   | o | x |   | \n",
      "---------------------\n",
      "2  | x | o | o | x | \n",
      "---------------------\n",
      "\n",
      "grav34rand1 wins!\n"
     ]
    },
    {
     "data": {
      "text/plain": [
       "1"
      ]
     },
     "execution_count": 14,
     "metadata": {},
     "output_type": "execute_result"
    }
   ],
   "source": [
    "#p1 = player(\"computer\", explore_rate=0)\n",
    "human = HumanPlayer(\"human\")\n",
    "#p1.loadPolicy(\"policy_p1\")\n",
    "game = tictactoe(p1grav34, human, numrows=3, numcols=4, wincount=3, gravitymove=True)\n",
    "game.playhuman()"
   ]
  },
  {
   "cell_type": "code",
   "execution_count": 15,
   "metadata": {
    "scrolled": false
   },
   "outputs": [
    {
     "name": "stdout",
     "output_type": "stream",
     "text": [
      "   | 0 | 1 | 2 | 3 |\n",
      "---------------------\n",
      "0  |   |   |   |   | \n",
      "---------------------\n",
      "1  |   |   |   |   | \n",
      "---------------------\n",
      "2  |   |   |   |   | \n",
      "---------------------\n",
      "\n",
      "Input your action row:2\n",
      "Input your action col:2\n",
      "   | 0 | 1 | 2 | 3 |\n",
      "---------------------\n",
      "0  |   |   |   |   | \n",
      "---------------------\n",
      "1  |   |   |   |   | \n",
      "---------------------\n",
      "2  |   |   | x |   | \n",
      "---------------------\n",
      "\n",
      "   | 0 | 1 | 2 | 3 |\n",
      "---------------------\n",
      "0  |   |   |   |   | \n",
      "---------------------\n",
      "1  |   |   | o |   | \n",
      "---------------------\n",
      "2  |   |   | x |   | \n",
      "---------------------\n",
      "\n",
      "Input your action row:0\n",
      "Input your action col:2\n",
      "   | 0 | 1 | 2 | 3 |\n",
      "---------------------\n",
      "0  |   |   | x |   | \n",
      "---------------------\n",
      "1  |   |   | o |   | \n",
      "---------------------\n",
      "2  |   |   | x |   | \n",
      "---------------------\n",
      "\n",
      "   | 0 | 1 | 2 | 3 |\n",
      "---------------------\n",
      "0  |   |   | x |   | \n",
      "---------------------\n",
      "1  |   |   | o |   | \n",
      "---------------------\n",
      "2  |   | o | x |   | \n",
      "---------------------\n",
      "\n",
      "Input your action row:1\n",
      "Input your action col:1\n",
      "   | 0 | 1 | 2 | 3 |\n",
      "---------------------\n",
      "0  |   |   | x |   | \n",
      "---------------------\n",
      "1  |   | x | o |   | \n",
      "---------------------\n",
      "2  |   | o | x |   | \n",
      "---------------------\n",
      "\n",
      "   | 0 | 1 | 2 | 3 |\n",
      "---------------------\n",
      "0  |   |   | x |   | \n",
      "---------------------\n",
      "1  |   | x | o |   | \n",
      "---------------------\n",
      "2  | o | o | x |   | \n",
      "---------------------\n",
      "\n",
      "Input your action row:0\n",
      "Input your action col:1\n",
      "   | 0 | 1 | 2 | 3 |\n",
      "---------------------\n",
      "0  |   | x | x |   | \n",
      "---------------------\n",
      "1  |   | x | o |   | \n",
      "---------------------\n",
      "2  | o | o | x |   | \n",
      "---------------------\n",
      "\n",
      "   | 0 | 1 | 2 | 3 |\n",
      "---------------------\n",
      "0  |   | x | x |   | \n",
      "---------------------\n",
      "1  |   | x | o |   | \n",
      "---------------------\n",
      "2  | o | o | x | o | \n",
      "---------------------\n",
      "\n",
      "Input your action row:1\n",
      "Input your action col:0\n",
      "   | 0 | 1 | 2 | 3 |\n",
      "---------------------\n",
      "0  |   | x | x |   | \n",
      "---------------------\n",
      "1  | x | x | o |   | \n",
      "---------------------\n",
      "2  | o | o | x | o | \n",
      "---------------------\n",
      "\n",
      "   | 0 | 1 | 2 | 3 |\n",
      "---------------------\n",
      "0  | o | x | x |   | \n",
      "---------------------\n",
      "1  | x | x | o |   | \n",
      "---------------------\n",
      "2  | o | o | x | o | \n",
      "---------------------\n",
      "\n",
      "Input your action row:1\n",
      "Input your action col:3\n",
      "   | 0 | 1 | 2 | 3 |\n",
      "---------------------\n",
      "0  | o | x | x |   | \n",
      "---------------------\n",
      "1  | x | x | o | x | \n",
      "---------------------\n",
      "2  | o | o | x | o | \n",
      "---------------------\n",
      "\n",
      "   | 0 | 1 | 2 | 3 |\n",
      "---------------------\n",
      "0  | o | x | x | o | \n",
      "---------------------\n",
      "1  | x | x | o | x | \n",
      "---------------------\n",
      "2  | o | o | x | o | \n",
      "---------------------\n",
      "\n",
      "grav34rand2 wins!\n"
     ]
    },
    {
     "data": {
      "text/plain": [
       "-1"
      ]
     },
     "execution_count": 15,
     "metadata": {},
     "output_type": "execute_result"
    }
   ],
   "source": [
    "#p1 = player(\"computer\", explore_rate=0)\n",
    "human = HumanPlayer(\"human\")\n",
    "#p1.loadPolicy(\"policy_p1\")\n",
    "game = tictactoe(human, p2grav34, numrows=3, numcols=4, wincount=3, gravitymove=True)\n",
    "game.playhuman()"
   ]
  },
  {
   "cell_type": "code",
   "execution_count": 19,
   "metadata": {},
   "outputs": [
    {
     "name": "stdout",
     "output_type": "stream",
     "text": [
      "0.05\n",
      "training for explore rate 0.5 and alpha 0.5\n"
     ]
    },
    {
     "name": "stderr",
     "output_type": "stream",
     "text": [
      "100%|█████████████████████████████████████████████████████████████████████████| 100000/100000 [06:45<00:00, 246.63it/s]\n"
     ]
    },
    {
     "name": "stdout",
     "output_type": "stream",
     "text": [
      "training for explore rate 0.45 and alpha 0.45\n"
     ]
    },
    {
     "name": "stderr",
     "output_type": "stream",
     "text": [
      "100%|█████████████████████████████████████████████████████████████████████████| 100000/100000 [06:56<00:00, 239.91it/s]\n"
     ]
    },
    {
     "name": "stdout",
     "output_type": "stream",
     "text": [
      "training for explore rate 0.4 and alpha 0.4\n"
     ]
    },
    {
     "name": "stderr",
     "output_type": "stream",
     "text": [
      "100%|█████████████████████████████████████████████████████████████████████████| 100000/100000 [07:08<00:00, 233.43it/s]\n"
     ]
    },
    {
     "name": "stdout",
     "output_type": "stream",
     "text": [
      "training for explore rate 0.35 and alpha 0.35\n"
     ]
    },
    {
     "name": "stderr",
     "output_type": "stream",
     "text": [
      "100%|█████████████████████████████████████████████████████████████████████████| 100000/100000 [06:33<00:00, 253.89it/s]\n"
     ]
    },
    {
     "name": "stdout",
     "output_type": "stream",
     "text": [
      "training for explore rate 0.3 and alpha 0.3\n"
     ]
    },
    {
     "name": "stderr",
     "output_type": "stream",
     "text": [
      "100%|█████████████████████████████████████████████████████████████████████████| 100000/100000 [07:39<00:00, 217.63it/s]\n"
     ]
    },
    {
     "name": "stdout",
     "output_type": "stream",
     "text": [
      "training for explore rate 0.25 and alpha 0.25\n"
     ]
    },
    {
     "name": "stderr",
     "output_type": "stream",
     "text": [
      "100%|█████████████████████████████████████████████████████████████████████████| 100000/100000 [08:25<00:00, 197.81it/s]\n"
     ]
    },
    {
     "name": "stdout",
     "output_type": "stream",
     "text": [
      "training for explore rate 0.2 and alpha 0.2\n"
     ]
    },
    {
     "name": "stderr",
     "output_type": "stream",
     "text": [
      "100%|█████████████████████████████████████████████████████████████████████████| 100000/100000 [08:32<00:00, 195.30it/s]\n"
     ]
    },
    {
     "name": "stdout",
     "output_type": "stream",
     "text": [
      "training for explore rate 0.15 and alpha 0.15\n"
     ]
    },
    {
     "name": "stderr",
     "output_type": "stream",
     "text": [
      "100%|█████████████████████████████████████████████████████████████████████████| 100000/100000 [08:33<00:00, 194.81it/s]\n"
     ]
    },
    {
     "name": "stdout",
     "output_type": "stream",
     "text": [
      "training for explore rate 0.1 and alpha 0.1\n"
     ]
    },
    {
     "name": "stderr",
     "output_type": "stream",
     "text": [
      "100%|█████████████████████████████████████████████████████████████████████████| 100000/100000 [10:05<00:00, 165.02it/s]\n"
     ]
    },
    {
     "name": "stdout",
     "output_type": "stream",
     "text": [
      "training for explore rate 0.05 and alpha 0.05\n"
     ]
    },
    {
     "name": "stderr",
     "output_type": "stream",
     "text": [
      "100%|█████████████████████████████████████████████████████████████████████████| 100000/100000 [10:07<00:00, 164.70it/s]\n"
     ]
    },
    {
     "name": "stdout",
     "output_type": "stream",
     "text": [
      "training for explore rate 0.0 and alpha 0.01\n"
     ]
    },
    {
     "name": "stderr",
     "output_type": "stream",
     "text": [
      "100%|█████████████████████████████████████████████████████████████████████████| 100000/100000 [09:55<00:00, 168.03it/s]\n"
     ]
    },
    {
     "data": {
      "image/png": "[encoded data removed]",
      "text/plain": [
       "<Figure size 432x288 with 1 Axes>"
      ]
     },
     "metadata": {
      "needs_background": "light"
     },
     "output_type": "display_data"
    }
   ],
   "source": [
    "p1grav44, p2grav44 = makedynamic(100000, 11, 0.5, rows=4, cols=4, winc=3, gmove=True, movingalpha=True, \n",
    "                               stratnames=\"grav44rand\", randinit=True)"
   ]
  },
  {
   "cell_type": "code",
   "execution_count": 22,
   "metadata": {
    "scrolled": false
   },
   "outputs": [
    {
     "name": "stdout",
     "output_type": "stream",
     "text": [
      "   | 0 | 1 | 2 | 3 |\n",
      "---------------------\n",
      "0  |   |   |   |   | \n",
      "---------------------\n",
      "1  |   |   |   |   | \n",
      "---------------------\n",
      "2  |   |   |   |   | \n",
      "---------------------\n",
      "3  |   |   |   |   | \n",
      "---------------------\n",
      "\n",
      "Input your action row:3\n",
      "Input your action col:3\n",
      "   | 0 | 1 | 2 | 3 |\n",
      "---------------------\n",
      "0  |   |   |   |   | \n",
      "---------------------\n",
      "1  |   |   |   |   | \n",
      "---------------------\n",
      "2  |   |   |   |   | \n",
      "---------------------\n",
      "3  |   |   |   | x | \n",
      "---------------------\n",
      "\n",
      "   | 0 | 1 | 2 | 3 |\n",
      "---------------------\n",
      "0  |   |   |   |   | \n",
      "---------------------\n",
      "1  |   |   |   |   | \n",
      "---------------------\n",
      "2  |   |   |   |   | \n",
      "---------------------\n",
      "3  |   |   | o | x | \n",
      "---------------------\n",
      "\n",
      "Input your action row:2\n",
      "Input your action col:2\n",
      "   | 0 | 1 | 2 | 3 |\n",
      "---------------------\n",
      "0  |   |   |   |   | \n",
      "---------------------\n",
      "1  |   |   |   |   | \n",
      "---------------------\n",
      "2  |   |   | x |   | \n",
      "---------------------\n",
      "3  |   |   | o | x | \n",
      "---------------------\n",
      "\n",
      "   | 0 | 1 | 2 | 3 |\n",
      "---------------------\n",
      "0  |   |   |   |   | \n",
      "---------------------\n",
      "1  |   |   |   |   | \n",
      "---------------------\n",
      "2  |   |   | x |   | \n",
      "---------------------\n",
      "3  |   | o | o | x | \n",
      "---------------------\n",
      "\n",
      "Input your action row:3\n",
      "Input your action col:0\n",
      "   | 0 | 1 | 2 | 3 |\n",
      "---------------------\n",
      "0  |   |   |   |   | \n",
      "---------------------\n",
      "1  |   |   |   |   | \n",
      "---------------------\n",
      "2  |   |   | x |   | \n",
      "---------------------\n",
      "3  | x | o | o | x | \n",
      "---------------------\n",
      "\n",
      "   | 0 | 1 | 2 | 3 |\n",
      "---------------------\n",
      "0  |   |   |   |   | \n",
      "---------------------\n",
      "1  |   |   |   |   | \n",
      "---------------------\n",
      "2  |   | o | x |   | \n",
      "---------------------\n",
      "3  | x | o | o | x | \n",
      "---------------------\n",
      "\n",
      "Input your action row:2\n",
      "Input your action col:0\n",
      "   | 0 | 1 | 2 | 3 |\n",
      "---------------------\n",
      "0  |   |   |   |   | \n",
      "---------------------\n",
      "1  |   |   |   |   | \n",
      "---------------------\n",
      "2  | x | o | x |   | \n",
      "---------------------\n",
      "3  | x | o | o | x | \n",
      "---------------------\n",
      "\n",
      "   | 0 | 1 | 2 | 3 |\n",
      "---------------------\n",
      "0  |   |   |   |   | \n",
      "---------------------\n",
      "1  |   | o |   |   | \n",
      "---------------------\n",
      "2  | x | o | x |   | \n",
      "---------------------\n",
      "3  | x | o | o | x | \n",
      "---------------------\n",
      "\n",
      "grav44rand2 wins!\n"
     ]
    },
    {
     "data": {
      "text/plain": [
       "-1"
      ]
     },
     "execution_count": 22,
     "metadata": {},
     "output_type": "execute_result"
    }
   ],
   "source": [
    "#p1 = player(\"computer\", explore_rate=0)\n",
    "human = HumanPlayer(\"human\")\n",
    "#p1.loadPolicy(\"policy_p1\")\n",
    "game = tictactoe(human, p2grav44, numrows=4, numcols=4, wincount=3, gravitymove=True)\n",
    "game.playhuman()"
   ]
  },
  {
   "cell_type": "markdown",
   "metadata": {},
   "source": [
    "Very naive Connect Four. With same amount of training time, but a much larger board, how do our bots do?"
   ]
  },
  {
   "cell_type": "code",
   "execution_count": null,
   "metadata": {},
   "outputs": [
    {
     "name": "stdout",
     "output_type": "stream",
     "text": [
      "0.05\n",
      "training for explore rate 0.5 and alpha 0.5\n"
     ]
    },
    {
     "name": "stderr",
     "output_type": "stream",
     "text": [
      "100%|██████████████████████████████████████████████████████████████████████████| 100000/100000 [38:49<00:00, 42.92it/s]\n"
     ]
    },
    {
     "name": "stdout",
     "output_type": "stream",
     "text": [
      "training for explore rate 0.45 and alpha 0.45\n"
     ]
    },
    {
     "name": "stderr",
     "output_type": "stream",
     "text": [
      "100%|████████████████████████████████████████████████████████████████████████| 100000/100000 [1:07:47<00:00, 24.59it/s]\n"
     ]
    },
    {
     "name": "stdout",
     "output_type": "stream",
     "text": [
      "training for explore rate 0.4 and alpha 0.4\n"
     ]
    },
    {
     "name": "stderr",
     "output_type": "stream",
     "text": [
      "  9%|██████▋                                                                     | 8796/100000 [02:57<31:10, 48.76it/s]"
     ]
    }
   ],
   "source": [
    "p1grav67, p2grav67 = makedynamic(100000, 11, 0.5, rows=6, cols=7, winc=4, gmove=True, movingalpha=True, \n",
    "                               stratnames=\"grav44rand\", randinit=True)"
   ]
  },
  {
   "cell_type": "code",
   "execution_count": null,
   "metadata": {},
   "outputs": [],
   "source": []
  }
 ],
 "metadata": {
  "kernelspec": {
   "display_name": "Python 3",
   "language": "python",
   "name": "python3"
  },
  "language_info": {
   "codemirror_mode": {
    "name": "ipython",
    "version": 3
   },
   "file_extension": ".py",
   "mimetype": "text/x-python",
   "name": "python",
   "nbconvert_exporter": "python",
   "pygments_lexer": "ipython3",
   "version": "3.7.4"
  }
 },
 "nbformat": 4,
 "nbformat_minor": 2
}
