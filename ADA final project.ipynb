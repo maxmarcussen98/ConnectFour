{
 "cells": [
  {
   "cell_type": "code",
   "execution_count": 1,
   "metadata": {
    "scrolled": true
   },
   "outputs": [],
   "source": [
    "import numpy as np\n",
    "import tensorflow as tf\n",
    "import pickle\n",
    "from tqdm import tqdm\n",
    "import matplotlib.pyplot as plt"
   ]
  },
  {
   "cell_type": "code",
   "execution_count": 2,
   "metadata": {
    "scrolled": true
   },
   "outputs": [],
   "source": [
    "'''\n",
    "TICTACTOE GAME CLASS\n",
    "\n",
    "this class inspired heavily by https://towardsdatascience.com/reinforcement-learning-implement-tictactoe-189582bea542\n",
    "'''\n",
    "\n",
    "class tictactoe:\n",
    "    # players are identified as 1 and -1.\n",
    "    # board is just a 3x3 grid of zeros at first.\n",
    "    # when a player moves, update that spot from\n",
    "    # a zero to a 1 or -1.\n",
    "    def __init__(self, player1, player2, numrows=3, numcols=3, wincount=3, gravitymove=False, randinit=False):\n",
    "        self.numrows = numrows\n",
    "        self.numcols = numcols\n",
    "        self.wincount = wincount\n",
    "        self.board = np.zeros((self.numrows, self.numcols))\n",
    "        self.player1 = player1\n",
    "        self.player2 = player2\n",
    "        self.gravitymove=gravitymove\n",
    "        self.randinit=randinit\n",
    "        self.isEnd = False\n",
    "        self.boardID = None\n",
    "        # init p1 plays first\n",
    "        self.playerSymbol = 1\n",
    "        \n",
    "    # unique identifier for current board state\n",
    "    def getBoardID(self):\n",
    "        self.boardID = str(self.board.reshape(self.numrows*self.numcols))\n",
    "        return self.boardID\n",
    "    \n",
    "    def availablePositions(self):\n",
    "        positions = []\n",
    "        for i in range(0, self.numrows):\n",
    "            for j in range(0, self.numcols):\n",
    "                if self.board[i, j] == 0:\n",
    "                    if self.gravitymove:\n",
    "                        #print(i, j)\n",
    "                        if i+1 == self.numrows:\n",
    "                            positions.append((i, j))\n",
    "                        elif (i+1 < self.numrows and self.board[i+1, j] != 0):\n",
    "                            #print(\"use\")\n",
    "                            #print(i, j)\n",
    "                            positions.append((i, j))\n",
    "                    else:\n",
    "                        positions.append((i, j))\n",
    "        #print(positions)\n",
    "        return positions\n",
    "    \n",
    "    def updateMove(self, position):\n",
    "        self.board[position] = self.playerSymbol\n",
    "        # switch to player -1 or 1\n",
    "        self.playerSymbol = -1*self.playerSymbol\n",
    "        \n",
    "    def checkWinner(self):\n",
    "        #print(\"checking winner\")\n",
    "        for i in range(0, self.numrows):\n",
    "            #print('row')\n",
    "            for j in range(0, self.numcols-self.wincount+1):\n",
    "                #print(\"col\")\n",
    "                if sum(self.board[i,j:j+self.wincount]) == self.wincount:\n",
    "                    self.isEnd=True\n",
    "                    return 1\n",
    "                if sum(self.board[i,j:j+self.wincount]) == -1*self.wincount:\n",
    "                    self.isEnd=True\n",
    "                    return -1\n",
    "        # cols\n",
    "        for i in range(0, self.numcols):\n",
    "            for j in range(0, self.numrows-self.wincount+1):\n",
    "                if sum(self.board[j:j+self.wincount,i]) == self.wincount:\n",
    "                    #print(\"win\")\n",
    "                    self.isEnd=True\n",
    "                    return 1\n",
    "                if sum(self.board[j:j+self.wincount,i]) == -1*self.wincount:\n",
    "                    self.isEnd=True\n",
    "                    return -1\n",
    "            '''\n",
    "            if sum(self.board[:,i]) == self.wincount:\n",
    "                self.isEnd=True\n",
    "                return 1\n",
    "            if sum(self.board[:,i]) == -1*self.wincount:\n",
    "                self.isEnd=True\n",
    "                return -1\n",
    "            '''\n",
    "        # diags\n",
    "        # top left to bot right\n",
    "        for i in range(0, self.numrows-self.wincount+1):\n",
    "            for j in range(0, self.numcols-self.wincount+1):\n",
    "                diag1 = sum([self.board[i+k,j+k] for k in range(0, self.wincount)])\n",
    "                if abs(diag1) == self.wincount:\n",
    "                    self.isEnd = True\n",
    "                    return int(diag1//self.wincount)\n",
    "        # top right to bottom left\n",
    "        for i in range(0, self.numrows-self.wincount+1):\n",
    "            for j in range(self.wincount-1, self.numcols):\n",
    "                diag2 = sum([self.board[i+k,j-k] for k in range(0, self.wincount)])\n",
    "                if abs(diag2) == self.wincount:\n",
    "                    self.isEnd = True\n",
    "                    return int(diag2//self.wincount)\n",
    "        '''\n",
    "        diag1 = sum([self.board[i,i] for i in range(0, self.wincount)])\n",
    "        diag2 = sum([self.board[i,self.numcols-i-1] for i in range(0, self.wincount)])\n",
    "        diag = max(abs(diag1), abs(diag2))\n",
    "        if diag == self.wincount:\n",
    "            self.isEnd = True\n",
    "            if diag1 == self.wincount or diag2 == self.wincount:\n",
    "                return 1\n",
    "            else:\n",
    "                return -1\n",
    "        '''\n",
    "        # tie\n",
    "        if len(self.availablePositions()) == 0:\n",
    "            self.isEnd = True\n",
    "            return 0\n",
    "        return None\n",
    "    \n",
    "    def giveReward(self):\n",
    "        winner = self.checkWinner()\n",
    "        if winner == 1:\n",
    "            self.player1.feedReward(1)\n",
    "            self.player2.feedReward(-0.1)\n",
    "        if winner == -1:\n",
    "            self.player1.feedReward(0)\n",
    "            self.player2.feedReward(1)\n",
    "        else:\n",
    "            # keep in mind that a tie is worse for player 1 who has more moves to win with\n",
    "            self.player1.feedReward(0.1)\n",
    "            self.player2.feedReward(0.9)\n",
    "            \n",
    "    def reset(self):\n",
    "        self.board = np.zeros((self.numrows, self.numcols))\n",
    "        self.boardID = None\n",
    "        self.isEnd = False\n",
    "        self.playerSymbol = 1\n",
    "        \n",
    "    '''\n",
    "    PLAYING\n",
    "    '''\n",
    "    \n",
    "    '''\n",
    "    play against self\n",
    "    '''\n",
    "    def play(self, trainingrounds=100):\n",
    "        wins = []\n",
    "        meanrand = (self.player1.explore_rate**2)*self.numrows*self.numcols\n",
    "        for i in tqdm(range(0, trainingrounds)):\n",
    "            rand=False\n",
    "            randmoves1 = 0\n",
    "            randmoves2 = 0\n",
    "            if self.randinit:\n",
    "                randmoves1 = int(round(np.random.normal(meanrand, meanrand/2)))\n",
    "                randmoves2 = int(round(np.random.normal(meanrand, meanrand/2)))\n",
    "            while not self.isEnd:\n",
    "                positions = self.availablePositions()\n",
    "                if randmoves1 > 0:\n",
    "                    rand=True\n",
    "                    randmoves1 = randmoves1-1\n",
    "                player1move = self.player1.chooseAction(positions, self.board, self.playerSymbol, rand=rand)\n",
    "                rand=False\n",
    "                self.updateMove(player1move)\n",
    "                boardID = self.getBoardID()\n",
    "                self.player1.addState(boardID)\n",
    "                \n",
    "                win = self.checkWinner()\n",
    "                # if player 1 wins\n",
    "                if win != None:\n",
    "                    self.giveReward()\n",
    "                    self.player1.reset()\n",
    "                    self.player2.reset()\n",
    "                    self.reset()\n",
    "                    break\n",
    "                # if player 1 did not win\n",
    "                else:\n",
    "                    positions = self.availablePositions()\n",
    "                    if randmoves2 > 0:\n",
    "                        rand=True\n",
    "                        randmoves2 -= 1\n",
    "                    player2move = self.player2.chooseAction(positions, self.board, self.playerSymbol, rand=rand)\n",
    "                    rand=False\n",
    "                    self.updateMove(player2move)\n",
    "                    boardID = self.getBoardID()\n",
    "                    self.player2.addState(boardID)\n",
    "\n",
    "                    win = self.checkWinner()\n",
    "                    # if player 1 wins\n",
    "                    if win != None:\n",
    "                        self.giveReward()\n",
    "                        self.player1.reset()\n",
    "                        self.player2.reset()\n",
    "                        self.reset()\n",
    "                        break\n",
    "            wins.append(win)\n",
    "        return wins\n",
    "    '''\n",
    "    Play against human player\n",
    "    '''\n",
    "    def playhuman(self, prints=True):\n",
    "        self.showBoard()\n",
    "        while not self.isEnd:\n",
    "            positions = self.availablePositions()\n",
    "            player1move = self.player1.chooseAction(positions, self.board, self.playerSymbol)\n",
    "            self.updateMove(player1move)\n",
    "            self.showBoard()\n",
    "            win = self.checkWinner()\n",
    "            if win != None:\n",
    "                self.reset()\n",
    "                break\n",
    "            else:\n",
    "                positions = self.availablePositions()\n",
    "                player2move = self.player2.chooseAction(positions, self.board, self.playerSymbol)\n",
    "                self.updateMove(player2move)\n",
    "                self.showBoard()\n",
    "                win = self.checkWinner()\n",
    "                if win != None:\n",
    "                    self.reset()\n",
    "                    break\n",
    "        if prints:\n",
    "            if win == 1:\n",
    "                print(self.player1.name, \"wins!\")\n",
    "            elif win == -1:\n",
    "                print(self.player2.name, \"wins!\")\n",
    "            else:\n",
    "                print(\"tie!\")\n",
    "        return win\n",
    "                    \n",
    "    def showBoard(self):\n",
    "        # player1: x  player2: o\n",
    "        colcounts = \"   \"\n",
    "        for j in range(0, self.numcols):\n",
    "            colcounts += f\"| {j} \"\n",
    "        colcounts += \"|\"\n",
    "        print(colcounts)\n",
    "        for i in range(0, self.numrows):\n",
    "            divider = '-----'\n",
    "            for j in range(0, self.numcols):\n",
    "                divider += '----'\n",
    "            print(divider)\n",
    "            out = f'{i}  | '\n",
    "            for j in range(0, self.numcols):\n",
    "                if self.board[i, j] == 1:\n",
    "                    token = 'x'\n",
    "                if self.board[i, j] == -1:\n",
    "                    token = 'o'\n",
    "                if self.board[i, j] == 0:\n",
    "                    token = ' '\n",
    "                out += token + ' | '\n",
    "            print(out)\n",
    "        print(divider+'\\n')"
   ]
  },
  {
   "cell_type": "code",
   "execution_count": 3,
   "metadata": {
    "scrolled": true
   },
   "outputs": [],
   "source": [
    "''' \n",
    "PLAYER CLASS\n",
    "\n",
    "Also heavily inspired by https://towardsdatascience.com/reinforcement-learning-implement-tictactoe-189582bea542\n",
    "\n",
    "'''\n",
    "class player:\n",
    "    def __init__(self, name, explore_rate=0.3, learning_rate = 0.2):\n",
    "        self.name = name\n",
    "        self.states = []\n",
    "        self.learningrate = learning_rate\n",
    "        self.explore_rate = explore_rate\n",
    "        self.decay_gamma = 0.9\n",
    "        self.states_values = {}\n",
    "        \n",
    "    def getBoardID(self, board):\n",
    "        boardID = str(board.reshape(len(board)*len(board[0])))\n",
    "        return boardID\n",
    "        \n",
    "    def chooseAction(self, positions, current_board, symbol, rand=False):\n",
    "        # choose whether to explore or not\n",
    "        action = positions[np.random.choice(len(positions))]\n",
    "        if not rand:\n",
    "            if np.random.uniform(0, 1) >= self.explore_rate:\n",
    "                value_max = -10000\n",
    "                for position in positions:\n",
    "                    nextBoard = current_board.copy()\n",
    "                    nextBoard[position] = symbol\n",
    "                    nextBoardHash = self.getBoardID(nextBoard)\n",
    "                    value = 0\n",
    "                    if self.states_values.get(nextBoardHash) != None:\n",
    "                        value = self.states_values.get(nextBoardHash)\n",
    "                    if value >= value_max:\n",
    "                        value_max = value\n",
    "                        action = position\n",
    "        return action\n",
    "    \n",
    "    def addState(self, state):\n",
    "        self.states.append(state)\n",
    "    \n",
    "    def feedReward(self, reward):\n",
    "        for state in reversed(self.states):\n",
    "            if self.states_values.get(state) == None:\n",
    "                self.states_values[state] = 0\n",
    "            self.states_values[state] += self.learningrate * (self.decay_gamma * reward - self.states_values[state])\n",
    "            reward = self.states_values[state]\n",
    "            \n",
    "    def reset(self):\n",
    "        self.states = []\n",
    "        \n",
    "    def savePolicy(self):\n",
    "        fw = open('policy_' + str(self.name), 'wb')\n",
    "        pickle.dump(self.states_values, fw)\n",
    "        fw.close()\n",
    "\n",
    "    def loadPolicy(self, file):\n",
    "        fr = open(file, 'rb')\n",
    "        self.states_values = pickle.load(fr)\n",
    "        fr.close()\n"
   ]
  },
  {
   "cell_type": "code",
   "execution_count": 4,
   "metadata": {
    "scrolled": true
   },
   "outputs": [],
   "source": [
    "class HumanPlayer:\n",
    "    def __init__(self, name):\n",
    "        self.name = name\n",
    "\n",
    "    def chooseAction(self, positions, board, playerSymbol):\n",
    "        while True:\n",
    "            row = int(input(\"Input your action row:\"))\n",
    "            col = int(input(\"Input your action col:\"))\n",
    "            action = (row, col)\n",
    "            if action in positions:\n",
    "                return action\n",
    "\n",
    "    # append a hash state\n",
    "    def addState(self, state):\n",
    "        pass\n",
    "\n",
    "    # at the end of game, backpropagate and update states value\n",
    "    def feedReward(self, reward):\n",
    "        pass\n",
    "\n",
    "    def reset(self):\n",
    "        pass\n"
   ]
  },
  {
   "cell_type": "code",
   "execution_count": null,
   "metadata": {
    "scrolled": true
   },
   "outputs": [],
   "source": [
    "numrounds = 400000\n",
    "p102 = player(\"p102\", 0.3)\n",
    "p202 = player(\"p202\", 0.3)\n",
    "\n",
    "st = tictactoe(p102, p202)\n",
    "print(\"training...\")\n",
    "wins02 = st.play(numrounds)\n",
    "\n",
    "p102.savePolicy()\n",
    "p202.savePolicy()"
   ]
  },
  {
   "cell_type": "code",
   "execution_count": null,
   "metadata": {
    "scrolled": false
   },
   "outputs": [],
   "source": [
    "numrounds = 400000\n",
    "p103 = player(\"p103\", 0.3)\n",
    "p203 = player(\"p203\", 0.3)\n",
    "\n",
    "st = tictactoe(p103, p203)\n",
    "print(\"training...\")\n",
    "wins03 = st.play(numrounds)\n",
    "\n",
    "p103.savePolicy()\n",
    "p203.savePolicy()"
   ]
  },
  {
   "cell_type": "code",
   "execution_count": null,
   "metadata": {
    "scrolled": true
   },
   "outputs": [],
   "source": [
    "p101 = player(\"p101\", 0.1)\n",
    "p201 = player(\"p201\", 0.1)\n",
    "\n",
    "st = tictactoe(p101, p201)\n",
    "print(\"training...\")\n",
    "wins01 = st.play(numrounds)\n",
    "\n",
    "p101.savePolicy()\n",
    "p201.savePolicy()"
   ]
  },
  {
   "cell_type": "code",
   "execution_count": null,
   "metadata": {
    "scrolled": true
   },
   "outputs": [],
   "source": [
    "# plot different exploration rates"
   ]
  },
  {
   "cell_type": "code",
   "execution_count": 26,
   "metadata": {
    "scrolled": true
   },
   "outputs": [
    {
     "data": {
      "image/png": "[encoded data removed]",
      "text/plain": [
       "<Figure size 432x288 with 1 Axes>"
      ]
     },
     "metadata": {
      "needs_background": "light"
     },
     "output_type": "display_data"
    }
   ],
   "source": [
    "'''\n",
    "varying explore rates and how they learn\n",
    "'''\n",
    "numrounds = 400000\n",
    "x = []\n",
    "y1 = []\n",
    "y2 = []\n",
    "y3 = []\n",
    "for i in range(0, numrounds//10000):\n",
    "    x.append(i)\n",
    "    y1.append(np.mean(np.abs(wins01[(i*10000):(i+1)*10000])))\n",
    "    y2.append(np.mean(np.abs(wins02[(i*10000):(i+1)*10000])))\n",
    "    y3.append(np.mean(np.abs(wins03[(i*10000):(i+1)*10000])))\n",
    "    \n",
    "plt.scatter(x, y1, label=\"0.1\")\n",
    "plt.scatter(x, y2, label=\"0.2\")\n",
    "plt.scatter(x, y3, label=\"0.3\")\n",
    "plt.legend()\n",
    "plt.xlabel(\"Tens of thousands of rounds\")\n",
    "plt.ylabel(\"Win rate vs. self\")\n",
    "plt.show()"
   ]
  },
  {
   "cell_type": "code",
   "execution_count": null,
   "metadata": {
    "scrolled": true
   },
   "outputs": [],
   "source": [
    "'''\n",
    "slowly adjusting down LR\n",
    "NOTE: code for graph got cut accidentally\n",
    "'''\n",
    "p1newlearn = player(\"LRadj1\", explore_rate=0.1)\n",
    "p2newlearn = player(\"LRadj2\", explore_rate=0.1)\n",
    "p1newlearn.loadPolicy(\"policy_p1\")\n",
    "p2newlearn.loadPolicy(\"policy_p2\")\n",
    "\n",
    "st = tictactoe(p1newlearn, p2newlearn)\n",
    "print(\"training...\")\n",
    "winsnew = st.play(10000)\n",
    "\n",
    "p1newlearn.savePolicy()\n",
    "p2newlearn.savePolicy()\n",
    "\n",
    "p1newlearn = player(\"LRadj1\", explore_rate=0.05)\n",
    "p2newlearn = player(\"LRadj2\", explore_rate=0.05)\n",
    "p1newlearn.loadPolicy(\"policy_LRadj1\")\n",
    "p2newlearn.loadPolicy(\"policy_LRadj2\")\n",
    "\n",
    "st = tictactoe(p1newlearn, p2newlearn)\n",
    "print(\"training...\")\n",
    "winsnew = st.play(10000)\n",
    "\n",
    "p1newlearn.savePolicy()\n",
    "p2newlearn.savePolicy()"
   ]
  },
  {
   "cell_type": "code",
   "execution_count": null,
   "metadata": {},
   "outputs": [],
   "source": []
  },
  {
   "cell_type": "code",
   "execution_count": 5,
   "metadata": {},
   "outputs": [],
   "source": [
    "'''\n",
    "DYNAMIC EXPLORE RATE\n",
    "'''\n",
    "def makedynamic(numrounds=15000, numexplores=11, expstart=0.4, movingalpha=False,\n",
    "                p1dynamic=None, p2dynamic=None, \n",
    "                rows=3, cols=3, winc=3, gmove=False, \n",
    "                randinit=False, stratnames='dynamic'):\n",
    "    # moving alpha - have alpha (learning rate) be equal to explore rate -- so learn faster\n",
    "    # in exploration stage, learn slower in convergence stage\n",
    "    x= []\n",
    "    ydynamic = []\n",
    "    expdiff = 0\n",
    "    if numexplores > 1:\n",
    "        expdiff = expstart/(numexplores-1)\n",
    "    print(expdiff)\n",
    "    winsdynamic = []\n",
    "    if not movingalpha:\n",
    "        alpha=0.2\n",
    "    else:\n",
    "        alpha=expstart\n",
    "    if p1dynamic == None:\n",
    "        p1dynamic = player(stratnames+\"1\", explore_rate=expstart, learning_rate=alpha)\n",
    "    if p2dynamic == None:\n",
    "        p2dynamic = player(stratnames+\"2\", explore_rate=expstart, learning_rate=alpha)\n",
    "\n",
    "    for i in range(0, numexplores):\n",
    "        exprate = round(expstart-expdiff*i, 2)\n",
    "        # reset learning rate for next stage\n",
    "        if movingalpha:\n",
    "            alpha=exprate\n",
    "            if alpha==0:\n",
    "                alpha = 0.01\n",
    "        \n",
    "        st = tictactoe(p1dynamic, p2dynamic, numrows=rows, numcols=cols, wincount=winc, gravitymove=gmove, randinit=randinit)\n",
    "        print(f\"training for explore rate {exprate} and alpha {alpha}\")\n",
    "        winsdynamic.extend(st.play(numrounds))\n",
    "\n",
    "        p1dynamic.savePolicy()\n",
    "        p2dynamic.savePolicy()\n",
    "        \n",
    "        \n",
    "        \n",
    "        p1dynamic = player(stratnames+\"1\", explore_rate=exprate, learning_rate=alpha)\n",
    "        p2dynamic = player(stratnames+\"2\", explore_rate=exprate, learning_rate=alpha)\n",
    "        p1dynamic.loadPolicy(\"policy_\"+stratnames+\"1\")\n",
    "        p2dynamic.loadPolicy(\"policy_\"+stratnames+\"2\")\n",
    "\n",
    "    for i in range(0, numrounds*numexplores//100):\n",
    "        x.append(i)\n",
    "        ydynamic.append(np.mean(np.abs(winsdynamic[(i*100):(i+1)*100])))\n",
    "\n",
    "    plt.scatter(x, ydynamic, s=4)\n",
    "    plt.ylim(0, 1)\n",
    "    plt.xlabel(\"Training round / 100\")\n",
    "    plt.ylabel(\"Rate of games with clear winner\")\n",
    "    plt.title(f\"Rate of wins vs. training rounds with {numexplores} explore rates from {0.4} down to 0\")\n",
    "    for i in range(0, numexplores):\n",
    "        plt.vlines(i*numrounds//100, 0, 1)\n",
    "    plt.show()\n",
    "    \n",
    "    return p1dynamic, p2dynamic"
   ]
  },
  {
   "cell_type": "code",
   "execution_count": 20,
   "metadata": {},
   "outputs": [
    {
     "name": "stdout",
     "output_type": "stream",
     "text": [
      "0.04\n",
      "training for explore rate 0.4\n"
     ]
    },
    {
     "name": "stderr",
     "output_type": "stream",
     "text": [
      "100%|███████████████████████████████████████████████████████████████████████████| 15000/15000 [01:03<00:00, 235.02it/s]\n"
     ]
    },
    {
     "name": "stdout",
     "output_type": "stream",
     "text": [
      "training for explore rate 0.36\n"
     ]
    },
    {
     "name": "stderr",
     "output_type": "stream",
     "text": [
      "100%|███████████████████████████████████████████████████████████████████████████| 15000/15000 [01:14<00:00, 202.35it/s]\n"
     ]
    },
    {
     "name": "stdout",
     "output_type": "stream",
     "text": [
      "training for explore rate 0.32\n"
     ]
    },
    {
     "name": "stderr",
     "output_type": "stream",
     "text": [
      "100%|███████████████████████████████████████████████████████████████████████████| 15000/15000 [01:17<00:00, 193.14it/s]\n"
     ]
    },
    {
     "name": "stdout",
     "output_type": "stream",
     "text": [
      "training for explore rate 0.28\n"
     ]
    },
    {
     "name": "stderr",
     "output_type": "stream",
     "text": [
      "100%|███████████████████████████████████████████████████████████████████████████| 15000/15000 [01:24<00:00, 177.07it/s]\n"
     ]
    },
    {
     "name": "stdout",
     "output_type": "stream",
     "text": [
      "training for explore rate 0.24\n"
     ]
    },
    {
     "name": "stderr",
     "output_type": "stream",
     "text": [
      "100%|███████████████████████████████████████████████████████████████████████████| 15000/15000 [01:24<00:00, 177.23it/s]\n"
     ]
    },
    {
     "name": "stdout",
     "output_type": "stream",
     "text": [
      "training for explore rate 0.2\n"
     ]
    },
    {
     "name": "stderr",
     "output_type": "stream",
     "text": [
      "100%|███████████████████████████████████████████████████████████████████████████| 15000/15000 [01:30<00:00, 165.32it/s]\n"
     ]
    },
    {
     "name": "stdout",
     "output_type": "stream",
     "text": [
      "training for explore rate 0.16\n"
     ]
    },
    {
     "name": "stderr",
     "output_type": "stream",
     "text": [
      "100%|███████████████████████████████████████████████████████████████████████████| 15000/15000 [01:43<00:00, 144.50it/s]\n"
     ]
    },
    {
     "name": "stdout",
     "output_type": "stream",
     "text": [
      "training for explore rate 0.12\n"
     ]
    },
    {
     "name": "stderr",
     "output_type": "stream",
     "text": [
      "100%|███████████████████████████████████████████████████████████████████████████| 15000/15000 [01:42<00:00, 147.04it/s]\n"
     ]
    },
    {
     "name": "stdout",
     "output_type": "stream",
     "text": [
      "training for explore rate 0.08\n"
     ]
    },
    {
     "name": "stderr",
     "output_type": "stream",
     "text": [
      "100%|███████████████████████████████████████████████████████████████████████████| 15000/15000 [01:52<00:00, 132.89it/s]\n"
     ]
    },
    {
     "name": "stdout",
     "output_type": "stream",
     "text": [
      "training for explore rate 0.04\n"
     ]
    },
    {
     "name": "stderr",
     "output_type": "stream",
     "text": [
      "100%|███████████████████████████████████████████████████████████████████████████| 15000/15000 [01:53<00:00, 132.20it/s]\n"
     ]
    },
    {
     "name": "stdout",
     "output_type": "stream",
     "text": [
      "training for explore rate 0.0\n"
     ]
    },
    {
     "name": "stderr",
     "output_type": "stream",
     "text": [
      "100%|███████████████████████████████████████████████████████████████████████████| 15000/15000 [01:54<00:00, 131.23it/s]\n"
     ]
    },
    {
     "data": {
      "image/png": "[encoded data removed]",
      "text/plain": [
       "<Figure size 432x288 with 1 Axes>"
      ]
     },
     "metadata": {
      "needs_background": "light"
     },
     "output_type": "display_data"
    }
   ],
   "source": [
    "makedynamic(15000, 11, 0.4)"
   ]
  },
  {
   "cell_type": "code",
   "execution_count": 19,
   "metadata": {},
   "outputs": [
    {
     "name": "stdout",
     "output_type": "stream",
     "text": [
      "0.04\n",
      "training for explore rate 0.4\n"
     ]
    },
    {
     "name": "stderr",
     "output_type": "stream",
     "text": [
      "100%|███████████████████████████████████████████████████████████████████████████| 10000/10000 [00:36<00:00, 272.10it/s]\n"
     ]
    },
    {
     "name": "stdout",
     "output_type": "stream",
     "text": [
      "training for explore rate 0.36\n"
     ]
    },
    {
     "name": "stderr",
     "output_type": "stream",
     "text": [
      "100%|███████████████████████████████████████████████████████████████████████████| 10000/10000 [00:41<00:00, 243.37it/s]\n"
     ]
    },
    {
     "name": "stdout",
     "output_type": "stream",
     "text": [
      "training for explore rate 0.32\n"
     ]
    },
    {
     "name": "stderr",
     "output_type": "stream",
     "text": [
      "100%|███████████████████████████████████████████████████████████████████████████| 10000/10000 [01:08<00:00, 146.53it/s]\n"
     ]
    },
    {
     "name": "stdout",
     "output_type": "stream",
     "text": [
      "training for explore rate 0.28\n"
     ]
    },
    {
     "name": "stderr",
     "output_type": "stream",
     "text": [
      "100%|███████████████████████████████████████████████████████████████████████████| 10000/10000 [00:50<00:00, 196.70it/s]\n"
     ]
    },
    {
     "name": "stdout",
     "output_type": "stream",
     "text": [
      "training for explore rate 0.24\n"
     ]
    },
    {
     "name": "stderr",
     "output_type": "stream",
     "text": [
      "100%|███████████████████████████████████████████████████████████████████████████| 10000/10000 [01:01<00:00, 162.17it/s]\n"
     ]
    },
    {
     "name": "stdout",
     "output_type": "stream",
     "text": [
      "training for explore rate 0.2\n"
     ]
    },
    {
     "name": "stderr",
     "output_type": "stream",
     "text": [
      "100%|███████████████████████████████████████████████████████████████████████████| 10000/10000 [01:02<00:00, 159.21it/s]\n"
     ]
    },
    {
     "name": "stdout",
     "output_type": "stream",
     "text": [
      "training for explore rate 0.16\n"
     ]
    },
    {
     "name": "stderr",
     "output_type": "stream",
     "text": [
      "100%|███████████████████████████████████████████████████████████████████████████| 10000/10000 [01:01<00:00, 162.81it/s]\n"
     ]
    },
    {
     "name": "stdout",
     "output_type": "stream",
     "text": [
      "training for explore rate 0.12\n"
     ]
    },
    {
     "name": "stderr",
     "output_type": "stream",
     "text": [
      "100%|███████████████████████████████████████████████████████████████████████████| 10000/10000 [01:15<00:00, 131.64it/s]\n"
     ]
    },
    {
     "name": "stdout",
     "output_type": "stream",
     "text": [
      "training for explore rate 0.08\n"
     ]
    },
    {
     "name": "stderr",
     "output_type": "stream",
     "text": [
      "100%|███████████████████████████████████████████████████████████████████████████| 10000/10000 [01:09<00:00, 144.14it/s]\n"
     ]
    },
    {
     "name": "stdout",
     "output_type": "stream",
     "text": [
      "training for explore rate 0.04\n"
     ]
    },
    {
     "name": "stderr",
     "output_type": "stream",
     "text": [
      "100%|███████████████████████████████████████████████████████████████████████████| 10000/10000 [01:14<00:00, 134.28it/s]\n"
     ]
    },
    {
     "name": "stdout",
     "output_type": "stream",
     "text": [
      "training for explore rate 0.0\n"
     ]
    },
    {
     "name": "stderr",
     "output_type": "stream",
     "text": [
      "100%|███████████████████████████████████████████████████████████████████████████| 10000/10000 [01:22<00:00, 120.58it/s]\n"
     ]
    },
    {
     "data": {
      "image/png": "[encoded data removed]",
      "text/plain": [
       "<Figure size 432x288 with 1 Axes>"
      ]
     },
     "metadata": {
      "needs_background": "light"
     },
     "output_type": "display_data"
    }
   ],
   "source": [
    "makedynamic(10000, 11, 0.4)"
   ]
  },
  {
   "cell_type": "code",
   "execution_count": 11,
   "metadata": {},
   "outputs": [
    {
     "name": "stdout",
     "output_type": "stream",
     "text": [
      "0.05\n",
      "training for explore rate 0.4 and alpha 0.2\n"
     ]
    },
    {
     "name": "stderr",
     "output_type": "stream",
     "text": [
      "100%|████████████████████████████████████████████████████████████████████████████| 10000/10000 [02:41<00:00, 61.99it/s]\n"
     ]
    },
    {
     "name": "stdout",
     "output_type": "stream",
     "text": [
      "training for explore rate 0.35 and alpha 0.2\n"
     ]
    },
    {
     "name": "stderr",
     "output_type": "stream",
     "text": [
      "100%|████████████████████████████████████████████████████████████████████████████| 10000/10000 [01:55<00:00, 86.27it/s]\n"
     ]
    },
    {
     "name": "stdout",
     "output_type": "stream",
     "text": [
      "training for explore rate 0.3 and alpha 0.2\n"
     ]
    },
    {
     "name": "stderr",
     "output_type": "stream",
     "text": [
      "100%|███████████████████████████████████████████████████████████████████████████| 10000/10000 [00:41<00:00, 238.49it/s]\n"
     ]
    },
    {
     "name": "stdout",
     "output_type": "stream",
     "text": [
      "training for explore rate 0.25 and alpha 0.2\n"
     ]
    },
    {
     "name": "stderr",
     "output_type": "stream",
     "text": [
      "100%|███████████████████████████████████████████████████████████████████████████| 10000/10000 [00:51<00:00, 193.22it/s]\n"
     ]
    },
    {
     "name": "stdout",
     "output_type": "stream",
     "text": [
      "training for explore rate 0.2 and alpha 0.2\n"
     ]
    },
    {
     "name": "stderr",
     "output_type": "stream",
     "text": [
      "100%|███████████████████████████████████████████████████████████████████████████| 10000/10000 [00:53<00:00, 187.11it/s]\n"
     ]
    },
    {
     "name": "stdout",
     "output_type": "stream",
     "text": [
      "training for explore rate 0.15 and alpha 0.2\n"
     ]
    },
    {
     "name": "stderr",
     "output_type": "stream",
     "text": [
      "100%|███████████████████████████████████████████████████████████████████████████| 10000/10000 [00:57<00:00, 175.44it/s]\n"
     ]
    },
    {
     "name": "stdout",
     "output_type": "stream",
     "text": [
      "training for explore rate 0.1 and alpha 0.2\n"
     ]
    },
    {
     "name": "stderr",
     "output_type": "stream",
     "text": [
      "100%|███████████████████████████████████████████████████████████████████████████| 10000/10000 [01:06<00:00, 149.85it/s]\n"
     ]
    },
    {
     "name": "stdout",
     "output_type": "stream",
     "text": [
      "training for explore rate 0.05 and alpha 0.2\n"
     ]
    },
    {
     "name": "stderr",
     "output_type": "stream",
     "text": [
      "100%|███████████████████████████████████████████████████████████████████████████| 10000/10000 [01:31<00:00, 109.29it/s]\n"
     ]
    },
    {
     "name": "stdout",
     "output_type": "stream",
     "text": [
      "training for explore rate 0.0 and alpha 0.2\n"
     ]
    },
    {
     "name": "stderr",
     "output_type": "stream",
     "text": [
      "100%|███████████████████████████████████████████████████████████████████████████| 10000/10000 [01:23<00:00, 119.65it/s]\n"
     ]
    },
    {
     "data": {
      "image/png": "[encoded data removed]",
      "text/plain": [
       "<Figure size 432x288 with 1 Axes>"
      ]
     },
     "metadata": {
      "needs_background": "light"
     },
     "output_type": "display_data"
    }
   ],
   "source": [
    "p1, p2 = makedynamic(10000, 9, 0.4)"
   ]
  },
  {
   "cell_type": "code",
   "execution_count": 13,
   "metadata": {},
   "outputs": [
    {
     "name": "stdout",
     "output_type": "stream",
     "text": [
      "   | 0 | 1 | 2 |\n",
      "-----------------\n",
      "0  |   |   |   | \n",
      "-----------------\n",
      "1  |   |   |   | \n",
      "-----------------\n",
      "2  |   |   |   | \n",
      "-----------------\n",
      "\n",
      "   | 0 | 1 | 2 |\n",
      "-----------------\n",
      "0  |   |   |   | \n",
      "-----------------\n",
      "1  |   | x |   | \n",
      "-----------------\n",
      "2  |   |   |   | \n",
      "-----------------\n",
      "\n",
      "Input your action row:0\n",
      "Input your action col:0\n",
      "   | 0 | 1 | 2 |\n",
      "-----------------\n",
      "0  | o |   |   | \n",
      "-----------------\n",
      "1  |   | x |   | \n",
      "-----------------\n",
      "2  |   |   |   | \n",
      "-----------------\n",
      "\n",
      "   | 0 | 1 | 2 |\n",
      "-----------------\n",
      "0  | o | x |   | \n",
      "-----------------\n",
      "1  |   | x |   | \n",
      "-----------------\n",
      "2  |   |   |   | \n",
      "-----------------\n",
      "\n",
      "Input your action row:2\n",
      "Input your action col:1\n",
      "   | 0 | 1 | 2 |\n",
      "-----------------\n",
      "0  | o | x |   | \n",
      "-----------------\n",
      "1  |   | x |   | \n",
      "-----------------\n",
      "2  |   | o |   | \n",
      "-----------------\n",
      "\n",
      "   | 0 | 1 | 2 |\n",
      "-----------------\n",
      "0  | o | x |   | \n",
      "-----------------\n",
      "1  | x | x |   | \n",
      "-----------------\n",
      "2  |   | o |   | \n",
      "-----------------\n",
      "\n",
      "Input your action row:1\n",
      "Input your action col:2\n",
      "   | 0 | 1 | 2 |\n",
      "-----------------\n",
      "0  | o | x |   | \n",
      "-----------------\n",
      "1  | x | x | o | \n",
      "-----------------\n",
      "2  |   | o |   | \n",
      "-----------------\n",
      "\n",
      "   | 0 | 1 | 2 |\n",
      "-----------------\n",
      "0  | o | x | x | \n",
      "-----------------\n",
      "1  | x | x | o | \n",
      "-----------------\n",
      "2  |   | o |   | \n",
      "-----------------\n",
      "\n",
      "Input your action row:2\n",
      "Input your action col:0\n",
      "   | 0 | 1 | 2 |\n",
      "-----------------\n",
      "0  | o | x | x | \n",
      "-----------------\n",
      "1  | x | x | o | \n",
      "-----------------\n",
      "2  | o | o |   | \n",
      "-----------------\n",
      "\n",
      "   | 0 | 1 | 2 |\n",
      "-----------------\n",
      "0  | o | x | x | \n",
      "-----------------\n",
      "1  | x | x | o | \n",
      "-----------------\n",
      "2  | o | o | x | \n",
      "-----------------\n",
      "\n",
      "tie!\n"
     ]
    },
    {
     "data": {
      "text/plain": [
       "0"
      ]
     },
     "execution_count": 13,
     "metadata": {},
     "output_type": "execute_result"
    }
   ],
   "source": [
    "# p1 = player(\"computer\", explore_rate=0)\n",
    "human = HumanPlayer(\"human\")\n",
    "# p1.loadPolicy(\"policy_p1\")\n",
    "game = tictactoe(p1, human)\n",
    "game.playhuman()"
   ]
  },
  {
   "cell_type": "markdown",
   "metadata": {},
   "source": [
    "Dynamic step size (alpha)?"
   ]
  },
  {
   "cell_type": "code",
   "execution_count": 17,
   "metadata": {},
   "outputs": [
    {
     "name": "stdout",
     "output_type": "stream",
     "text": [
      "0.05\n",
      "training for explore rate 0.4 and alpha 0.4\n"
     ]
    },
    {
     "name": "stderr",
     "output_type": "stream",
     "text": [
      "100%|███████████████████████████████████████████████████████████████████████████| 10000/10000 [01:12<00:00, 138.52it/s]\n"
     ]
    },
    {
     "name": "stdout",
     "output_type": "stream",
     "text": [
      "training for explore rate 0.35 and alpha 0.35\n"
     ]
    },
    {
     "name": "stderr",
     "output_type": "stream",
     "text": [
      "100%|███████████████████████████████████████████████████████████████████████████| 10000/10000 [01:06<00:00, 149.45it/s]\n"
     ]
    },
    {
     "name": "stdout",
     "output_type": "stream",
     "text": [
      "training for explore rate 0.3 and alpha 0.3\n"
     ]
    },
    {
     "name": "stderr",
     "output_type": "stream",
     "text": [
      "100%|███████████████████████████████████████████████████████████████████████████| 10000/10000 [01:02<00:00, 158.75it/s]\n"
     ]
    },
    {
     "name": "stdout",
     "output_type": "stream",
     "text": [
      "training for explore rate 0.25 and alpha 0.25\n"
     ]
    },
    {
     "name": "stderr",
     "output_type": "stream",
     "text": [
      "100%|███████████████████████████████████████████████████████████████████████████| 10000/10000 [00:57<00:00, 172.75it/s]\n"
     ]
    },
    {
     "name": "stdout",
     "output_type": "stream",
     "text": [
      "training for explore rate 0.2 and alpha 0.2\n"
     ]
    },
    {
     "name": "stderr",
     "output_type": "stream",
     "text": [
      "100%|███████████████████████████████████████████████████████████████████████████| 10000/10000 [00:57<00:00, 172.59it/s]\n"
     ]
    },
    {
     "name": "stdout",
     "output_type": "stream",
     "text": [
      "training for explore rate 0.15 and alpha 0.15\n"
     ]
    },
    {
     "name": "stderr",
     "output_type": "stream",
     "text": [
      "100%|███████████████████████████████████████████████████████████████████████████| 10000/10000 [01:07<00:00, 148.66it/s]\n"
     ]
    },
    {
     "name": "stdout",
     "output_type": "stream",
     "text": [
      "training for explore rate 0.1 and alpha 0.1\n"
     ]
    },
    {
     "name": "stderr",
     "output_type": "stream",
     "text": [
      "100%|███████████████████████████████████████████████████████████████████████████| 10000/10000 [01:32<00:00, 107.92it/s]\n"
     ]
    },
    {
     "name": "stdout",
     "output_type": "stream",
     "text": [
      "training for explore rate 0.05 and alpha 0.05\n"
     ]
    },
    {
     "name": "stderr",
     "output_type": "stream",
     "text": [
      "100%|███████████████████████████████████████████████████████████████████████████| 10000/10000 [01:22<00:00, 120.99it/s]\n"
     ]
    },
    {
     "name": "stdout",
     "output_type": "stream",
     "text": [
      "training for explore rate 0.0 and alpha 0.01\n"
     ]
    },
    {
     "name": "stderr",
     "output_type": "stream",
     "text": [
      "100%|███████████████████████████████████████████████████████████████████████████| 10000/10000 [01:20<00:00, 123.61it/s]\n"
     ]
    },
    {
     "data": {
      "image/png": "[encoded data removed]",
      "text/plain": [
       "<Figure size 432x288 with 1 Axes>"
      ]
     },
     "metadata": {
      "needs_background": "light"
     },
     "output_type": "display_data"
    }
   ],
   "source": [
    "p1, p2 = makedynamic(10000, 9, 0.4, movingalpha = True)"
   ]
  },
  {
   "cell_type": "code",
   "execution_count": 18,
   "metadata": {},
   "outputs": [
    {
     "name": "stdout",
     "output_type": "stream",
     "text": [
      "0.05\n",
      "training for explore rate 0.4 and alpha 0.4\n"
     ]
    },
    {
     "name": "stderr",
     "output_type": "stream",
     "text": [
      "100%|█████████████████████████████████████████████████████████████████████████████| 8000/8000 [00:35<00:00, 227.21it/s]\n"
     ]
    },
    {
     "name": "stdout",
     "output_type": "stream",
     "text": [
      "training for explore rate 0.35 and alpha 0.35\n"
     ]
    },
    {
     "name": "stderr",
     "output_type": "stream",
     "text": [
      "100%|█████████████████████████████████████████████████████████████████████████████| 8000/8000 [00:40<00:00, 199.88it/s]\n"
     ]
    },
    {
     "name": "stdout",
     "output_type": "stream",
     "text": [
      "training for explore rate 0.3 and alpha 0.3\n"
     ]
    },
    {
     "name": "stderr",
     "output_type": "stream",
     "text": [
      "100%|█████████████████████████████████████████████████████████████████████████████| 8000/8000 [00:54<00:00, 147.92it/s]\n"
     ]
    },
    {
     "name": "stdout",
     "output_type": "stream",
     "text": [
      "training for explore rate 0.25 and alpha 0.25\n"
     ]
    },
    {
     "name": "stderr",
     "output_type": "stream",
     "text": [
      "100%|█████████████████████████████████████████████████████████████████████████████| 8000/8000 [00:59<00:00, 134.00it/s]\n"
     ]
    },
    {
     "name": "stdout",
     "output_type": "stream",
     "text": [
      "training for explore rate 0.2 and alpha 0.2\n"
     ]
    },
    {
     "name": "stderr",
     "output_type": "stream",
     "text": [
      "100%|██████████████████████████████████████████████████████████████████████████████| 8000/8000 [01:21<00:00, 98.67it/s]\n"
     ]
    },
    {
     "name": "stdout",
     "output_type": "stream",
     "text": [
      "training for explore rate 0.15 and alpha 0.15\n"
     ]
    },
    {
     "name": "stderr",
     "output_type": "stream",
     "text": [
      "100%|█████████████████████████████████████████████████████████████████████████████| 8000/8000 [01:01<00:00, 129.53it/s]\n"
     ]
    },
    {
     "name": "stdout",
     "output_type": "stream",
     "text": [
      "training for explore rate 0.1 and alpha 0.1\n"
     ]
    },
    {
     "name": "stderr",
     "output_type": "stream",
     "text": [
      "100%|█████████████████████████████████████████████████████████████████████████████| 8000/8000 [01:05<00:00, 121.71it/s]\n"
     ]
    },
    {
     "name": "stdout",
     "output_type": "stream",
     "text": [
      "training for explore rate 0.05 and alpha 0.05\n"
     ]
    },
    {
     "name": "stderr",
     "output_type": "stream",
     "text": [
      "100%|█████████████████████████████████████████████████████████████████████████████| 8000/8000 [01:03<00:00, 125.59it/s]\n"
     ]
    },
    {
     "name": "stdout",
     "output_type": "stream",
     "text": [
      "training for explore rate 0.0 and alpha 0.01\n"
     ]
    },
    {
     "name": "stderr",
     "output_type": "stream",
     "text": [
      "100%|█████████████████████████████████████████████████████████████████████████████| 8000/8000 [00:58<00:00, 136.96it/s]\n"
     ]
    },
    {
     "data": {
      "image/png": "[encoded data removed]",
      "text/plain": [
       "<Figure size 432x288 with 1 Axes>"
      ]
     },
     "metadata": {
      "needs_background": "light"
     },
     "output_type": "display_data"
    }
   ],
   "source": [
    "p1, p2 = makedynamic(8000, 9, 0.4, movingalpha = True)"
   ]
  },
  {
   "cell_type": "code",
   "execution_count": 19,
   "metadata": {},
   "outputs": [
    {
     "name": "stdout",
     "output_type": "stream",
     "text": [
      "0.05\n",
      "training for explore rate 0.4 and alpha 0.4\n"
     ]
    },
    {
     "name": "stderr",
     "output_type": "stream",
     "text": [
      "100%|█████████████████████████████████████████████████████████████████████████████| 6000/6000 [00:23<00:00, 258.55it/s]\n"
     ]
    },
    {
     "name": "stdout",
     "output_type": "stream",
     "text": [
      "training for explore rate 0.35 and alpha 0.35\n"
     ]
    },
    {
     "name": "stderr",
     "output_type": "stream",
     "text": [
      "100%|█████████████████████████████████████████████████████████████████████████████| 6000/6000 [00:28<00:00, 209.09it/s]\n"
     ]
    },
    {
     "name": "stdout",
     "output_type": "stream",
     "text": [
      "training for explore rate 0.3 and alpha 0.3\n"
     ]
    },
    {
     "name": "stderr",
     "output_type": "stream",
     "text": [
      "100%|█████████████████████████████████████████████████████████████████████████████| 6000/6000 [00:31<00:00, 192.41it/s]\n"
     ]
    },
    {
     "name": "stdout",
     "output_type": "stream",
     "text": [
      "training for explore rate 0.25 and alpha 0.25\n"
     ]
    },
    {
     "name": "stderr",
     "output_type": "stream",
     "text": [
      "100%|█████████████████████████████████████████████████████████████████████████████| 6000/6000 [00:36<00:00, 165.15it/s]\n"
     ]
    },
    {
     "name": "stdout",
     "output_type": "stream",
     "text": [
      "training for explore rate 0.2 and alpha 0.2\n"
     ]
    },
    {
     "name": "stderr",
     "output_type": "stream",
     "text": [
      "100%|█████████████████████████████████████████████████████████████████████████████| 6000/6000 [00:48<00:00, 122.76it/s]\n"
     ]
    },
    {
     "name": "stdout",
     "output_type": "stream",
     "text": [
      "training for explore rate 0.15 and alpha 0.15\n"
     ]
    },
    {
     "name": "stderr",
     "output_type": "stream",
     "text": [
      "100%|█████████████████████████████████████████████████████████████████████████████| 6000/6000 [00:55<00:00, 107.48it/s]\n"
     ]
    },
    {
     "name": "stdout",
     "output_type": "stream",
     "text": [
      "training for explore rate 0.1 and alpha 0.1\n"
     ]
    },
    {
     "name": "stderr",
     "output_type": "stream",
     "text": [
      "100%|██████████████████████████████████████████████████████████████████████████████| 6000/6000 [01:03<00:00, 94.48it/s]\n"
     ]
    },
    {
     "name": "stdout",
     "output_type": "stream",
     "text": [
      "training for explore rate 0.05 and alpha 0.05\n"
     ]
    },
    {
     "name": "stderr",
     "output_type": "stream",
     "text": [
      "100%|██████████████████████████████████████████████████████████████████████████████| 6000/6000 [01:01<00:00, 97.55it/s]\n"
     ]
    },
    {
     "name": "stdout",
     "output_type": "stream",
     "text": [
      "training for explore rate 0.0 and alpha 0.01\n"
     ]
    },
    {
     "name": "stderr",
     "output_type": "stream",
     "text": [
      "100%|█████████████████████████████████████████████████████████████████████████████| 6000/6000 [00:59<00:00, 100.44it/s]\n"
     ]
    },
    {
     "data": {
      "image/png": "[encoded data removed]",
      "text/plain": [
       "<Figure size 432x288 with 1 Axes>"
      ]
     },
     "metadata": {
      "needs_background": "light"
     },
     "output_type": "display_data"
    }
   ],
   "source": [
    "p1, p2 = makedynamic(6000, 9, 0.4, movingalpha = True)"
   ]
  },
  {
   "cell_type": "code",
   "execution_count": 21,
   "metadata": {},
   "outputs": [
    {
     "name": "stdout",
     "output_type": "stream",
     "text": [
      "0.05\n",
      "training for explore rate 0.4 and alpha 0.4\n"
     ]
    },
    {
     "name": "stderr",
     "output_type": "stream",
     "text": [
      "100%|█████████████████████████████████████████████████████████████████████████████| 5000/5000 [00:19<00:00, 251.30it/s]\n"
     ]
    },
    {
     "name": "stdout",
     "output_type": "stream",
     "text": [
      "training for explore rate 0.35 and alpha 0.35\n"
     ]
    },
    {
     "name": "stderr",
     "output_type": "stream",
     "text": [
      "100%|█████████████████████████████████████████████████████████████████████████████| 5000/5000 [00:21<00:00, 236.06it/s]\n"
     ]
    },
    {
     "name": "stdout",
     "output_type": "stream",
     "text": [
      "training for explore rate 0.3 and alpha 0.3\n"
     ]
    },
    {
     "name": "stderr",
     "output_type": "stream",
     "text": [
      "100%|█████████████████████████████████████████████████████████████████████████████| 5000/5000 [00:23<00:00, 214.20it/s]\n"
     ]
    },
    {
     "name": "stdout",
     "output_type": "stream",
     "text": [
      "training for explore rate 0.25 and alpha 0.25\n"
     ]
    },
    {
     "name": "stderr",
     "output_type": "stream",
     "text": [
      "100%|█████████████████████████████████████████████████████████████████████████████| 5000/5000 [00:24<00:00, 204.31it/s]\n"
     ]
    },
    {
     "name": "stdout",
     "output_type": "stream",
     "text": [
      "training for explore rate 0.2 and alpha 0.2\n"
     ]
    },
    {
     "name": "stderr",
     "output_type": "stream",
     "text": [
      "100%|█████████████████████████████████████████████████████████████████████████████| 5000/5000 [00:30<00:00, 161.97it/s]\n"
     ]
    },
    {
     "name": "stdout",
     "output_type": "stream",
     "text": [
      "training for explore rate 0.15 and alpha 0.15\n"
     ]
    },
    {
     "name": "stderr",
     "output_type": "stream",
     "text": [
      "100%|█████████████████████████████████████████████████████████████████████████████| 5000/5000 [00:37<00:00, 133.19it/s]\n"
     ]
    },
    {
     "name": "stdout",
     "output_type": "stream",
     "text": [
      "training for explore rate 0.1 and alpha 0.1\n"
     ]
    },
    {
     "name": "stderr",
     "output_type": "stream",
     "text": [
      "100%|█████████████████████████████████████████████████████████████████████████████| 5000/5000 [00:49<00:00, 101.48it/s]\n"
     ]
    },
    {
     "name": "stdout",
     "output_type": "stream",
     "text": [
      "training for explore rate 0.05 and alpha 0.05\n"
     ]
    },
    {
     "name": "stderr",
     "output_type": "stream",
     "text": [
      "100%|██████████████████████████████████████████████████████████████████████████████| 5000/5000 [00:58<00:00, 85.87it/s]\n"
     ]
    },
    {
     "name": "stdout",
     "output_type": "stream",
     "text": [
      "training for explore rate 0.0 and alpha 0.01\n"
     ]
    },
    {
     "name": "stderr",
     "output_type": "stream",
     "text": [
      "100%|██████████████████████████████████████████████████████████████████████████████| 5000/5000 [01:18<00:00, 64.08it/s]\n"
     ]
    },
    {
     "data": {
      "image/png": "[encoded data removed]",
      "text/plain": [
       "<Figure size 432x288 with 1 Axes>"
      ]
     },
     "metadata": {
      "needs_background": "light"
     },
     "output_type": "display_data"
    }
   ],
   "source": [
    "p1, p2 = makedynamic(5000, 9, 0.4, movingalpha = True)"
   ]
  },
  {
   "cell_type": "code",
   "execution_count": 24,
   "metadata": {},
   "outputs": [
    {
     "name": "stdout",
     "output_type": "stream",
     "text": [
      "   | 0 | 1 | 2 |\n",
      "-----------------\n",
      "0  |   |   |   | \n",
      "-----------------\n",
      "1  |   |   |   | \n",
      "-----------------\n",
      "2  |   |   |   | \n",
      "-----------------\n",
      "\n",
      "Input your action row:1\n",
      "Input your action col:1\n",
      "   | 0 | 1 | 2 |\n",
      "-----------------\n",
      "0  |   |   |   | \n",
      "-----------------\n",
      "1  |   | x |   | \n",
      "-----------------\n",
      "2  |   |   |   | \n",
      "-----------------\n",
      "\n",
      "   | 0 | 1 | 2 |\n",
      "-----------------\n",
      "0  |   |   |   | \n",
      "-----------------\n",
      "1  |   | x |   | \n",
      "-----------------\n",
      "2  |   |   | o | \n",
      "-----------------\n",
      "\n",
      "Input your action row:0\n",
      "Input your action col:1\n",
      "   | 0 | 1 | 2 |\n",
      "-----------------\n",
      "0  |   | x |   | \n",
      "-----------------\n",
      "1  |   | x |   | \n",
      "-----------------\n",
      "2  |   |   | o | \n",
      "-----------------\n",
      "\n",
      "   | 0 | 1 | 2 |\n",
      "-----------------\n",
      "0  |   | x |   | \n",
      "-----------------\n",
      "1  |   | x |   | \n",
      "-----------------\n",
      "2  |   | o | o | \n",
      "-----------------\n",
      "\n",
      "Input your action row:2\n",
      "Input your action col:0\n",
      "   | 0 | 1 | 2 |\n",
      "-----------------\n",
      "0  |   | x |   | \n",
      "-----------------\n",
      "1  |   | x |   | \n",
      "-----------------\n",
      "2  | x | o | o | \n",
      "-----------------\n",
      "\n",
      "   | 0 | 1 | 2 |\n",
      "-----------------\n",
      "0  |   | x | o | \n",
      "-----------------\n",
      "1  |   | x |   | \n",
      "-----------------\n",
      "2  | x | o | o | \n",
      "-----------------\n",
      "\n",
      "Input your action row:1\n",
      "Input your action col:2\n",
      "   | 0 | 1 | 2 |\n",
      "-----------------\n",
      "0  |   | x | o | \n",
      "-----------------\n",
      "1  |   | x | x | \n",
      "-----------------\n",
      "2  | x | o | o | \n",
      "-----------------\n",
      "\n",
      "   | 0 | 1 | 2 |\n",
      "-----------------\n",
      "0  |   | x | o | \n",
      "-----------------\n",
      "1  | o | x | x | \n",
      "-----------------\n",
      "2  | x | o | o | \n",
      "-----------------\n",
      "\n",
      "Input your action row:0\n",
      "Input your action col:0\n",
      "   | 0 | 1 | 2 |\n",
      "-----------------\n",
      "0  | x | x | o | \n",
      "-----------------\n",
      "1  | o | x | x | \n",
      "-----------------\n",
      "2  | x | o | o | \n",
      "-----------------\n",
      "\n",
      "tie!\n"
     ]
    },
    {
     "data": {
      "text/plain": [
       "0"
      ]
     },
     "execution_count": 24,
     "metadata": {},
     "output_type": "execute_result"
    }
   ],
   "source": [
    "# p1 = player(\"computer\", explore_rate=0)\n",
    "human = HumanPlayer(\"human\")\n",
    "# p1.loadPolicy(\"policy_p1\")\n",
    "game = tictactoe(human, p2)\n",
    "game.playhuman()"
   ]
  },
  {
   "cell_type": "code",
   "execution_count": null,
   "metadata": {},
   "outputs": [],
   "source": []
  },
  {
   "cell_type": "code",
   "execution_count": null,
   "metadata": {},
   "outputs": [],
   "source": []
  },
  {
   "cell_type": "code",
   "execution_count": 11,
   "metadata": {
    "scrolled": false
   },
   "outputs": [
    {
     "name": "stdout",
     "output_type": "stream",
     "text": [
      "-------------\n",
      "|   |   |   | \n",
      "-------------\n",
      "|   |   |   | \n",
      "-------------\n",
      "|   | x |   | \n",
      "-------------\n",
      "Input your action row:1\n",
      "Input your action col:1\n",
      "-------------\n",
      "|   |   |   | \n",
      "-------------\n",
      "|   | o |   | \n",
      "-------------\n",
      "|   | x |   | \n",
      "-------------\n",
      "-------------\n",
      "|   |   |   | \n",
      "-------------\n",
      "|   | o |   | \n",
      "-------------\n",
      "| x | x |   | \n",
      "-------------\n",
      "Input your action row:2\n",
      "Input your action col:2\n",
      "-------------\n",
      "|   |   |   | \n",
      "-------------\n",
      "|   | o |   | \n",
      "-------------\n",
      "| x | x | o | \n",
      "-------------\n",
      "-------------\n",
      "|   |   |   | \n",
      "-------------\n",
      "| x | o |   | \n",
      "-------------\n",
      "| x | x | o | \n",
      "-------------\n",
      "Input your action row:0\n",
      "Input your action col:0\n",
      "-------------\n",
      "| o |   |   | \n",
      "-------------\n",
      "| x | o |   | \n",
      "-------------\n",
      "| x | x | o | \n",
      "-------------\n",
      "human wins!\n"
     ]
    },
    {
     "data": {
      "text/plain": [
       "-1"
      ]
     },
     "execution_count": 11,
     "metadata": {},
     "output_type": "execute_result"
    }
   ],
   "source": [
    "'''\n",
    "First test of gravity restriction\n",
    "'''\n",
    "# p1 = player(\"computer\", explore_rate=0)\n",
    "human2 = HumanPlayer(\"human\")\n",
    "# p1.loadPolicy(\"policy_p1\")\n",
    "game = tictactoe(p1, human2, gravitymove=True)\n",
    "game.playhuman()"
   ]
  },
  {
   "cell_type": "code",
   "execution_count": null,
   "metadata": {},
   "outputs": [],
   "source": [
    "'''\n",
    "Testing dynamic explore rate with gravity restricted training\n",
    "'''"
   ]
  },
  {
   "cell_type": "code",
   "execution_count": 12,
   "metadata": {
    "scrolled": false
   },
   "outputs": [
    {
     "name": "stdout",
     "output_type": "stream",
     "text": [
      "0.05\n",
      "training for explore rate 0.4\n"
     ]
    },
    {
     "name": "stderr",
     "output_type": "stream",
     "text": [
      "100%|█████████████████████████████████████████████████████████████████████████████| 5000/5000 [00:12<00:00, 386.69it/s]\n"
     ]
    },
    {
     "name": "stdout",
     "output_type": "stream",
     "text": [
      "training for explore rate 0.35\n"
     ]
    },
    {
     "name": "stderr",
     "output_type": "stream",
     "text": [
      "100%|█████████████████████████████████████████████████████████████████████████████| 5000/5000 [00:13<00:00, 364.23it/s]\n"
     ]
    },
    {
     "name": "stdout",
     "output_type": "stream",
     "text": [
      "training for explore rate 0.3\n"
     ]
    },
    {
     "name": "stderr",
     "output_type": "stream",
     "text": [
      "100%|█████████████████████████████████████████████████████████████████████████████| 5000/5000 [00:15<00:00, 324.29it/s]\n"
     ]
    },
    {
     "name": "stdout",
     "output_type": "stream",
     "text": [
      "training for explore rate 0.25\n"
     ]
    },
    {
     "name": "stderr",
     "output_type": "stream",
     "text": [
      "100%|█████████████████████████████████████████████████████████████████████████████| 5000/5000 [00:16<00:00, 294.93it/s]\n"
     ]
    },
    {
     "name": "stdout",
     "output_type": "stream",
     "text": [
      "training for explore rate 0.2\n"
     ]
    },
    {
     "name": "stderr",
     "output_type": "stream",
     "text": [
      "100%|█████████████████████████████████████████████████████████████████████████████| 5000/5000 [00:19<00:00, 258.56it/s]\n"
     ]
    },
    {
     "name": "stdout",
     "output_type": "stream",
     "text": [
      "training for explore rate 0.15\n"
     ]
    },
    {
     "name": "stderr",
     "output_type": "stream",
     "text": [
      "100%|█████████████████████████████████████████████████████████████████████████████| 5000/5000 [00:22<00:00, 224.22it/s]\n"
     ]
    },
    {
     "name": "stdout",
     "output_type": "stream",
     "text": [
      "training for explore rate 0.1\n"
     ]
    },
    {
     "name": "stderr",
     "output_type": "stream",
     "text": [
      "100%|█████████████████████████████████████████████████████████████████████████████| 5000/5000 [00:27<00:00, 181.48it/s]\n"
     ]
    },
    {
     "name": "stdout",
     "output_type": "stream",
     "text": [
      "training for explore rate 0.05\n"
     ]
    },
    {
     "name": "stderr",
     "output_type": "stream",
     "text": [
      "100%|█████████████████████████████████████████████████████████████████████████████| 5000/5000 [00:24<00:00, 206.07it/s]\n"
     ]
    },
    {
     "name": "stdout",
     "output_type": "stream",
     "text": [
      "training for explore rate 0.0\n"
     ]
    },
    {
     "name": "stderr",
     "output_type": "stream",
     "text": [
      "100%|█████████████████████████████████████████████████████████████████████████████| 5000/5000 [00:24<00:00, 200.31it/s]\n"
     ]
    },
    {
     "data": {
      "image/png": "[encoded data removed]",
      "text/plain": [
       "<Figure size 432x288 with 1 Axes>"
      ]
     },
     "metadata": {
      "needs_background": "light"
     },
     "output_type": "display_data"
    }
   ],
   "source": [
    "p1grav, p2grav = makedynamic(5000, 9, 0.4, gmove=True)"
   ]
  },
  {
   "cell_type": "code",
   "execution_count": 15,
   "metadata": {},
   "outputs": [
    {
     "name": "stdout",
     "output_type": "stream",
     "text": [
      "-------------\n",
      "|   |   |   | \n",
      "-------------\n",
      "|   |   |   | \n",
      "-------------\n",
      "|   | x |   | \n",
      "-------------\n",
      "Input your action row:1\n",
      "Input your action col:1\n",
      "-------------\n",
      "|   |   |   | \n",
      "-------------\n",
      "|   | o |   | \n",
      "-------------\n",
      "|   | x |   | \n",
      "-------------\n",
      "-------------\n",
      "|   |   |   | \n",
      "-------------\n",
      "|   | o |   | \n",
      "-------------\n",
      "| x | x |   | \n",
      "-------------\n",
      "Input your action row:1\n",
      "Input your action col:0\n",
      "-------------\n",
      "|   |   |   | \n",
      "-------------\n",
      "| o | o |   | \n",
      "-------------\n",
      "| x | x |   | \n",
      "-------------\n",
      "-------------\n",
      "|   |   |   | \n",
      "-------------\n",
      "| o | o |   | \n",
      "-------------\n",
      "| x | x | x | \n",
      "-------------\n",
      "dynamic1 wins!\n"
     ]
    },
    {
     "data": {
      "text/plain": [
       "1"
      ]
     },
     "execution_count": 15,
     "metadata": {},
     "output_type": "execute_result"
    }
   ],
   "source": [
    "# p1 = player(\"computer\", explore_rate=0)\n",
    "human2 = HumanPlayer(\"human\")\n",
    "# p1.loadPolicy(\"policy_p1\")\n",
    "game = tictactoe(p1, human2, gravitymove=True)\n",
    "game.playhuman()"
   ]
  },
  {
   "cell_type": "code",
   "execution_count": 17,
   "metadata": {
    "scrolled": false
   },
   "outputs": [
    {
     "name": "stdout",
     "output_type": "stream",
     "text": [
      "0.1\n",
      "training for explore rate 0.4\n"
     ]
    },
    {
     "name": "stderr",
     "output_type": "stream",
     "text": [
      "100%|█████████████████████████████████████████████████████████████████████████████| 8000/8000 [00:21<00:00, 371.85it/s]\n"
     ]
    },
    {
     "name": "stdout",
     "output_type": "stream",
     "text": [
      "training for explore rate 0.3\n"
     ]
    },
    {
     "name": "stderr",
     "output_type": "stream",
     "text": [
      "100%|█████████████████████████████████████████████████████████████████████████████| 8000/8000 [00:22<00:00, 353.55it/s]\n"
     ]
    },
    {
     "name": "stdout",
     "output_type": "stream",
     "text": [
      "training for explore rate 0.2\n"
     ]
    },
    {
     "name": "stderr",
     "output_type": "stream",
     "text": [
      "100%|█████████████████████████████████████████████████████████████████████████████| 8000/8000 [00:25<00:00, 314.61it/s]\n"
     ]
    },
    {
     "name": "stdout",
     "output_type": "stream",
     "text": [
      "training for explore rate 0.1\n"
     ]
    },
    {
     "name": "stderr",
     "output_type": "stream",
     "text": [
      "100%|█████████████████████████████████████████████████████████████████████████████| 8000/8000 [00:31<00:00, 253.39it/s]\n"
     ]
    },
    {
     "name": "stdout",
     "output_type": "stream",
     "text": [
      "training for explore rate 0.0\n"
     ]
    },
    {
     "name": "stderr",
     "output_type": "stream",
     "text": [
      "100%|█████████████████████████████████████████████████████████████████████████████| 8000/8000 [00:36<00:00, 217.93it/s]\n"
     ]
    },
    {
     "data": {
      "image/png": "[encoded data removed]",
      "text/plain": [
       "<Figure size 432x288 with 1 Axes>"
      ]
     },
     "metadata": {
      "needs_background": "light"
     },
     "output_type": "display_data"
    }
   ],
   "source": [
    "p1grav, p2grav = makedynamic(8000, 5, 0.4, gmove=True)"
   ]
  },
  {
   "cell_type": "code",
   "execution_count": 39,
   "metadata": {},
   "outputs": [
    {
     "name": "stdout",
     "output_type": "stream",
     "text": [
      "0.05\n",
      "training for explore rate 0.4\n"
     ]
    },
    {
     "name": "stderr",
     "output_type": "stream",
     "text": [
      "100%|█████████████████████████████████████████████████████████████████████████████| 4000/4000 [00:10<00:00, 378.41it/s]\n"
     ]
    },
    {
     "name": "stdout",
     "output_type": "stream",
     "text": [
      "training for explore rate 0.35\n"
     ]
    },
    {
     "name": "stderr",
     "output_type": "stream",
     "text": [
      "100%|█████████████████████████████████████████████████████████████████████████████| 4000/4000 [00:11<00:00, 341.50it/s]\n"
     ]
    },
    {
     "name": "stdout",
     "output_type": "stream",
     "text": [
      "training for explore rate 0.3\n"
     ]
    },
    {
     "name": "stderr",
     "output_type": "stream",
     "text": [
      "100%|█████████████████████████████████████████████████████████████████████████████| 4000/4000 [00:14<00:00, 283.20it/s]\n"
     ]
    },
    {
     "name": "stdout",
     "output_type": "stream",
     "text": [
      "training for explore rate 0.25\n"
     ]
    },
    {
     "name": "stderr",
     "output_type": "stream",
     "text": [
      "100%|█████████████████████████████████████████████████████████████████████████████| 4000/4000 [00:14<00:00, 273.49it/s]\n"
     ]
    },
    {
     "name": "stdout",
     "output_type": "stream",
     "text": [
      "training for explore rate 0.2\n"
     ]
    },
    {
     "name": "stderr",
     "output_type": "stream",
     "text": [
      "100%|█████████████████████████████████████████████████████████████████████████████| 4000/4000 [00:15<00:00, 261.92it/s]\n"
     ]
    },
    {
     "name": "stdout",
     "output_type": "stream",
     "text": [
      "training for explore rate 0.15\n"
     ]
    },
    {
     "name": "stderr",
     "output_type": "stream",
     "text": [
      "100%|█████████████████████████████████████████████████████████████████████████████| 4000/4000 [00:16<00:00, 248.94it/s]\n"
     ]
    },
    {
     "name": "stdout",
     "output_type": "stream",
     "text": [
      "training for explore rate 0.1\n"
     ]
    },
    {
     "name": "stderr",
     "output_type": "stream",
     "text": [
      "100%|█████████████████████████████████████████████████████████████████████████████| 4000/4000 [00:15<00:00, 251.08it/s]\n"
     ]
    },
    {
     "name": "stdout",
     "output_type": "stream",
     "text": [
      "training for explore rate 0.05\n"
     ]
    },
    {
     "name": "stderr",
     "output_type": "stream",
     "text": [
      "100%|█████████████████████████████████████████████████████████████████████████████| 4000/4000 [00:17<00:00, 227.55it/s]\n"
     ]
    },
    {
     "name": "stdout",
     "output_type": "stream",
     "text": [
      "training for explore rate 0.0\n"
     ]
    },
    {
     "name": "stderr",
     "output_type": "stream",
     "text": [
      "100%|█████████████████████████████████████████████████████████████████████████████| 4000/4000 [00:17<00:00, 224.34it/s]\n"
     ]
    },
    {
     "data": {
      "image/png": "[encoded data removed]",
      "text/plain": [
       "<Figure size 432x288 with 1 Axes>"
      ]
     },
     "metadata": {
      "needs_background": "light"
     },
     "output_type": "display_data"
    }
   ],
   "source": [
    "p1grav, p2grav = makedynamic(4000, 9, 0.4, gmove=True)"
   ]
  },
  {
   "cell_type": "code",
   "execution_count": 43,
   "metadata": {},
   "outputs": [
    {
     "name": "stdout",
     "output_type": "stream",
     "text": [
      "-------------\n",
      "|   |   |   | \n",
      "-------------\n",
      "|   |   |   | \n",
      "-------------\n",
      "|   | x |   | \n",
      "-------------\n",
      "Input your action row:2\n",
      "Input your action col:0\n",
      "-------------\n",
      "|   |   |   | \n",
      "-------------\n",
      "|   |   |   | \n",
      "-------------\n",
      "| o | x |   | \n",
      "-------------\n",
      "-------------\n",
      "|   |   |   | \n",
      "-------------\n",
      "|   | x |   | \n",
      "-------------\n",
      "| o | x |   | \n",
      "-------------\n",
      "Input your action row:0\n",
      "Input your action col:1\n",
      "-------------\n",
      "|   | o |   | \n",
      "-------------\n",
      "|   | x |   | \n",
      "-------------\n",
      "| o | x |   | \n",
      "-------------\n",
      "-------------\n",
      "|   | o |   | \n",
      "-------------\n",
      "| x | x |   | \n",
      "-------------\n",
      "| o | x |   | \n",
      "-------------\n",
      "Input your action row:2\n",
      "Input your action col:2\n",
      "-------------\n",
      "|   | o |   | \n",
      "-------------\n",
      "| x | x |   | \n",
      "-------------\n",
      "| o | x | o | \n",
      "-------------\n",
      "-------------\n",
      "|   | o |   | \n",
      "-------------\n",
      "| x | x | x | \n",
      "-------------\n",
      "| o | x | o | \n",
      "-------------\n",
      "dynamic1 wins!\n"
     ]
    },
    {
     "data": {
      "text/plain": [
       "1"
      ]
     },
     "execution_count": 43,
     "metadata": {},
     "output_type": "execute_result"
    }
   ],
   "source": [
    "# p1 = player(\"computer\", explore_rate=0)\n",
    "human = HumanPlayer(\"human\")\n",
    "# p1.loadPolicy(\"policy_p1\")\n",
    "game = tictactoe(p1, human, gravitymove=True)\n",
    "game.playhuman()"
   ]
  },
  {
   "cell_type": "code",
   "execution_count": 44,
   "metadata": {},
   "outputs": [
    {
     "name": "stdout",
     "output_type": "stream",
     "text": [
      "0.05\n",
      "training for explore rate 0.4\n"
     ]
    },
    {
     "name": "stderr",
     "output_type": "stream",
     "text": [
      "100%|█████████████████████████████████████████████████████████████████████████████| 3000/3000 [00:07<00:00, 385.64it/s]\n"
     ]
    },
    {
     "name": "stdout",
     "output_type": "stream",
     "text": [
      "training for explore rate 0.35\n"
     ]
    },
    {
     "name": "stderr",
     "output_type": "stream",
     "text": [
      "100%|█████████████████████████████████████████████████████████████████████████████| 3000/3000 [00:07<00:00, 383.11it/s]\n"
     ]
    },
    {
     "name": "stdout",
     "output_type": "stream",
     "text": [
      "training for explore rate 0.3\n"
     ]
    },
    {
     "name": "stderr",
     "output_type": "stream",
     "text": [
      "100%|█████████████████████████████████████████████████████████████████████████████| 3000/3000 [00:08<00:00, 355.02it/s]\n"
     ]
    },
    {
     "name": "stdout",
     "output_type": "stream",
     "text": [
      "training for explore rate 0.25\n"
     ]
    },
    {
     "name": "stderr",
     "output_type": "stream",
     "text": [
      "100%|█████████████████████████████████████████████████████████████████████████████| 3000/3000 [00:09<00:00, 329.93it/s]\n"
     ]
    },
    {
     "name": "stdout",
     "output_type": "stream",
     "text": [
      "training for explore rate 0.2\n"
     ]
    },
    {
     "name": "stderr",
     "output_type": "stream",
     "text": [
      "  6%|████▌                                                                         | 177/3000 [00:00<00:10, 279.83it/s]\n"
     ]
    },
    {
     "ename": "KeyboardInterrupt",
     "evalue": "",
     "output_type": "error",
     "traceback": [
      "\u001b[1;31m---------------------------------------------------------------------------\u001b[0m",
      "\u001b[1;31mKeyboardInterrupt\u001b[0m                         Traceback (most recent call last)",
      "\u001b[1;32m<ipython-input-44-e1469b860b2b>\u001b[0m in \u001b[0;36m<module>\u001b[1;34m\u001b[0m\n\u001b[1;32m----> 1\u001b[1;33m \u001b[0mp1grav\u001b[0m\u001b[1;33m,\u001b[0m \u001b[0mp2grav\u001b[0m \u001b[1;33m=\u001b[0m \u001b[0mmakedynamic\u001b[0m\u001b[1;33m(\u001b[0m\u001b[1;36m3000\u001b[0m\u001b[1;33m,\u001b[0m \u001b[1;36m9\u001b[0m\u001b[1;33m,\u001b[0m \u001b[1;36m0.4\u001b[0m\u001b[1;33m,\u001b[0m \u001b[0mgmove\u001b[0m\u001b[1;33m=\u001b[0m\u001b[1;32mTrue\u001b[0m\u001b[1;33m)\u001b[0m\u001b[1;33m\u001b[0m\u001b[1;33m\u001b[0m\u001b[0m\n\u001b[0m",
      "\u001b[1;32m<ipython-input-10-d8b09a8c0e66>\u001b[0m in \u001b[0;36mmakedynamic\u001b[1;34m(numrounds, numexplores, expstart, p1dynamic, p2dynamic, gmove, stratnames)\u001b[0m\n\u001b[0;32m     18\u001b[0m         \u001b[0mst\u001b[0m \u001b[1;33m=\u001b[0m \u001b[0mtictactoe\u001b[0m\u001b[1;33m(\u001b[0m\u001b[0mp1dynamic\u001b[0m\u001b[1;33m,\u001b[0m \u001b[0mp2dynamic\u001b[0m\u001b[1;33m,\u001b[0m \u001b[0mgravitymove\u001b[0m\u001b[1;33m=\u001b[0m\u001b[0mgmove\u001b[0m\u001b[1;33m)\u001b[0m\u001b[1;33m\u001b[0m\u001b[1;33m\u001b[0m\u001b[0m\n\u001b[0;32m     19\u001b[0m         \u001b[0mprint\u001b[0m\u001b[1;33m(\u001b[0m\u001b[1;34mf\"training for explore rate {exprate}\"\u001b[0m\u001b[1;33m)\u001b[0m\u001b[1;33m\u001b[0m\u001b[1;33m\u001b[0m\u001b[0m\n\u001b[1;32m---> 20\u001b[1;33m         \u001b[0mwinsdynamic\u001b[0m\u001b[1;33m.\u001b[0m\u001b[0mextend\u001b[0m\u001b[1;33m(\u001b[0m\u001b[0mst\u001b[0m\u001b[1;33m.\u001b[0m\u001b[0mplay\u001b[0m\u001b[1;33m(\u001b[0m\u001b[0mnumrounds\u001b[0m\u001b[1;33m)\u001b[0m\u001b[1;33m)\u001b[0m\u001b[1;33m\u001b[0m\u001b[1;33m\u001b[0m\u001b[0m\n\u001b[0m\u001b[0;32m     21\u001b[0m \u001b[1;33m\u001b[0m\u001b[0m\n\u001b[0;32m     22\u001b[0m         \u001b[0mp1dynamic\u001b[0m\u001b[1;33m.\u001b[0m\u001b[0msavePolicy\u001b[0m\u001b[1;33m(\u001b[0m\u001b[1;33m)\u001b[0m\u001b[1;33m\u001b[0m\u001b[1;33m\u001b[0m\u001b[0m\n",
      "\u001b[1;32m<ipython-input-2-78ace852d084>\u001b[0m in \u001b[0;36mplay\u001b[1;34m(self, trainingrounds)\u001b[0m\n\u001b[0;32m    114\u001b[0m             \u001b[1;32mwhile\u001b[0m \u001b[1;32mnot\u001b[0m \u001b[0mself\u001b[0m\u001b[1;33m.\u001b[0m\u001b[0misEnd\u001b[0m\u001b[1;33m:\u001b[0m\u001b[1;33m\u001b[0m\u001b[1;33m\u001b[0m\u001b[0m\n\u001b[0;32m    115\u001b[0m                 \u001b[0mpositions\u001b[0m \u001b[1;33m=\u001b[0m \u001b[0mself\u001b[0m\u001b[1;33m.\u001b[0m\u001b[0mavailablePositions\u001b[0m\u001b[1;33m(\u001b[0m\u001b[1;33m)\u001b[0m\u001b[1;33m\u001b[0m\u001b[1;33m\u001b[0m\u001b[0m\n\u001b[1;32m--> 116\u001b[1;33m                 \u001b[0mplayer1move\u001b[0m \u001b[1;33m=\u001b[0m \u001b[0mself\u001b[0m\u001b[1;33m.\u001b[0m\u001b[0mplayer1\u001b[0m\u001b[1;33m.\u001b[0m\u001b[0mchooseAction\u001b[0m\u001b[1;33m(\u001b[0m\u001b[0mpositions\u001b[0m\u001b[1;33m,\u001b[0m \u001b[0mself\u001b[0m\u001b[1;33m.\u001b[0m\u001b[0mboard\u001b[0m\u001b[1;33m,\u001b[0m \u001b[0mself\u001b[0m\u001b[1;33m.\u001b[0m\u001b[0mplayerSymbol\u001b[0m\u001b[1;33m)\u001b[0m\u001b[1;33m\u001b[0m\u001b[1;33m\u001b[0m\u001b[0m\n\u001b[0m\u001b[0;32m    117\u001b[0m                 \u001b[0mself\u001b[0m\u001b[1;33m.\u001b[0m\u001b[0mupdateMove\u001b[0m\u001b[1;33m(\u001b[0m\u001b[0mplayer1move\u001b[0m\u001b[1;33m)\u001b[0m\u001b[1;33m\u001b[0m\u001b[1;33m\u001b[0m\u001b[0m\n\u001b[0;32m    118\u001b[0m                 \u001b[0mboardID\u001b[0m \u001b[1;33m=\u001b[0m \u001b[0mself\u001b[0m\u001b[1;33m.\u001b[0m\u001b[0mgetBoardID\u001b[0m\u001b[1;33m(\u001b[0m\u001b[1;33m)\u001b[0m\u001b[1;33m\u001b[0m\u001b[1;33m\u001b[0m\u001b[0m\n",
      "\u001b[1;32m<ipython-input-3-1444a8aa7aaa>\u001b[0m in \u001b[0;36mchooseAction\u001b[1;34m(self, positions, current_board, symbol)\u001b[0m\n\u001b[0;32m     26\u001b[0m                 \u001b[0mnextBoard\u001b[0m \u001b[1;33m=\u001b[0m \u001b[0mcurrent_board\u001b[0m\u001b[1;33m.\u001b[0m\u001b[0mcopy\u001b[0m\u001b[1;33m(\u001b[0m\u001b[1;33m)\u001b[0m\u001b[1;33m\u001b[0m\u001b[1;33m\u001b[0m\u001b[0m\n\u001b[0;32m     27\u001b[0m                 \u001b[0mnextBoard\u001b[0m\u001b[1;33m[\u001b[0m\u001b[0mposition\u001b[0m\u001b[1;33m]\u001b[0m \u001b[1;33m=\u001b[0m \u001b[0msymbol\u001b[0m\u001b[1;33m\u001b[0m\u001b[1;33m\u001b[0m\u001b[0m\n\u001b[1;32m---> 28\u001b[1;33m                 \u001b[0mnextBoardHash\u001b[0m \u001b[1;33m=\u001b[0m \u001b[0mself\u001b[0m\u001b[1;33m.\u001b[0m\u001b[0mgetBoardID\u001b[0m\u001b[1;33m(\u001b[0m\u001b[0mnextBoard\u001b[0m\u001b[1;33m)\u001b[0m\u001b[1;33m\u001b[0m\u001b[1;33m\u001b[0m\u001b[0m\n\u001b[0m\u001b[0;32m     29\u001b[0m                 \u001b[0mvalue\u001b[0m \u001b[1;33m=\u001b[0m \u001b[1;36m0\u001b[0m\u001b[1;33m\u001b[0m\u001b[1;33m\u001b[0m\u001b[0m\n\u001b[0;32m     30\u001b[0m                 \u001b[1;32mif\u001b[0m \u001b[0mself\u001b[0m\u001b[1;33m.\u001b[0m\u001b[0mstates_values\u001b[0m\u001b[1;33m.\u001b[0m\u001b[0mget\u001b[0m\u001b[1;33m(\u001b[0m\u001b[0mnextBoardHash\u001b[0m\u001b[1;33m)\u001b[0m \u001b[1;33m!=\u001b[0m \u001b[1;32mNone\u001b[0m\u001b[1;33m:\u001b[0m\u001b[1;33m\u001b[0m\u001b[1;33m\u001b[0m\u001b[0m\n",
      "\u001b[1;32m<ipython-input-3-1444a8aa7aaa>\u001b[0m in \u001b[0;36mgetBoardID\u001b[1;34m(self, board)\u001b[0m\n\u001b[0;32m     15\u001b[0m \u001b[1;33m\u001b[0m\u001b[0m\n\u001b[0;32m     16\u001b[0m     \u001b[1;32mdef\u001b[0m \u001b[0mgetBoardID\u001b[0m\u001b[1;33m(\u001b[0m\u001b[0mself\u001b[0m\u001b[1;33m,\u001b[0m \u001b[0mboard\u001b[0m\u001b[1;33m)\u001b[0m\u001b[1;33m:\u001b[0m\u001b[1;33m\u001b[0m\u001b[1;33m\u001b[0m\u001b[0m\n\u001b[1;32m---> 17\u001b[1;33m         \u001b[0mboardID\u001b[0m \u001b[1;33m=\u001b[0m \u001b[0mstr\u001b[0m\u001b[1;33m(\u001b[0m\u001b[0mboard\u001b[0m\u001b[1;33m.\u001b[0m\u001b[0mreshape\u001b[0m\u001b[1;33m(\u001b[0m\u001b[0mlen\u001b[0m\u001b[1;33m(\u001b[0m\u001b[0mboard\u001b[0m\u001b[1;33m)\u001b[0m\u001b[1;33m*\u001b[0m\u001b[0mlen\u001b[0m\u001b[1;33m(\u001b[0m\u001b[0mboard\u001b[0m\u001b[1;33m[\u001b[0m\u001b[1;36m0\u001b[0m\u001b[1;33m]\u001b[0m\u001b[1;33m)\u001b[0m\u001b[1;33m)\u001b[0m\u001b[1;33m)\u001b[0m\u001b[1;33m\u001b[0m\u001b[1;33m\u001b[0m\u001b[0m\n\u001b[0m\u001b[0;32m     18\u001b[0m         \u001b[1;32mreturn\u001b[0m \u001b[0mboardID\u001b[0m\u001b[1;33m\u001b[0m\u001b[1;33m\u001b[0m\u001b[0m\n\u001b[0;32m     19\u001b[0m \u001b[1;33m\u001b[0m\u001b[0m\n",
      "\u001b[1;32m~\\Anaconda3\\lib\\site-packages\\numpy\\core\\arrayprint.py\u001b[0m in \u001b[0;36m_array_str_implementation\u001b[1;34m(a, max_line_width, precision, suppress_small, array2string)\u001b[0m\n\u001b[0;32m   1488\u001b[0m         \u001b[1;32mreturn\u001b[0m \u001b[0m_guarded_repr_or_str\u001b[0m\u001b[1;33m(\u001b[0m\u001b[0mnp\u001b[0m\u001b[1;33m.\u001b[0m\u001b[0mndarray\u001b[0m\u001b[1;33m.\u001b[0m\u001b[0m__getitem__\u001b[0m\u001b[1;33m(\u001b[0m\u001b[0ma\u001b[0m\u001b[1;33m,\u001b[0m \u001b[1;33m(\u001b[0m\u001b[1;33m)\u001b[0m\u001b[1;33m)\u001b[0m\u001b[1;33m)\u001b[0m\u001b[1;33m\u001b[0m\u001b[1;33m\u001b[0m\u001b[0m\n\u001b[0;32m   1489\u001b[0m \u001b[1;33m\u001b[0m\u001b[0m\n\u001b[1;32m-> 1490\u001b[1;33m     \u001b[1;32mreturn\u001b[0m \u001b[0marray2string\u001b[0m\u001b[1;33m(\u001b[0m\u001b[0ma\u001b[0m\u001b[1;33m,\u001b[0m \u001b[0mmax_line_width\u001b[0m\u001b[1;33m,\u001b[0m \u001b[0mprecision\u001b[0m\u001b[1;33m,\u001b[0m \u001b[0msuppress_small\u001b[0m\u001b[1;33m,\u001b[0m \u001b[1;34m' '\u001b[0m\u001b[1;33m,\u001b[0m \u001b[1;34m\"\"\u001b[0m\u001b[1;33m)\u001b[0m\u001b[1;33m\u001b[0m\u001b[1;33m\u001b[0m\u001b[0m\n\u001b[0m\u001b[0;32m   1491\u001b[0m \u001b[1;33m\u001b[0m\u001b[0m\n\u001b[0;32m   1492\u001b[0m \u001b[1;33m\u001b[0m\u001b[0m\n",
      "\u001b[1;32m~\\Anaconda3\\lib\\site-packages\\numpy\\core\\arrayprint.py\u001b[0m in \u001b[0;36marray2string\u001b[1;34m(a, max_line_width, precision, suppress_small, separator, prefix, style, formatter, threshold, edgeitems, sign, floatmode, suffix, legacy)\u001b[0m\n\u001b[0;32m    690\u001b[0m         \u001b[1;32mreturn\u001b[0m \u001b[1;34m\"[]\"\u001b[0m\u001b[1;33m\u001b[0m\u001b[1;33m\u001b[0m\u001b[0m\n\u001b[0;32m    691\u001b[0m \u001b[1;33m\u001b[0m\u001b[0m\n\u001b[1;32m--> 692\u001b[1;33m     \u001b[1;32mreturn\u001b[0m \u001b[0m_array2string\u001b[0m\u001b[1;33m(\u001b[0m\u001b[0ma\u001b[0m\u001b[1;33m,\u001b[0m \u001b[0moptions\u001b[0m\u001b[1;33m,\u001b[0m \u001b[0mseparator\u001b[0m\u001b[1;33m,\u001b[0m \u001b[0mprefix\u001b[0m\u001b[1;33m)\u001b[0m\u001b[1;33m\u001b[0m\u001b[1;33m\u001b[0m\u001b[0m\n\u001b[0m\u001b[0;32m    693\u001b[0m \u001b[1;33m\u001b[0m\u001b[0m\n\u001b[0;32m    694\u001b[0m \u001b[1;33m\u001b[0m\u001b[0m\n",
      "\u001b[1;32m~\\Anaconda3\\lib\\site-packages\\numpy\\core\\arrayprint.py\u001b[0m in \u001b[0;36mwrapper\u001b[1;34m(self, *args, **kwargs)\u001b[0m\n\u001b[0;32m    466\u001b[0m             \u001b[0mrepr_running\u001b[0m\u001b[1;33m.\u001b[0m\u001b[0madd\u001b[0m\u001b[1;33m(\u001b[0m\u001b[0mkey\u001b[0m\u001b[1;33m)\u001b[0m\u001b[1;33m\u001b[0m\u001b[1;33m\u001b[0m\u001b[0m\n\u001b[0;32m    467\u001b[0m             \u001b[1;32mtry\u001b[0m\u001b[1;33m:\u001b[0m\u001b[1;33m\u001b[0m\u001b[1;33m\u001b[0m\u001b[0m\n\u001b[1;32m--> 468\u001b[1;33m                 \u001b[1;32mreturn\u001b[0m \u001b[0mf\u001b[0m\u001b[1;33m(\u001b[0m\u001b[0mself\u001b[0m\u001b[1;33m,\u001b[0m \u001b[1;33m*\u001b[0m\u001b[0margs\u001b[0m\u001b[1;33m,\u001b[0m \u001b[1;33m**\u001b[0m\u001b[0mkwargs\u001b[0m\u001b[1;33m)\u001b[0m\u001b[1;33m\u001b[0m\u001b[1;33m\u001b[0m\u001b[0m\n\u001b[0m\u001b[0;32m    469\u001b[0m             \u001b[1;32mfinally\u001b[0m\u001b[1;33m:\u001b[0m\u001b[1;33m\u001b[0m\u001b[1;33m\u001b[0m\u001b[0m\n\u001b[0;32m    470\u001b[0m                 \u001b[0mrepr_running\u001b[0m\u001b[1;33m.\u001b[0m\u001b[0mdiscard\u001b[0m\u001b[1;33m(\u001b[0m\u001b[0mkey\u001b[0m\u001b[1;33m)\u001b[0m\u001b[1;33m\u001b[0m\u001b[1;33m\u001b[0m\u001b[0m\n",
      "\u001b[1;32m~\\Anaconda3\\lib\\site-packages\\numpy\\core\\arrayprint.py\u001b[0m in \u001b[0;36m_array2string\u001b[1;34m(a, options, separator, prefix)\u001b[0m\n\u001b[0;32m    492\u001b[0m \u001b[1;33m\u001b[0m\u001b[0m\n\u001b[0;32m    493\u001b[0m     \u001b[1;31m# find the right formatting function for the array\u001b[0m\u001b[1;33m\u001b[0m\u001b[1;33m\u001b[0m\u001b[1;33m\u001b[0m\u001b[0m\n\u001b[1;32m--> 494\u001b[1;33m     \u001b[0mformat_function\u001b[0m \u001b[1;33m=\u001b[0m \u001b[0m_get_format_function\u001b[0m\u001b[1;33m(\u001b[0m\u001b[0mdata\u001b[0m\u001b[1;33m,\u001b[0m \u001b[1;33m**\u001b[0m\u001b[0moptions\u001b[0m\u001b[1;33m)\u001b[0m\u001b[1;33m\u001b[0m\u001b[1;33m\u001b[0m\u001b[0m\n\u001b[0m\u001b[0;32m    495\u001b[0m \u001b[1;33m\u001b[0m\u001b[0m\n\u001b[0;32m    496\u001b[0m     \u001b[1;31m# skip over \"[\"\u001b[0m\u001b[1;33m\u001b[0m\u001b[1;33m\u001b[0m\u001b[1;33m\u001b[0m\u001b[0m\n",
      "\u001b[1;32m~\\Anaconda3\\lib\\site-packages\\numpy\\core\\arrayprint.py\u001b[0m in \u001b[0;36m_get_format_function\u001b[1;34m(data, **options)\u001b[0m\n\u001b[0;32m    425\u001b[0m             \u001b[1;32mreturn\u001b[0m \u001b[0mformatdict\u001b[0m\u001b[1;33m[\u001b[0m\u001b[1;34m'longfloat'\u001b[0m\u001b[1;33m]\u001b[0m\u001b[1;33m(\u001b[0m\u001b[1;33m)\u001b[0m\u001b[1;33m\u001b[0m\u001b[1;33m\u001b[0m\u001b[0m\n\u001b[0;32m    426\u001b[0m         \u001b[1;32melse\u001b[0m\u001b[1;33m:\u001b[0m\u001b[1;33m\u001b[0m\u001b[1;33m\u001b[0m\u001b[0m\n\u001b[1;32m--> 427\u001b[1;33m             \u001b[1;32mreturn\u001b[0m \u001b[0mformatdict\u001b[0m\u001b[1;33m[\u001b[0m\u001b[1;34m'float'\u001b[0m\u001b[1;33m]\u001b[0m\u001b[1;33m(\u001b[0m\u001b[1;33m)\u001b[0m\u001b[1;33m\u001b[0m\u001b[1;33m\u001b[0m\u001b[0m\n\u001b[0m\u001b[0;32m    428\u001b[0m     \u001b[1;32melif\u001b[0m \u001b[0missubclass\u001b[0m\u001b[1;33m(\u001b[0m\u001b[0mdtypeobj\u001b[0m\u001b[1;33m,\u001b[0m \u001b[0m_nt\u001b[0m\u001b[1;33m.\u001b[0m\u001b[0mcomplexfloating\u001b[0m\u001b[1;33m)\u001b[0m\u001b[1;33m:\u001b[0m\u001b[1;33m\u001b[0m\u001b[1;33m\u001b[0m\u001b[0m\n\u001b[0;32m    429\u001b[0m         \u001b[1;32mif\u001b[0m \u001b[0missubclass\u001b[0m\u001b[1;33m(\u001b[0m\u001b[0mdtypeobj\u001b[0m\u001b[1;33m,\u001b[0m \u001b[0m_nt\u001b[0m\u001b[1;33m.\u001b[0m\u001b[0mclongfloat\u001b[0m\u001b[1;33m)\u001b[0m\u001b[1;33m:\u001b[0m\u001b[1;33m\u001b[0m\u001b[1;33m\u001b[0m\u001b[0m\n",
      "\u001b[1;32m~\\Anaconda3\\lib\\site-packages\\numpy\\core\\arrayprint.py\u001b[0m in \u001b[0;36m<lambda>\u001b[1;34m()\u001b[0m\n\u001b[0;32m    365\u001b[0m         \u001b[1;34m'int'\u001b[0m\u001b[1;33m:\u001b[0m \u001b[1;32mlambda\u001b[0m\u001b[1;33m:\u001b[0m \u001b[0mIntegerFormat\u001b[0m\u001b[1;33m(\u001b[0m\u001b[0mdata\u001b[0m\u001b[1;33m)\u001b[0m\u001b[1;33m,\u001b[0m\u001b[1;33m\u001b[0m\u001b[1;33m\u001b[0m\u001b[0m\n\u001b[0;32m    366\u001b[0m         'float': lambda: FloatingFormat(\n\u001b[1;32m--> 367\u001b[1;33m             data, precision, floatmode, suppress, sign, legacy=legacy),\n\u001b[0m\u001b[0;32m    368\u001b[0m         'longfloat': lambda: FloatingFormat(\n\u001b[0;32m    369\u001b[0m             data, precision, floatmode, suppress, sign, legacy=legacy),\n",
      "\u001b[1;32m~\\Anaconda3\\lib\\site-packages\\numpy\\core\\arrayprint.py\u001b[0m in \u001b[0;36m__init__\u001b[1;34m(self, data, precision, floatmode, suppress_small, sign, legacy)\u001b[0m\n\u001b[0;32m    859\u001b[0m         \u001b[0mself\u001b[0m\u001b[1;33m.\u001b[0m\u001b[0mlarge_exponent\u001b[0m \u001b[1;33m=\u001b[0m \u001b[1;32mFalse\u001b[0m\u001b[1;33m\u001b[0m\u001b[1;33m\u001b[0m\u001b[0m\n\u001b[0;32m    860\u001b[0m \u001b[1;33m\u001b[0m\u001b[0m\n\u001b[1;32m--> 861\u001b[1;33m         \u001b[0mself\u001b[0m\u001b[1;33m.\u001b[0m\u001b[0mfillFormat\u001b[0m\u001b[1;33m(\u001b[0m\u001b[0mdata\u001b[0m\u001b[1;33m)\u001b[0m\u001b[1;33m\u001b[0m\u001b[1;33m\u001b[0m\u001b[0m\n\u001b[0m\u001b[0;32m    862\u001b[0m \u001b[1;33m\u001b[0m\u001b[0m\n\u001b[0;32m    863\u001b[0m     \u001b[1;32mdef\u001b[0m \u001b[0mfillFormat\u001b[0m\u001b[1;33m(\u001b[0m\u001b[0mself\u001b[0m\u001b[1;33m,\u001b[0m \u001b[0mdata\u001b[0m\u001b[1;33m)\u001b[0m\u001b[1;33m:\u001b[0m\u001b[1;33m\u001b[0m\u001b[1;33m\u001b[0m\u001b[0m\n",
      "\u001b[1;32m~\\Anaconda3\\lib\\site-packages\\numpy\\core\\arrayprint.py\u001b[0m in \u001b[0;36mfillFormat\u001b[1;34m(self, data)\u001b[0m\n\u001b[0;32m    868\u001b[0m         \u001b[0mabs_non_zero\u001b[0m \u001b[1;33m=\u001b[0m \u001b[0mabsolute\u001b[0m\u001b[1;33m(\u001b[0m\u001b[0mfinite_vals\u001b[0m\u001b[1;33m[\u001b[0m\u001b[0mfinite_vals\u001b[0m \u001b[1;33m!=\u001b[0m \u001b[1;36m0\u001b[0m\u001b[1;33m]\u001b[0m\u001b[1;33m)\u001b[0m\u001b[1;33m\u001b[0m\u001b[1;33m\u001b[0m\u001b[0m\n\u001b[0;32m    869\u001b[0m         \u001b[1;32mif\u001b[0m \u001b[0mlen\u001b[0m\u001b[1;33m(\u001b[0m\u001b[0mabs_non_zero\u001b[0m\u001b[1;33m)\u001b[0m \u001b[1;33m!=\u001b[0m \u001b[1;36m0\u001b[0m\u001b[1;33m:\u001b[0m\u001b[1;33m\u001b[0m\u001b[1;33m\u001b[0m\u001b[0m\n\u001b[1;32m--> 870\u001b[1;33m             \u001b[0mmax_val\u001b[0m \u001b[1;33m=\u001b[0m \u001b[0mnp\u001b[0m\u001b[1;33m.\u001b[0m\u001b[0mmax\u001b[0m\u001b[1;33m(\u001b[0m\u001b[0mabs_non_zero\u001b[0m\u001b[1;33m)\u001b[0m\u001b[1;33m\u001b[0m\u001b[1;33m\u001b[0m\u001b[0m\n\u001b[0m\u001b[0;32m    871\u001b[0m             \u001b[0mmin_val\u001b[0m \u001b[1;33m=\u001b[0m \u001b[0mnp\u001b[0m\u001b[1;33m.\u001b[0m\u001b[0mmin\u001b[0m\u001b[1;33m(\u001b[0m\u001b[0mabs_non_zero\u001b[0m\u001b[1;33m)\u001b[0m\u001b[1;33m\u001b[0m\u001b[1;33m\u001b[0m\u001b[0m\n\u001b[0;32m    872\u001b[0m             \u001b[1;32mwith\u001b[0m \u001b[0merrstate\u001b[0m\u001b[1;33m(\u001b[0m\u001b[0mover\u001b[0m\u001b[1;33m=\u001b[0m\u001b[1;34m'ignore'\u001b[0m\u001b[1;33m)\u001b[0m\u001b[1;33m:\u001b[0m  \u001b[1;31m# division can overflow\u001b[0m\u001b[1;33m\u001b[0m\u001b[1;33m\u001b[0m\u001b[0m\n",
      "\u001b[1;32m<__array_function__ internals>\u001b[0m in \u001b[0;36mamax\u001b[1;34m(*args, **kwargs)\u001b[0m\n",
      "\u001b[1;32m~\\Anaconda3\\lib\\site-packages\\numpy\\core\\fromnumeric.py\u001b[0m in \u001b[0;36mamax\u001b[1;34m(a, axis, out, keepdims, initial, where)\u001b[0m\n\u001b[0;32m   2704\u001b[0m     \"\"\"\n\u001b[0;32m   2705\u001b[0m     return _wrapreduction(a, np.maximum, 'max', axis, None, out,\n\u001b[1;32m-> 2706\u001b[1;33m                           keepdims=keepdims, initial=initial, where=where)\n\u001b[0m\u001b[0;32m   2707\u001b[0m \u001b[1;33m\u001b[0m\u001b[0m\n\u001b[0;32m   2708\u001b[0m \u001b[1;33m\u001b[0m\u001b[0m\n",
      "\u001b[1;32m~\\Anaconda3\\lib\\site-packages\\numpy\\core\\fromnumeric.py\u001b[0m in \u001b[0;36m_wrapreduction\u001b[1;34m(obj, ufunc, method, axis, dtype, out, **kwargs)\u001b[0m\n\u001b[0;32m     85\u001b[0m                 \u001b[1;32mreturn\u001b[0m \u001b[0mreduction\u001b[0m\u001b[1;33m(\u001b[0m\u001b[0maxis\u001b[0m\u001b[1;33m=\u001b[0m\u001b[0maxis\u001b[0m\u001b[1;33m,\u001b[0m \u001b[0mout\u001b[0m\u001b[1;33m=\u001b[0m\u001b[0mout\u001b[0m\u001b[1;33m,\u001b[0m \u001b[1;33m**\u001b[0m\u001b[0mpasskwargs\u001b[0m\u001b[1;33m)\u001b[0m\u001b[1;33m\u001b[0m\u001b[1;33m\u001b[0m\u001b[0m\n\u001b[0;32m     86\u001b[0m \u001b[1;33m\u001b[0m\u001b[0m\n\u001b[1;32m---> 87\u001b[1;33m     \u001b[1;32mreturn\u001b[0m \u001b[0mufunc\u001b[0m\u001b[1;33m.\u001b[0m\u001b[0mreduce\u001b[0m\u001b[1;33m(\u001b[0m\u001b[0mobj\u001b[0m\u001b[1;33m,\u001b[0m \u001b[0maxis\u001b[0m\u001b[1;33m,\u001b[0m \u001b[0mdtype\u001b[0m\u001b[1;33m,\u001b[0m \u001b[0mout\u001b[0m\u001b[1;33m,\u001b[0m \u001b[1;33m**\u001b[0m\u001b[0mpasskwargs\u001b[0m\u001b[1;33m)\u001b[0m\u001b[1;33m\u001b[0m\u001b[1;33m\u001b[0m\u001b[0m\n\u001b[0m\u001b[0;32m     88\u001b[0m \u001b[1;33m\u001b[0m\u001b[0m\n\u001b[0;32m     89\u001b[0m \u001b[1;33m\u001b[0m\u001b[0m\n",
      "\u001b[1;31mKeyboardInterrupt\u001b[0m: "
     ]
    }
   ],
   "source": [
    "p1grav, p2grav = makedynamic(3000, 9, 0.4, gmove=True)"
   ]
  },
  {
   "cell_type": "code",
   "execution_count": null,
   "metadata": {},
   "outputs": [],
   "source": [
    "# p1 = player(\"computer\", explore_rate=0)\n",
    "human = HumanPlayer(\"human\")\n",
    "# p1.loadPolicy(\"policy_p1\")\n",
    "game = tictactoe(p1, human, gravitymove=True)\n",
    "game.playhuman()"
   ]
  },
  {
   "cell_type": "code",
   "execution_count": 36,
   "metadata": {},
   "outputs": [
    {
     "name": "stdout",
     "output_type": "stream",
     "text": [
      "0.05\n",
      "training for explore rate 0.4\n"
     ]
    },
    {
     "name": "stderr",
     "output_type": "stream",
     "text": [
      "100%|█████████████████████████████████████████████████████████████████████████████| 2000/2000 [00:05<00:00, 397.97it/s]\n"
     ]
    },
    {
     "name": "stdout",
     "output_type": "stream",
     "text": [
      "training for explore rate 0.35\n"
     ]
    },
    {
     "name": "stderr",
     "output_type": "stream",
     "text": [
      "100%|█████████████████████████████████████████████████████████████████████████████| 2000/2000 [00:05<00:00, 350.46it/s]\n"
     ]
    },
    {
     "name": "stdout",
     "output_type": "stream",
     "text": [
      "training for explore rate 0.3\n"
     ]
    },
    {
     "name": "stderr",
     "output_type": "stream",
     "text": [
      "100%|█████████████████████████████████████████████████████████████████████████████| 2000/2000 [00:06<00:00, 326.10it/s]\n"
     ]
    },
    {
     "name": "stdout",
     "output_type": "stream",
     "text": [
      "training for explore rate 0.25\n"
     ]
    },
    {
     "name": "stderr",
     "output_type": "stream",
     "text": [
      "100%|█████████████████████████████████████████████████████████████████████████████| 2000/2000 [00:05<00:00, 335.63it/s]\n"
     ]
    },
    {
     "name": "stdout",
     "output_type": "stream",
     "text": [
      "training for explore rate 0.2\n"
     ]
    },
    {
     "name": "stderr",
     "output_type": "stream",
     "text": [
      "100%|█████████████████████████████████████████████████████████████████████████████| 2000/2000 [00:06<00:00, 314.25it/s]\n"
     ]
    },
    {
     "name": "stdout",
     "output_type": "stream",
     "text": [
      "training for explore rate 0.15\n"
     ]
    },
    {
     "name": "stderr",
     "output_type": "stream",
     "text": [
      "100%|█████████████████████████████████████████████████████████████████████████████| 2000/2000 [00:08<00:00, 236.04it/s]\n"
     ]
    },
    {
     "name": "stdout",
     "output_type": "stream",
     "text": [
      "training for explore rate 0.1\n"
     ]
    },
    {
     "name": "stderr",
     "output_type": "stream",
     "text": [
      "100%|█████████████████████████████████████████████████████████████████████████████| 2000/2000 [00:08<00:00, 236.86it/s]\n"
     ]
    },
    {
     "name": "stdout",
     "output_type": "stream",
     "text": [
      "training for explore rate 0.05\n"
     ]
    },
    {
     "name": "stderr",
     "output_type": "stream",
     "text": [
      "100%|█████████████████████████████████████████████████████████████████████████████| 2000/2000 [00:08<00:00, 222.81it/s]\n"
     ]
    },
    {
     "name": "stdout",
     "output_type": "stream",
     "text": [
      "training for explore rate 0.0\n"
     ]
    },
    {
     "name": "stderr",
     "output_type": "stream",
     "text": [
      "100%|█████████████████████████████████████████████████████████████████████████████| 2000/2000 [00:08<00:00, 231.26it/s]\n"
     ]
    },
    {
     "data": {
      "image/png": "[encoded data removed]",
      "text/plain": [
       "<Figure size 432x288 with 1 Axes>"
      ]
     },
     "metadata": {
      "needs_background": "light"
     },
     "output_type": "display_data"
    }
   ],
   "source": [
    "p1grav, p2grav = makedynamic(2000, 9, 0.4, gmove=True)"
   ]
  },
  {
   "cell_type": "code",
   "execution_count": 38,
   "metadata": {},
   "outputs": [
    {
     "name": "stdout",
     "output_type": "stream",
     "text": [
      "Input your action row:2\n",
      "Input your action col:2\n",
      "-------------\n",
      "|   |   |   | \n",
      "-------------\n",
      "|   |   |   | \n",
      "-------------\n",
      "|   |   | x | \n",
      "-------------\n",
      "-------------\n",
      "|   |   |   | \n",
      "-------------\n",
      "|   |   |   | \n",
      "-------------\n",
      "|   | o | x | \n",
      "-------------\n",
      "Input your action row:1\n",
      "Input your action col:2\n",
      "-------------\n",
      "|   |   |   | \n",
      "-------------\n",
      "|   |   | x | \n",
      "-------------\n",
      "|   | o | x | \n",
      "-------------\n",
      "-------------\n",
      "|   |   |   | \n",
      "-------------\n",
      "|   | o | x | \n",
      "-------------\n",
      "|   | o | x | \n",
      "-------------\n",
      "Input your action row:0\n",
      "Input your action col:2\n",
      "-------------\n",
      "|   |   | x | \n",
      "-------------\n",
      "|   | o | x | \n",
      "-------------\n",
      "|   | o | x | \n",
      "-------------\n",
      "human wins!\n"
     ]
    },
    {
     "data": {
      "text/plain": [
       "1"
      ]
     },
     "execution_count": 38,
     "metadata": {},
     "output_type": "execute_result"
    }
   ],
   "source": [
    "# p1 = player(\"computer\", explore_rate=0)\n",
    "human = HumanPlayer(\"human\")\n",
    "# p1.loadPolicy(\"policy_p1\")\n",
    "game = tictactoe(human, p2, gravitymove=True)\n",
    "game.playhuman()"
   ]
  },
  {
   "cell_type": "code",
   "execution_count": 25,
   "metadata": {},
   "outputs": [
    {
     "name": "stdout",
     "output_type": "stream",
     "text": [
      "0.05\n",
      "training for explore rate 0.4 and alpha 0.2\n"
     ]
    },
    {
     "name": "stderr",
     "output_type": "stream",
     "text": [
      "100%|█████████████████████████████████████████████████████████████████████████████| 1000/1000 [00:02<00:00, 373.40it/s]\n"
     ]
    },
    {
     "name": "stdout",
     "output_type": "stream",
     "text": [
      "training for explore rate 0.35 and alpha 0.2\n"
     ]
    },
    {
     "name": "stderr",
     "output_type": "stream",
     "text": [
      "100%|█████████████████████████████████████████████████████████████████████████████| 1000/1000 [00:02<00:00, 339.35it/s]\n"
     ]
    },
    {
     "name": "stdout",
     "output_type": "stream",
     "text": [
      "training for explore rate 0.3 and alpha 0.2\n"
     ]
    },
    {
     "name": "stderr",
     "output_type": "stream",
     "text": [
      "100%|█████████████████████████████████████████████████████████████████████████████| 1000/1000 [00:03<00:00, 306.88it/s]\n"
     ]
    },
    {
     "name": "stdout",
     "output_type": "stream",
     "text": [
      "training for explore rate 0.25 and alpha 0.2\n"
     ]
    },
    {
     "name": "stderr",
     "output_type": "stream",
     "text": [
      "100%|█████████████████████████████████████████████████████████████████████████████| 1000/1000 [00:04<00:00, 240.44it/s]\n"
     ]
    },
    {
     "name": "stdout",
     "output_type": "stream",
     "text": [
      "training for explore rate 0.2 and alpha 0.2\n"
     ]
    },
    {
     "name": "stderr",
     "output_type": "stream",
     "text": [
      "100%|█████████████████████████████████████████████████████████████████████████████| 1000/1000 [00:04<00:00, 216.07it/s]\n"
     ]
    },
    {
     "name": "stdout",
     "output_type": "stream",
     "text": [
      "training for explore rate 0.15 and alpha 0.2\n"
     ]
    },
    {
     "name": "stderr",
     "output_type": "stream",
     "text": [
      "100%|█████████████████████████████████████████████████████████████████████████████| 1000/1000 [00:04<00:00, 205.05it/s]\n"
     ]
    },
    {
     "name": "stdout",
     "output_type": "stream",
     "text": [
      "training for explore rate 0.1 and alpha 0.2\n"
     ]
    },
    {
     "name": "stderr",
     "output_type": "stream",
     "text": [
      "100%|█████████████████████████████████████████████████████████████████████████████| 1000/1000 [00:05<00:00, 195.13it/s]\n"
     ]
    },
    {
     "name": "stdout",
     "output_type": "stream",
     "text": [
      "training for explore rate 0.05 and alpha 0.2\n"
     ]
    },
    {
     "name": "stderr",
     "output_type": "stream",
     "text": [
      "100%|█████████████████████████████████████████████████████████████████████████████| 1000/1000 [00:04<00:00, 206.95it/s]\n"
     ]
    },
    {
     "name": "stdout",
     "output_type": "stream",
     "text": [
      "training for explore rate 0.0 and alpha 0.2\n"
     ]
    },
    {
     "name": "stderr",
     "output_type": "stream",
     "text": [
      "100%|█████████████████████████████████████████████████████████████████████████████| 1000/1000 [00:04<00:00, 205.08it/s]\n"
     ]
    },
    {
     "data": {
      "image/png": "[encoded data removed]",
      "text/plain": [
       "<Figure size 432x288 with 1 Axes>"
      ]
     },
     "metadata": {
      "needs_background": "light"
     },
     "output_type": "display_data"
    }
   ],
   "source": [
    "p1grav, p2grav = makedynamic(1000, 9, 0.4, gmove=True, stratnames=\"grav33\")"
   ]
  },
  {
   "cell_type": "code",
   "execution_count": 29,
   "metadata": {},
   "outputs": [
    {
     "name": "stdout",
     "output_type": "stream",
     "text": [
      "0.05\n",
      "training for explore rate 0.4 and alpha 0.4\n"
     ]
    },
    {
     "name": "stderr",
     "output_type": "stream",
     "text": [
      "100%|███████████████████████████████████████████████████████████████████████████████| 500/500 [00:01<00:00, 355.20it/s]\n"
     ]
    },
    {
     "name": "stdout",
     "output_type": "stream",
     "text": [
      "training for explore rate 0.35 and alpha 0.35\n"
     ]
    },
    {
     "name": "stderr",
     "output_type": "stream",
     "text": [
      "100%|███████████████████████████████████████████████████████████████████████████████| 500/500 [00:02<00:00, 200.05it/s]\n"
     ]
    },
    {
     "name": "stdout",
     "output_type": "stream",
     "text": [
      "training for explore rate 0.3 and alpha 0.3\n"
     ]
    },
    {
     "name": "stderr",
     "output_type": "stream",
     "text": [
      "100%|███████████████████████████████████████████████████████████████████████████████| 500/500 [00:02<00:00, 168.12it/s]\n"
     ]
    },
    {
     "name": "stdout",
     "output_type": "stream",
     "text": [
      "training for explore rate 0.25 and alpha 0.25\n"
     ]
    },
    {
     "name": "stderr",
     "output_type": "stream",
     "text": [
      "100%|███████████████████████████████████████████████████████████████████████████████| 500/500 [00:03<00:00, 133.27it/s]\n"
     ]
    },
    {
     "name": "stdout",
     "output_type": "stream",
     "text": [
      "training for explore rate 0.2 and alpha 0.2\n"
     ]
    },
    {
     "name": "stderr",
     "output_type": "stream",
     "text": [
      "100%|███████████████████████████████████████████████████████████████████████████████| 500/500 [00:03<00:00, 136.17it/s]\n"
     ]
    },
    {
     "name": "stdout",
     "output_type": "stream",
     "text": [
      "training for explore rate 0.15 and alpha 0.15\n"
     ]
    },
    {
     "name": "stderr",
     "output_type": "stream",
     "text": [
      "100%|███████████████████████████████████████████████████████████████████████████████| 500/500 [00:03<00:00, 164.64it/s]\n"
     ]
    },
    {
     "name": "stdout",
     "output_type": "stream",
     "text": [
      "training for explore rate 0.1 and alpha 0.1\n"
     ]
    },
    {
     "name": "stderr",
     "output_type": "stream",
     "text": [
      "100%|███████████████████████████████████████████████████████████████████████████████| 500/500 [00:03<00:00, 149.12it/s]\n"
     ]
    },
    {
     "name": "stdout",
     "output_type": "stream",
     "text": [
      "training for explore rate 0.05 and alpha 0.05\n"
     ]
    },
    {
     "name": "stderr",
     "output_type": "stream",
     "text": [
      "100%|███████████████████████████████████████████████████████████████████████████████| 500/500 [00:03<00:00, 129.81it/s]\n"
     ]
    },
    {
     "name": "stdout",
     "output_type": "stream",
     "text": [
      "training for explore rate 0.0 and alpha 0.01\n"
     ]
    },
    {
     "name": "stderr",
     "output_type": "stream",
     "text": [
      "100%|███████████████████████████████████████████████████████████████████████████████| 500/500 [00:03<00:00, 155.39it/s]\n"
     ]
    },
    {
     "data": {
      "image/png": "[encoded data removed]",
      "text/plain": [
       "<Figure size 432x288 with 1 Axes>"
      ]
     },
     "metadata": {
      "needs_background": "light"
     },
     "output_type": "display_data"
    }
   ],
   "source": [
    "p1grav, p2grav = makedynamic(500, 9, 0.4, gmove=True, movingalpha=True, stratnames=\"grav33\")"
   ]
  },
  {
   "cell_type": "code",
   "execution_count": 31,
   "metadata": {
    "scrolled": false
   },
   "outputs": [
    {
     "name": "stdout",
     "output_type": "stream",
     "text": [
      "   | 0 | 1 | 2 |\n",
      "-----------------\n",
      "0  |   |   |   | \n",
      "-----------------\n",
      "1  |   |   |   | \n",
      "-----------------\n",
      "2  |   |   |   | \n",
      "-----------------\n",
      "\n",
      "   | 0 | 1 | 2 |\n",
      "-----------------\n",
      "0  |   |   |   | \n",
      "-----------------\n",
      "1  |   |   |   | \n",
      "-----------------\n",
      "2  |   | x |   | \n",
      "-----------------\n",
      "\n",
      "   | 0 | 1 | 2 |\n",
      "-----------------\n",
      "0  |   |   |   | \n",
      "-----------------\n",
      "1  |   | o |   | \n",
      "-----------------\n",
      "2  |   | x |   | \n",
      "-----------------\n",
      "\n",
      "   | 0 | 1 | 2 |\n",
      "-----------------\n",
      "0  |   |   |   | \n",
      "-----------------\n",
      "1  |   | o |   | \n",
      "-----------------\n",
      "2  | x | x |   | \n",
      "-----------------\n",
      "\n",
      "   | 0 | 1 | 2 |\n",
      "-----------------\n",
      "0  |   |   |   | \n",
      "-----------------\n",
      "1  |   | o |   | \n",
      "-----------------\n",
      "2  | x | x | o | \n",
      "-----------------\n",
      "\n",
      "   | 0 | 1 | 2 |\n",
      "-----------------\n",
      "0  |   |   |   | \n",
      "-----------------\n",
      "1  |   | o | x | \n",
      "-----------------\n",
      "2  | x | x | o | \n",
      "-----------------\n",
      "\n",
      "   | 0 | 1 | 2 |\n",
      "-----------------\n",
      "0  |   |   |   | \n",
      "-----------------\n",
      "1  | o | o | x | \n",
      "-----------------\n",
      "2  | x | x | o | \n",
      "-----------------\n",
      "\n",
      "   | 0 | 1 | 2 |\n",
      "-----------------\n",
      "0  | x |   |   | \n",
      "-----------------\n",
      "1  | o | o | x | \n",
      "-----------------\n",
      "2  | x | x | o | \n",
      "-----------------\n",
      "\n",
      "   | 0 | 1 | 2 |\n",
      "-----------------\n",
      "0  | x |   | o | \n",
      "-----------------\n",
      "1  | o | o | x | \n",
      "-----------------\n",
      "2  | x | x | o | \n",
      "-----------------\n",
      "\n",
      "   | 0 | 1 | 2 |\n",
      "-----------------\n",
      "0  | x | x | o | \n",
      "-----------------\n",
      "1  | o | o | x | \n",
      "-----------------\n",
      "2  | x | x | o | \n",
      "-----------------\n",
      "\n",
      "tie!\n"
     ]
    },
    {
     "data": {
      "text/plain": [
       "0"
      ]
     },
     "execution_count": 31,
     "metadata": {},
     "output_type": "execute_result"
    }
   ],
   "source": [
    "# p1 = player(\"computer\", explore_rate=0)\n",
    "human = HumanPlayer(\"human\")\n",
    "# p1.loadPolicy(\"policy_p1\")\n",
    "game = tictactoe(p1grav, p2grav, gravitymove=True)\n",
    "game.playhuman()"
   ]
  },
  {
   "cell_type": "markdown",
   "metadata": {},
   "source": [
    "# 3x4 first test\n",
    "\n",
    "Both moving alpha and moving exp rate. For 3x3 needed 500, so for 3x4 try around 27 times more-- 15000."
   ]
  },
  {
   "cell_type": "code",
   "execution_count": 30,
   "metadata": {
    "scrolled": false
   },
   "outputs": [
    {
     "name": "stdout",
     "output_type": "stream",
     "text": [
      "0.05\n",
      "training for explore rate 0.4 and alpha 0.4\n"
     ]
    },
    {
     "name": "stderr",
     "output_type": "stream",
     "text": [
      "100%|███████████████████████████████████████████████████████████████████████████| 15000/15000 [01:23<00:00, 179.09it/s]\n"
     ]
    },
    {
     "name": "stdout",
     "output_type": "stream",
     "text": [
      "training for explore rate 0.35 and alpha 0.35\n"
     ]
    },
    {
     "name": "stderr",
     "output_type": "stream",
     "text": [
      "100%|███████████████████████████████████████████████████████████████████████████| 15000/15000 [01:32<00:00, 161.71it/s]\n"
     ]
    },
    {
     "name": "stdout",
     "output_type": "stream",
     "text": [
      "training for explore rate 0.3 and alpha 0.3\n"
     ]
    },
    {
     "name": "stderr",
     "output_type": "stream",
     "text": [
      "100%|███████████████████████████████████████████████████████████████████████████| 15000/15000 [01:38<00:00, 152.96it/s]\n"
     ]
    },
    {
     "name": "stdout",
     "output_type": "stream",
     "text": [
      "training for explore rate 0.25 and alpha 0.25\n"
     ]
    },
    {
     "name": "stderr",
     "output_type": "stream",
     "text": [
      "100%|███████████████████████████████████████████████████████████████████████████| 15000/15000 [01:21<00:00, 182.97it/s]\n"
     ]
    },
    {
     "name": "stdout",
     "output_type": "stream",
     "text": [
      "training for explore rate 0.2 and alpha 0.2\n"
     ]
    },
    {
     "name": "stderr",
     "output_type": "stream",
     "text": [
      "100%|███████████████████████████████████████████████████████████████████████████| 15000/15000 [01:17<00:00, 193.23it/s]\n"
     ]
    },
    {
     "name": "stdout",
     "output_type": "stream",
     "text": [
      "training for explore rate 0.15 and alpha 0.15\n"
     ]
    },
    {
     "name": "stderr",
     "output_type": "stream",
     "text": [
      "100%|███████████████████████████████████████████████████████████████████████████| 15000/15000 [01:02<00:00, 241.65it/s]\n"
     ]
    },
    {
     "name": "stdout",
     "output_type": "stream",
     "text": [
      "training for explore rate 0.1 and alpha 0.1\n"
     ]
    },
    {
     "name": "stderr",
     "output_type": "stream",
     "text": [
      "100%|███████████████████████████████████████████████████████████████████████████| 15000/15000 [01:05<00:00, 228.93it/s]\n"
     ]
    },
    {
     "name": "stdout",
     "output_type": "stream",
     "text": [
      "training for explore rate 0.05 and alpha 0.05\n"
     ]
    },
    {
     "name": "stderr",
     "output_type": "stream",
     "text": [
      "100%|███████████████████████████████████████████████████████████████████████████| 15000/15000 [01:31<00:00, 163.73it/s]\n"
     ]
    },
    {
     "name": "stdout",
     "output_type": "stream",
     "text": [
      "training for explore rate 0.0 and alpha 0.01\n"
     ]
    },
    {
     "name": "stderr",
     "output_type": "stream",
     "text": [
      "100%|███████████████████████████████████████████████████████████████████████████| 15000/15000 [01:27<00:00, 171.31it/s]\n"
     ]
    },
    {
     "data": {
      "image/png": "[encoded data removed]",
      "text/plain": [
       "<Figure size 432x288 with 1 Axes>"
      ]
     },
     "metadata": {
      "needs_background": "light"
     },
     "output_type": "display_data"
    }
   ],
   "source": [
    "p1grav34, p2grav34 = makedynamic(15000, 9, 0.4, rows=3, cols=4, winc=3, gmove=True, movingalpha=True, \n",
    "                               stratnames=\"grav34\")"
   ]
  },
  {
   "cell_type": "code",
   "execution_count": 32,
   "metadata": {
    "scrolled": false
   },
   "outputs": [
    {
     "name": "stdout",
     "output_type": "stream",
     "text": [
      "   | 0 | 1 | 2 | 3 |\n",
      "---------------------\n",
      "0  |   |   |   |   | \n",
      "---------------------\n",
      "1  |   |   |   |   | \n",
      "---------------------\n",
      "2  |   |   |   |   | \n",
      "---------------------\n",
      "\n",
      "   | 0 | 1 | 2 | 3 |\n",
      "---------------------\n",
      "0  |   |   |   |   | \n",
      "---------------------\n",
      "1  |   |   |   |   | \n",
      "---------------------\n",
      "2  |   |   |   | x | \n",
      "---------------------\n",
      "\n",
      "Input your action row:2\n",
      "Input your action col:2\n",
      "   | 0 | 1 | 2 | 3 |\n",
      "---------------------\n",
      "0  |   |   |   |   | \n",
      "---------------------\n",
      "1  |   |   |   |   | \n",
      "---------------------\n",
      "2  |   |   | o | x | \n",
      "---------------------\n",
      "\n",
      "   | 0 | 1 | 2 | 3 |\n",
      "---------------------\n",
      "0  |   |   |   |   | \n",
      "---------------------\n",
      "1  |   |   |   |   | \n",
      "---------------------\n",
      "2  | x |   | o | x | \n",
      "---------------------\n",
      "\n",
      "Input your action row:1\n",
      "Input your action col:2\n",
      "   | 0 | 1 | 2 | 3 |\n",
      "---------------------\n",
      "0  |   |   |   |   | \n",
      "---------------------\n",
      "1  |   |   | o |   | \n",
      "---------------------\n",
      "2  | x |   | o | x | \n",
      "---------------------\n",
      "\n",
      "   | 0 | 1 | 2 | 3 |\n",
      "---------------------\n",
      "0  |   |   | x |   | \n",
      "---------------------\n",
      "1  |   |   | o |   | \n",
      "---------------------\n",
      "2  | x |   | o | x | \n",
      "---------------------\n",
      "\n",
      "Input your action row:1\n",
      "Input your action col:3\n",
      "   | 0 | 1 | 2 | 3 |\n",
      "---------------------\n",
      "0  |   |   | x |   | \n",
      "---------------------\n",
      "1  |   |   | o | o | \n",
      "---------------------\n",
      "2  | x |   | o | x | \n",
      "---------------------\n",
      "\n",
      "   | 0 | 1 | 2 | 3 |\n",
      "---------------------\n",
      "0  |   |   | x | x | \n",
      "---------------------\n",
      "1  |   |   | o | o | \n",
      "---------------------\n",
      "2  | x |   | o | x | \n",
      "---------------------\n",
      "\n",
      "Input your action row:1\n",
      "Input your action col:0\n",
      "   | 0 | 1 | 2 | 3 |\n",
      "---------------------\n",
      "0  |   |   | x | x | \n",
      "---------------------\n",
      "1  | o |   | o | o | \n",
      "---------------------\n",
      "2  | x |   | o | x | \n",
      "---------------------\n",
      "\n",
      "   | 0 | 1 | 2 | 3 |\n",
      "---------------------\n",
      "0  | x |   | x | x | \n",
      "---------------------\n",
      "1  | o |   | o | o | \n",
      "---------------------\n",
      "2  | x |   | o | x | \n",
      "---------------------\n",
      "\n",
      "Input your action row:2\n",
      "Input your action col:1\n",
      "   | 0 | 1 | 2 | 3 |\n",
      "---------------------\n",
      "0  | x |   | x | x | \n",
      "---------------------\n",
      "1  | o |   | o | o | \n",
      "---------------------\n",
      "2  | x | o | o | x | \n",
      "---------------------\n",
      "\n",
      "   | 0 | 1 | 2 | 3 |\n",
      "---------------------\n",
      "0  | x |   | x | x | \n",
      "---------------------\n",
      "1  | o | x | o | o | \n",
      "---------------------\n",
      "2  | x | o | o | x | \n",
      "---------------------\n",
      "\n",
      "grav341 wins!\n"
     ]
    },
    {
     "data": {
      "text/plain": [
       "1"
      ]
     },
     "execution_count": 32,
     "metadata": {},
     "output_type": "execute_result"
    }
   ],
   "source": [
    "#p1 = player(\"computer\", explore_rate=0)\n",
    "human = HumanPlayer(\"human\")\n",
    "#p1.loadPolicy(\"policy_p1\")\n",
    "game = tictactoe(p1grav34, human, numrows=3, numcols=4, wincount=3, gravitymove=True)\n",
    "game.playhuman()"
   ]
  },
  {
   "cell_type": "code",
   "execution_count": 34,
   "metadata": {},
   "outputs": [
    {
     "name": "stdout",
     "output_type": "stream",
     "text": [
      "   | 0 | 1 | 2 | 3 |\n",
      "---------------------\n",
      "0  |   |   |   |   | \n",
      "---------------------\n",
      "1  |   |   |   |   | \n",
      "---------------------\n",
      "2  |   |   |   |   | \n",
      "---------------------\n",
      "\n",
      "Input your action row:2\n",
      "Input your action col:1\n",
      "   | 0 | 1 | 2 | 3 |\n",
      "---------------------\n",
      "0  |   |   |   |   | \n",
      "---------------------\n",
      "1  |   |   |   |   | \n",
      "---------------------\n",
      "2  |   | x |   |   | \n",
      "---------------------\n",
      "\n",
      "   | 0 | 1 | 2 | 3 |\n",
      "---------------------\n",
      "0  |   |   |   |   | \n",
      "---------------------\n",
      "1  |   | o |   |   | \n",
      "---------------------\n",
      "2  |   | x |   |   | \n",
      "---------------------\n",
      "\n",
      "Input your action row:2\n",
      "Input your action col:2\n",
      "   | 0 | 1 | 2 | 3 |\n",
      "---------------------\n",
      "0  |   |   |   |   | \n",
      "---------------------\n",
      "1  |   | o |   |   | \n",
      "---------------------\n",
      "2  |   | x | x |   | \n",
      "---------------------\n",
      "\n",
      "   | 0 | 1 | 2 | 3 |\n",
      "---------------------\n",
      "0  |   |   |   |   | \n",
      "---------------------\n",
      "1  |   | o |   |   | \n",
      "---------------------\n",
      "2  | o | x | x |   | \n",
      "---------------------\n",
      "\n",
      "Input your action row:2\n",
      "Input your action col:3\n",
      "   | 0 | 1 | 2 | 3 |\n",
      "---------------------\n",
      "0  |   |   |   |   | \n",
      "---------------------\n",
      "1  |   | o |   |   | \n",
      "---------------------\n",
      "2  | o | x | x | x | \n",
      "---------------------\n",
      "\n",
      "human wins!\n"
     ]
    },
    {
     "data": {
      "text/plain": [
       "1"
      ]
     },
     "execution_count": 34,
     "metadata": {},
     "output_type": "execute_result"
    }
   ],
   "source": [
    "#p1 = player(\"computer\", explore_rate=0)\n",
    "human = HumanPlayer(\"human\")\n",
    "#p1.loadPolicy(\"policy_p1\")\n",
    "game = tictactoe(human, p2grav34, numrows=3, numcols=4, wincount=3, gravitymove=True)\n",
    "game.playhuman()"
   ]
  },
  {
   "cell_type": "code",
   "execution_count": 35,
   "metadata": {},
   "outputs": [
    {
     "name": "stdout",
     "output_type": "stream",
     "text": [
      "   | 0 | 1 | 2 | 3 |\n",
      "---------------------\n",
      "0  |   |   |   |   | \n",
      "---------------------\n",
      "1  |   |   |   |   | \n",
      "---------------------\n",
      "2  |   |   |   |   | \n",
      "---------------------\n",
      "\n",
      "   | 0 | 1 | 2 | 3 |\n",
      "---------------------\n",
      "0  |   |   |   |   | \n",
      "---------------------\n",
      "1  |   |   |   |   | \n",
      "---------------------\n",
      "2  |   |   |   | x | \n",
      "---------------------\n",
      "\n",
      "   | 0 | 1 | 2 | 3 |\n",
      "---------------------\n",
      "0  |   |   |   |   | \n",
      "---------------------\n",
      "1  |   |   |   |   | \n",
      "---------------------\n",
      "2  |   | o |   | x | \n",
      "---------------------\n",
      "\n",
      "   | 0 | 1 | 2 | 3 |\n",
      "---------------------\n",
      "0  |   |   |   |   | \n",
      "---------------------\n",
      "1  |   |   |   | x | \n",
      "---------------------\n",
      "2  |   | o |   | x | \n",
      "---------------------\n",
      "\n",
      "   | 0 | 1 | 2 | 3 |\n",
      "---------------------\n",
      "0  |   |   |   |   | \n",
      "---------------------\n",
      "1  |   | o |   | x | \n",
      "---------------------\n",
      "2  |   | o |   | x | \n",
      "---------------------\n",
      "\n",
      "   | 0 | 1 | 2 | 3 |\n",
      "---------------------\n",
      "0  |   |   |   | x | \n",
      "---------------------\n",
      "1  |   | o |   | x | \n",
      "---------------------\n",
      "2  |   | o |   | x | \n",
      "---------------------\n",
      "\n",
      "grav341 wins!\n"
     ]
    },
    {
     "data": {
      "text/plain": [
       "1"
      ]
     },
     "execution_count": 35,
     "metadata": {},
     "output_type": "execute_result"
    }
   ],
   "source": [
    "#p1 = player(\"computer\", explore_rate=0)\n",
    "human = HumanPlayer(\"human\")\n",
    "#p1.loadPolicy(\"policy_p1\")\n",
    "game = tictactoe(p1grav34, p2grav34, numrows=3, numcols=4, wincount=3, gravitymove=True)\n",
    "game.playhuman()"
   ]
  },
  {
   "cell_type": "markdown",
   "metadata": {},
   "source": [
    "I don't think we gave it enough training time. What about around 3 times as much? So 50,000 games per learning rate? I'm also concerned that player 2 just isn't learning and is giving up because he's at a severe disadvantage, so let's up his reward for a tie and not penalize him so much for losing."
   ]
  },
  {
   "cell_type": "code",
   "execution_count": 39,
   "metadata": {},
   "outputs": [
    {
     "name": "stdout",
     "output_type": "stream",
     "text": [
      "0.05\n",
      "training for explore rate 0.4 and alpha 0.4\n"
     ]
    },
    {
     "name": "stderr",
     "output_type": "stream",
     "text": [
      "100%|███████████████████████████████████████████████████████████████████████████| 50000/50000 [03:16<00:00, 255.06it/s]\n"
     ]
    },
    {
     "name": "stdout",
     "output_type": "stream",
     "text": [
      "training for explore rate 0.35 and alpha 0.35\n"
     ]
    },
    {
     "name": "stderr",
     "output_type": "stream",
     "text": [
      "100%|███████████████████████████████████████████████████████████████████████████| 50000/50000 [03:46<00:00, 221.24it/s]\n"
     ]
    },
    {
     "name": "stdout",
     "output_type": "stream",
     "text": [
      "training for explore rate 0.3 and alpha 0.3\n"
     ]
    },
    {
     "name": "stderr",
     "output_type": "stream",
     "text": [
      "100%|███████████████████████████████████████████████████████████████████████████| 50000/50000 [05:01<00:00, 165.78it/s]\n"
     ]
    },
    {
     "name": "stdout",
     "output_type": "stream",
     "text": [
      "training for explore rate 0.25 and alpha 0.25\n"
     ]
    },
    {
     "name": "stderr",
     "output_type": "stream",
     "text": [
      "100%|███████████████████████████████████████████████████████████████████████████| 50000/50000 [05:09<00:00, 161.42it/s]\n"
     ]
    },
    {
     "name": "stdout",
     "output_type": "stream",
     "text": [
      "training for explore rate 0.2 and alpha 0.2\n"
     ]
    },
    {
     "name": "stderr",
     "output_type": "stream",
     "text": [
      "100%|███████████████████████████████████████████████████████████████████████████| 50000/50000 [05:01<00:00, 165.75it/s]\n"
     ]
    },
    {
     "name": "stdout",
     "output_type": "stream",
     "text": [
      "training for explore rate 0.15 and alpha 0.15\n"
     ]
    },
    {
     "name": "stderr",
     "output_type": "stream",
     "text": [
      "100%|███████████████████████████████████████████████████████████████████████████| 50000/50000 [05:04<00:00, 164.24it/s]\n"
     ]
    },
    {
     "name": "stdout",
     "output_type": "stream",
     "text": [
      "training for explore rate 0.1 and alpha 0.1\n"
     ]
    },
    {
     "name": "stderr",
     "output_type": "stream",
     "text": [
      "100%|███████████████████████████████████████████████████████████████████████████| 50000/50000 [05:01<00:00, 165.70it/s]\n"
     ]
    },
    {
     "name": "stdout",
     "output_type": "stream",
     "text": [
      "training for explore rate 0.05 and alpha 0.05\n"
     ]
    },
    {
     "name": "stderr",
     "output_type": "stream",
     "text": [
      "100%|███████████████████████████████████████████████████████████████████████████| 50000/50000 [05:05<00:00, 163.81it/s]\n"
     ]
    },
    {
     "name": "stdout",
     "output_type": "stream",
     "text": [
      "training for explore rate 0.0 and alpha 0.01\n"
     ]
    },
    {
     "name": "stderr",
     "output_type": "stream",
     "text": [
      "100%|███████████████████████████████████████████████████████████████████████████| 50000/50000 [04:56<00:00, 168.58it/s]\n"
     ]
    },
    {
     "data": {
      "image/png": "[encoded data removed]",
      "text/plain": [
       "<Figure size 432x288 with 1 Axes>"
      ]
     },
     "metadata": {
      "needs_background": "light"
     },
     "output_type": "display_data"
    }
   ],
   "source": [
    "p1grav34, p2grav34 = makedynamic(50000, 9, 0.4, rows=3, cols=4, winc=3, gmove=True, movingalpha=True, \n",
    "                               stratnames=\"grav34\")"
   ]
  },
  {
   "cell_type": "code",
   "execution_count": 45,
   "metadata": {},
   "outputs": [
    {
     "name": "stdout",
     "output_type": "stream",
     "text": [
      "   | 0 | 1 | 2 | 3 |\n",
      "---------------------\n",
      "0  |   |   |   |   | \n",
      "---------------------\n",
      "1  |   |   |   |   | \n",
      "---------------------\n",
      "2  |   |   |   |   | \n",
      "---------------------\n",
      "\n",
      "   | 0 | 1 | 2 | 3 |\n",
      "---------------------\n",
      "0  |   |   |   |   | \n",
      "---------------------\n",
      "1  |   |   |   |   | \n",
      "---------------------\n",
      "2  |   |   | x |   | \n",
      "---------------------\n",
      "\n",
      "   | 0 | 1 | 2 | 3 |\n",
      "---------------------\n",
      "0  |   |   |   |   | \n",
      "---------------------\n",
      "1  |   |   |   |   | \n",
      "---------------------\n",
      "2  | o |   | x |   | \n",
      "---------------------\n",
      "\n",
      "   | 0 | 1 | 2 | 3 |\n",
      "---------------------\n",
      "0  |   |   |   |   | \n",
      "---------------------\n",
      "1  |   |   |   |   | \n",
      "---------------------\n",
      "2  | o |   | x | x | \n",
      "---------------------\n",
      "\n",
      "   | 0 | 1 | 2 | 3 |\n",
      "---------------------\n",
      "0  |   |   |   |   | \n",
      "---------------------\n",
      "1  | o |   |   |   | \n",
      "---------------------\n",
      "2  | o |   | x | x | \n",
      "---------------------\n",
      "\n",
      "   | 0 | 1 | 2 | 3 |\n",
      "---------------------\n",
      "0  |   |   |   |   | \n",
      "---------------------\n",
      "1  | o |   |   |   | \n",
      "---------------------\n",
      "2  | o | x | x | x | \n",
      "---------------------\n",
      "\n",
      "grav341 wins!\n"
     ]
    },
    {
     "data": {
      "text/plain": [
       "1"
      ]
     },
     "execution_count": 45,
     "metadata": {},
     "output_type": "execute_result"
    }
   ],
   "source": [
    "#p1 = player(\"computer\", explore_rate=0)\n",
    "human = HumanPlayer(\"human\")\n",
    "#p1.loadPolicy(\"policy_p1\")\n",
    "game = tictactoe(p1grav34, p2grav34, numrows=3, numcols=4, wincount=3, gravitymove=True)\n",
    "game.playhuman()"
   ]
  },
  {
   "cell_type": "markdown",
   "metadata": {},
   "source": [
    "Bizarre result from the 3x4 games -- player 1 trains very well \n",
    "and achieves human level play, but player 2 still flubs sometimes. I think this is a training fluke."
   ]
  },
  {
   "cell_type": "code",
   "execution_count": 42,
   "metadata": {
    "scrolled": false
   },
   "outputs": [
    {
     "name": "stdout",
     "output_type": "stream",
     "text": [
      "   | 0 | 1 | 2 | 3 |\n",
      "---------------------\n",
      "0  |   |   |   |   | \n",
      "---------------------\n",
      "1  |   |   |   |   | \n",
      "---------------------\n",
      "2  |   |   |   |   | \n",
      "---------------------\n",
      "\n",
      "   | 0 | 1 | 2 | 3 |\n",
      "---------------------\n",
      "0  |   |   |   |   | \n",
      "---------------------\n",
      "1  |   |   |   |   | \n",
      "---------------------\n",
      "2  |   |   | x |   | \n",
      "---------------------\n",
      "\n",
      "Input your action row:2\n",
      "Input your action col:1\n",
      "   | 0 | 1 | 2 | 3 |\n",
      "---------------------\n",
      "0  |   |   |   |   | \n",
      "---------------------\n",
      "1  |   |   |   |   | \n",
      "---------------------\n",
      "2  |   | o | x |   | \n",
      "---------------------\n",
      "\n",
      "   | 0 | 1 | 2 | 3 |\n",
      "---------------------\n",
      "0  |   |   |   |   | \n",
      "---------------------\n",
      "1  |   |   | x |   | \n",
      "---------------------\n",
      "2  |   | o | x |   | \n",
      "---------------------\n",
      "\n",
      "Input your action row:0\n",
      "Input your action col:2\n",
      "   | 0 | 1 | 2 | 3 |\n",
      "---------------------\n",
      "0  |   |   | o |   | \n",
      "---------------------\n",
      "1  |   |   | x |   | \n",
      "---------------------\n",
      "2  |   | o | x |   | \n",
      "---------------------\n",
      "\n",
      "   | 0 | 1 | 2 | 3 |\n",
      "---------------------\n",
      "0  |   |   | o |   | \n",
      "---------------------\n",
      "1  |   | x | x |   | \n",
      "---------------------\n",
      "2  |   | o | x |   | \n",
      "---------------------\n",
      "\n",
      "Input your action row:0\n",
      "Input your action col:1\n",
      "   | 0 | 1 | 2 | 3 |\n",
      "---------------------\n",
      "0  |   | o | o |   | \n",
      "---------------------\n",
      "1  |   | x | x |   | \n",
      "---------------------\n",
      "2  |   | o | x |   | \n",
      "---------------------\n",
      "\n",
      "   | 0 | 1 | 2 | 3 |\n",
      "---------------------\n",
      "0  |   | o | o |   | \n",
      "---------------------\n",
      "1  |   | x | x |   | \n",
      "---------------------\n",
      "2  |   | o | x | x | \n",
      "---------------------\n",
      "\n",
      "Input your action row:1\n",
      "Input your action col:3\n",
      "   | 0 | 1 | 2 | 3 |\n",
      "---------------------\n",
      "0  |   | o | o |   | \n",
      "---------------------\n",
      "1  |   | x | x | o | \n",
      "---------------------\n",
      "2  |   | o | x | x | \n",
      "---------------------\n",
      "\n",
      "   | 0 | 1 | 2 | 3 |\n",
      "---------------------\n",
      "0  |   | o | o | x | \n",
      "---------------------\n",
      "1  |   | x | x | o | \n",
      "---------------------\n",
      "2  |   | o | x | x | \n",
      "---------------------\n",
      "\n",
      "Input your action row:2\n",
      "Input your action col:0\n",
      "   | 0 | 1 | 2 | 3 |\n",
      "---------------------\n",
      "0  |   | o | o | x | \n",
      "---------------------\n",
      "1  |   | x | x | o | \n",
      "---------------------\n",
      "2  | o | o | x | x | \n",
      "---------------------\n",
      "\n",
      "   | 0 | 1 | 2 | 3 |\n",
      "---------------------\n",
      "0  |   | o | o | x | \n",
      "---------------------\n",
      "1  | x | x | x | o | \n",
      "---------------------\n",
      "2  | o | o | x | x | \n",
      "---------------------\n",
      "\n",
      "grav341 wins!\n"
     ]
    },
    {
     "data": {
      "text/plain": [
       "1"
      ]
     },
     "execution_count": 42,
     "metadata": {},
     "output_type": "execute_result"
    }
   ],
   "source": [
    "#p1 = player(\"computer\", explore_rate=0)\n",
    "human = HumanPlayer(\"human\")\n",
    "#p1.loadPolicy(\"policy_p1\")\n",
    "game = tictactoe(p1grav34, human, numrows=3, numcols=4, wincount=3, gravitymove=True)\n",
    "game.playhuman()"
   ]
  },
  {
   "cell_type": "code",
   "execution_count": 44,
   "metadata": {},
   "outputs": [
    {
     "name": "stdout",
     "output_type": "stream",
     "text": [
      "   | 0 | 1 | 2 | 3 |\n",
      "---------------------\n",
      "0  |   |   |   |   | \n",
      "---------------------\n",
      "1  |   |   |   |   | \n",
      "---------------------\n",
      "2  |   |   |   |   | \n",
      "---------------------\n",
      "\n",
      "Input your action row:2\n",
      "Input your action col:0\n",
      "   | 0 | 1 | 2 | 3 |\n",
      "---------------------\n",
      "0  |   |   |   |   | \n",
      "---------------------\n",
      "1  |   |   |   |   | \n",
      "---------------------\n",
      "2  | x |   |   |   | \n",
      "---------------------\n",
      "\n",
      "   | 0 | 1 | 2 | 3 |\n",
      "---------------------\n",
      "0  |   |   |   |   | \n",
      "---------------------\n",
      "1  |   |   |   |   | \n",
      "---------------------\n",
      "2  | x |   | o |   | \n",
      "---------------------\n",
      "\n",
      "Input your action row:2\n",
      "Input your action col:1\n",
      "   | 0 | 1 | 2 | 3 |\n",
      "---------------------\n",
      "0  |   |   |   |   | \n",
      "---------------------\n",
      "1  |   |   |   |   | \n",
      "---------------------\n",
      "2  | x | x | o |   | \n",
      "---------------------\n",
      "\n",
      "   | 0 | 1 | 2 | 3 |\n",
      "---------------------\n",
      "0  |   |   |   |   | \n",
      "---------------------\n",
      "1  |   | o |   |   | \n",
      "---------------------\n",
      "2  | x | x | o |   | \n",
      "---------------------\n",
      "\n",
      "Input your action row:1\n",
      "Input your action col:2\n",
      "   | 0 | 1 | 2 | 3 |\n",
      "---------------------\n",
      "0  |   |   |   |   | \n",
      "---------------------\n",
      "1  |   | o | x |   | \n",
      "---------------------\n",
      "2  | x | x | o |   | \n",
      "---------------------\n",
      "\n",
      "   | 0 | 1 | 2 | 3 |\n",
      "---------------------\n",
      "0  |   | o |   |   | \n",
      "---------------------\n",
      "1  |   | o | x |   | \n",
      "---------------------\n",
      "2  | x | x | o |   | \n",
      "---------------------\n",
      "\n",
      "Input your action row:1\n",
      "Input your action col:0\n",
      "   | 0 | 1 | 2 | 3 |\n",
      "---------------------\n",
      "0  |   | o |   |   | \n",
      "---------------------\n",
      "1  | x | o | x |   | \n",
      "---------------------\n",
      "2  | x | x | o |   | \n",
      "---------------------\n",
      "\n",
      "   | 0 | 1 | 2 | 3 |\n",
      "---------------------\n",
      "0  | o | o |   |   | \n",
      "---------------------\n",
      "1  | x | o | x |   | \n",
      "---------------------\n",
      "2  | x | x | o |   | \n",
      "---------------------\n",
      "\n",
      "grav342 wins!\n"
     ]
    },
    {
     "data": {
      "text/plain": [
       "-1"
      ]
     },
     "execution_count": 44,
     "metadata": {},
     "output_type": "execute_result"
    }
   ],
   "source": [
    "# p1 = player(\"computer\", explore_rate=0)\n",
    "human = HumanPlayer(\"human\")\n",
    "#p1.loadPolicy(\"policy_p1\")\n",
    "game = tictactoe(human, p2grav34, numrows=3, numcols=4, wincount=3, gravitymove=True)\n",
    "game.playhuman()"
   ]
  },
  {
   "cell_type": "markdown",
   "metadata": {},
   "source": [
    "What if we have each player randomly make a few moves first at high exploration rate? Choose random number of random first moves for each player, more depending on exploration rate. For example, each player first makes a random number of moves equal to a random sample from normal distribution centered around exprate times boardsize over two, with wide standard deviation. Each player makes different number of random moves so players that make fewer random moves can learn how to play against bad players."
   ]
  },
  {
   "cell_type": "markdown",
   "metadata": {},
   "source": [
    "Test on tictactoe first. Number of initial random moves for each player is normally distributed around exploration rate squared times board size, with standard deviation equal to half of that. So For exp rate 0.4, we randomly make on average the first 1.44 moves."
   ]
  },
  {
   "cell_type": "code",
   "execution_count": 58,
   "metadata": {},
   "outputs": [
    {
     "name": "stdout",
     "output_type": "stream",
     "text": [
      "0.05\n",
      "training for explore rate 0.4 and alpha 0.4\n"
     ]
    },
    {
     "name": "stderr",
     "output_type": "stream",
     "text": [
      "100%|███████████████████████████████████████████████████████████████████████████████| 500/500 [00:01<00:00, 473.94it/s]\n"
     ]
    },
    {
     "name": "stdout",
     "output_type": "stream",
     "text": [
      "training for explore rate 0.35 and alpha 0.35\n"
     ]
    },
    {
     "name": "stderr",
     "output_type": "stream",
     "text": [
      "100%|███████████████████████████████████████████████████████████████████████████████| 500/500 [00:01<00:00, 477.53it/s]\n"
     ]
    },
    {
     "name": "stdout",
     "output_type": "stream",
     "text": [
      "training for explore rate 0.3 and alpha 0.3\n"
     ]
    },
    {
     "name": "stderr",
     "output_type": "stream",
     "text": [
      "100%|███████████████████████████████████████████████████████████████████████████████| 500/500 [00:01<00:00, 399.23it/s]\n"
     ]
    },
    {
     "name": "stdout",
     "output_type": "stream",
     "text": [
      "training for explore rate 0.25 and alpha 0.25\n"
     ]
    },
    {
     "name": "stderr",
     "output_type": "stream",
     "text": [
      "100%|███████████████████████████████████████████████████████████████████████████████| 500/500 [00:01<00:00, 384.17it/s]\n"
     ]
    },
    {
     "name": "stdout",
     "output_type": "stream",
     "text": [
      "training for explore rate 0.2 and alpha 0.2\n"
     ]
    },
    {
     "name": "stderr",
     "output_type": "stream",
     "text": [
      "100%|███████████████████████████████████████████████████████████████████████████████| 500/500 [00:01<00:00, 350.51it/s]\n"
     ]
    },
    {
     "name": "stdout",
     "output_type": "stream",
     "text": [
      "training for explore rate 0.15 and alpha 0.15\n"
     ]
    },
    {
     "name": "stderr",
     "output_type": "stream",
     "text": [
      "100%|███████████████████████████████████████████████████████████████████████████████| 500/500 [00:01<00:00, 286.87it/s]\n"
     ]
    },
    {
     "name": "stdout",
     "output_type": "stream",
     "text": [
      "training for explore rate 0.1 and alpha 0.1\n"
     ]
    },
    {
     "name": "stderr",
     "output_type": "stream",
     "text": [
      "100%|███████████████████████████████████████████████████████████████████████████████| 500/500 [00:01<00:00, 250.32it/s]\n"
     ]
    },
    {
     "name": "stdout",
     "output_type": "stream",
     "text": [
      "training for explore rate 0.05 and alpha 0.05\n"
     ]
    },
    {
     "name": "stderr",
     "output_type": "stream",
     "text": [
      "100%|███████████████████████████████████████████████████████████████████████████████| 500/500 [00:02<00:00, 198.40it/s]\n"
     ]
    },
    {
     "name": "stdout",
     "output_type": "stream",
     "text": [
      "training for explore rate 0.0 and alpha 0.01\n"
     ]
    },
    {
     "name": "stderr",
     "output_type": "stream",
     "text": [
      "100%|███████████████████████████████████████████████████████████████████████████████| 500/500 [00:02<00:00, 184.22it/s]\n"
     ]
    },
    {
     "data": {
      "image/png": "[encoded data removed]",
      "text/plain": [
       "<Figure size 432x288 with 1 Axes>"
      ]
     },
     "metadata": {
      "needs_background": "light"
     },
     "output_type": "display_data"
    }
   ],
   "source": [
    "p1grav, p2grav = makedynamic(500, 9, 0.4, gmove=True, movingalpha=True, stratnames=\"grav33rand\", randinit=True)"
   ]
  },
  {
   "cell_type": "markdown",
   "metadata": {},
   "source": [
    "Actually does better AND ties itself more at the beginning! Let's try with 3x4 now, and with 15000 training rounds (27x what we need for 3x3)."
   ]
  },
  {
   "cell_type": "code",
   "execution_count": 65,
   "metadata": {},
   "outputs": [
    {
     "name": "stdout",
     "output_type": "stream",
     "text": [
      "0.05\n",
      "training for explore rate 0.4 and alpha 0.4\n"
     ]
    },
    {
     "name": "stderr",
     "output_type": "stream",
     "text": [
      "100%|███████████████████████████████████████████████████████████████████████████| 15000/15000 [00:48<00:00, 309.13it/s]\n"
     ]
    },
    {
     "name": "stdout",
     "output_type": "stream",
     "text": [
      "training for explore rate 0.35 and alpha 0.35\n"
     ]
    },
    {
     "name": "stderr",
     "output_type": "stream",
     "text": [
      "100%|███████████████████████████████████████████████████████████████████████████| 15000/15000 [01:05<00:00, 227.56it/s]\n"
     ]
    },
    {
     "name": "stdout",
     "output_type": "stream",
     "text": [
      "training for explore rate 0.3 and alpha 0.3\n"
     ]
    },
    {
     "name": "stderr",
     "output_type": "stream",
     "text": [
      "100%|███████████████████████████████████████████████████████████████████████████| 15000/15000 [01:10<00:00, 212.45it/s]\n"
     ]
    },
    {
     "name": "stdout",
     "output_type": "stream",
     "text": [
      "training for explore rate 0.25 and alpha 0.25\n"
     ]
    },
    {
     "name": "stderr",
     "output_type": "stream",
     "text": [
      "100%|███████████████████████████████████████████████████████████████████████████| 15000/15000 [01:14<00:00, 201.63it/s]\n"
     ]
    },
    {
     "name": "stdout",
     "output_type": "stream",
     "text": [
      "training for explore rate 0.2 and alpha 0.2\n"
     ]
    },
    {
     "name": "stderr",
     "output_type": "stream",
     "text": [
      "100%|███████████████████████████████████████████████████████████████████████████| 15000/15000 [01:17<00:00, 192.76it/s]\n"
     ]
    },
    {
     "name": "stdout",
     "output_type": "stream",
     "text": [
      "training for explore rate 0.15 and alpha 0.15\n"
     ]
    },
    {
     "name": "stderr",
     "output_type": "stream",
     "text": [
      "100%|███████████████████████████████████████████████████████████████████████████| 15000/15000 [01:31<00:00, 163.22it/s]\n"
     ]
    },
    {
     "name": "stdout",
     "output_type": "stream",
     "text": [
      "training for explore rate 0.1 and alpha 0.1\n"
     ]
    },
    {
     "name": "stderr",
     "output_type": "stream",
     "text": [
      "100%|███████████████████████████████████████████████████████████████████████████| 15000/15000 [01:30<00:00, 166.48it/s]\n"
     ]
    },
    {
     "name": "stdout",
     "output_type": "stream",
     "text": [
      "training for explore rate 0.05 and alpha 0.05\n"
     ]
    },
    {
     "name": "stderr",
     "output_type": "stream",
     "text": [
      "100%|███████████████████████████████████████████████████████████████████████████| 15000/15000 [01:40<00:00, 149.82it/s]\n"
     ]
    },
    {
     "name": "stdout",
     "output_type": "stream",
     "text": [
      "training for explore rate 0.0 and alpha 0.01\n"
     ]
    },
    {
     "name": "stderr",
     "output_type": "stream",
     "text": [
      "100%|███████████████████████████████████████████████████████████████████████████| 15000/15000 [01:31<00:00, 164.70it/s]\n"
     ]
    },
    {
     "data": {
      "image/png": "[encoded data removed]",
      "text/plain": [
       "<Figure size 432x288 with 1 Axes>"
      ]
     },
     "metadata": {
      "needs_background": "light"
     },
     "output_type": "display_data"
    }
   ],
   "source": [
    "p1grav34, p2grav34 = makedynamic(15000, 9, 0.4, rows=3, cols=4, winc=3, gmove=True, movingalpha=True, \n",
    "                               stratnames=\"grav34rand\", randinit=True)"
   ]
  },
  {
   "cell_type": "code",
   "execution_count": 66,
   "metadata": {},
   "outputs": [
    {
     "name": "stdout",
     "output_type": "stream",
     "text": [
      "   | 0 | 1 | 2 | 3 |\n",
      "---------------------\n",
      "0  |   |   |   |   | \n",
      "---------------------\n",
      "1  |   |   |   |   | \n",
      "---------------------\n",
      "2  |   |   |   |   | \n",
      "---------------------\n",
      "\n",
      "   | 0 | 1 | 2 | 3 |\n",
      "---------------------\n",
      "0  |   |   |   |   | \n",
      "---------------------\n",
      "1  |   |   |   |   | \n",
      "---------------------\n",
      "2  |   |   | x |   | \n",
      "---------------------\n",
      "\n",
      "   | 0 | 1 | 2 | 3 |\n",
      "---------------------\n",
      "0  |   |   |   |   | \n",
      "---------------------\n",
      "1  |   |   |   |   | \n",
      "---------------------\n",
      "2  | o |   | x |   | \n",
      "---------------------\n",
      "\n",
      "   | 0 | 1 | 2 | 3 |\n",
      "---------------------\n",
      "0  |   |   |   |   | \n",
      "---------------------\n",
      "1  |   |   | x |   | \n",
      "---------------------\n",
      "2  | o |   | x |   | \n",
      "---------------------\n",
      "\n",
      "   | 0 | 1 | 2 | 3 |\n",
      "---------------------\n",
      "0  |   |   |   |   | \n",
      "---------------------\n",
      "1  | o |   | x |   | \n",
      "---------------------\n",
      "2  | o |   | x |   | \n",
      "---------------------\n",
      "\n",
      "   | 0 | 1 | 2 | 3 |\n",
      "---------------------\n",
      "0  |   |   | x |   | \n",
      "---------------------\n",
      "1  | o |   | x |   | \n",
      "---------------------\n",
      "2  | o |   | x |   | \n",
      "---------------------\n",
      "\n",
      "grav34rand1 wins!\n"
     ]
    },
    {
     "data": {
      "text/plain": [
       "1"
      ]
     },
     "execution_count": 66,
     "metadata": {},
     "output_type": "execute_result"
    }
   ],
   "source": [
    "#p1 = player(\"computer\", explore_rate=0)\n",
    "human = HumanPlayer(\"human\")\n",
    "#p1.loadPolicy(\"policy_p1\")\n",
    "game = tictactoe(p1grav34, p2grav34, numrows=3, numcols=4, wincount=3, gravitymove=True)\n",
    "game.playhuman()"
   ]
  },
  {
   "cell_type": "code",
   "execution_count": 67,
   "metadata": {
    "scrolled": false
   },
   "outputs": [
    {
     "name": "stdout",
     "output_type": "stream",
     "text": [
      "   | 0 | 1 | 2 | 3 |\n",
      "---------------------\n",
      "0  |   |   |   |   | \n",
      "---------------------\n",
      "1  |   |   |   |   | \n",
      "---------------------\n",
      "2  |   |   |   |   | \n",
      "---------------------\n",
      "\n",
      "   | 0 | 1 | 2 | 3 |\n",
      "---------------------\n",
      "0  |   |   |   |   | \n",
      "---------------------\n",
      "1  |   |   |   |   | \n",
      "---------------------\n",
      "2  |   |   | x |   | \n",
      "---------------------\n",
      "\n",
      "Input your action row:2\n",
      "Input your action col:1\n",
      "   | 0 | 1 | 2 | 3 |\n",
      "---------------------\n",
      "0  |   |   |   |   | \n",
      "---------------------\n",
      "1  |   |   |   |   | \n",
      "---------------------\n",
      "2  |   | o | x |   | \n",
      "---------------------\n",
      "\n",
      "   | 0 | 1 | 2 | 3 |\n",
      "---------------------\n",
      "0  |   |   |   |   | \n",
      "---------------------\n",
      "1  |   |   | x |   | \n",
      "---------------------\n",
      "2  |   | o | x |   | \n",
      "---------------------\n",
      "\n",
      "Input your action row:0\n",
      "Input your action col:2\n",
      "   | 0 | 1 | 2 | 3 |\n",
      "---------------------\n",
      "0  |   |   | o |   | \n",
      "---------------------\n",
      "1  |   |   | x |   | \n",
      "---------------------\n",
      "2  |   | o | x |   | \n",
      "---------------------\n",
      "\n",
      "   | 0 | 1 | 2 | 3 |\n",
      "---------------------\n",
      "0  |   |   | o |   | \n",
      "---------------------\n",
      "1  |   | x | x |   | \n",
      "---------------------\n",
      "2  |   | o | x |   | \n",
      "---------------------\n",
      "\n",
      "Input your action row:0\n",
      "Input your action col:1\n",
      "   | 0 | 1 | 2 | 3 |\n",
      "---------------------\n",
      "0  |   | o | o |   | \n",
      "---------------------\n",
      "1  |   | x | x |   | \n",
      "---------------------\n",
      "2  |   | o | x |   | \n",
      "---------------------\n",
      "\n",
      "   | 0 | 1 | 2 | 3 |\n",
      "---------------------\n",
      "0  |   | o | o |   | \n",
      "---------------------\n",
      "1  |   | x | x |   | \n",
      "---------------------\n",
      "2  |   | o | x | x | \n",
      "---------------------\n",
      "\n",
      "Input your action row:1\n",
      "Input your action col:3\n",
      "   | 0 | 1 | 2 | 3 |\n",
      "---------------------\n",
      "0  |   | o | o |   | \n",
      "---------------------\n",
      "1  |   | x | x | o | \n",
      "---------------------\n",
      "2  |   | o | x | x | \n",
      "---------------------\n",
      "\n",
      "   | 0 | 1 | 2 | 3 |\n",
      "---------------------\n",
      "0  |   | o | o | x | \n",
      "---------------------\n",
      "1  |   | x | x | o | \n",
      "---------------------\n",
      "2  |   | o | x | x | \n",
      "---------------------\n",
      "\n",
      "Input your action row:2\n",
      "Input your action col:0\n",
      "   | 0 | 1 | 2 | 3 |\n",
      "---------------------\n",
      "0  |   | o | o | x | \n",
      "---------------------\n",
      "1  |   | x | x | o | \n",
      "---------------------\n",
      "2  | o | o | x | x | \n",
      "---------------------\n",
      "\n",
      "   | 0 | 1 | 2 | 3 |\n",
      "---------------------\n",
      "0  |   | o | o | x | \n",
      "---------------------\n",
      "1  | x | x | x | o | \n",
      "---------------------\n",
      "2  | o | o | x | x | \n",
      "---------------------\n",
      "\n",
      "grav34rand1 wins!\n"
     ]
    },
    {
     "data": {
      "text/plain": [
       "1"
      ]
     },
     "execution_count": 67,
     "metadata": {},
     "output_type": "execute_result"
    }
   ],
   "source": [
    "#p1 = player(\"computer\", explore_rate=0)\n",
    "human = HumanPlayer(\"human\")\n",
    "#p1.loadPolicy(\"policy_p1\")\n",
    "game = tictactoe(p1grav34, human, numrows=3, numcols=4, wincount=3, gravitymove=True)\n",
    "game.playhuman()"
   ]
  },
  {
   "cell_type": "code",
   "execution_count": 68,
   "metadata": {
    "scrolled": false
   },
   "outputs": [
    {
     "name": "stdout",
     "output_type": "stream",
     "text": [
      "   | 0 | 1 | 2 | 3 |\n",
      "---------------------\n",
      "0  |   |   |   |   | \n",
      "---------------------\n",
      "1  |   |   |   |   | \n",
      "---------------------\n",
      "2  |   |   |   |   | \n",
      "---------------------\n",
      "\n",
      "Input your action row:2\n",
      "Input your action col:2\n",
      "   | 0 | 1 | 2 | 3 |\n",
      "---------------------\n",
      "0  |   |   |   |   | \n",
      "---------------------\n",
      "1  |   |   |   |   | \n",
      "---------------------\n",
      "2  |   |   | x |   | \n",
      "---------------------\n",
      "\n",
      "   | 0 | 1 | 2 | 3 |\n",
      "---------------------\n",
      "0  |   |   |   |   | \n",
      "---------------------\n",
      "1  |   |   |   |   | \n",
      "---------------------\n",
      "2  | o |   | x |   | \n",
      "---------------------\n",
      "\n",
      "Input your action row:1\n",
      "Input your action col:0\n",
      "   | 0 | 1 | 2 | 3 |\n",
      "---------------------\n",
      "0  |   |   |   |   | \n",
      "---------------------\n",
      "1  | x |   |   |   | \n",
      "---------------------\n",
      "2  | o |   | x |   | \n",
      "---------------------\n",
      "\n",
      "   | 0 | 1 | 2 | 3 |\n",
      "---------------------\n",
      "0  |   |   |   |   | \n",
      "---------------------\n",
      "1  | x |   | o |   | \n",
      "---------------------\n",
      "2  | o |   | x |   | \n",
      "---------------------\n",
      "\n",
      "Input your action row:2\n",
      "Input your action col:1\n",
      "   | 0 | 1 | 2 | 3 |\n",
      "---------------------\n",
      "0  |   |   |   |   | \n",
      "---------------------\n",
      "1  | x |   | o |   | \n",
      "---------------------\n",
      "2  | o | x | x |   | \n",
      "---------------------\n",
      "\n",
      "   | 0 | 1 | 2 | 3 |\n",
      "---------------------\n",
      "0  |   |   |   |   | \n",
      "---------------------\n",
      "1  | x |   | o |   | \n",
      "---------------------\n",
      "2  | o | x | x | o | \n",
      "---------------------\n",
      "\n",
      "Input your action row:1\n",
      "Input your action col:3\n",
      "   | 0 | 1 | 2 | 3 |\n",
      "---------------------\n",
      "0  |   |   |   |   | \n",
      "---------------------\n",
      "1  | x |   | o | x | \n",
      "---------------------\n",
      "2  | o | x | x | o | \n",
      "---------------------\n",
      "\n",
      "   | 0 | 1 | 2 | 3 |\n",
      "---------------------\n",
      "0  |   |   |   |   | \n",
      "---------------------\n",
      "1  | x | o | o | x | \n",
      "---------------------\n",
      "2  | o | x | x | o | \n",
      "---------------------\n",
      "\n",
      "Input your action row:0\n",
      "Input your action col:2\n",
      "   | 0 | 1 | 2 | 3 |\n",
      "---------------------\n",
      "0  |   |   | x |   | \n",
      "---------------------\n",
      "1  | x | o | o | x | \n",
      "---------------------\n",
      "2  | o | x | x | o | \n",
      "---------------------\n",
      "\n",
      "   | 0 | 1 | 2 | 3 |\n",
      "---------------------\n",
      "0  |   | o | x |   | \n",
      "---------------------\n",
      "1  | x | o | o | x | \n",
      "---------------------\n",
      "2  | o | x | x | o | \n",
      "---------------------\n",
      "\n",
      "grav34rand2 wins!\n"
     ]
    },
    {
     "data": {
      "text/plain": [
       "-1"
      ]
     },
     "execution_count": 68,
     "metadata": {},
     "output_type": "execute_result"
    }
   ],
   "source": [
    "#p1 = player(\"computer\", explore_rate=0)\n",
    "human = HumanPlayer(\"human\")\n",
    "#p1.loadPolicy(\"policy_p1\")\n",
    "game = tictactoe(human, p2grav34, numrows=3, numcols=4, wincount=3, gravitymove=True)\n",
    "game.playhuman()"
   ]
  },
  {
   "cell_type": "markdown",
   "metadata": {},
   "source": [
    "Ok, so it learns, and it can play OK-ish, but it's not great. I think that the amount of randomization is a little too low and player 2 is still punishing itself a bit too much. At lower learning rates after it's converged, player 1 is literally unbeatable, and player 2 just flounders. \n",
    "\n",
    "What if we start at an even higher explore rate? And reward p2 even more for ties?"
   ]
  },
  {
   "cell_type": "code",
   "execution_count": 12,
   "metadata": {},
   "outputs": [
    {
     "name": "stdout",
     "output_type": "stream",
     "text": [
      "0.05\n",
      "training for explore rate 0.5 and alpha 0.5\n"
     ]
    },
    {
     "name": "stderr",
     "output_type": "stream",
     "text": [
      "100%|███████████████████████████████████████████████████████████████████████████| 15000/15000 [00:40<00:00, 374.52it/s]\n"
     ]
    },
    {
     "name": "stdout",
     "output_type": "stream",
     "text": [
      "training for explore rate 0.45 and alpha 0.45\n"
     ]
    },
    {
     "name": "stderr",
     "output_type": "stream",
     "text": [
      "100%|███████████████████████████████████████████████████████████████████████████| 15000/15000 [00:43<00:00, 348.55it/s]\n"
     ]
    },
    {
     "name": "stdout",
     "output_type": "stream",
     "text": [
      "training for explore rate 0.4 and alpha 0.4\n"
     ]
    },
    {
     "name": "stderr",
     "output_type": "stream",
     "text": [
      "100%|███████████████████████████████████████████████████████████████████████████| 15000/15000 [01:07<00:00, 220.63it/s]\n"
     ]
    },
    {
     "name": "stdout",
     "output_type": "stream",
     "text": [
      "training for explore rate 0.35 and alpha 0.35\n"
     ]
    },
    {
     "name": "stderr",
     "output_type": "stream",
     "text": [
      "100%|███████████████████████████████████████████████████████████████████████████| 15000/15000 [00:50<00:00, 295.07it/s]\n"
     ]
    },
    {
     "name": "stdout",
     "output_type": "stream",
     "text": [
      "training for explore rate 0.3 and alpha 0.3\n"
     ]
    },
    {
     "name": "stderr",
     "output_type": "stream",
     "text": [
      "100%|███████████████████████████████████████████████████████████████████████████| 15000/15000 [00:52<00:00, 283.74it/s]\n"
     ]
    },
    {
     "name": "stdout",
     "output_type": "stream",
     "text": [
      "training for explore rate 0.25 and alpha 0.25\n"
     ]
    },
    {
     "name": "stderr",
     "output_type": "stream",
     "text": [
      "100%|███████████████████████████████████████████████████████████████████████████| 15000/15000 [00:56<00:00, 267.46it/s]\n"
     ]
    },
    {
     "name": "stdout",
     "output_type": "stream",
     "text": [
      "training for explore rate 0.2 and alpha 0.2\n"
     ]
    },
    {
     "name": "stderr",
     "output_type": "stream",
     "text": [
      "100%|███████████████████████████████████████████████████████████████████████████| 15000/15000 [00:55<00:00, 269.47it/s]\n"
     ]
    },
    {
     "name": "stdout",
     "output_type": "stream",
     "text": [
      "training for explore rate 0.15 and alpha 0.15\n"
     ]
    },
    {
     "name": "stderr",
     "output_type": "stream",
     "text": [
      "100%|███████████████████████████████████████████████████████████████████████████| 15000/15000 [01:01<00:00, 242.17it/s]\n"
     ]
    },
    {
     "name": "stdout",
     "output_type": "stream",
     "text": [
      "training for explore rate 0.1 and alpha 0.1\n"
     ]
    },
    {
     "name": "stderr",
     "output_type": "stream",
     "text": [
      "100%|███████████████████████████████████████████████████████████████████████████| 15000/15000 [01:07<00:00, 223.63it/s]\n"
     ]
    },
    {
     "name": "stdout",
     "output_type": "stream",
     "text": [
      "training for explore rate 0.05 and alpha 0.05\n"
     ]
    },
    {
     "name": "stderr",
     "output_type": "stream",
     "text": [
      "100%|███████████████████████████████████████████████████████████████████████████| 15000/15000 [01:07<00:00, 223.07it/s]\n"
     ]
    },
    {
     "name": "stdout",
     "output_type": "stream",
     "text": [
      "training for explore rate 0.0 and alpha 0.01\n"
     ]
    },
    {
     "name": "stderr",
     "output_type": "stream",
     "text": [
      "100%|███████████████████████████████████████████████████████████████████████████| 15000/15000 [01:04<00:00, 231.45it/s]\n"
     ]
    },
    {
     "data": {
      "image/png": "[encoded data removed]",
      "text/plain": [
       "<Figure size 432x288 with 1 Axes>"
      ]
     },
     "metadata": {
      "needs_background": "light"
     },
     "output_type": "display_data"
    }
   ],
   "source": [
    "p1grav34, p2grav34 = makedynamic(15000, 11, 0.5, rows=3, cols=4, winc=3, gmove=True, movingalpha=True, \n",
    "                               stratnames=\"grav34rand\", randinit=True)"
   ]
  },
  {
   "cell_type": "code",
   "execution_count": 13,
   "metadata": {},
   "outputs": [
    {
     "name": "stdout",
     "output_type": "stream",
     "text": [
      "   | 0 | 1 | 2 | 3 |\n",
      "---------------------\n",
      "0  |   |   |   |   | \n",
      "---------------------\n",
      "1  |   |   |   |   | \n",
      "---------------------\n",
      "2  |   |   |   |   | \n",
      "---------------------\n",
      "\n",
      "   | 0 | 1 | 2 | 3 |\n",
      "---------------------\n",
      "0  |   |   |   |   | \n",
      "---------------------\n",
      "1  |   |   |   |   | \n",
      "---------------------\n",
      "2  |   |   |   | x | \n",
      "---------------------\n",
      "\n",
      "   | 0 | 1 | 2 | 3 |\n",
      "---------------------\n",
      "0  |   |   |   |   | \n",
      "---------------------\n",
      "1  |   |   |   |   | \n",
      "---------------------\n",
      "2  | o |   |   | x | \n",
      "---------------------\n",
      "\n",
      "   | 0 | 1 | 2 | 3 |\n",
      "---------------------\n",
      "0  |   |   |   |   | \n",
      "---------------------\n",
      "1  |   |   |   |   | \n",
      "---------------------\n",
      "2  | o |   | x | x | \n",
      "---------------------\n",
      "\n",
      "   | 0 | 1 | 2 | 3 |\n",
      "---------------------\n",
      "0  |   |   |   |   | \n",
      "---------------------\n",
      "1  |   |   |   | o | \n",
      "---------------------\n",
      "2  | o |   | x | x | \n",
      "---------------------\n",
      "\n",
      "   | 0 | 1 | 2 | 3 |\n",
      "---------------------\n",
      "0  |   |   |   |   | \n",
      "---------------------\n",
      "1  |   |   |   | o | \n",
      "---------------------\n",
      "2  | o | x | x | x | \n",
      "---------------------\n",
      "\n",
      "grav34rand1 wins!\n"
     ]
    },
    {
     "data": {
      "text/plain": [
       "1"
      ]
     },
     "execution_count": 13,
     "metadata": {},
     "output_type": "execute_result"
    }
   ],
   "source": [
    "#p1 = player(\"computer\", explore_rate=0)\n",
    "human = HumanPlayer(\"human\")\n",
    "#p1.loadPolicy(\"policy_p1\")\n",
    "game = tictactoe(p1grav34, p2grav34, numrows=3, numcols=4, wincount=3, gravitymove=True)\n",
    "game.playhuman()"
   ]
  },
  {
   "cell_type": "code",
   "execution_count": 14,
   "metadata": {},
   "outputs": [
    {
     "name": "stdout",
     "output_type": "stream",
     "text": [
      "   | 0 | 1 | 2 | 3 |\n",
      "---------------------\n",
      "0  |   |   |   |   | \n",
      "---------------------\n",
      "1  |   |   |   |   | \n",
      "---------------------\n",
      "2  |   |   |   |   | \n",
      "---------------------\n",
      "\n",
      "   | 0 | 1 | 2 | 3 |\n",
      "---------------------\n",
      "0  |   |   |   |   | \n",
      "---------------------\n",
      "1  |   |   |   |   | \n",
      "---------------------\n",
      "2  |   |   |   | x | \n",
      "---------------------\n",
      "\n",
      "Input your action row:2\n",
      "Input your action col:1\n",
      "   | 0 | 1 | 2 | 3 |\n",
      "---------------------\n",
      "0  |   |   |   |   | \n",
      "---------------------\n",
      "1  |   |   |   |   | \n",
      "---------------------\n",
      "2  |   | o |   | x | \n",
      "---------------------\n",
      "\n",
      "   | 0 | 1 | 2 | 3 |\n",
      "---------------------\n",
      "0  |   |   |   |   | \n",
      "---------------------\n",
      "1  |   |   |   |   | \n",
      "---------------------\n",
      "2  | x | o |   | x | \n",
      "---------------------\n",
      "\n",
      "Input your action row:1\n",
      "Input your action col:1\n",
      "   | 0 | 1 | 2 | 3 |\n",
      "---------------------\n",
      "0  |   |   |   |   | \n",
      "---------------------\n",
      "1  |   | o |   |   | \n",
      "---------------------\n",
      "2  | x | o |   | x | \n",
      "---------------------\n",
      "\n",
      "   | 0 | 1 | 2 | 3 |\n",
      "---------------------\n",
      "0  |   | x |   |   | \n",
      "---------------------\n",
      "1  |   | o |   |   | \n",
      "---------------------\n",
      "2  | x | o |   | x | \n",
      "---------------------\n",
      "\n",
      "Input your action row:2\n",
      "Input your action col:2\n",
      "   | 0 | 1 | 2 | 3 |\n",
      "---------------------\n",
      "0  |   | x |   |   | \n",
      "---------------------\n",
      "1  |   | o |   |   | \n",
      "---------------------\n",
      "2  | x | o | o | x | \n",
      "---------------------\n",
      "\n",
      "   | 0 | 1 | 2 | 3 |\n",
      "---------------------\n",
      "0  |   | x |   |   | \n",
      "---------------------\n",
      "1  |   | o | x |   | \n",
      "---------------------\n",
      "2  | x | o | o | x | \n",
      "---------------------\n",
      "\n",
      "grav34rand1 wins!\n"
     ]
    },
    {
     "data": {
      "text/plain": [
       "1"
      ]
     },
     "execution_count": 14,
     "metadata": {},
     "output_type": "execute_result"
    }
   ],
   "source": [
    "#p1 = player(\"computer\", explore_rate=0)\n",
    "human = HumanPlayer(\"human\")\n",
    "#p1.loadPolicy(\"policy_p1\")\n",
    "game = tictactoe(p1grav34, human, numrows=3, numcols=4, wincount=3, gravitymove=True)\n",
    "game.playhuman()"
   ]
  },
  {
   "cell_type": "code",
   "execution_count": 15,
   "metadata": {
    "scrolled": false
   },
   "outputs": [
    {
     "name": "stdout",
     "output_type": "stream",
     "text": [
      "   | 0 | 1 | 2 | 3 |\n",
      "---------------------\n",
      "0  |   |   |   |   | \n",
      "---------------------\n",
      "1  |   |   |   |   | \n",
      "---------------------\n",
      "2  |   |   |   |   | \n",
      "---------------------\n",
      "\n",
      "Input your action row:2\n",
      "Input your action col:2\n",
      "   | 0 | 1 | 2 | 3 |\n",
      "---------------------\n",
      "0  |   |   |   |   | \n",
      "---------------------\n",
      "1  |   |   |   |   | \n",
      "---------------------\n",
      "2  |   |   | x |   | \n",
      "---------------------\n",
      "\n",
      "   | 0 | 1 | 2 | 3 |\n",
      "---------------------\n",
      "0  |   |   |   |   | \n",
      "---------------------\n",
      "1  |   |   | o |   | \n",
      "---------------------\n",
      "2  |   |   | x |   | \n",
      "---------------------\n",
      "\n",
      "Input your action row:0\n",
      "Input your action col:2\n",
      "   | 0 | 1 | 2 | 3 |\n",
      "---------------------\n",
      "0  |   |   | x |   | \n",
      "---------------------\n",
      "1  |   |   | o |   | \n",
      "---------------------\n",
      "2  |   |   | x |   | \n",
      "---------------------\n",
      "\n",
      "   | 0 | 1 | 2 | 3 |\n",
      "---------------------\n",
      "0  |   |   | x |   | \n",
      "---------------------\n",
      "1  |   |   | o |   | \n",
      "---------------------\n",
      "2  |   | o | x |   | \n",
      "---------------------\n",
      "\n",
      "Input your action row:1\n",
      "Input your action col:1\n",
      "   | 0 | 1 | 2 | 3 |\n",
      "---------------------\n",
      "0  |   |   | x |   | \n",
      "---------------------\n",
      "1  |   | x | o |   | \n",
      "---------------------\n",
      "2  |   | o | x |   | \n",
      "---------------------\n",
      "\n",
      "   | 0 | 1 | 2 | 3 |\n",
      "---------------------\n",
      "0  |   |   | x |   | \n",
      "---------------------\n",
      "1  |   | x | o |   | \n",
      "---------------------\n",
      "2  | o | o | x |   | \n",
      "---------------------\n",
      "\n",
      "Input your action row:0\n",
      "Input your action col:1\n",
      "   | 0 | 1 | 2 | 3 |\n",
      "---------------------\n",
      "0  |   | x | x |   | \n",
      "---------------------\n",
      "1  |   | x | o |   | \n",
      "---------------------\n",
      "2  | o | o | x |   | \n",
      "---------------------\n",
      "\n",
      "   | 0 | 1 | 2 | 3 |\n",
      "---------------------\n",
      "0  |   | x | x |   | \n",
      "---------------------\n",
      "1  |   | x | o |   | \n",
      "---------------------\n",
      "2  | o | o | x | o | \n",
      "---------------------\n",
      "\n",
      "Input your action row:1\n",
      "Input your action col:0\n",
      "   | 0 | 1 | 2 | 3 |\n",
      "---------------------\n",
      "0  |   | x | x |   | \n",
      "---------------------\n",
      "1  | x | x | o |   | \n",
      "---------------------\n",
      "2  | o | o | x | o | \n",
      "---------------------\n",
      "\n",
      "   | 0 | 1 | 2 | 3 |\n",
      "---------------------\n",
      "0  | o | x | x |   | \n",
      "---------------------\n",
      "1  | x | x | o |   | \n",
      "---------------------\n",
      "2  | o | o | x | o | \n",
      "---------------------\n",
      "\n",
      "Input your action row:1\n",
      "Input your action col:3\n",
      "   | 0 | 1 | 2 | 3 |\n",
      "---------------------\n",
      "0  | o | x | x |   | \n",
      "---------------------\n",
      "1  | x | x | o | x | \n",
      "---------------------\n",
      "2  | o | o | x | o | \n",
      "---------------------\n",
      "\n",
      "   | 0 | 1 | 2 | 3 |\n",
      "---------------------\n",
      "0  | o | x | x | o | \n",
      "---------------------\n",
      "1  | x | x | o | x | \n",
      "---------------------\n",
      "2  | o | o | x | o | \n",
      "---------------------\n",
      "\n",
      "grav34rand2 wins!\n"
     ]
    },
    {
     "data": {
      "text/plain": [
       "-1"
      ]
     },
     "execution_count": 15,
     "metadata": {},
     "output_type": "execute_result"
    }
   ],
   "source": [
    "#p1 = player(\"computer\", explore_rate=0)\n",
    "human = HumanPlayer(\"human\")\n",
    "#p1.loadPolicy(\"policy_p1\")\n",
    "game = tictactoe(human, p2grav34, numrows=3, numcols=4, wincount=3, gravitymove=True)\n",
    "game.playhuman()"
   ]
  },
  {
   "cell_type": "code",
   "execution_count": 19,
   "metadata": {},
   "outputs": [
    {
     "name": "stdout",
     "output_type": "stream",
     "text": [
      "0.05\n",
      "training for explore rate 0.5 and alpha 0.5\n"
     ]
    },
    {
     "name": "stderr",
     "output_type": "stream",
     "text": [
      "100%|█████████████████████████████████████████████████████████████████████████| 100000/100000 [06:45<00:00, 246.63it/s]\n"
     ]
    },
    {
     "name": "stdout",
     "output_type": "stream",
     "text": [
      "training for explore rate 0.45 and alpha 0.45\n"
     ]
    },
    {
     "name": "stderr",
     "output_type": "stream",
     "text": [
      "100%|█████████████████████████████████████████████████████████████████████████| 100000/100000 [06:56<00:00, 239.91it/s]\n"
     ]
    },
    {
     "name": "stdout",
     "output_type": "stream",
     "text": [
      "training for explore rate 0.4 and alpha 0.4\n"
     ]
    },
    {
     "name": "stderr",
     "output_type": "stream",
     "text": [
      "100%|█████████████████████████████████████████████████████████████████████████| 100000/100000 [07:08<00:00, 233.43it/s]\n"
     ]
    },
    {
     "name": "stdout",
     "output_type": "stream",
     "text": [
      "training for explore rate 0.35 and alpha 0.35\n"
     ]
    },
    {
     "name": "stderr",
     "output_type": "stream",
     "text": [
      "100%|█████████████████████████████████████████████████████████████████████████| 100000/100000 [06:33<00:00, 253.89it/s]\n"
     ]
    },
    {
     "name": "stdout",
     "output_type": "stream",
     "text": [
      "training for explore rate 0.3 and alpha 0.3\n"
     ]
    },
    {
     "name": "stderr",
     "output_type": "stream",
     "text": [
      "100%|█████████████████████████████████████████████████████████████████████████| 100000/100000 [07:39<00:00, 217.63it/s]\n"
     ]
    },
    {
     "name": "stdout",
     "output_type": "stream",
     "text": [
      "training for explore rate 0.25 and alpha 0.25\n"
     ]
    },
    {
     "name": "stderr",
     "output_type": "stream",
     "text": [
      "100%|█████████████████████████████████████████████████████████████████████████| 100000/100000 [08:25<00:00, 197.81it/s]\n"
     ]
    },
    {
     "name": "stdout",
     "output_type": "stream",
     "text": [
      "training for explore rate 0.2 and alpha 0.2\n"
     ]
    },
    {
     "name": "stderr",
     "output_type": "stream",
     "text": [
      "100%|█████████████████████████████████████████████████████████████████████████| 100000/100000 [08:32<00:00, 195.30it/s]\n"
     ]
    },
    {
     "name": "stdout",
     "output_type": "stream",
     "text": [
      "training for explore rate 0.15 and alpha 0.15\n"
     ]
    },
    {
     "name": "stderr",
     "output_type": "stream",
     "text": [
      "100%|█████████████████████████████████████████████████████████████████████████| 100000/100000 [08:33<00:00, 194.81it/s]\n"
     ]
    },
    {
     "name": "stdout",
     "output_type": "stream",
     "text": [
      "training for explore rate 0.1 and alpha 0.1\n"
     ]
    },
    {
     "name": "stderr",
     "output_type": "stream",
     "text": [
      "100%|█████████████████████████████████████████████████████████████████████████| 100000/100000 [10:05<00:00, 165.02it/s]\n"
     ]
    },
    {
     "name": "stdout",
     "output_type": "stream",
     "text": [
      "training for explore rate 0.05 and alpha 0.05\n"
     ]
    },
    {
     "name": "stderr",
     "output_type": "stream",
     "text": [
      "100%|█████████████████████████████████████████████████████████████████████████| 100000/100000 [10:07<00:00, 164.70it/s]\n"
     ]
    },
    {
     "name": "stdout",
     "output_type": "stream",
     "text": [
      "training for explore rate 0.0 and alpha 0.01\n"
     ]
    },
    {
     "name": "stderr",
     "output_type": "stream",
     "text": [
      "100%|█████████████████████████████████████████████████████████████████████████| 100000/100000 [09:55<00:00, 168.03it/s]\n"
     ]
    },
    {
     "data": {
      "image/png": "[encoded data removed]",
      "text/plain": [
       "<Figure size 432x288 with 1 Axes>"
      ]
     },
     "metadata": {
      "needs_background": "light"
     },
     "output_type": "display_data"
    }
   ],
   "source": [
    "p1grav44, p2grav44 = makedynamic(100000, 11, 0.5, rows=4, cols=4, winc=3, gmove=True, movingalpha=True, \n",
    "                               stratnames=\"grav44rand\", randinit=True)"
   ]
  },
  {
   "cell_type": "code",
   "execution_count": 22,
   "metadata": {
    "scrolled": false
   },
   "outputs": [
    {
     "name": "stdout",
     "output_type": "stream",
     "text": [
      "   | 0 | 1 | 2 | 3 |\n",
      "---------------------\n",
      "0  |   |   |   |   | \n",
      "---------------------\n",
      "1  |   |   |   |   | \n",
      "---------------------\n",
      "2  |   |   |   |   | \n",
      "---------------------\n",
      "3  |   |   |   |   | \n",
      "---------------------\n",
      "\n",
      "Input your action row:3\n",
      "Input your action col:3\n",
      "   | 0 | 1 | 2 | 3 |\n",
      "---------------------\n",
      "0  |   |   |   |   | \n",
      "---------------------\n",
      "1  |   |   |   |   | \n",
      "---------------------\n",
      "2  |   |   |   |   | \n",
      "---------------------\n",
      "3  |   |   |   | x | \n",
      "---------------------\n",
      "\n",
      "   | 0 | 1 | 2 | 3 |\n",
      "---------------------\n",
      "0  |   |   |   |   | \n",
      "---------------------\n",
      "1  |   |   |   |   | \n",
      "---------------------\n",
      "2  |   |   |   |   | \n",
      "---------------------\n",
      "3  |   |   | o | x | \n",
      "---------------------\n",
      "\n",
      "Input your action row:2\n",
      "Input your action col:2\n",
      "   | 0 | 1 | 2 | 3 |\n",
      "---------------------\n",
      "0  |   |   |   |   | \n",
      "---------------------\n",
      "1  |   |   |   |   | \n",
      "---------------------\n",
      "2  |   |   | x |   | \n",
      "---------------------\n",
      "3  |   |   | o | x | \n",
      "---------------------\n",
      "\n",
      "   | 0 | 1 | 2 | 3 |\n",
      "---------------------\n",
      "0  |   |   |   |   | \n",
      "---------------------\n",
      "1  |   |   |   |   | \n",
      "---------------------\n",
      "2  |   |   | x |   | \n",
      "---------------------\n",
      "3  |   | o | o | x | \n",
      "---------------------\n",
      "\n",
      "Input your action row:3\n",
      "Input your action col:0\n",
      "   | 0 | 1 | 2 | 3 |\n",
      "---------------------\n",
      "0  |   |   |   |   | \n",
      "---------------------\n",
      "1  |   |   |   |   | \n",
      "---------------------\n",
      "2  |   |   | x |   | \n",
      "---------------------\n",
      "3  | x | o | o | x | \n",
      "---------------------\n",
      "\n",
      "   | 0 | 1 | 2 | 3 |\n",
      "---------------------\n",
      "0  |   |   |   |   | \n",
      "---------------------\n",
      "1  |   |   |   |   | \n",
      "---------------------\n",
      "2  |   | o | x |   | \n",
      "---------------------\n",
      "3  | x | o | o | x | \n",
      "---------------------\n",
      "\n",
      "Input your action row:2\n",
      "Input your action col:0\n",
      "   | 0 | 1 | 2 | 3 |\n",
      "---------------------\n",
      "0  |   |   |   |   | \n",
      "---------------------\n",
      "1  |   |   |   |   | \n",
      "---------------------\n",
      "2  | x | o | x |   | \n",
      "---------------------\n",
      "3  | x | o | o | x | \n",
      "---------------------\n",
      "\n",
      "   | 0 | 1 | 2 | 3 |\n",
      "---------------------\n",
      "0  |   |   |   |   | \n",
      "---------------------\n",
      "1  |   | o |   |   | \n",
      "---------------------\n",
      "2  | x | o | x |   | \n",
      "---------------------\n",
      "3  | x | o | o | x | \n",
      "---------------------\n",
      "\n",
      "grav44rand2 wins!\n"
     ]
    },
    {
     "data": {
      "text/plain": [
       "-1"
      ]
     },
     "execution_count": 22,
     "metadata": {},
     "output_type": "execute_result"
    }
   ],
   "source": [
    "#p1 = player(\"computer\", explore_rate=0)\n",
    "human = HumanPlayer(\"human\")\n",
    "#p1.loadPolicy(\"policy_p1\")\n",
    "game = tictactoe(human, p2grav44, numrows=4, numcols=4, wincount=3, gravitymove=True)\n",
    "game.playhuman()"
   ]
  },
  {
   "cell_type": "markdown",
   "metadata": {},
   "source": [
    "Very naive Connect Four. With same amount of training time, but a much larger board, how do our bots do?"
   ]
  },
  {
   "cell_type": "code",
   "execution_count": null,
   "metadata": {},
   "outputs": [
    {
     "name": "stdout",
     "output_type": "stream",
     "text": [
      "0.05\n",
      "training for explore rate 0.5 and alpha 0.5\n"
     ]
    },
    {
     "name": "stderr",
     "output_type": "stream",
     "text": [
      "100%|██████████████████████████████████████████████████████████████████████████| 100000/100000 [38:49<00:00, 42.92it/s]\n"
     ]
    },
    {
     "name": "stdout",
     "output_type": "stream",
     "text": [
      "training for explore rate 0.45 and alpha 0.45\n"
     ]
    },
    {
     "name": "stderr",
     "output_type": "stream",
     "text": [
      "100%|████████████████████████████████████████████████████████████████████████| 100000/100000 [1:07:47<00:00, 24.59it/s]\n"
     ]
    },
    {
     "name": "stdout",
     "output_type": "stream",
     "text": [
      "training for explore rate 0.4 and alpha 0.4\n"
     ]
    },
    {
     "name": "stderr",
     "output_type": "stream",
     "text": [
      "  9%|██████▋                                                                     | 8796/100000 [02:57<31:10, 48.76it/s]"
     ]
    }
   ],
   "source": [
    "p1grav67, p2grav67 = makedynamic(100000, 11, 0.5, rows=6, cols=7, winc=4, gmove=True, movingalpha=True, \n",
    "                               stratnames=\"grav44rand\", randinit=True)"
   ]
  },
  {
   "cell_type": "code",
   "execution_count": null,
   "metadata": {},
   "outputs": [],
   "source": []
  }
 ],
 "metadata": {
  "kernelspec": {
   "display_name": "Python 3",
   "language": "python",
   "name": "python3"
  },
  "language_info": {
   "codemirror_mode": {
    "name": "ipython",
    "version": 3
   },
   "file_extension": ".py",
   "mimetype": "text/x-python",
   "name": "python",
   "nbconvert_exporter": "python",
   "pygments_lexer": "ipython3",
   "version": "3.7.4"
  }
 },
 "nbformat": 4,
 "nbformat_minor": 2
}
